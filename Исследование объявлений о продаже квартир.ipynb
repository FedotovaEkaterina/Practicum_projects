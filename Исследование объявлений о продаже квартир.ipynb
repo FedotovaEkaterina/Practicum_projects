{
 "cells": [
  {
   "cell_type": "markdown",
   "metadata": {},
   "source": [
    "В вашем распоряжении данные сервиса Яндекс Недвижимость — архив объявлений о продаже квартир в Санкт-Петербурге и соседних населённых пунктах за несколько лет. Вам нужно научиться определять рыночную стоимость объектов недвижимости. Для этого проведите исследовательский анализ данных и установите параметры, влияющие на цену объектов. Это позволит построить автоматизированную систему: она отследит аномалии и мошенническую деятельность. \n",
    "\n",
    "По каждой квартире на продажу доступны два вида данных. Первые вписаны пользователем, вторые — получены автоматически на основе картографических данных. Например, расстояние до центра, аэропорта и других объектов — эти данные автоматически получены из геосервисов. Количество парков и водоёмов также заполняется без участия пользователя."
   ]
  },
  {
   "cell_type": "markdown",
   "metadata": {
    "id": "-VFbjcb3Awb7"
   },
   "source": [
    "# Исследование объявлений о продаже квартир"
   ]
  },
  {
   "cell_type": "markdown",
   "metadata": {
    "id": "aeFLH07FAwb9"
   },
   "source": [
    "### Изучение общей информации"
   ]
  },
  {
   "cell_type": "code",
   "execution_count": 1,
   "metadata": {
    "id": "7MZxY65pAwb9"
   },
   "outputs": [
    {
     "name": "stdout",
     "output_type": "stream",
     "text": [
      "<class 'pandas.core.frame.DataFrame'>\n",
      "RangeIndex: 23699 entries, 0 to 23698\n",
      "Data columns (total 22 columns):\n",
      " #   Column                Non-Null Count  Dtype  \n",
      "---  ------                --------------  -----  \n",
      " 0   total_images          23699 non-null  int64  \n",
      " 1   last_price            23699 non-null  float64\n",
      " 2   total_area            23699 non-null  float64\n",
      " 3   first_day_exposition  23699 non-null  object \n",
      " 4   rooms                 23699 non-null  int64  \n",
      " 5   ceiling_height        14504 non-null  float64\n",
      " 6   floors_total          23613 non-null  float64\n",
      " 7   living_area           21796 non-null  float64\n",
      " 8   floor                 23699 non-null  int64  \n",
      " 9   is_apartment          2775 non-null   object \n",
      " 10  studio                23699 non-null  bool   \n",
      " 11  open_plan             23699 non-null  bool   \n",
      " 12  kitchen_area          21421 non-null  float64\n",
      " 13  balcony               12180 non-null  float64\n",
      " 14  locality_name         23650 non-null  object \n",
      " 15  airports_nearest      18157 non-null  float64\n",
      " 16  cityCenters_nearest   18180 non-null  float64\n",
      " 17  parks_around3000      18181 non-null  float64\n",
      " 18  parks_nearest         8079 non-null   float64\n",
      " 19  ponds_around3000      18181 non-null  float64\n",
      " 20  ponds_nearest         9110 non-null   float64\n",
      " 21  days_exposition       20518 non-null  float64\n",
      "dtypes: bool(2), float64(14), int64(3), object(3)\n",
      "memory usage: 3.7+ MB\n"
     ]
    }
   ],
   "source": [
    "import pandas as pd\n",
    "import matplotlib.pyplot as plt\n",
    "pd.set_option('display.max_columns', None)\n",
    "data = pd.read_csv('/datasets/real_estate_data.csv', sep='\\t')\n",
    "data.info()"
   ]
  },
  {
   "cell_type": "code",
   "execution_count": 2,
   "metadata": {},
   "outputs": [
    {
     "data": {
      "text/html": [
       "<div>\n",
       "<style scoped>\n",
       "    .dataframe tbody tr th:only-of-type {\n",
       "        vertical-align: middle;\n",
       "    }\n",
       "\n",
       "    .dataframe tbody tr th {\n",
       "        vertical-align: top;\n",
       "    }\n",
       "\n",
       "    .dataframe thead th {\n",
       "        text-align: right;\n",
       "    }\n",
       "</style>\n",
       "<table border=\"1\" class=\"dataframe\">\n",
       "  <thead>\n",
       "    <tr style=\"text-align: right;\">\n",
       "      <th></th>\n",
       "      <th>total_images</th>\n",
       "      <th>last_price</th>\n",
       "      <th>total_area</th>\n",
       "      <th>first_day_exposition</th>\n",
       "      <th>rooms</th>\n",
       "      <th>ceiling_height</th>\n",
       "      <th>floors_total</th>\n",
       "      <th>living_area</th>\n",
       "      <th>floor</th>\n",
       "      <th>is_apartment</th>\n",
       "      <th>studio</th>\n",
       "      <th>open_plan</th>\n",
       "      <th>kitchen_area</th>\n",
       "      <th>balcony</th>\n",
       "      <th>locality_name</th>\n",
       "      <th>airports_nearest</th>\n",
       "      <th>cityCenters_nearest</th>\n",
       "      <th>parks_around3000</th>\n",
       "      <th>parks_nearest</th>\n",
       "      <th>ponds_around3000</th>\n",
       "      <th>ponds_nearest</th>\n",
       "      <th>days_exposition</th>\n",
       "    </tr>\n",
       "  </thead>\n",
       "  <tbody>\n",
       "    <tr>\n",
       "      <th>0</th>\n",
       "      <td>20</td>\n",
       "      <td>13000000.0</td>\n",
       "      <td>108.00</td>\n",
       "      <td>2019-03-07T00:00:00</td>\n",
       "      <td>3</td>\n",
       "      <td>2.70</td>\n",
       "      <td>16.0</td>\n",
       "      <td>51.00</td>\n",
       "      <td>8</td>\n",
       "      <td>NaN</td>\n",
       "      <td>False</td>\n",
       "      <td>False</td>\n",
       "      <td>25.00</td>\n",
       "      <td>NaN</td>\n",
       "      <td>Санкт-Петербург</td>\n",
       "      <td>18863.0</td>\n",
       "      <td>16028.0</td>\n",
       "      <td>1.0</td>\n",
       "      <td>482.0</td>\n",
       "      <td>2.0</td>\n",
       "      <td>755.0</td>\n",
       "      <td>NaN</td>\n",
       "    </tr>\n",
       "    <tr>\n",
       "      <th>1</th>\n",
       "      <td>7</td>\n",
       "      <td>3350000.0</td>\n",
       "      <td>40.40</td>\n",
       "      <td>2018-12-04T00:00:00</td>\n",
       "      <td>1</td>\n",
       "      <td>NaN</td>\n",
       "      <td>11.0</td>\n",
       "      <td>18.60</td>\n",
       "      <td>1</td>\n",
       "      <td>NaN</td>\n",
       "      <td>False</td>\n",
       "      <td>False</td>\n",
       "      <td>11.00</td>\n",
       "      <td>2.0</td>\n",
       "      <td>посёлок Шушары</td>\n",
       "      <td>12817.0</td>\n",
       "      <td>18603.0</td>\n",
       "      <td>0.0</td>\n",
       "      <td>NaN</td>\n",
       "      <td>0.0</td>\n",
       "      <td>NaN</td>\n",
       "      <td>81.0</td>\n",
       "    </tr>\n",
       "    <tr>\n",
       "      <th>2</th>\n",
       "      <td>10</td>\n",
       "      <td>5196000.0</td>\n",
       "      <td>56.00</td>\n",
       "      <td>2015-08-20T00:00:00</td>\n",
       "      <td>2</td>\n",
       "      <td>NaN</td>\n",
       "      <td>5.0</td>\n",
       "      <td>34.30</td>\n",
       "      <td>4</td>\n",
       "      <td>NaN</td>\n",
       "      <td>False</td>\n",
       "      <td>False</td>\n",
       "      <td>8.30</td>\n",
       "      <td>0.0</td>\n",
       "      <td>Санкт-Петербург</td>\n",
       "      <td>21741.0</td>\n",
       "      <td>13933.0</td>\n",
       "      <td>1.0</td>\n",
       "      <td>90.0</td>\n",
       "      <td>2.0</td>\n",
       "      <td>574.0</td>\n",
       "      <td>558.0</td>\n",
       "    </tr>\n",
       "    <tr>\n",
       "      <th>3</th>\n",
       "      <td>0</td>\n",
       "      <td>64900000.0</td>\n",
       "      <td>159.00</td>\n",
       "      <td>2015-07-24T00:00:00</td>\n",
       "      <td>3</td>\n",
       "      <td>NaN</td>\n",
       "      <td>14.0</td>\n",
       "      <td>NaN</td>\n",
       "      <td>9</td>\n",
       "      <td>NaN</td>\n",
       "      <td>False</td>\n",
       "      <td>False</td>\n",
       "      <td>NaN</td>\n",
       "      <td>0.0</td>\n",
       "      <td>Санкт-Петербург</td>\n",
       "      <td>28098.0</td>\n",
       "      <td>6800.0</td>\n",
       "      <td>2.0</td>\n",
       "      <td>84.0</td>\n",
       "      <td>3.0</td>\n",
       "      <td>234.0</td>\n",
       "      <td>424.0</td>\n",
       "    </tr>\n",
       "    <tr>\n",
       "      <th>4</th>\n",
       "      <td>2</td>\n",
       "      <td>10000000.0</td>\n",
       "      <td>100.00</td>\n",
       "      <td>2018-06-19T00:00:00</td>\n",
       "      <td>2</td>\n",
       "      <td>3.03</td>\n",
       "      <td>14.0</td>\n",
       "      <td>32.00</td>\n",
       "      <td>13</td>\n",
       "      <td>NaN</td>\n",
       "      <td>False</td>\n",
       "      <td>False</td>\n",
       "      <td>41.00</td>\n",
       "      <td>NaN</td>\n",
       "      <td>Санкт-Петербург</td>\n",
       "      <td>31856.0</td>\n",
       "      <td>8098.0</td>\n",
       "      <td>2.0</td>\n",
       "      <td>112.0</td>\n",
       "      <td>1.0</td>\n",
       "      <td>48.0</td>\n",
       "      <td>121.0</td>\n",
       "    </tr>\n",
       "    <tr>\n",
       "      <th>5</th>\n",
       "      <td>10</td>\n",
       "      <td>2890000.0</td>\n",
       "      <td>30.40</td>\n",
       "      <td>2018-09-10T00:00:00</td>\n",
       "      <td>1</td>\n",
       "      <td>NaN</td>\n",
       "      <td>12.0</td>\n",
       "      <td>14.40</td>\n",
       "      <td>5</td>\n",
       "      <td>NaN</td>\n",
       "      <td>False</td>\n",
       "      <td>False</td>\n",
       "      <td>9.10</td>\n",
       "      <td>NaN</td>\n",
       "      <td>городской посёлок Янино-1</td>\n",
       "      <td>NaN</td>\n",
       "      <td>NaN</td>\n",
       "      <td>NaN</td>\n",
       "      <td>NaN</td>\n",
       "      <td>NaN</td>\n",
       "      <td>NaN</td>\n",
       "      <td>55.0</td>\n",
       "    </tr>\n",
       "    <tr>\n",
       "      <th>6</th>\n",
       "      <td>6</td>\n",
       "      <td>3700000.0</td>\n",
       "      <td>37.30</td>\n",
       "      <td>2017-11-02T00:00:00</td>\n",
       "      <td>1</td>\n",
       "      <td>NaN</td>\n",
       "      <td>26.0</td>\n",
       "      <td>10.60</td>\n",
       "      <td>6</td>\n",
       "      <td>NaN</td>\n",
       "      <td>False</td>\n",
       "      <td>False</td>\n",
       "      <td>14.40</td>\n",
       "      <td>1.0</td>\n",
       "      <td>посёлок Парголово</td>\n",
       "      <td>52996.0</td>\n",
       "      <td>19143.0</td>\n",
       "      <td>0.0</td>\n",
       "      <td>NaN</td>\n",
       "      <td>0.0</td>\n",
       "      <td>NaN</td>\n",
       "      <td>155.0</td>\n",
       "    </tr>\n",
       "    <tr>\n",
       "      <th>7</th>\n",
       "      <td>5</td>\n",
       "      <td>7915000.0</td>\n",
       "      <td>71.60</td>\n",
       "      <td>2019-04-18T00:00:00</td>\n",
       "      <td>2</td>\n",
       "      <td>NaN</td>\n",
       "      <td>24.0</td>\n",
       "      <td>NaN</td>\n",
       "      <td>22</td>\n",
       "      <td>NaN</td>\n",
       "      <td>False</td>\n",
       "      <td>False</td>\n",
       "      <td>18.90</td>\n",
       "      <td>2.0</td>\n",
       "      <td>Санкт-Петербург</td>\n",
       "      <td>23982.0</td>\n",
       "      <td>11634.0</td>\n",
       "      <td>0.0</td>\n",
       "      <td>NaN</td>\n",
       "      <td>0.0</td>\n",
       "      <td>NaN</td>\n",
       "      <td>NaN</td>\n",
       "    </tr>\n",
       "    <tr>\n",
       "      <th>8</th>\n",
       "      <td>20</td>\n",
       "      <td>2900000.0</td>\n",
       "      <td>33.16</td>\n",
       "      <td>2018-05-23T00:00:00</td>\n",
       "      <td>1</td>\n",
       "      <td>NaN</td>\n",
       "      <td>27.0</td>\n",
       "      <td>15.43</td>\n",
       "      <td>26</td>\n",
       "      <td>NaN</td>\n",
       "      <td>False</td>\n",
       "      <td>False</td>\n",
       "      <td>8.81</td>\n",
       "      <td>NaN</td>\n",
       "      <td>посёлок Мурино</td>\n",
       "      <td>NaN</td>\n",
       "      <td>NaN</td>\n",
       "      <td>NaN</td>\n",
       "      <td>NaN</td>\n",
       "      <td>NaN</td>\n",
       "      <td>NaN</td>\n",
       "      <td>189.0</td>\n",
       "    </tr>\n",
       "    <tr>\n",
       "      <th>9</th>\n",
       "      <td>18</td>\n",
       "      <td>5400000.0</td>\n",
       "      <td>61.00</td>\n",
       "      <td>2017-02-26T00:00:00</td>\n",
       "      <td>3</td>\n",
       "      <td>2.50</td>\n",
       "      <td>9.0</td>\n",
       "      <td>43.60</td>\n",
       "      <td>7</td>\n",
       "      <td>NaN</td>\n",
       "      <td>False</td>\n",
       "      <td>False</td>\n",
       "      <td>6.50</td>\n",
       "      <td>2.0</td>\n",
       "      <td>Санкт-Петербург</td>\n",
       "      <td>50898.0</td>\n",
       "      <td>15008.0</td>\n",
       "      <td>0.0</td>\n",
       "      <td>NaN</td>\n",
       "      <td>0.0</td>\n",
       "      <td>NaN</td>\n",
       "      <td>289.0</td>\n",
       "    </tr>\n",
       "    <tr>\n",
       "      <th>10</th>\n",
       "      <td>5</td>\n",
       "      <td>5050000.0</td>\n",
       "      <td>39.60</td>\n",
       "      <td>2017-11-16T00:00:00</td>\n",
       "      <td>1</td>\n",
       "      <td>2.67</td>\n",
       "      <td>12.0</td>\n",
       "      <td>20.30</td>\n",
       "      <td>3</td>\n",
       "      <td>NaN</td>\n",
       "      <td>False</td>\n",
       "      <td>False</td>\n",
       "      <td>8.50</td>\n",
       "      <td>NaN</td>\n",
       "      <td>Санкт-Петербург</td>\n",
       "      <td>38357.0</td>\n",
       "      <td>13878.0</td>\n",
       "      <td>1.0</td>\n",
       "      <td>310.0</td>\n",
       "      <td>2.0</td>\n",
       "      <td>553.0</td>\n",
       "      <td>137.0</td>\n",
       "    </tr>\n",
       "    <tr>\n",
       "      <th>11</th>\n",
       "      <td>9</td>\n",
       "      <td>3300000.0</td>\n",
       "      <td>44.00</td>\n",
       "      <td>2018-08-27T00:00:00</td>\n",
       "      <td>2</td>\n",
       "      <td>NaN</td>\n",
       "      <td>5.0</td>\n",
       "      <td>31.00</td>\n",
       "      <td>4</td>\n",
       "      <td>False</td>\n",
       "      <td>False</td>\n",
       "      <td>False</td>\n",
       "      <td>6.00</td>\n",
       "      <td>1.0</td>\n",
       "      <td>Ломоносов</td>\n",
       "      <td>48252.0</td>\n",
       "      <td>51677.0</td>\n",
       "      <td>0.0</td>\n",
       "      <td>NaN</td>\n",
       "      <td>0.0</td>\n",
       "      <td>NaN</td>\n",
       "      <td>7.0</td>\n",
       "    </tr>\n",
       "    <tr>\n",
       "      <th>12</th>\n",
       "      <td>10</td>\n",
       "      <td>3890000.0</td>\n",
       "      <td>54.00</td>\n",
       "      <td>2016-06-30T00:00:00</td>\n",
       "      <td>2</td>\n",
       "      <td>NaN</td>\n",
       "      <td>5.0</td>\n",
       "      <td>30.00</td>\n",
       "      <td>5</td>\n",
       "      <td>NaN</td>\n",
       "      <td>False</td>\n",
       "      <td>False</td>\n",
       "      <td>9.00</td>\n",
       "      <td>0.0</td>\n",
       "      <td>Сертолово</td>\n",
       "      <td>NaN</td>\n",
       "      <td>NaN</td>\n",
       "      <td>NaN</td>\n",
       "      <td>NaN</td>\n",
       "      <td>NaN</td>\n",
       "      <td>NaN</td>\n",
       "      <td>90.0</td>\n",
       "    </tr>\n",
       "    <tr>\n",
       "      <th>13</th>\n",
       "      <td>20</td>\n",
       "      <td>3550000.0</td>\n",
       "      <td>42.80</td>\n",
       "      <td>2017-07-01T00:00:00</td>\n",
       "      <td>2</td>\n",
       "      <td>2.56</td>\n",
       "      <td>5.0</td>\n",
       "      <td>27.00</td>\n",
       "      <td>5</td>\n",
       "      <td>NaN</td>\n",
       "      <td>False</td>\n",
       "      <td>False</td>\n",
       "      <td>5.20</td>\n",
       "      <td>1.0</td>\n",
       "      <td>Петергоф</td>\n",
       "      <td>37868.0</td>\n",
       "      <td>33058.0</td>\n",
       "      <td>1.0</td>\n",
       "      <td>294.0</td>\n",
       "      <td>3.0</td>\n",
       "      <td>298.0</td>\n",
       "      <td>366.0</td>\n",
       "    </tr>\n",
       "    <tr>\n",
       "      <th>14</th>\n",
       "      <td>1</td>\n",
       "      <td>4400000.0</td>\n",
       "      <td>36.00</td>\n",
       "      <td>2016-06-23T00:00:00</td>\n",
       "      <td>1</td>\n",
       "      <td>NaN</td>\n",
       "      <td>6.0</td>\n",
       "      <td>17.00</td>\n",
       "      <td>1</td>\n",
       "      <td>NaN</td>\n",
       "      <td>False</td>\n",
       "      <td>False</td>\n",
       "      <td>8.00</td>\n",
       "      <td>0.0</td>\n",
       "      <td>Пушкин</td>\n",
       "      <td>20782.0</td>\n",
       "      <td>30759.0</td>\n",
       "      <td>0.0</td>\n",
       "      <td>NaN</td>\n",
       "      <td>1.0</td>\n",
       "      <td>96.0</td>\n",
       "      <td>203.0</td>\n",
       "    </tr>\n",
       "    <tr>\n",
       "      <th>15</th>\n",
       "      <td>16</td>\n",
       "      <td>4650000.0</td>\n",
       "      <td>39.00</td>\n",
       "      <td>2017-11-18T00:00:00</td>\n",
       "      <td>1</td>\n",
       "      <td>NaN</td>\n",
       "      <td>14.0</td>\n",
       "      <td>20.50</td>\n",
       "      <td>5</td>\n",
       "      <td>NaN</td>\n",
       "      <td>False</td>\n",
       "      <td>False</td>\n",
       "      <td>7.60</td>\n",
       "      <td>1.0</td>\n",
       "      <td>Санкт-Петербург</td>\n",
       "      <td>12900.0</td>\n",
       "      <td>14259.0</td>\n",
       "      <td>1.0</td>\n",
       "      <td>590.0</td>\n",
       "      <td>1.0</td>\n",
       "      <td>296.0</td>\n",
       "      <td>19.0</td>\n",
       "    </tr>\n",
       "    <tr>\n",
       "      <th>16</th>\n",
       "      <td>11</td>\n",
       "      <td>6700000.0</td>\n",
       "      <td>82.00</td>\n",
       "      <td>2017-11-23T00:00:00</td>\n",
       "      <td>3</td>\n",
       "      <td>3.05</td>\n",
       "      <td>5.0</td>\n",
       "      <td>55.60</td>\n",
       "      <td>1</td>\n",
       "      <td>NaN</td>\n",
       "      <td>False</td>\n",
       "      <td>False</td>\n",
       "      <td>9.00</td>\n",
       "      <td>NaN</td>\n",
       "      <td>Санкт-Петербург</td>\n",
       "      <td>22108.0</td>\n",
       "      <td>10698.0</td>\n",
       "      <td>3.0</td>\n",
       "      <td>420.0</td>\n",
       "      <td>0.0</td>\n",
       "      <td>NaN</td>\n",
       "      <td>397.0</td>\n",
       "    </tr>\n",
       "    <tr>\n",
       "      <th>17</th>\n",
       "      <td>6</td>\n",
       "      <td>4180000.0</td>\n",
       "      <td>36.00</td>\n",
       "      <td>2016-09-09T00:00:00</td>\n",
       "      <td>1</td>\n",
       "      <td>NaN</td>\n",
       "      <td>17.0</td>\n",
       "      <td>16.50</td>\n",
       "      <td>7</td>\n",
       "      <td>NaN</td>\n",
       "      <td>False</td>\n",
       "      <td>False</td>\n",
       "      <td>11.00</td>\n",
       "      <td>1.0</td>\n",
       "      <td>Санкт-Петербург</td>\n",
       "      <td>33564.0</td>\n",
       "      <td>14616.0</td>\n",
       "      <td>0.0</td>\n",
       "      <td>NaN</td>\n",
       "      <td>1.0</td>\n",
       "      <td>859.0</td>\n",
       "      <td>571.0</td>\n",
       "    </tr>\n",
       "    <tr>\n",
       "      <th>18</th>\n",
       "      <td>8</td>\n",
       "      <td>3250000.0</td>\n",
       "      <td>31.00</td>\n",
       "      <td>2017-01-27T00:00:00</td>\n",
       "      <td>1</td>\n",
       "      <td>2.50</td>\n",
       "      <td>5.0</td>\n",
       "      <td>19.40</td>\n",
       "      <td>2</td>\n",
       "      <td>NaN</td>\n",
       "      <td>False</td>\n",
       "      <td>False</td>\n",
       "      <td>5.60</td>\n",
       "      <td>1.0</td>\n",
       "      <td>Санкт-Петербург</td>\n",
       "      <td>44060.0</td>\n",
       "      <td>10842.0</td>\n",
       "      <td>1.0</td>\n",
       "      <td>759.0</td>\n",
       "      <td>0.0</td>\n",
       "      <td>NaN</td>\n",
       "      <td>168.0</td>\n",
       "    </tr>\n",
       "    <tr>\n",
       "      <th>19</th>\n",
       "      <td>16</td>\n",
       "      <td>14200000.0</td>\n",
       "      <td>121.00</td>\n",
       "      <td>2019-01-09T00:00:00</td>\n",
       "      <td>3</td>\n",
       "      <td>2.75</td>\n",
       "      <td>16.0</td>\n",
       "      <td>76.00</td>\n",
       "      <td>8</td>\n",
       "      <td>NaN</td>\n",
       "      <td>False</td>\n",
       "      <td>False</td>\n",
       "      <td>12.00</td>\n",
       "      <td>NaN</td>\n",
       "      <td>Санкт-Петербург</td>\n",
       "      <td>38900.0</td>\n",
       "      <td>12843.0</td>\n",
       "      <td>0.0</td>\n",
       "      <td>NaN</td>\n",
       "      <td>0.0</td>\n",
       "      <td>NaN</td>\n",
       "      <td>97.0</td>\n",
       "    </tr>\n",
       "  </tbody>\n",
       "</table>\n",
       "</div>"
      ],
      "text/plain": [
       "    total_images  last_price  total_area first_day_exposition  rooms  \\\n",
       "0             20  13000000.0      108.00  2019-03-07T00:00:00      3   \n",
       "1              7   3350000.0       40.40  2018-12-04T00:00:00      1   \n",
       "2             10   5196000.0       56.00  2015-08-20T00:00:00      2   \n",
       "3              0  64900000.0      159.00  2015-07-24T00:00:00      3   \n",
       "4              2  10000000.0      100.00  2018-06-19T00:00:00      2   \n",
       "5             10   2890000.0       30.40  2018-09-10T00:00:00      1   \n",
       "6              6   3700000.0       37.30  2017-11-02T00:00:00      1   \n",
       "7              5   7915000.0       71.60  2019-04-18T00:00:00      2   \n",
       "8             20   2900000.0       33.16  2018-05-23T00:00:00      1   \n",
       "9             18   5400000.0       61.00  2017-02-26T00:00:00      3   \n",
       "10             5   5050000.0       39.60  2017-11-16T00:00:00      1   \n",
       "11             9   3300000.0       44.00  2018-08-27T00:00:00      2   \n",
       "12            10   3890000.0       54.00  2016-06-30T00:00:00      2   \n",
       "13            20   3550000.0       42.80  2017-07-01T00:00:00      2   \n",
       "14             1   4400000.0       36.00  2016-06-23T00:00:00      1   \n",
       "15            16   4650000.0       39.00  2017-11-18T00:00:00      1   \n",
       "16            11   6700000.0       82.00  2017-11-23T00:00:00      3   \n",
       "17             6   4180000.0       36.00  2016-09-09T00:00:00      1   \n",
       "18             8   3250000.0       31.00  2017-01-27T00:00:00      1   \n",
       "19            16  14200000.0      121.00  2019-01-09T00:00:00      3   \n",
       "\n",
       "    ceiling_height  floors_total  living_area  floor is_apartment  studio  \\\n",
       "0             2.70          16.0        51.00      8          NaN   False   \n",
       "1              NaN          11.0        18.60      1          NaN   False   \n",
       "2              NaN           5.0        34.30      4          NaN   False   \n",
       "3              NaN          14.0          NaN      9          NaN   False   \n",
       "4             3.03          14.0        32.00     13          NaN   False   \n",
       "5              NaN          12.0        14.40      5          NaN   False   \n",
       "6              NaN          26.0        10.60      6          NaN   False   \n",
       "7              NaN          24.0          NaN     22          NaN   False   \n",
       "8              NaN          27.0        15.43     26          NaN   False   \n",
       "9             2.50           9.0        43.60      7          NaN   False   \n",
       "10            2.67          12.0        20.30      3          NaN   False   \n",
       "11             NaN           5.0        31.00      4        False   False   \n",
       "12             NaN           5.0        30.00      5          NaN   False   \n",
       "13            2.56           5.0        27.00      5          NaN   False   \n",
       "14             NaN           6.0        17.00      1          NaN   False   \n",
       "15             NaN          14.0        20.50      5          NaN   False   \n",
       "16            3.05           5.0        55.60      1          NaN   False   \n",
       "17             NaN          17.0        16.50      7          NaN   False   \n",
       "18            2.50           5.0        19.40      2          NaN   False   \n",
       "19            2.75          16.0        76.00      8          NaN   False   \n",
       "\n",
       "    open_plan  kitchen_area  balcony              locality_name  \\\n",
       "0       False         25.00      NaN            Санкт-Петербург   \n",
       "1       False         11.00      2.0             посёлок Шушары   \n",
       "2       False          8.30      0.0            Санкт-Петербург   \n",
       "3       False           NaN      0.0            Санкт-Петербург   \n",
       "4       False         41.00      NaN            Санкт-Петербург   \n",
       "5       False          9.10      NaN  городской посёлок Янино-1   \n",
       "6       False         14.40      1.0          посёлок Парголово   \n",
       "7       False         18.90      2.0            Санкт-Петербург   \n",
       "8       False          8.81      NaN             посёлок Мурино   \n",
       "9       False          6.50      2.0            Санкт-Петербург   \n",
       "10      False          8.50      NaN            Санкт-Петербург   \n",
       "11      False          6.00      1.0                  Ломоносов   \n",
       "12      False          9.00      0.0                  Сертолово   \n",
       "13      False          5.20      1.0                   Петергоф   \n",
       "14      False          8.00      0.0                     Пушкин   \n",
       "15      False          7.60      1.0            Санкт-Петербург   \n",
       "16      False          9.00      NaN            Санкт-Петербург   \n",
       "17      False         11.00      1.0            Санкт-Петербург   \n",
       "18      False          5.60      1.0            Санкт-Петербург   \n",
       "19      False         12.00      NaN            Санкт-Петербург   \n",
       "\n",
       "    airports_nearest  cityCenters_nearest  parks_around3000  parks_nearest  \\\n",
       "0            18863.0              16028.0               1.0          482.0   \n",
       "1            12817.0              18603.0               0.0            NaN   \n",
       "2            21741.0              13933.0               1.0           90.0   \n",
       "3            28098.0               6800.0               2.0           84.0   \n",
       "4            31856.0               8098.0               2.0          112.0   \n",
       "5                NaN                  NaN               NaN            NaN   \n",
       "6            52996.0              19143.0               0.0            NaN   \n",
       "7            23982.0              11634.0               0.0            NaN   \n",
       "8                NaN                  NaN               NaN            NaN   \n",
       "9            50898.0              15008.0               0.0            NaN   \n",
       "10           38357.0              13878.0               1.0          310.0   \n",
       "11           48252.0              51677.0               0.0            NaN   \n",
       "12               NaN                  NaN               NaN            NaN   \n",
       "13           37868.0              33058.0               1.0          294.0   \n",
       "14           20782.0              30759.0               0.0            NaN   \n",
       "15           12900.0              14259.0               1.0          590.0   \n",
       "16           22108.0              10698.0               3.0          420.0   \n",
       "17           33564.0              14616.0               0.0            NaN   \n",
       "18           44060.0              10842.0               1.0          759.0   \n",
       "19           38900.0              12843.0               0.0            NaN   \n",
       "\n",
       "    ponds_around3000  ponds_nearest  days_exposition  \n",
       "0                2.0          755.0              NaN  \n",
       "1                0.0            NaN             81.0  \n",
       "2                2.0          574.0            558.0  \n",
       "3                3.0          234.0            424.0  \n",
       "4                1.0           48.0            121.0  \n",
       "5                NaN            NaN             55.0  \n",
       "6                0.0            NaN            155.0  \n",
       "7                0.0            NaN              NaN  \n",
       "8                NaN            NaN            189.0  \n",
       "9                0.0            NaN            289.0  \n",
       "10               2.0          553.0            137.0  \n",
       "11               0.0            NaN              7.0  \n",
       "12               NaN            NaN             90.0  \n",
       "13               3.0          298.0            366.0  \n",
       "14               1.0           96.0            203.0  \n",
       "15               1.0          296.0             19.0  \n",
       "16               0.0            NaN            397.0  \n",
       "17               1.0          859.0            571.0  \n",
       "18               0.0            NaN            168.0  \n",
       "19               0.0            NaN             97.0  "
      ]
     },
     "execution_count": 2,
     "metadata": {},
     "output_type": "execute_result"
    }
   ],
   "source": [
    "data.head(20) # изучаем данные в файле"
   ]
  },
  {
   "cell_type": "code",
   "execution_count": 3,
   "metadata": {},
   "outputs": [
    {
     "data": {
      "image/png": "[encoded data removed]",
      "text/plain": [
       "<Figure size 1080x1440 with 20 Axes>"
      ]
     },
     "metadata": {
      "needs_background": "light"
     },
     "output_type": "display_data"
    }
   ],
   "source": [
    "data.hist(figsize=(15, 20)); # гистограммы для всех числовых столбцов таблицы"
   ]
  },
  {
   "cell_type": "markdown",
   "metadata": {},
   "source": [
    "Изучив данные, стало понятно, что над ними нужно поработать. В них есть пропуски, повторяющиеся названия населённых пунктов, а также ошибки в типе данных. Кроме того, некоторые значения кажутся недостоверными, например, высота потолка вызывает вопросы."
   ]
  },
  {
   "cell_type": "markdown",
   "metadata": {
    "id": "-O5NtivEAwb9"
   },
   "source": [
    "### Предобработка данных"
   ]
  },
  {
   "cell_type": "code",
   "execution_count": 4,
   "metadata": {},
   "outputs": [
    {
     "data": {
      "text/plain": [
       "total_images                0\n",
       "last_price                  0\n",
       "total_area                  0\n",
       "first_day_exposition        0\n",
       "rooms                       0\n",
       "ceiling_height           9195\n",
       "floors_total               86\n",
       "living_area              1903\n",
       "floor                       0\n",
       "is_apartment            20924\n",
       "studio                      0\n",
       "open_plan                   0\n",
       "kitchen_area             2278\n",
       "balcony                 11519\n",
       "locality_name              49\n",
       "airports_nearest         5542\n",
       "cityCenters_nearest      5519\n",
       "parks_around3000         5518\n",
       "parks_nearest           15620\n",
       "ponds_around3000         5518\n",
       "ponds_nearest           14589\n",
       "days_exposition          3181\n",
       "dtype: int64"
      ]
     },
     "execution_count": 4,
     "metadata": {},
     "output_type": "execute_result"
    }
   ],
   "source": [
    "data.isna().sum() #количество пропущенных значений для каждого столбца"
   ]
  },
  {
   "cell_type": "code",
   "execution_count": 5,
   "metadata": {
    "id": "7v3vAeTuAwb-"
   },
   "outputs": [
    {
     "data": {
      "text/plain": [
       "count    14504.000000\n",
       "mean         2.771499\n",
       "std          1.261056\n",
       "min          1.000000\n",
       "25%          2.520000\n",
       "50%          2.650000\n",
       "75%          2.800000\n",
       "max        100.000000\n",
       "Name: ceiling_height, dtype: float64"
      ]
     },
     "execution_count": 5,
     "metadata": {},
     "output_type": "execute_result"
    }
   ],
   "source": [
    "# По очереди будем изучать каждый столбец с пропусками, начинаем с высоты потолка\n",
    "data['ceiling_height'].describe()"
   ]
  },
  {
   "cell_type": "code",
   "execution_count": 6,
   "metadata": {},
   "outputs": [
    {
     "data": {
      "text/plain": [
       "2.65"
      ]
     },
     "execution_count": 6,
     "metadata": {},
     "output_type": "execute_result"
    }
   ],
   "source": [
    "data['ceiling_height'].median()"
   ]
  },
  {
   "cell_type": "markdown",
   "metadata": {},
   "source": [
    "В столбце «ceiling_height», возможно, отсутствуют некоторые данные из-за того, что продавец не имел их под рукой. Чтобы заменить пропущенные значения в этом столбце, мы можем использовать медиану, так как она является устойчивым показателем центра распределения данных."
   ]
  },
  {
   "cell_type": "code",
   "execution_count": 7,
   "metadata": {},
   "outputs": [
    {
     "data": {
      "text/plain": [
       "total_images                0\n",
       "last_price                  0\n",
       "total_area                  0\n",
       "first_day_exposition        0\n",
       "rooms                       0\n",
       "ceiling_height              0\n",
       "floors_total               86\n",
       "living_area              1903\n",
       "floor                       0\n",
       "is_apartment            20924\n",
       "studio                      0\n",
       "open_plan                   0\n",
       "kitchen_area             2278\n",
       "balcony                 11519\n",
       "locality_name              49\n",
       "airports_nearest         5542\n",
       "cityCenters_nearest      5519\n",
       "parks_around3000         5518\n",
       "parks_nearest           15620\n",
       "ponds_around3000         5518\n",
       "ponds_nearest           14589\n",
       "days_exposition          3181\n",
       "dtype: int64"
      ]
     },
     "execution_count": 7,
     "metadata": {},
     "output_type": "execute_result"
    }
   ],
   "source": [
    "for t in data['ceiling_height'].unique():\n",
    "    data.loc[data['ceiling_height'].isna(), 'ceiling_height'] = \\\n",
    "    data.loc[(data['ceiling_height'] == t), 'ceiling_height'].median()\n",
    "data.isna().sum()"
   ]
  },
  {
   "cell_type": "markdown",
   "metadata": {},
   "source": [
    "Пропуски в столбце с размером жилой и кухонной площади, вероятно, связаны с отсутствием у продавца необходимых данных под рукой. Узнаем, какую долю от общей площади квартиры занимает кухня и жилая зона."
   ]
  },
  {
   "cell_type": "code",
   "execution_count": 8,
   "metadata": {},
   "outputs": [
    {
     "name": "stdout",
     "output_type": "stream",
     "text": [
      "0        0.57098\n",
      "1        0.57098\n",
      "2        0.57098\n",
      "3        0.57098\n",
      "4        0.57098\n",
      "          ...   \n",
      "23694    0.57098\n",
      "23695    0.57098\n",
      "23696    0.57098\n",
      "23697    0.57098\n",
      "23698    0.57098\n",
      "Name: living_mean, Length: 23699, dtype: float64\n"
     ]
    },
    {
     "data": {
      "text/plain": [
       "kitchen_mean    0.175146\n",
       "living_mean     0.570980\n",
       "dtype: float64"
      ]
     },
     "execution_count": 8,
     "metadata": {},
     "output_type": "execute_result"
    }
   ],
   "source": [
    "# Найдем соотношение между средней жилой / кухонной площади к средней общей площади\n",
    "data['living_mean'] = (data['living_area'].mean()) / (data['total_area'].mean())\n",
    "print(data['living_mean'])\n",
    "# Найдем соотношение между кухонной и общей площадью\n",
    "data['kitchen_mean'] = (data['kitchen_area'].mean()) / (data['total_area'].mean())\n",
    "# Выберем среднее соотношение площадей, которое обычно встречается в квартирах \n",
    "ratio = data.pivot_table(index='rooms', values=['living_mean', 'kitchen_mean'], aggfunc='median').median()\n",
    "ratio"
   ]
  },
  {
   "cell_type": "code",
   "execution_count": 9,
   "metadata": {},
   "outputs": [
    {
     "data": {
      "text/plain": [
       "total_images                0\n",
       "last_price                  0\n",
       "total_area                  0\n",
       "first_day_exposition        0\n",
       "rooms                       0\n",
       "ceiling_height              0\n",
       "floors_total               86\n",
       "living_area                 0\n",
       "floor                       0\n",
       "is_apartment            20924\n",
       "studio                      0\n",
       "open_plan                   0\n",
       "kitchen_area                0\n",
       "balcony                 11519\n",
       "locality_name              49\n",
       "airports_nearest         5542\n",
       "cityCenters_nearest      5519\n",
       "parks_around3000         5518\n",
       "parks_nearest           15620\n",
       "ponds_around3000         5518\n",
       "ponds_nearest           14589\n",
       "days_exposition          3181\n",
       "living_mean                 0\n",
       "kitchen_mean                0\n",
       "dtype: int64"
      ]
     },
     "execution_count": 9,
     "metadata": {},
     "output_type": "execute_result"
    }
   ],
   "source": [
    "# Заменим пропуска в жилой площади и кухонной площади \n",
    "# Следует учесть, что в квартире также имеются технические помещения, такие как санузел и коридор\n",
    "# Общая площадь кухни и жилой зоны не должна превышать 90% от общей площади квартиры\n",
    "data.loc[(data['living_area'].isna()) | (data['kitchen_area'].isna()) | ((data['kitchen_area'] + data['living_area']) > data['total_area'] * 0.9), ['living_area', 'kitchen_area']] =\\\n",
    "    pd.DataFrame({'living_area': data['total_area'] * ratio['living_mean'], 'kitchen_area': data['total_area'] * ratio['kitchen_mean']})\n",
    "data.isna().sum() # проверяем"
   ]
  },
  {
   "cell_type": "markdown",
   "metadata": {},
   "source": [
    "Скорее всего данные в столбце «is_apartment» заполняются автоматически. Если в этом столбце отсутствуют данные, это может быть связано с тем, что кадастровый номер не был указан.\n",
    "\n",
    "Если пользователь сам заполняет этот пункт, то данные могут не вводиться из-за незнания термина «апартаменты». В этом случае мы не можем предложить логичную замену, поэтому оставляем пропуски в этом столбце."
   ]
  },
  {
   "cell_type": "markdown",
   "metadata": {},
   "source": [
    "Вероятно, расстояние до парка, аэропорта, центра и ближайшего водоёма автоматически заполняется для определённых типов населённых пунктов. В этом случае, скорее всего, невозможно будет заполнить эти данные вручную. Если мы заполним их нулями или средними значениями, это может привести к аномалиям на графиках. Поэтому лучше оставить эти столбцы — cityCenters_nearest, airports_nearest, ponds_nearest и parks_nearest — незаполненными.\n",
    "\n",
    "С другой стороны, в столбцах, где указано количество парков, водоёмов и балконов, логично заменить пропуски на нули. Если продавец не указал параметры, которые могут увеличить стоимость объекта недвижимости, то, вероятно, такого преимущества нет. И в случае автоматического заполнения данных пунктов замена также оправдана."
   ]
  },
  {
   "cell_type": "code",
   "execution_count": 10,
   "metadata": {},
   "outputs": [],
   "source": [
    "data['balcony'] = data['balcony'].fillna(value='0')"
   ]
  },
  {
   "cell_type": "code",
   "execution_count": 11,
   "metadata": {},
   "outputs": [],
   "source": [
    "data['parks_around3000'] = data['parks_around3000'].fillna(value='0')"
   ]
  },
  {
   "cell_type": "code",
   "execution_count": 12,
   "metadata": {},
   "outputs": [],
   "source": [
    "data['ponds_around3000'] = data['ponds_around3000'].fillna(value='0')"
   ]
  },
  {
   "cell_type": "markdown",
   "metadata": {},
   "source": [
    "Количество этажей в доме могло быть не указано продавцами из-за неуверенности в данных, а название населенного пункта — для увеличения просмотров объявления. Ведь если указать точку в центре города, то просмотров будет больше. Удаляем строки с пропусками в столбцах «floors_total» и «locality_name», так как потеря данных незначительна, и нет возможности заполнить их без дополнительного запроса информации."
   ]
  },
  {
   "cell_type": "code",
   "execution_count": 13,
   "metadata": {},
   "outputs": [
    {
     "data": {
      "text/plain": [
       "total_images                0\n",
       "last_price                  0\n",
       "total_area                  0\n",
       "first_day_exposition        0\n",
       "rooms                       0\n",
       "ceiling_height              0\n",
       "floors_total                0\n",
       "living_area                 0\n",
       "floor                       0\n",
       "is_apartment            20805\n",
       "studio                      0\n",
       "open_plan                   0\n",
       "kitchen_area                0\n",
       "balcony                     0\n",
       "locality_name               0\n",
       "airports_nearest         5524\n",
       "cityCenters_nearest      5501\n",
       "parks_around3000            0\n",
       "parks_nearest           15535\n",
       "ponds_around3000            0\n",
       "ponds_nearest           14529\n",
       "days_exposition          3171\n",
       "living_mean                 0\n",
       "kitchen_mean                0\n",
       "dtype: int64"
      ]
     },
     "execution_count": 13,
     "metadata": {},
     "output_type": "execute_result"
    }
   ],
   "source": [
    "data = data.dropna(subset=['floors_total', 'locality_name'])\n",
    "data.isna().sum() # проверяем"
   ]
  },
  {
   "cell_type": "markdown",
   "metadata": {},
   "source": [
    "Столбец \"days_exposition\" сообщает нам, сколько дней длилось объявление о продаже недвижимости. Если объявление было закрыто (недвижимость продана), то в этом поле будет указано количество дней. Если же объявление ещё открыто (недвижимость не продана), то в поле будет NaN (не число).\n",
    "\n",
    "Заполнение этого поля каким-либо значением может исказить данные и привести к аномалиям. Поэтому лучше оставить это поле пустым."
   ]
  },
  {
   "cell_type": "markdown",
   "metadata": {},
   "source": [
    "Найдём столбцы, где необходимо изменить тип данных, и ещё раз обратимся к информации о данных"
   ]
  },
  {
   "cell_type": "code",
   "execution_count": 14,
   "metadata": {},
   "outputs": [
    {
     "name": "stdout",
     "output_type": "stream",
     "text": [
      "<class 'pandas.core.frame.DataFrame'>\n",
      "Int64Index: 23565 entries, 0 to 23698\n",
      "Data columns (total 24 columns):\n",
      " #   Column                Non-Null Count  Dtype  \n",
      "---  ------                --------------  -----  \n",
      " 0   total_images          23565 non-null  int64  \n",
      " 1   last_price            23565 non-null  float64\n",
      " 2   total_area            23565 non-null  float64\n",
      " 3   first_day_exposition  23565 non-null  object \n",
      " 4   rooms                 23565 non-null  int64  \n",
      " 5   ceiling_height        23565 non-null  float64\n",
      " 6   floors_total          23565 non-null  float64\n",
      " 7   living_area           23565 non-null  float64\n",
      " 8   floor                 23565 non-null  int64  \n",
      " 9   is_apartment          2760 non-null   object \n",
      " 10  studio                23565 non-null  bool   \n",
      " 11  open_plan             23565 non-null  bool   \n",
      " 12  kitchen_area          23565 non-null  float64\n",
      " 13  balcony               23565 non-null  object \n",
      " 14  locality_name         23565 non-null  object \n",
      " 15  airports_nearest      18041 non-null  float64\n",
      " 16  cityCenters_nearest   18064 non-null  float64\n",
      " 17  parks_around3000      23565 non-null  object \n",
      " 18  parks_nearest         8030 non-null   float64\n",
      " 19  ponds_around3000      23565 non-null  object \n",
      " 20  ponds_nearest         9036 non-null   float64\n",
      " 21  days_exposition       20394 non-null  float64\n",
      " 22  living_mean           23565 non-null  float64\n",
      " 23  kitchen_mean          23565 non-null  float64\n",
      "dtypes: bool(2), float64(13), int64(3), object(6)\n",
      "memory usage: 4.2+ MB\n"
     ]
    }
   ],
   "source": [
    "data.info()"
   ]
  },
  {
   "cell_type": "markdown",
   "metadata": {},
   "source": [
    "В столбцах «ponds_around3000», «parks_around3000», «balcony», «is_apartment», «floors_total», «first_day_exposition» и «last_price» необходимо изменить тип данных.\n",
    "\n",
    "В столбцах «ponds_around3000» и «parks_around3000» должно быть указано конкретное число объектов, расположенных в радиусе 3000 метров от места размещения объявления."
   ]
  },
  {
   "cell_type": "code",
   "execution_count": 15,
   "metadata": {},
   "outputs": [],
   "source": [
    "data['ponds_around3000'] = data.loc[:,'ponds_around3000'].astype(int)"
   ]
  },
  {
   "cell_type": "code",
   "execution_count": 16,
   "metadata": {},
   "outputs": [],
   "source": [
    "data['parks_around3000'] = data.loc[:,'parks_around3000'].astype(int)"
   ]
  },
  {
   "cell_type": "markdown",
   "metadata": {},
   "source": [
    "Количество балконов не может быть дробным числом. Этот столбец также будет изменён."
   ]
  },
  {
   "cell_type": "code",
   "execution_count": 17,
   "metadata": {},
   "outputs": [],
   "source": [
    "data['balcony'] = data.loc[:,'balcony'].astype(int)"
   ]
  },
  {
   "cell_type": "markdown",
   "metadata": {},
   "source": [
    "Количество этажей — это всегда целое число. В этот пункт также будут внесены изменения."
   ]
  },
  {
   "cell_type": "code",
   "execution_count": 18,
   "metadata": {},
   "outputs": [],
   "source": [
    "data['floors_total'] = data.loc[:,'floors_total'].astype(int)"
   ]
  },
  {
   "cell_type": "markdown",
   "metadata": {},
   "source": [
    "Столбец «is_apartment» содержит логические значения, поэтому тип данных «object» здесь не подходит. Мы это исправим."
   ]
  },
  {
   "cell_type": "code",
   "execution_count": 19,
   "metadata": {},
   "outputs": [],
   "source": [
    "data['is_apartment'] = data.loc[:,'is_apartment'].astype(bool)"
   ]
  },
  {
   "cell_type": "markdown",
   "metadata": {},
   "source": [
    "Первый день размещения — это определённая дата. Для дальнейшей работы с данными в этом столбце также будет изменён тип данных."
   ]
  },
  {
   "cell_type": "code",
   "execution_count": 20,
   "metadata": {},
   "outputs": [],
   "source": [
    "data['first_day_exposition'] = pd.to_datetime(data['first_day_exposition'], format='%Y-%m-%dT%H:%M:%S')"
   ]
  },
  {
   "cell_type": "code",
   "execution_count": 21,
   "metadata": {},
   "outputs": [],
   "source": [
    "data['last_price'] = data.loc[:,'last_price'].astype(int)"
   ]
  },
  {
   "cell_type": "code",
   "execution_count": 22,
   "metadata": {},
   "outputs": [
    {
     "name": "stdout",
     "output_type": "stream",
     "text": [
      "<class 'pandas.core.frame.DataFrame'>\n",
      "Int64Index: 23565 entries, 0 to 23698\n",
      "Data columns (total 24 columns):\n",
      " #   Column                Non-Null Count  Dtype         \n",
      "---  ------                --------------  -----         \n",
      " 0   total_images          23565 non-null  int64         \n",
      " 1   last_price            23565 non-null  int64         \n",
      " 2   total_area            23565 non-null  float64       \n",
      " 3   first_day_exposition  23565 non-null  datetime64[ns]\n",
      " 4   rooms                 23565 non-null  int64         \n",
      " 5   ceiling_height        23565 non-null  float64       \n",
      " 6   floors_total          23565 non-null  int64         \n",
      " 7   living_area           23565 non-null  float64       \n",
      " 8   floor                 23565 non-null  int64         \n",
      " 9   is_apartment          23565 non-null  bool          \n",
      " 10  studio                23565 non-null  bool          \n",
      " 11  open_plan             23565 non-null  bool          \n",
      " 12  kitchen_area          23565 non-null  float64       \n",
      " 13  balcony               23565 non-null  int64         \n",
      " 14  locality_name         23565 non-null  object        \n",
      " 15  airports_nearest      18041 non-null  float64       \n",
      " 16  cityCenters_nearest   18064 non-null  float64       \n",
      " 17  parks_around3000      23565 non-null  int64         \n",
      " 18  parks_nearest         8030 non-null   float64       \n",
      " 19  ponds_around3000      23565 non-null  int64         \n",
      " 20  ponds_nearest         9036 non-null   float64       \n",
      " 21  days_exposition       20394 non-null  float64       \n",
      " 22  living_mean           23565 non-null  float64       \n",
      " 23  kitchen_mean          23565 non-null  float64       \n",
      "dtypes: bool(3), datetime64[ns](1), float64(11), int64(8), object(1)\n",
      "memory usage: 4.0+ MB\n"
     ]
    }
   ],
   "source": [
    "data.info() # проверяем, были ли корректно изменены типы данных в выбранных столбцах."
   ]
  },
  {
   "cell_type": "markdown",
   "metadata": {},
   "source": [
    "Приступим к удалению неявных дубликатов в столбце с названиями населённых пунктов. Для начала мы рассмотрим уникальные значения в этом столбце."
   ]
  },
  {
   "cell_type": "code",
   "execution_count": 23,
   "metadata": {},
   "outputs": [
    {
     "name": "stdout",
     "output_type": "stream",
     "text": [
      "364\n"
     ]
    },
    {
     "data": {
      "text/plain": [
       "array(['Санкт-Петербург', 'посёлок Шушары', 'городской посёлок Янино-1',\n",
       "       'посёлок Парголово', 'посёлок Мурино', 'Ломоносов', 'Сертолово',\n",
       "       'Петергоф', 'Пушкин', 'деревня Кудрово', 'Коммунар', 'Колпино',\n",
       "       'поселок городского типа Красный Бор', 'Гатчина', 'поселок Мурино',\n",
       "       'деревня Фёдоровское', 'Выборг', 'Кронштадт', 'Кировск',\n",
       "       'деревня Новое Девяткино', 'посёлок Металлострой',\n",
       "       'посёлок городского типа Лебяжье',\n",
       "       'посёлок городского типа Сиверский', 'поселок Молодцово',\n",
       "       'поселок городского типа Кузьмоловский',\n",
       "       'садовое товарищество Новая Ропша', 'Павловск',\n",
       "       'деревня Пикколово', 'Всеволожск', 'Волхов', 'Кингисепп',\n",
       "       'Приозерск', 'Сестрорецк', 'деревня Куттузи', 'посёлок Аннино',\n",
       "       'поселок городского типа Ефимовский', 'посёлок Плодовое',\n",
       "       'деревня Заклинье', 'поселок Торковичи', 'поселок Первомайское',\n",
       "       'Красное Село', 'посёлок Понтонный', 'Сясьстрой', 'деревня Старая',\n",
       "       'деревня Лесколово', 'посёлок Новый Свет', 'Сланцы',\n",
       "       'село Путилово', 'Ивангород', 'Мурино', 'Шлиссельбург',\n",
       "       'Никольское', 'Зеленогорск', 'Сосновый Бор', 'поселок Новый Свет',\n",
       "       'деревня Оржицы', 'деревня Кальтино', 'Кудрово',\n",
       "       'поселок Романовка', 'посёлок Бугры', 'поселок Бугры',\n",
       "       'поселок городского типа Рощино', 'Кириши', 'Луга', 'Волосово',\n",
       "       'Отрадное', 'село Павлово', 'поселок Оредеж', 'село Копорье',\n",
       "       'посёлок городского типа Красный Бор', 'посёлок Молодёжное',\n",
       "       'Тихвин', 'посёлок Победа', 'деревня Нурма',\n",
       "       'поселок городского типа Синявино', 'Тосно',\n",
       "       'посёлок городского типа Кузьмоловский', 'посёлок Стрельна',\n",
       "       'Бокситогорск', 'посёлок Александровская', 'деревня Лопухинка',\n",
       "       'Пикалёво', 'поселок Терволово',\n",
       "       'поселок городского типа Советский', 'Подпорожье',\n",
       "       'посёлок Петровское', 'посёлок городского типа Токсово',\n",
       "       'поселок Сельцо', 'посёлок городского типа Вырица',\n",
       "       'деревня Кипень', 'деревня Келози', 'деревня Вартемяги',\n",
       "       'посёлок Тельмана', 'поселок Севастьяново',\n",
       "       'городской поселок Большая Ижора', 'городской посёлок Павлово',\n",
       "       'деревня Агалатово', 'посёлок Новогорелово',\n",
       "       'городской посёлок Лесогорский', 'деревня Лаголово',\n",
       "       'поселок Цвелодубово', 'поселок городского типа Рахья',\n",
       "       'поселок городского типа Вырица', 'деревня Белогорка',\n",
       "       'поселок Заводской', 'городской посёлок Новоселье',\n",
       "       'деревня Большие Колпаны', 'деревня Горбунки', 'деревня Батово',\n",
       "       'деревня Заневка', 'деревня Иссад', 'Приморск',\n",
       "       'городской посёлок Фёдоровское', 'деревня Мистолово',\n",
       "       'Новая Ладога', 'поселок Зимитицы', 'поселок Барышево',\n",
       "       'деревня Разметелево', 'поселок городского типа имени Свердлова',\n",
       "       'деревня Пеники', 'поселок Рябово', 'деревня Пудомяги',\n",
       "       'поселок станции Корнево', 'деревня Низино', 'деревня Бегуницы',\n",
       "       'посёлок Поляны', 'городской посёлок Мга', 'поселок Елизаветино',\n",
       "       'посёлок городского типа Кузнечное', 'деревня Колтуши',\n",
       "       'поселок Запорожское', 'посёлок городского типа Рощино',\n",
       "       'деревня Гостилицы', 'деревня Малое Карлино',\n",
       "       'посёлок Мичуринское', 'посёлок городского типа имени Морозова',\n",
       "       'посёлок Песочный', 'посёлок Сосново', 'деревня Аро',\n",
       "       'поселок Ильичёво', 'посёлок городского типа Тайцы',\n",
       "       'деревня Малое Верево', 'деревня Извара', 'поселок станции Вещево',\n",
       "       'село Паша', 'деревня Калитино',\n",
       "       'посёлок городского типа Ульяновка', 'деревня Чудской Бор',\n",
       "       'поселок городского типа Дубровка', 'деревня Мины',\n",
       "       'поселок Войсковицы', 'посёлок городского типа имени Свердлова',\n",
       "       'деревня Коркино', 'посёлок Ропша',\n",
       "       'поселок городского типа Приладожский', 'посёлок Щеглово',\n",
       "       'посёлок Гаврилово', 'Лодейное Поле', 'деревня Рабитицы',\n",
       "       'поселок городского типа Никольский', 'деревня Кузьмолово',\n",
       "       'деревня Малые Колпаны', 'поселок Тельмана',\n",
       "       'посёлок Петро-Славянка', 'городской посёлок Назия',\n",
       "       'посёлок Репино', 'посёлок Ильичёво', 'поселок Углово',\n",
       "       'поселок Старая Малукса', 'садовое товарищество Рахья',\n",
       "       'поселок Аннино', 'поселок Победа', 'деревня Меньково',\n",
       "       'деревня Старые Бегуницы', 'посёлок Сапёрный', 'поселок Семрино',\n",
       "       'поселок Гаврилово', 'поселок Глажево', 'поселок Кобринское',\n",
       "       'деревня Гарболово', 'деревня Юкки',\n",
       "       'поселок станции Приветнинское', 'деревня Мануйлово',\n",
       "       'деревня Пчева', 'поселок Поляны', 'поселок Цвылёво',\n",
       "       'поселок Мельниково', 'посёлок Пудость', 'посёлок Усть-Луга',\n",
       "       'Светогорск', 'Любань', 'поселок Селезнёво',\n",
       "       'поселок городского типа Рябово', 'Каменногорск', 'деревня Кривко',\n",
       "       'поселок Глебычево', 'деревня Парицы', 'поселок Жилпосёлок',\n",
       "       'посёлок городского типа Мга', 'городской поселок Янино-1',\n",
       "       'посёлок Войскорово', 'село Никольское', 'посёлок Терволово',\n",
       "       'поселок Стеклянный', 'посёлок городского типа Важины',\n",
       "       'посёлок Мыза-Ивановка', 'село Русско-Высоцкое',\n",
       "       'поселок городского типа Лебяжье',\n",
       "       'поселок городского типа Форносово', 'село Старая Ладога',\n",
       "       'поселок Житково', 'городской посёлок Виллози', 'деревня Лампово',\n",
       "       'деревня Шпаньково', 'деревня Лаврики', 'посёлок Сумино',\n",
       "       'посёлок Возрождение', 'деревня Старосиверская',\n",
       "       'посёлок Кикерино', 'поселок Возрождение',\n",
       "       'деревня Старое Хинколово', 'посёлок Пригородный',\n",
       "       'посёлок Торфяное', 'городской посёлок Будогощь',\n",
       "       'поселок Суходолье', 'поселок Красная Долина', 'деревня Хапо-Ое',\n",
       "       'поселок городского типа Дружная Горка', 'поселок Лисий Нос',\n",
       "       'деревня Яльгелево', 'посёлок Стеклянный', 'село Рождествено',\n",
       "       'деревня Старополье', 'посёлок Левашово', 'деревня Сяськелево',\n",
       "       'деревня Камышовка',\n",
       "       'садоводческое некоммерческое товарищество Лесная Поляна',\n",
       "       'деревня Хязельки', 'поселок Жилгородок',\n",
       "       'посёлок городского типа Павлово', 'деревня Ялгино',\n",
       "       'поселок Новый Учхоз', 'городской посёлок Рощино',\n",
       "       'поселок Гончарово', 'поселок Почап', 'посёлок Сапёрное',\n",
       "       'посёлок Платформа 69-й километр', 'поселок Каложицы',\n",
       "       'деревня Фалилеево', 'деревня Пельгора',\n",
       "       'поселок городского типа Лесогорский', 'деревня Торошковичи',\n",
       "       'посёлок Белоостров', 'посёлок Алексеевка', 'поселок Серебрянский',\n",
       "       'поселок Лукаши', 'поселок Петровское', 'деревня Щеглово',\n",
       "       'поселок Мичуринское', 'деревня Тарасово', 'поселок Кингисеппский',\n",
       "       'посёлок при железнодорожной станции Вещево', 'поселок Ушаки',\n",
       "       'деревня Котлы', 'деревня Сижно', 'деревня Торосово',\n",
       "       'посёлок Форт Красная Горка', 'деревня Новолисино',\n",
       "       'посёлок станции Громово', 'деревня Глинка', 'посёлок Мельниково',\n",
       "       'поселок городского типа Назия', 'деревня Старая Пустошь',\n",
       "       'поселок Коммунары', 'поселок Починок',\n",
       "       'посёлок городского типа Вознесенье', 'деревня Разбегаево',\n",
       "       'посёлок городского типа Рябово', 'поселок Гладкое',\n",
       "       'посёлок при железнодорожной станции Приветнинское',\n",
       "       'поселок Тёсово-4', 'посёлок Жилгородок', 'деревня Бор',\n",
       "       'посёлок Коробицыно', 'деревня Большая Вруда', 'деревня Курковицы',\n",
       "       'посёлок Лисий Нос', 'городской посёлок Советский',\n",
       "       'посёлок Кобралово', 'деревня Суоранда', 'поселок Кобралово',\n",
       "       'поселок городского типа Кондратьево',\n",
       "       'коттеджный поселок Счастье', 'поселок Любань', 'деревня Реброво',\n",
       "       'деревня Зимитицы', 'деревня Тойворово', 'поселок Семиозерье',\n",
       "       'поселок Лесное', 'поселок Совхозный', 'поселок Усть-Луга',\n",
       "       'посёлок Ленинское', 'посёлок Суйда',\n",
       "       'посёлок городского типа Форносово', 'деревня Нижние Осельки',\n",
       "       'посёлок станции Свирь', 'поселок Перово', 'Высоцк',\n",
       "       'поселок Гарболово', 'село Шум', 'поселок Котельский',\n",
       "       'поселок станции Лужайка', 'деревня Большая Пустомержа',\n",
       "       'поселок Красносельское', 'деревня Вахнова Кара', 'деревня Пижма',\n",
       "       'коттеджный поселок Кивеннапа Север', 'поселок Коробицыно',\n",
       "       'поселок Ромашки', 'посёлок Перово', 'деревня Каськово',\n",
       "       'деревня Куровицы', 'посёлок Плоское', 'поселок Сумино',\n",
       "       'поселок городского типа Большая Ижора', 'поселок Кирпичное',\n",
       "       'деревня Ям-Тесово', 'деревня Раздолье', 'деревня Терпилицы',\n",
       "       'поселок городского типа Токсово', 'посёлок Шугозеро',\n",
       "       'деревня Ваганово', 'поселок Пушное', 'садовое товарищество Садко',\n",
       "       'посёлок Усть-Ижора', 'деревня Выскатка',\n",
       "       'городской посёлок Свирьстрой', 'поселок Громово',\n",
       "       'деревня Кисельня', 'посёлок Старая Малукса',\n",
       "       'деревня Трубников Бор', 'поселок Калитино',\n",
       "       'посёлок Высокоключевой', 'садовое товарищество Приладожский',\n",
       "       'посёлок Пансионат Зелёный Бор', 'деревня Ненимяки',\n",
       "       'поселок Пансионат Зелёный Бор', 'деревня Снегирёвка',\n",
       "       'деревня Рапполово', 'деревня Пустынка', 'поселок Рабитицы',\n",
       "       'деревня Большой Сабск', 'деревня Русско', 'деревня Лупполово',\n",
       "       'деревня Большое Рейзино', 'деревня Малая Романовка',\n",
       "       'поселок Дружноселье', 'поселок Пчевжа', 'поселок Володарское',\n",
       "       'деревня Нижняя', 'коттеджный посёлок Лесное', 'деревня Тихковицы',\n",
       "       'деревня Борисова Грива', 'посёлок Дзержинского'], dtype=object)"
      ]
     },
     "execution_count": 23,
     "metadata": {},
     "output_type": "execute_result"
    }
   ],
   "source": [
    "print(len(data['locality_name'].unique()))\n",
    "data['locality_name'].unique()"
   ]
  },
  {
   "cell_type": "markdown",
   "metadata": {},
   "source": [
    "Сначала заменим все буквы «ё» на «е» в столбце с названиями населённых пунктов. Затем разделим столбец на две части: в одной части будет тип населённого пункта, а в другой — его название.\n",
    "\n",
    "Обратив внимание на названия населённых пунктов, мы заметим, что они имеют общий шаблон: тип населённого пункта начинается с маленькой буквы, а само название — с заглавной. Используя регулярные выражения, мы можем разделить тип и название по этому шаблону. Результаты мы запишем в два новых столбца: один с названиями населённых пунктов, другой — с их типами. "
   ]
  },
  {
   "cell_type": "code",
   "execution_count": 24,
   "metadata": {},
   "outputs": [],
   "source": [
    "data['locality_name'] = data['locality_name'].str.replace('ё', 'е')"
   ]
  },
  {
   "cell_type": "code",
   "execution_count": 25,
   "metadata": {},
   "outputs": [
    {
     "data": {
      "text/plain": [
       "305"
      ]
     },
     "execution_count": 25,
     "metadata": {},
     "output_type": "execute_result"
    }
   ],
   "source": [
    "data[['locality_type', 'locality_name_split']] = data['locality_name'].str.split(pat='(?=[A-Я])', n=1, expand=True)\n",
    "len(data['locality_name_split'].unique()) # проверяем результат"
   ]
  },
  {
   "cell_type": "markdown",
   "metadata": {},
   "source": [
    "Обработаем необычные и выбивающиеся из общего ряда значения, так называемые аномалии. В первую очередь, мы обращаем внимание на высоту потолков.\n",
    "\n",
    "Анализ гистограммы показал, что есть аномально большие и маленькие значения высоты потолков. Скорее всего, это ошибка продавца, который мог ошибиться при указании значения или неправильно поставить разделитель. Мы проверим и исправим эти данные."
   ]
  },
  {
   "cell_type": "code",
   "execution_count": 26,
   "metadata": {},
   "outputs": [],
   "source": [
    "for ceiling in data['ceiling_height']:\n",
    "    if ceiling > 20:\n",
    "        data.loc[data['ceiling_height'] == ceiling, 'ceiling_height'] = data.loc[(data['ceiling_height'] == ceiling), 'ceiling_height']/10"
   ]
  },
  {
   "cell_type": "code",
   "execution_count": 27,
   "metadata": {},
   "outputs": [
    {
     "data": {
      "text/html": [
       "<div>\n",
       "<style scoped>\n",
       "    .dataframe tbody tr th:only-of-type {\n",
       "        vertical-align: middle;\n",
       "    }\n",
       "\n",
       "    .dataframe tbody tr th {\n",
       "        vertical-align: top;\n",
       "    }\n",
       "\n",
       "    .dataframe thead th {\n",
       "        text-align: right;\n",
       "    }\n",
       "</style>\n",
       "<table border=\"1\" class=\"dataframe\">\n",
       "  <thead>\n",
       "    <tr style=\"text-align: right;\">\n",
       "      <th></th>\n",
       "      <th>total_images</th>\n",
       "      <th>last_price</th>\n",
       "      <th>total_area</th>\n",
       "      <th>first_day_exposition</th>\n",
       "      <th>rooms</th>\n",
       "      <th>ceiling_height</th>\n",
       "      <th>floors_total</th>\n",
       "      <th>living_area</th>\n",
       "      <th>floor</th>\n",
       "      <th>is_apartment</th>\n",
       "      <th>studio</th>\n",
       "      <th>open_plan</th>\n",
       "      <th>kitchen_area</th>\n",
       "      <th>balcony</th>\n",
       "      <th>locality_name</th>\n",
       "      <th>airports_nearest</th>\n",
       "      <th>cityCenters_nearest</th>\n",
       "      <th>parks_around3000</th>\n",
       "      <th>parks_nearest</th>\n",
       "      <th>ponds_around3000</th>\n",
       "      <th>ponds_nearest</th>\n",
       "      <th>days_exposition</th>\n",
       "      <th>living_mean</th>\n",
       "      <th>kitchen_mean</th>\n",
       "      <th>locality_type</th>\n",
       "      <th>locality_name_split</th>\n",
       "    </tr>\n",
       "  </thead>\n",
       "  <tbody>\n",
       "  </tbody>\n",
       "</table>\n",
       "</div>"
      ],
      "text/plain": [
       "Empty DataFrame\n",
       "Columns: [total_images, last_price, total_area, first_day_exposition, rooms, ceiling_height, floors_total, living_area, floor, is_apartment, studio, open_plan, kitchen_area, balcony, locality_name, airports_nearest, cityCenters_nearest, parks_around3000, parks_nearest, ponds_around3000, ponds_nearest, days_exposition, living_mean, kitchen_mean, locality_type, locality_name_split]\n",
       "Index: []"
      ]
     },
     "execution_count": 27,
     "metadata": {},
     "output_type": "execute_result"
    }
   ],
   "source": [
    "data[data['ceiling_height'] > 20]"
   ]
  },
  {
   "cell_type": "code",
   "execution_count": 28,
   "metadata": {},
   "outputs": [
    {
     "data": {
      "text/html": [
       "<div>\n",
       "<style scoped>\n",
       "    .dataframe tbody tr th:only-of-type {\n",
       "        vertical-align: middle;\n",
       "    }\n",
       "\n",
       "    .dataframe tbody tr th {\n",
       "        vertical-align: top;\n",
       "    }\n",
       "\n",
       "    .dataframe thead th {\n",
       "        text-align: right;\n",
       "    }\n",
       "</style>\n",
       "<table border=\"1\" class=\"dataframe\">\n",
       "  <thead>\n",
       "    <tr style=\"text-align: right;\">\n",
       "      <th></th>\n",
       "      <th>total_images</th>\n",
       "      <th>last_price</th>\n",
       "      <th>total_area</th>\n",
       "      <th>first_day_exposition</th>\n",
       "      <th>rooms</th>\n",
       "      <th>ceiling_height</th>\n",
       "      <th>floors_total</th>\n",
       "      <th>living_area</th>\n",
       "      <th>floor</th>\n",
       "      <th>is_apartment</th>\n",
       "      <th>studio</th>\n",
       "      <th>open_plan</th>\n",
       "      <th>kitchen_area</th>\n",
       "      <th>balcony</th>\n",
       "      <th>locality_name</th>\n",
       "      <th>airports_nearest</th>\n",
       "      <th>cityCenters_nearest</th>\n",
       "      <th>parks_around3000</th>\n",
       "      <th>parks_nearest</th>\n",
       "      <th>ponds_around3000</th>\n",
       "      <th>ponds_nearest</th>\n",
       "      <th>days_exposition</th>\n",
       "      <th>living_mean</th>\n",
       "      <th>kitchen_mean</th>\n",
       "      <th>locality_type</th>\n",
       "      <th>locality_name_split</th>\n",
       "    </tr>\n",
       "  </thead>\n",
       "  <tbody>\n",
       "    <tr>\n",
       "      <th>5712</th>\n",
       "      <td>5</td>\n",
       "      <td>1500000</td>\n",
       "      <td>42.8</td>\n",
       "      <td>2017-08-14</td>\n",
       "      <td>2</td>\n",
       "      <td>1.20</td>\n",
       "      <td>2</td>\n",
       "      <td>27.5</td>\n",
       "      <td>1</td>\n",
       "      <td>True</td>\n",
       "      <td>False</td>\n",
       "      <td>False</td>\n",
       "      <td>5.20</td>\n",
       "      <td>0</td>\n",
       "      <td>городской поселок Мга</td>\n",
       "      <td>NaN</td>\n",
       "      <td>NaN</td>\n",
       "      <td>0</td>\n",
       "      <td>NaN</td>\n",
       "      <td>0</td>\n",
       "      <td>NaN</td>\n",
       "      <td>248.0</td>\n",
       "      <td>0.57098</td>\n",
       "      <td>0.175146</td>\n",
       "      <td>городской поселок</td>\n",
       "      <td>Мга</td>\n",
       "    </tr>\n",
       "    <tr>\n",
       "      <th>16934</th>\n",
       "      <td>5</td>\n",
       "      <td>4100000</td>\n",
       "      <td>40.0</td>\n",
       "      <td>2017-10-17</td>\n",
       "      <td>1</td>\n",
       "      <td>1.75</td>\n",
       "      <td>37</td>\n",
       "      <td>17.4</td>\n",
       "      <td>5</td>\n",
       "      <td>True</td>\n",
       "      <td>False</td>\n",
       "      <td>False</td>\n",
       "      <td>8.34</td>\n",
       "      <td>0</td>\n",
       "      <td>Санкт-Петербург</td>\n",
       "      <td>18732.0</td>\n",
       "      <td>20444.0</td>\n",
       "      <td>0</td>\n",
       "      <td>NaN</td>\n",
       "      <td>3</td>\n",
       "      <td>80.0</td>\n",
       "      <td>71.0</td>\n",
       "      <td>0.57098</td>\n",
       "      <td>0.175146</td>\n",
       "      <td></td>\n",
       "      <td>Санкт-Петербург</td>\n",
       "    </tr>\n",
       "    <tr>\n",
       "      <th>22590</th>\n",
       "      <td>16</td>\n",
       "      <td>6000000</td>\n",
       "      <td>55.0</td>\n",
       "      <td>2018-10-31</td>\n",
       "      <td>2</td>\n",
       "      <td>1.00</td>\n",
       "      <td>12</td>\n",
       "      <td>32.4</td>\n",
       "      <td>7</td>\n",
       "      <td>True</td>\n",
       "      <td>False</td>\n",
       "      <td>False</td>\n",
       "      <td>10.00</td>\n",
       "      <td>0</td>\n",
       "      <td>Санкт-Петербург</td>\n",
       "      <td>33053.0</td>\n",
       "      <td>14217.0</td>\n",
       "      <td>2</td>\n",
       "      <td>293.0</td>\n",
       "      <td>2</td>\n",
       "      <td>289.0</td>\n",
       "      <td>13.0</td>\n",
       "      <td>0.57098</td>\n",
       "      <td>0.175146</td>\n",
       "      <td></td>\n",
       "      <td>Санкт-Петербург</td>\n",
       "    </tr>\n",
       "  </tbody>\n",
       "</table>\n",
       "</div>"
      ],
      "text/plain": [
       "       total_images  last_price  total_area first_day_exposition  rooms  \\\n",
       "5712              5     1500000        42.8           2017-08-14      2   \n",
       "16934             5     4100000        40.0           2017-10-17      1   \n",
       "22590            16     6000000        55.0           2018-10-31      2   \n",
       "\n",
       "       ceiling_height  floors_total  living_area  floor  is_apartment  studio  \\\n",
       "5712             1.20             2         27.5      1          True   False   \n",
       "16934            1.75            37         17.4      5          True   False   \n",
       "22590            1.00            12         32.4      7          True   False   \n",
       "\n",
       "       open_plan  kitchen_area  balcony          locality_name  \\\n",
       "5712       False          5.20        0  городской поселок Мга   \n",
       "16934      False          8.34        0        Санкт-Петербург   \n",
       "22590      False         10.00        0        Санкт-Петербург   \n",
       "\n",
       "       airports_nearest  cityCenters_nearest  parks_around3000  parks_nearest  \\\n",
       "5712                NaN                  NaN                 0            NaN   \n",
       "16934           18732.0              20444.0                 0            NaN   \n",
       "22590           33053.0              14217.0                 2          293.0   \n",
       "\n",
       "       ponds_around3000  ponds_nearest  days_exposition  living_mean  \\\n",
       "5712                  0            NaN            248.0      0.57098   \n",
       "16934                 3           80.0             71.0      0.57098   \n",
       "22590                 2          289.0             13.0      0.57098   \n",
       "\n",
       "       kitchen_mean       locality_type locality_name_split  \n",
       "5712       0.175146  городской поселок                  Мга  \n",
       "16934      0.175146                         Санкт-Петербург  \n",
       "22590      0.175146                         Санкт-Петербург  "
      ]
     },
     "execution_count": 28,
     "metadata": {},
     "output_type": "execute_result"
    }
   ],
   "source": [
    "data[data['ceiling_height'] < 2]"
   ]
  },
  {
   "cell_type": "markdown",
   "metadata": {},
   "source": [
    "Поскольку низкий потолок встречается нечасто, а потеря данных незначительна, и нет возможности устранить эту ошибку логичным способом, мы удалим эти строки."
   ]
  },
  {
   "cell_type": "code",
   "execution_count": 29,
   "metadata": {},
   "outputs": [],
   "source": [
    "data = data[data['ceiling_height'] > 2]"
   ]
  },
  {
   "cell_type": "code",
   "execution_count": 30,
   "metadata": {},
   "outputs": [
    {
     "data": {
      "text/plain": [
       "count    23551.000000\n",
       "mean         2.719299\n",
       "std          0.274287\n",
       "min          2.200000\n",
       "25%          2.600000\n",
       "50%          2.700000\n",
       "75%          2.700000\n",
       "max         20.000000\n",
       "Name: ceiling_height, dtype: float64"
      ]
     },
     "execution_count": 30,
     "metadata": {},
     "output_type": "execute_result"
    }
   ],
   "source": [
    "data['ceiling_height'].describe()"
   ]
  },
  {
   "cell_type": "markdown",
   "metadata": {},
   "source": [
    "Рассмотрим данные о площади квартир."
   ]
  },
  {
   "cell_type": "code",
   "execution_count": 31,
   "metadata": {},
   "outputs": [
    {
     "data": {
      "text/plain": [
       "count    23551.000000\n",
       "mean        60.331121\n",
       "std         35.664202\n",
       "min         12.000000\n",
       "25%         40.000000\n",
       "50%         52.000000\n",
       "75%         69.700000\n",
       "max        900.000000\n",
       "Name: total_area, dtype: float64"
      ]
     },
     "execution_count": 31,
     "metadata": {},
     "output_type": "execute_result"
    }
   ],
   "source": [
    "data['total_area'].describe() "
   ]
  },
  {
   "cell_type": "code",
   "execution_count": 32,
   "metadata": {},
   "outputs": [
    {
     "data": {
      "text/html": [
       "<div>\n",
       "<style scoped>\n",
       "    .dataframe tbody tr th:only-of-type {\n",
       "        vertical-align: middle;\n",
       "    }\n",
       "\n",
       "    .dataframe tbody tr th {\n",
       "        vertical-align: top;\n",
       "    }\n",
       "\n",
       "    .dataframe thead th {\n",
       "        text-align: right;\n",
       "    }\n",
       "</style>\n",
       "<table border=\"1\" class=\"dataframe\">\n",
       "  <thead>\n",
       "    <tr style=\"text-align: right;\">\n",
       "      <th></th>\n",
       "      <th>total_images</th>\n",
       "      <th>last_price</th>\n",
       "      <th>total_area</th>\n",
       "      <th>first_day_exposition</th>\n",
       "      <th>rooms</th>\n",
       "      <th>ceiling_height</th>\n",
       "      <th>floors_total</th>\n",
       "      <th>living_area</th>\n",
       "      <th>floor</th>\n",
       "      <th>is_apartment</th>\n",
       "      <th>studio</th>\n",
       "      <th>open_plan</th>\n",
       "      <th>kitchen_area</th>\n",
       "      <th>balcony</th>\n",
       "      <th>locality_name</th>\n",
       "      <th>airports_nearest</th>\n",
       "      <th>cityCenters_nearest</th>\n",
       "      <th>parks_around3000</th>\n",
       "      <th>parks_nearest</th>\n",
       "      <th>ponds_around3000</th>\n",
       "      <th>ponds_nearest</th>\n",
       "      <th>days_exposition</th>\n",
       "      <th>living_mean</th>\n",
       "      <th>kitchen_mean</th>\n",
       "      <th>locality_type</th>\n",
       "      <th>locality_name_split</th>\n",
       "    </tr>\n",
       "  </thead>\n",
       "  <tbody>\n",
       "    <tr>\n",
       "      <th>3</th>\n",
       "      <td>0</td>\n",
       "      <td>64900000</td>\n",
       "      <td>159.0</td>\n",
       "      <td>2015-07-24</td>\n",
       "      <td>3</td>\n",
       "      <td>2.70</td>\n",
       "      <td>14</td>\n",
       "      <td>90.785766</td>\n",
       "      <td>9</td>\n",
       "      <td>True</td>\n",
       "      <td>False</td>\n",
       "      <td>False</td>\n",
       "      <td>27.848168</td>\n",
       "      <td>0</td>\n",
       "      <td>Санкт-Петербург</td>\n",
       "      <td>28098.0</td>\n",
       "      <td>6800.0</td>\n",
       "      <td>2</td>\n",
       "      <td>84.0</td>\n",
       "      <td>3</td>\n",
       "      <td>234.0</td>\n",
       "      <td>424.0</td>\n",
       "      <td>0.57098</td>\n",
       "      <td>0.175146</td>\n",
       "      <td></td>\n",
       "      <td>Санкт-Петербург</td>\n",
       "    </tr>\n",
       "    <tr>\n",
       "      <th>42</th>\n",
       "      <td>13</td>\n",
       "      <td>22000000</td>\n",
       "      <td>161.8</td>\n",
       "      <td>2015-07-08</td>\n",
       "      <td>4</td>\n",
       "      <td>2.80</td>\n",
       "      <td>4</td>\n",
       "      <td>80.900000</td>\n",
       "      <td>2</td>\n",
       "      <td>False</td>\n",
       "      <td>False</td>\n",
       "      <td>False</td>\n",
       "      <td>17.600000</td>\n",
       "      <td>5</td>\n",
       "      <td>Петергоф</td>\n",
       "      <td>35416.0</td>\n",
       "      <td>30605.0</td>\n",
       "      <td>2</td>\n",
       "      <td>47.0</td>\n",
       "      <td>1</td>\n",
       "      <td>907.0</td>\n",
       "      <td>987.0</td>\n",
       "      <td>0.57098</td>\n",
       "      <td>0.175146</td>\n",
       "      <td></td>\n",
       "      <td>Петергоф</td>\n",
       "    </tr>\n",
       "    <tr>\n",
       "      <th>51</th>\n",
       "      <td>7</td>\n",
       "      <td>45000000</td>\n",
       "      <td>161.0</td>\n",
       "      <td>2017-10-17</td>\n",
       "      <td>3</td>\n",
       "      <td>3.20</td>\n",
       "      <td>8</td>\n",
       "      <td>38.000000</td>\n",
       "      <td>4</td>\n",
       "      <td>True</td>\n",
       "      <td>False</td>\n",
       "      <td>False</td>\n",
       "      <td>50.000000</td>\n",
       "      <td>0</td>\n",
       "      <td>Санкт-Петербург</td>\n",
       "      <td>32537.0</td>\n",
       "      <td>6589.0</td>\n",
       "      <td>0</td>\n",
       "      <td>NaN</td>\n",
       "      <td>3</td>\n",
       "      <td>99.0</td>\n",
       "      <td>541.0</td>\n",
       "      <td>0.57098</td>\n",
       "      <td>0.175146</td>\n",
       "      <td></td>\n",
       "      <td>Санкт-Петербург</td>\n",
       "    </tr>\n",
       "    <tr>\n",
       "      <th>121</th>\n",
       "      <td>20</td>\n",
       "      <td>33000000</td>\n",
       "      <td>180.0</td>\n",
       "      <td>2017-02-17</td>\n",
       "      <td>3</td>\n",
       "      <td>2.90</td>\n",
       "      <td>9</td>\n",
       "      <td>86.000000</td>\n",
       "      <td>8</td>\n",
       "      <td>False</td>\n",
       "      <td>False</td>\n",
       "      <td>False</td>\n",
       "      <td>24.000000</td>\n",
       "      <td>4</td>\n",
       "      <td>Санкт-Петербург</td>\n",
       "      <td>25689.0</td>\n",
       "      <td>4264.0</td>\n",
       "      <td>1</td>\n",
       "      <td>633.0</td>\n",
       "      <td>0</td>\n",
       "      <td>NaN</td>\n",
       "      <td>144.0</td>\n",
       "      <td>0.57098</td>\n",
       "      <td>0.175146</td>\n",
       "      <td></td>\n",
       "      <td>Санкт-Петербург</td>\n",
       "    </tr>\n",
       "    <tr>\n",
       "      <th>147</th>\n",
       "      <td>10</td>\n",
       "      <td>27700000</td>\n",
       "      <td>179.6</td>\n",
       "      <td>2017-07-06</td>\n",
       "      <td>5</td>\n",
       "      <td>2.85</td>\n",
       "      <td>25</td>\n",
       "      <td>97.200000</td>\n",
       "      <td>25</td>\n",
       "      <td>True</td>\n",
       "      <td>False</td>\n",
       "      <td>False</td>\n",
       "      <td>33.800000</td>\n",
       "      <td>2</td>\n",
       "      <td>Санкт-Петербург</td>\n",
       "      <td>19424.0</td>\n",
       "      <td>4489.0</td>\n",
       "      <td>0</td>\n",
       "      <td>NaN</td>\n",
       "      <td>1</td>\n",
       "      <td>806.0</td>\n",
       "      <td>75.0</td>\n",
       "      <td>0.57098</td>\n",
       "      <td>0.175146</td>\n",
       "      <td></td>\n",
       "      <td>Санкт-Петербург</td>\n",
       "    </tr>\n",
       "    <tr>\n",
       "      <th>...</th>\n",
       "      <td>...</td>\n",
       "      <td>...</td>\n",
       "      <td>...</td>\n",
       "      <td>...</td>\n",
       "      <td>...</td>\n",
       "      <td>...</td>\n",
       "      <td>...</td>\n",
       "      <td>...</td>\n",
       "      <td>...</td>\n",
       "      <td>...</td>\n",
       "      <td>...</td>\n",
       "      <td>...</td>\n",
       "      <td>...</td>\n",
       "      <td>...</td>\n",
       "      <td>...</td>\n",
       "      <td>...</td>\n",
       "      <td>...</td>\n",
       "      <td>...</td>\n",
       "      <td>...</td>\n",
       "      <td>...</td>\n",
       "      <td>...</td>\n",
       "      <td>...</td>\n",
       "      <td>...</td>\n",
       "      <td>...</td>\n",
       "      <td>...</td>\n",
       "      <td>...</td>\n",
       "    </tr>\n",
       "    <tr>\n",
       "      <th>23400</th>\n",
       "      <td>17</td>\n",
       "      <td>30000000</td>\n",
       "      <td>213.0</td>\n",
       "      <td>2017-09-28</td>\n",
       "      <td>7</td>\n",
       "      <td>3.40</td>\n",
       "      <td>5</td>\n",
       "      <td>151.400000</td>\n",
       "      <td>5</td>\n",
       "      <td>True</td>\n",
       "      <td>False</td>\n",
       "      <td>False</td>\n",
       "      <td>30.800000</td>\n",
       "      <td>0</td>\n",
       "      <td>Санкт-Петербург</td>\n",
       "      <td>21146.0</td>\n",
       "      <td>1225.0</td>\n",
       "      <td>2</td>\n",
       "      <td>342.0</td>\n",
       "      <td>3</td>\n",
       "      <td>30.0</td>\n",
       "      <td>299.0</td>\n",
       "      <td>0.57098</td>\n",
       "      <td>0.175146</td>\n",
       "      <td></td>\n",
       "      <td>Санкт-Петербург</td>\n",
       "    </tr>\n",
       "    <tr>\n",
       "      <th>23448</th>\n",
       "      <td>3</td>\n",
       "      <td>14700000</td>\n",
       "      <td>180.0</td>\n",
       "      <td>2018-02-08</td>\n",
       "      <td>6</td>\n",
       "      <td>3.00</td>\n",
       "      <td>6</td>\n",
       "      <td>126.000000</td>\n",
       "      <td>5</td>\n",
       "      <td>True</td>\n",
       "      <td>False</td>\n",
       "      <td>False</td>\n",
       "      <td>20.000000</td>\n",
       "      <td>0</td>\n",
       "      <td>Санкт-Петербург</td>\n",
       "      <td>23955.0</td>\n",
       "      <td>5089.0</td>\n",
       "      <td>0</td>\n",
       "      <td>NaN</td>\n",
       "      <td>2</td>\n",
       "      <td>616.0</td>\n",
       "      <td>NaN</td>\n",
       "      <td>0.57098</td>\n",
       "      <td>0.175146</td>\n",
       "      <td></td>\n",
       "      <td>Санкт-Петербург</td>\n",
       "    </tr>\n",
       "    <tr>\n",
       "      <th>23491</th>\n",
       "      <td>20</td>\n",
       "      <td>21800000</td>\n",
       "      <td>250.0</td>\n",
       "      <td>2017-09-16</td>\n",
       "      <td>3</td>\n",
       "      <td>2.70</td>\n",
       "      <td>12</td>\n",
       "      <td>104.000000</td>\n",
       "      <td>7</td>\n",
       "      <td>True</td>\n",
       "      <td>False</td>\n",
       "      <td>False</td>\n",
       "      <td>45.000000</td>\n",
       "      <td>0</td>\n",
       "      <td>Санкт-Петербург</td>\n",
       "      <td>43558.0</td>\n",
       "      <td>13138.0</td>\n",
       "      <td>0</td>\n",
       "      <td>NaN</td>\n",
       "      <td>0</td>\n",
       "      <td>NaN</td>\n",
       "      <td>49.0</td>\n",
       "      <td>0.57098</td>\n",
       "      <td>0.175146</td>\n",
       "      <td></td>\n",
       "      <td>Санкт-Петербург</td>\n",
       "    </tr>\n",
       "    <tr>\n",
       "      <th>23549</th>\n",
       "      <td>5</td>\n",
       "      <td>19600000</td>\n",
       "      <td>184.0</td>\n",
       "      <td>2016-04-21</td>\n",
       "      <td>3</td>\n",
       "      <td>3.00</td>\n",
       "      <td>19</td>\n",
       "      <td>55.700000</td>\n",
       "      <td>19</td>\n",
       "      <td>False</td>\n",
       "      <td>False</td>\n",
       "      <td>False</td>\n",
       "      <td>24.500000</td>\n",
       "      <td>5</td>\n",
       "      <td>Санкт-Петербург</td>\n",
       "      <td>18995.0</td>\n",
       "      <td>4837.0</td>\n",
       "      <td>0</td>\n",
       "      <td>NaN</td>\n",
       "      <td>0</td>\n",
       "      <td>NaN</td>\n",
       "      <td>205.0</td>\n",
       "      <td>0.57098</td>\n",
       "      <td>0.175146</td>\n",
       "      <td></td>\n",
       "      <td>Санкт-Петербург</td>\n",
       "    </tr>\n",
       "    <tr>\n",
       "      <th>23555</th>\n",
       "      <td>5</td>\n",
       "      <td>15350000</td>\n",
       "      <td>158.5</td>\n",
       "      <td>2019-03-07</td>\n",
       "      <td>7</td>\n",
       "      <td>2.95</td>\n",
       "      <td>7</td>\n",
       "      <td>57.400000</td>\n",
       "      <td>7</td>\n",
       "      <td>True</td>\n",
       "      <td>False</td>\n",
       "      <td>False</td>\n",
       "      <td>12.400000</td>\n",
       "      <td>1</td>\n",
       "      <td>Санкт-Петербург</td>\n",
       "      <td>23546.0</td>\n",
       "      <td>3088.0</td>\n",
       "      <td>1</td>\n",
       "      <td>347.0</td>\n",
       "      <td>0</td>\n",
       "      <td>NaN</td>\n",
       "      <td>NaN</td>\n",
       "      <td>0.57098</td>\n",
       "      <td>0.175146</td>\n",
       "      <td></td>\n",
       "      <td>Санкт-Петербург</td>\n",
       "    </tr>\n",
       "  </tbody>\n",
       "</table>\n",
       "<p>561 rows × 26 columns</p>\n",
       "</div>"
      ],
      "text/plain": [
       "       total_images  last_price  total_area first_day_exposition  rooms  \\\n",
       "3                 0    64900000       159.0           2015-07-24      3   \n",
       "42               13    22000000       161.8           2015-07-08      4   \n",
       "51                7    45000000       161.0           2017-10-17      3   \n",
       "121              20    33000000       180.0           2017-02-17      3   \n",
       "147              10    27700000       179.6           2017-07-06      5   \n",
       "...             ...         ...         ...                  ...    ...   \n",
       "23400            17    30000000       213.0           2017-09-28      7   \n",
       "23448             3    14700000       180.0           2018-02-08      6   \n",
       "23491            20    21800000       250.0           2017-09-16      3   \n",
       "23549             5    19600000       184.0           2016-04-21      3   \n",
       "23555             5    15350000       158.5           2019-03-07      7   \n",
       "\n",
       "       ceiling_height  floors_total  living_area  floor  is_apartment  studio  \\\n",
       "3                2.70            14    90.785766      9          True   False   \n",
       "42               2.80             4    80.900000      2         False   False   \n",
       "51               3.20             8    38.000000      4          True   False   \n",
       "121              2.90             9    86.000000      8         False   False   \n",
       "147              2.85            25    97.200000     25          True   False   \n",
       "...               ...           ...          ...    ...           ...     ...   \n",
       "23400            3.40             5   151.400000      5          True   False   \n",
       "23448            3.00             6   126.000000      5          True   False   \n",
       "23491            2.70            12   104.000000      7          True   False   \n",
       "23549            3.00            19    55.700000     19         False   False   \n",
       "23555            2.95             7    57.400000      7          True   False   \n",
       "\n",
       "       open_plan  kitchen_area  balcony    locality_name  airports_nearest  \\\n",
       "3          False     27.848168        0  Санкт-Петербург           28098.0   \n",
       "42         False     17.600000        5         Петергоф           35416.0   \n",
       "51         False     50.000000        0  Санкт-Петербург           32537.0   \n",
       "121        False     24.000000        4  Санкт-Петербург           25689.0   \n",
       "147        False     33.800000        2  Санкт-Петербург           19424.0   \n",
       "...          ...           ...      ...              ...               ...   \n",
       "23400      False     30.800000        0  Санкт-Петербург           21146.0   \n",
       "23448      False     20.000000        0  Санкт-Петербург           23955.0   \n",
       "23491      False     45.000000        0  Санкт-Петербург           43558.0   \n",
       "23549      False     24.500000        5  Санкт-Петербург           18995.0   \n",
       "23555      False     12.400000        1  Санкт-Петербург           23546.0   \n",
       "\n",
       "       cityCenters_nearest  parks_around3000  parks_nearest  ponds_around3000  \\\n",
       "3                   6800.0                 2           84.0                 3   \n",
       "42                 30605.0                 2           47.0                 1   \n",
       "51                  6589.0                 0            NaN                 3   \n",
       "121                 4264.0                 1          633.0                 0   \n",
       "147                 4489.0                 0            NaN                 1   \n",
       "...                    ...               ...            ...               ...   \n",
       "23400               1225.0                 2          342.0                 3   \n",
       "23448               5089.0                 0            NaN                 2   \n",
       "23491              13138.0                 0            NaN                 0   \n",
       "23549               4837.0                 0            NaN                 0   \n",
       "23555               3088.0                 1          347.0                 0   \n",
       "\n",
       "       ponds_nearest  days_exposition  living_mean  kitchen_mean  \\\n",
       "3              234.0            424.0      0.57098      0.175146   \n",
       "42             907.0            987.0      0.57098      0.175146   \n",
       "51              99.0            541.0      0.57098      0.175146   \n",
       "121              NaN            144.0      0.57098      0.175146   \n",
       "147            806.0             75.0      0.57098      0.175146   \n",
       "...              ...              ...          ...           ...   \n",
       "23400           30.0            299.0      0.57098      0.175146   \n",
       "23448          616.0              NaN      0.57098      0.175146   \n",
       "23491            NaN             49.0      0.57098      0.175146   \n",
       "23549            NaN            205.0      0.57098      0.175146   \n",
       "23555            NaN              NaN      0.57098      0.175146   \n",
       "\n",
       "      locality_type locality_name_split  \n",
       "3                       Санкт-Петербург  \n",
       "42                             Петергоф  \n",
       "51                      Санкт-Петербург  \n",
       "121                     Санкт-Петербург  \n",
       "147                     Санкт-Петербург  \n",
       "...             ...                 ...  \n",
       "23400                   Санкт-Петербург  \n",
       "23448                   Санкт-Петербург  \n",
       "23491                   Санкт-Петербург  \n",
       "23549                   Санкт-Петербург  \n",
       "23555                   Санкт-Петербург  \n",
       "\n",
       "[561 rows x 26 columns]"
      ]
     },
     "execution_count": 32,
     "metadata": {},
     "output_type": "execute_result"
    }
   ],
   "source": [
    "data[data['total_area'] > 150]"
   ]
  },
  {
   "cell_type": "markdown",
   "metadata": {},
   "source": [
    "Некоторые данные сильно выделяются на общем фоне. Это означает, что площадь некоторых квартир значительно отличается от остальных. Такие квартиры не являются стандартными, и они не подходят для анализа типичной недвижимости.\n",
    "\n",
    "Если мы будем учитывать квартиры с большой площадью при анализе типичной недвижимости, это может исказить наши выводы. Поэтому будет правильно исключить эти незначительные данные о недвижимости (менее 2.5 %) из рассмотрения."
   ]
  },
  {
   "cell_type": "code",
   "execution_count": 33,
   "metadata": {},
   "outputs": [
    {
     "data": {
      "text/plain": [
       "count    22972.000000\n",
       "mean        56.456470\n",
       "std         22.793806\n",
       "min         12.000000\n",
       "25%         40.000000\n",
       "50%         51.000000\n",
       "75%         67.600000\n",
       "max        149.600000\n",
       "Name: total_area, dtype: float64"
      ]
     },
     "execution_count": 33,
     "metadata": {},
     "output_type": "execute_result"
    }
   ],
   "source": [
    "data = data[data['total_area'] < 150]\n",
    "data['total_area'].describe() "
   ]
  },
  {
   "cell_type": "markdown",
   "metadata": {},
   "source": [
    "При предобработке данных:\n",
    "* были обнаружены пропуски, и там, где это было возможно, значения были заполнены;\n",
    "* были рассмотрены типы данных в каждом столбце, и выявлены столбцы, в которых тип данных требовалось изменить;\n",
    "* были устранены неявные дубликаты в столбце с названиями населённых пунктов, для чего был создан новый столбец «locality_name_split»;\n",
    "* были обработаны редкие и необычные значения (аномалии)."
   ]
  },
  {
   "cell_type": "markdown",
   "metadata": {
    "id": "QCcvyY6YAwb-"
   },
   "source": [
    "### Добавление в таблицу новых столбцов"
   ]
  },
  {
   "cell_type": "markdown",
   "metadata": {
    "id": "Z8eJek3IAwb-"
   },
   "source": [
    "Добавим в таблицу столбцы. Начнем с параметра \"цена одного квадратного метра\"."
   ]
  },
  {
   "cell_type": "code",
   "execution_count": 34,
   "metadata": {},
   "outputs": [
    {
     "data": {
      "text/plain": [
       "0    120370.37\n",
       "1     82920.79\n",
       "2     92785.71\n",
       "4    100000.00\n",
       "5     95065.79\n",
       "Name: price_meter, dtype: float64"
      ]
     },
     "execution_count": 34,
     "metadata": {},
     "output_type": "execute_result"
    }
   ],
   "source": [
    "data['price_meter'] = round(data['last_price'] / data['total_area'], 2)\n",
    "data['price_meter'].head()"
   ]
  },
  {
   "cell_type": "markdown",
   "metadata": {},
   "source": [
    "Определим день недели, когда было опубликовано объявление о продаже квартиры, с помощью функции dt.weekday. Создадим столбец «weekday», в котором понедельник будет иметь номер 0, а воскресенье — номер 6. "
   ]
  },
  {
   "cell_type": "code",
   "execution_count": 35,
   "metadata": {},
   "outputs": [
    {
     "data": {
      "text/plain": [
       "0     3\n",
       "1     1\n",
       "2     3\n",
       "4     1\n",
       "5     0\n",
       "6     3\n",
       "7     3\n",
       "8     2\n",
       "9     6\n",
       "10    3\n",
       "Name: weekday, dtype: int64"
      ]
     },
     "execution_count": 35,
     "metadata": {},
     "output_type": "execute_result"
    }
   ],
   "source": [
    "data['weekday'] = data['first_day_exposition'].dt.weekday\n",
    "data['weekday'].head(10) # проверим"
   ]
  },
  {
   "cell_type": "markdown",
   "metadata": {},
   "source": [
    "Определим месяц, когда было опубликовано объявление о продаже квартиры."
   ]
  },
  {
   "cell_type": "code",
   "execution_count": 36,
   "metadata": {},
   "outputs": [
    {
     "data": {
      "text/plain": [
       "0      3\n",
       "1     12\n",
       "2      8\n",
       "4      6\n",
       "5      9\n",
       "6     11\n",
       "7      4\n",
       "8      5\n",
       "9      2\n",
       "10    11\n",
       "Name: month_exposition, dtype: int64"
      ]
     },
     "execution_count": 36,
     "metadata": {},
     "output_type": "execute_result"
    }
   ],
   "source": [
    "data['month_exposition'] = data['first_day_exposition'].dt.month\n",
    "data['month_exposition'].head(10)"
   ]
  },
  {
   "cell_type": "markdown",
   "metadata": {},
   "source": [
    "Определим год, когда было опубликовано объявление о продаже квартиры."
   ]
  },
  {
   "cell_type": "code",
   "execution_count": 37,
   "metadata": {},
   "outputs": [
    {
     "data": {
      "text/plain": [
       "0     2019\n",
       "1     2018\n",
       "2     2015\n",
       "4     2018\n",
       "5     2018\n",
       "6     2017\n",
       "7     2019\n",
       "8     2018\n",
       "9     2017\n",
       "10    2017\n",
       "Name: year_exposition, dtype: int64"
      ]
     },
     "execution_count": 37,
     "metadata": {},
     "output_type": "execute_result"
    }
   ],
   "source": [
    "data['year_exposition'] = data['first_day_exposition'].dt.year\n",
    "data['year_exposition'].head(10)"
   ]
  },
  {
   "cell_type": "markdown",
   "metadata": {},
   "source": [
    "Создадим столбец, в котором укажем тип этажа квартиры. Значения: «первый», «последний», «другой»."
   ]
  },
  {
   "cell_type": "code",
   "execution_count": 38,
   "metadata": {},
   "outputs": [
    {
     "data": {
      "text/plain": [
       "0    другой\n",
       "1    первый\n",
       "2    другой\n",
       "4    другой\n",
       "5    другой\n",
       "Name: floor_type, dtype: object"
      ]
     },
     "execution_count": 38,
     "metadata": {},
     "output_type": "execute_result"
    }
   ],
   "source": [
    "def floor_type(floor):\n",
    "    if floor ['floor'] ==1:\n",
    "        return 'первый'\n",
    "    if floor ['floor'] == floor['floors_total']:\n",
    "        return 'последний'\n",
    "    return 'другой'\n",
    "\n",
    "data['floor_type'] = data.apply(floor_type, axis=1)\n",
    "data['floor_type'].head()"
   ]
  },
  {
   "cell_type": "markdown",
   "metadata": {},
   "source": [
    "Рассчитаем расстояние до центра города в километрах и создадим столбец «РcityCenters_km»."
   ]
  },
  {
   "cell_type": "code",
   "execution_count": 39,
   "metadata": {},
   "outputs": [
    {
     "data": {
      "text/plain": [
       "0    16.0\n",
       "1    19.0\n",
       "2    14.0\n",
       "4     8.0\n",
       "5     NaN\n",
       "Name: cityCenters_km, dtype: float64"
      ]
     },
     "execution_count": 39,
     "metadata": {},
     "output_type": "execute_result"
    }
   ],
   "source": [
    "data['cityCenters_km'] = round(data['cityCenters_nearest']/1000)\n",
    "data['cityCenters_km'].head()"
   ]
  },
  {
   "cell_type": "markdown",
   "metadata": {},
   "source": [
    "В третьем пункте были созданы столбцы со следующими данными:\n",
    "* цена одного квадратного метра;\n",
    "* день недели, месяц и год размещения объявления о продаже недвижимости;\n",
    "* тип этажа квартиры;\n",
    "* расстояние до центра города в километрах."
   ]
  },
  {
   "cell_type": "markdown",
   "metadata": {
    "id": "pPyxrKWTAwb-"
   },
   "source": [
    "### Исследовательский анализ данных"
   ]
  },
  {
   "cell_type": "code",
   "execution_count": 40,
   "metadata": {},
   "outputs": [
    {
     "data": {
      "text/html": [
       "<div>\n",
       "<style scoped>\n",
       "    .dataframe tbody tr th:only-of-type {\n",
       "        vertical-align: middle;\n",
       "    }\n",
       "\n",
       "    .dataframe tbody tr th {\n",
       "        vertical-align: top;\n",
       "    }\n",
       "\n",
       "    .dataframe thead th {\n",
       "        text-align: right;\n",
       "    }\n",
       "</style>\n",
       "<table border=\"1\" class=\"dataframe\">\n",
       "  <thead>\n",
       "    <tr style=\"text-align: right;\">\n",
       "      <th></th>\n",
       "      <th>total_images</th>\n",
       "      <th>last_price</th>\n",
       "      <th>total_area</th>\n",
       "      <th>first_day_exposition</th>\n",
       "      <th>rooms</th>\n",
       "      <th>ceiling_height</th>\n",
       "      <th>floors_total</th>\n",
       "      <th>living_area</th>\n",
       "      <th>floor</th>\n",
       "      <th>is_apartment</th>\n",
       "      <th>studio</th>\n",
       "      <th>open_plan</th>\n",
       "      <th>kitchen_area</th>\n",
       "      <th>balcony</th>\n",
       "      <th>locality_name</th>\n",
       "      <th>airports_nearest</th>\n",
       "      <th>cityCenters_nearest</th>\n",
       "      <th>parks_around3000</th>\n",
       "      <th>parks_nearest</th>\n",
       "      <th>ponds_around3000</th>\n",
       "      <th>ponds_nearest</th>\n",
       "      <th>days_exposition</th>\n",
       "      <th>living_mean</th>\n",
       "      <th>kitchen_mean</th>\n",
       "      <th>locality_type</th>\n",
       "      <th>locality_name_split</th>\n",
       "      <th>price_meter</th>\n",
       "      <th>weekday</th>\n",
       "      <th>month_exposition</th>\n",
       "      <th>year_exposition</th>\n",
       "      <th>floor_type</th>\n",
       "      <th>cityCenters_km</th>\n",
       "    </tr>\n",
       "  </thead>\n",
       "  <tbody>\n",
       "    <tr>\n",
       "      <th>0</th>\n",
       "      <td>20</td>\n",
       "      <td>13000000</td>\n",
       "      <td>108.00</td>\n",
       "      <td>2019-03-07</td>\n",
       "      <td>3</td>\n",
       "      <td>2.70</td>\n",
       "      <td>16</td>\n",
       "      <td>51.000000</td>\n",
       "      <td>8</td>\n",
       "      <td>True</td>\n",
       "      <td>False</td>\n",
       "      <td>False</td>\n",
       "      <td>25.000000</td>\n",
       "      <td>0</td>\n",
       "      <td>Санкт-Петербург</td>\n",
       "      <td>18863.0</td>\n",
       "      <td>16028.0</td>\n",
       "      <td>1</td>\n",
       "      <td>482.0</td>\n",
       "      <td>2</td>\n",
       "      <td>755.0</td>\n",
       "      <td>NaN</td>\n",
       "      <td>0.57098</td>\n",
       "      <td>0.175146</td>\n",
       "      <td></td>\n",
       "      <td>Санкт-Петербург</td>\n",
       "      <td>120370.37</td>\n",
       "      <td>3</td>\n",
       "      <td>3</td>\n",
       "      <td>2019</td>\n",
       "      <td>другой</td>\n",
       "      <td>16.0</td>\n",
       "    </tr>\n",
       "    <tr>\n",
       "      <th>1</th>\n",
       "      <td>7</td>\n",
       "      <td>3350000</td>\n",
       "      <td>40.40</td>\n",
       "      <td>2018-12-04</td>\n",
       "      <td>1</td>\n",
       "      <td>2.70</td>\n",
       "      <td>11</td>\n",
       "      <td>18.600000</td>\n",
       "      <td>1</td>\n",
       "      <td>True</td>\n",
       "      <td>False</td>\n",
       "      <td>False</td>\n",
       "      <td>11.000000</td>\n",
       "      <td>2</td>\n",
       "      <td>поселок Шушары</td>\n",
       "      <td>12817.0</td>\n",
       "      <td>18603.0</td>\n",
       "      <td>0</td>\n",
       "      <td>NaN</td>\n",
       "      <td>0</td>\n",
       "      <td>NaN</td>\n",
       "      <td>81.0</td>\n",
       "      <td>0.57098</td>\n",
       "      <td>0.175146</td>\n",
       "      <td>поселок</td>\n",
       "      <td>Шушары</td>\n",
       "      <td>82920.79</td>\n",
       "      <td>1</td>\n",
       "      <td>12</td>\n",
       "      <td>2018</td>\n",
       "      <td>первый</td>\n",
       "      <td>19.0</td>\n",
       "    </tr>\n",
       "    <tr>\n",
       "      <th>2</th>\n",
       "      <td>10</td>\n",
       "      <td>5196000</td>\n",
       "      <td>56.00</td>\n",
       "      <td>2015-08-20</td>\n",
       "      <td>2</td>\n",
       "      <td>2.70</td>\n",
       "      <td>5</td>\n",
       "      <td>34.300000</td>\n",
       "      <td>4</td>\n",
       "      <td>True</td>\n",
       "      <td>False</td>\n",
       "      <td>False</td>\n",
       "      <td>8.300000</td>\n",
       "      <td>0</td>\n",
       "      <td>Санкт-Петербург</td>\n",
       "      <td>21741.0</td>\n",
       "      <td>13933.0</td>\n",
       "      <td>1</td>\n",
       "      <td>90.0</td>\n",
       "      <td>2</td>\n",
       "      <td>574.0</td>\n",
       "      <td>558.0</td>\n",
       "      <td>0.57098</td>\n",
       "      <td>0.175146</td>\n",
       "      <td></td>\n",
       "      <td>Санкт-Петербург</td>\n",
       "      <td>92785.71</td>\n",
       "      <td>3</td>\n",
       "      <td>8</td>\n",
       "      <td>2015</td>\n",
       "      <td>другой</td>\n",
       "      <td>14.0</td>\n",
       "    </tr>\n",
       "    <tr>\n",
       "      <th>4</th>\n",
       "      <td>2</td>\n",
       "      <td>10000000</td>\n",
       "      <td>100.00</td>\n",
       "      <td>2018-06-19</td>\n",
       "      <td>2</td>\n",
       "      <td>3.03</td>\n",
       "      <td>14</td>\n",
       "      <td>32.000000</td>\n",
       "      <td>13</td>\n",
       "      <td>True</td>\n",
       "      <td>False</td>\n",
       "      <td>False</td>\n",
       "      <td>41.000000</td>\n",
       "      <td>0</td>\n",
       "      <td>Санкт-Петербург</td>\n",
       "      <td>31856.0</td>\n",
       "      <td>8098.0</td>\n",
       "      <td>2</td>\n",
       "      <td>112.0</td>\n",
       "      <td>1</td>\n",
       "      <td>48.0</td>\n",
       "      <td>121.0</td>\n",
       "      <td>0.57098</td>\n",
       "      <td>0.175146</td>\n",
       "      <td></td>\n",
       "      <td>Санкт-Петербург</td>\n",
       "      <td>100000.00</td>\n",
       "      <td>1</td>\n",
       "      <td>6</td>\n",
       "      <td>2018</td>\n",
       "      <td>другой</td>\n",
       "      <td>8.0</td>\n",
       "    </tr>\n",
       "    <tr>\n",
       "      <th>5</th>\n",
       "      <td>10</td>\n",
       "      <td>2890000</td>\n",
       "      <td>30.40</td>\n",
       "      <td>2018-09-10</td>\n",
       "      <td>1</td>\n",
       "      <td>2.70</td>\n",
       "      <td>12</td>\n",
       "      <td>14.400000</td>\n",
       "      <td>5</td>\n",
       "      <td>True</td>\n",
       "      <td>False</td>\n",
       "      <td>False</td>\n",
       "      <td>9.100000</td>\n",
       "      <td>0</td>\n",
       "      <td>городской поселок Янино-1</td>\n",
       "      <td>NaN</td>\n",
       "      <td>NaN</td>\n",
       "      <td>0</td>\n",
       "      <td>NaN</td>\n",
       "      <td>0</td>\n",
       "      <td>NaN</td>\n",
       "      <td>55.0</td>\n",
       "      <td>0.57098</td>\n",
       "      <td>0.175146</td>\n",
       "      <td>городской поселок</td>\n",
       "      <td>Янино-1</td>\n",
       "      <td>95065.79</td>\n",
       "      <td>0</td>\n",
       "      <td>9</td>\n",
       "      <td>2018</td>\n",
       "      <td>другой</td>\n",
       "      <td>NaN</td>\n",
       "    </tr>\n",
       "    <tr>\n",
       "      <th>6</th>\n",
       "      <td>6</td>\n",
       "      <td>3700000</td>\n",
       "      <td>37.30</td>\n",
       "      <td>2017-11-02</td>\n",
       "      <td>1</td>\n",
       "      <td>2.70</td>\n",
       "      <td>26</td>\n",
       "      <td>10.600000</td>\n",
       "      <td>6</td>\n",
       "      <td>True</td>\n",
       "      <td>False</td>\n",
       "      <td>False</td>\n",
       "      <td>14.400000</td>\n",
       "      <td>1</td>\n",
       "      <td>поселок Парголово</td>\n",
       "      <td>52996.0</td>\n",
       "      <td>19143.0</td>\n",
       "      <td>0</td>\n",
       "      <td>NaN</td>\n",
       "      <td>0</td>\n",
       "      <td>NaN</td>\n",
       "      <td>155.0</td>\n",
       "      <td>0.57098</td>\n",
       "      <td>0.175146</td>\n",
       "      <td>поселок</td>\n",
       "      <td>Парголово</td>\n",
       "      <td>99195.71</td>\n",
       "      <td>3</td>\n",
       "      <td>11</td>\n",
       "      <td>2017</td>\n",
       "      <td>другой</td>\n",
       "      <td>19.0</td>\n",
       "    </tr>\n",
       "    <tr>\n",
       "      <th>7</th>\n",
       "      <td>5</td>\n",
       "      <td>7915000</td>\n",
       "      <td>71.60</td>\n",
       "      <td>2019-04-18</td>\n",
       "      <td>2</td>\n",
       "      <td>2.70</td>\n",
       "      <td>24</td>\n",
       "      <td>40.882144</td>\n",
       "      <td>22</td>\n",
       "      <td>True</td>\n",
       "      <td>False</td>\n",
       "      <td>False</td>\n",
       "      <td>12.540433</td>\n",
       "      <td>2</td>\n",
       "      <td>Санкт-Петербург</td>\n",
       "      <td>23982.0</td>\n",
       "      <td>11634.0</td>\n",
       "      <td>0</td>\n",
       "      <td>NaN</td>\n",
       "      <td>0</td>\n",
       "      <td>NaN</td>\n",
       "      <td>NaN</td>\n",
       "      <td>0.57098</td>\n",
       "      <td>0.175146</td>\n",
       "      <td></td>\n",
       "      <td>Санкт-Петербург</td>\n",
       "      <td>110544.69</td>\n",
       "      <td>3</td>\n",
       "      <td>4</td>\n",
       "      <td>2019</td>\n",
       "      <td>другой</td>\n",
       "      <td>12.0</td>\n",
       "    </tr>\n",
       "    <tr>\n",
       "      <th>8</th>\n",
       "      <td>20</td>\n",
       "      <td>2900000</td>\n",
       "      <td>33.16</td>\n",
       "      <td>2018-05-23</td>\n",
       "      <td>1</td>\n",
       "      <td>2.70</td>\n",
       "      <td>27</td>\n",
       "      <td>15.430000</td>\n",
       "      <td>26</td>\n",
       "      <td>True</td>\n",
       "      <td>False</td>\n",
       "      <td>False</td>\n",
       "      <td>8.810000</td>\n",
       "      <td>0</td>\n",
       "      <td>поселок Мурино</td>\n",
       "      <td>NaN</td>\n",
       "      <td>NaN</td>\n",
       "      <td>0</td>\n",
       "      <td>NaN</td>\n",
       "      <td>0</td>\n",
       "      <td>NaN</td>\n",
       "      <td>189.0</td>\n",
       "      <td>0.57098</td>\n",
       "      <td>0.175146</td>\n",
       "      <td>поселок</td>\n",
       "      <td>Мурино</td>\n",
       "      <td>87454.76</td>\n",
       "      <td>2</td>\n",
       "      <td>5</td>\n",
       "      <td>2018</td>\n",
       "      <td>другой</td>\n",
       "      <td>NaN</td>\n",
       "    </tr>\n",
       "    <tr>\n",
       "      <th>9</th>\n",
       "      <td>18</td>\n",
       "      <td>5400000</td>\n",
       "      <td>61.00</td>\n",
       "      <td>2017-02-26</td>\n",
       "      <td>3</td>\n",
       "      <td>2.50</td>\n",
       "      <td>9</td>\n",
       "      <td>43.600000</td>\n",
       "      <td>7</td>\n",
       "      <td>True</td>\n",
       "      <td>False</td>\n",
       "      <td>False</td>\n",
       "      <td>6.500000</td>\n",
       "      <td>2</td>\n",
       "      <td>Санкт-Петербург</td>\n",
       "      <td>50898.0</td>\n",
       "      <td>15008.0</td>\n",
       "      <td>0</td>\n",
       "      <td>NaN</td>\n",
       "      <td>0</td>\n",
       "      <td>NaN</td>\n",
       "      <td>289.0</td>\n",
       "      <td>0.57098</td>\n",
       "      <td>0.175146</td>\n",
       "      <td></td>\n",
       "      <td>Санкт-Петербург</td>\n",
       "      <td>88524.59</td>\n",
       "      <td>6</td>\n",
       "      <td>2</td>\n",
       "      <td>2017</td>\n",
       "      <td>другой</td>\n",
       "      <td>15.0</td>\n",
       "    </tr>\n",
       "    <tr>\n",
       "      <th>10</th>\n",
       "      <td>5</td>\n",
       "      <td>5050000</td>\n",
       "      <td>39.60</td>\n",
       "      <td>2017-11-16</td>\n",
       "      <td>1</td>\n",
       "      <td>2.67</td>\n",
       "      <td>12</td>\n",
       "      <td>20.300000</td>\n",
       "      <td>3</td>\n",
       "      <td>True</td>\n",
       "      <td>False</td>\n",
       "      <td>False</td>\n",
       "      <td>8.500000</td>\n",
       "      <td>0</td>\n",
       "      <td>Санкт-Петербург</td>\n",
       "      <td>38357.0</td>\n",
       "      <td>13878.0</td>\n",
       "      <td>1</td>\n",
       "      <td>310.0</td>\n",
       "      <td>2</td>\n",
       "      <td>553.0</td>\n",
       "      <td>137.0</td>\n",
       "      <td>0.57098</td>\n",
       "      <td>0.175146</td>\n",
       "      <td></td>\n",
       "      <td>Санкт-Петербург</td>\n",
       "      <td>127525.25</td>\n",
       "      <td>3</td>\n",
       "      <td>11</td>\n",
       "      <td>2017</td>\n",
       "      <td>другой</td>\n",
       "      <td>14.0</td>\n",
       "    </tr>\n",
       "  </tbody>\n",
       "</table>\n",
       "</div>"
      ],
      "text/plain": [
       "    total_images  last_price  total_area first_day_exposition  rooms  \\\n",
       "0             20    13000000      108.00           2019-03-07      3   \n",
       "1              7     3350000       40.40           2018-12-04      1   \n",
       "2             10     5196000       56.00           2015-08-20      2   \n",
       "4              2    10000000      100.00           2018-06-19      2   \n",
       "5             10     2890000       30.40           2018-09-10      1   \n",
       "6              6     3700000       37.30           2017-11-02      1   \n",
       "7              5     7915000       71.60           2019-04-18      2   \n",
       "8             20     2900000       33.16           2018-05-23      1   \n",
       "9             18     5400000       61.00           2017-02-26      3   \n",
       "10             5     5050000       39.60           2017-11-16      1   \n",
       "\n",
       "    ceiling_height  floors_total  living_area  floor  is_apartment  studio  \\\n",
       "0             2.70            16    51.000000      8          True   False   \n",
       "1             2.70            11    18.600000      1          True   False   \n",
       "2             2.70             5    34.300000      4          True   False   \n",
       "4             3.03            14    32.000000     13          True   False   \n",
       "5             2.70            12    14.400000      5          True   False   \n",
       "6             2.70            26    10.600000      6          True   False   \n",
       "7             2.70            24    40.882144     22          True   False   \n",
       "8             2.70            27    15.430000     26          True   False   \n",
       "9             2.50             9    43.600000      7          True   False   \n",
       "10            2.67            12    20.300000      3          True   False   \n",
       "\n",
       "    open_plan  kitchen_area  balcony              locality_name  \\\n",
       "0       False     25.000000        0            Санкт-Петербург   \n",
       "1       False     11.000000        2             поселок Шушары   \n",
       "2       False      8.300000        0            Санкт-Петербург   \n",
       "4       False     41.000000        0            Санкт-Петербург   \n",
       "5       False      9.100000        0  городской поселок Янино-1   \n",
       "6       False     14.400000        1          поселок Парголово   \n",
       "7       False     12.540433        2            Санкт-Петербург   \n",
       "8       False      8.810000        0             поселок Мурино   \n",
       "9       False      6.500000        2            Санкт-Петербург   \n",
       "10      False      8.500000        0            Санкт-Петербург   \n",
       "\n",
       "    airports_nearest  cityCenters_nearest  parks_around3000  parks_nearest  \\\n",
       "0            18863.0              16028.0                 1          482.0   \n",
       "1            12817.0              18603.0                 0            NaN   \n",
       "2            21741.0              13933.0                 1           90.0   \n",
       "4            31856.0               8098.0                 2          112.0   \n",
       "5                NaN                  NaN                 0            NaN   \n",
       "6            52996.0              19143.0                 0            NaN   \n",
       "7            23982.0              11634.0                 0            NaN   \n",
       "8                NaN                  NaN                 0            NaN   \n",
       "9            50898.0              15008.0                 0            NaN   \n",
       "10           38357.0              13878.0                 1          310.0   \n",
       "\n",
       "    ponds_around3000  ponds_nearest  days_exposition  living_mean  \\\n",
       "0                  2          755.0              NaN      0.57098   \n",
       "1                  0            NaN             81.0      0.57098   \n",
       "2                  2          574.0            558.0      0.57098   \n",
       "4                  1           48.0            121.0      0.57098   \n",
       "5                  0            NaN             55.0      0.57098   \n",
       "6                  0            NaN            155.0      0.57098   \n",
       "7                  0            NaN              NaN      0.57098   \n",
       "8                  0            NaN            189.0      0.57098   \n",
       "9                  0            NaN            289.0      0.57098   \n",
       "10                 2          553.0            137.0      0.57098   \n",
       "\n",
       "    kitchen_mean       locality_type locality_name_split  price_meter  \\\n",
       "0       0.175146                         Санкт-Петербург    120370.37   \n",
       "1       0.175146            поселок               Шушары     82920.79   \n",
       "2       0.175146                         Санкт-Петербург     92785.71   \n",
       "4       0.175146                         Санкт-Петербург    100000.00   \n",
       "5       0.175146  городской поселок              Янино-1     95065.79   \n",
       "6       0.175146            поселок            Парголово     99195.71   \n",
       "7       0.175146                         Санкт-Петербург    110544.69   \n",
       "8       0.175146            поселок               Мурино     87454.76   \n",
       "9       0.175146                         Санкт-Петербург     88524.59   \n",
       "10      0.175146                         Санкт-Петербург    127525.25   \n",
       "\n",
       "    weekday  month_exposition  year_exposition floor_type  cityCenters_km  \n",
       "0         3                 3             2019     другой            16.0  \n",
       "1         1                12             2018     первый            19.0  \n",
       "2         3                 8             2015     другой            14.0  \n",
       "4         1                 6             2018     другой             8.0  \n",
       "5         0                 9             2018     другой             NaN  \n",
       "6         3                11             2017     другой            19.0  \n",
       "7         3                 4             2019     другой            12.0  \n",
       "8         2                 5             2018     другой             NaN  \n",
       "9         6                 2             2017     другой            15.0  \n",
       "10        3                11             2017     другой            14.0  "
      ]
     },
     "execution_count": 40,
     "metadata": {},
     "output_type": "execute_result"
    }
   ],
   "source": [
    "data.head(10)"
   ]
  },
  {
   "cell_type": "markdown",
   "metadata": {},
   "source": [
    "Изучим параметры объектов недвижимости и построим отдельные гистограммы для каждого из этих параметров. Начнем с данных о площади квартир. Мы уже проанализировали и обработали необычные значения выше. Теперь создадим гистограмму."
   ]
  },
  {
   "cell_type": "code",
   "execution_count": 41,
   "metadata": {
    "id": "V2f0D3kLAwb-"
   },
   "outputs": [
    {
     "data": {
      "text/plain": [
       "count    22972.000000\n",
       "mean        56.456470\n",
       "std         22.793806\n",
       "min         12.000000\n",
       "25%         40.000000\n",
       "50%         51.000000\n",
       "75%         67.600000\n",
       "max        149.600000\n",
       "Name: total_area, dtype: float64"
      ]
     },
     "execution_count": 41,
     "metadata": {},
     "output_type": "execute_result"
    },
    {
     "data": {
      "image/png": "[encoded data removed]",
      "text/plain": [
       "<Figure size 432x288 with 1 Axes>"
      ]
     },
     "metadata": {
      "needs_background": "light"
     },
     "output_type": "display_data"
    }
   ],
   "source": [
    "data['total_area'].hist(bins=150)\n",
    "data['total_area'].describe()"
   ]
  },
  {
   "cell_type": "markdown",
   "metadata": {},
   "source": [
    "Большинство объектов недвижимости имеют площадь от 40 до 67 квадратных метров.\n",
    "\n",
    "Теперь более детально рассмотрим жилую площадь объектов. Получим описательные данные и построим и построим гистограмму."
   ]
  },
  {
   "cell_type": "code",
   "execution_count": 42,
   "metadata": {},
   "outputs": [
    {
     "data": {
      "text/plain": [
       "count    22972.000000\n",
       "mean        32.054076\n",
       "std         14.969721\n",
       "min          2.000000\n",
       "25%         18.780243\n",
       "50%         30.000000\n",
       "75%         41.000000\n",
       "max        117.100000\n",
       "Name: living_area, dtype: float64"
      ]
     },
     "execution_count": 42,
     "metadata": {},
     "output_type": "execute_result"
    },
    {
     "data": {
      "image/png": "[encoded data removed]",
      "text/plain": [
       "<Figure size 432x288 with 1 Axes>"
      ]
     },
     "metadata": {
      "needs_background": "light"
     },
     "output_type": "display_data"
    }
   ],
   "source": [
    "data['living_area'].hist(bins=150)\n",
    "data['living_area'].describe()"
   ]
  },
  {
   "cell_type": "markdown",
   "metadata": {},
   "source": [
    "Большинство объектов недвижимости имеют жилую площадь от 19 до 41 квадратного метра.\n",
    "\n",
    "Рассмотрим теперь площадь кухни. Как и в случае с жилой площадью, мы изучим данные и отобразим их в виде гистограммы."
   ]
  },
  {
   "cell_type": "code",
   "execution_count": 43,
   "metadata": {},
   "outputs": [
    {
     "data": {
      "text/plain": [
       "count    22972.00000\n",
       "mean         9.98151\n",
       "std          4.64225\n",
       "min          1.30000\n",
       "25%          7.00000\n",
       "50%          9.00000\n",
       "75%         11.50000\n",
       "max         72.00000\n",
       "Name: kitchen_area, dtype: float64"
      ]
     },
     "execution_count": 43,
     "metadata": {},
     "output_type": "execute_result"
    },
    {
     "data": {
      "image/png": "[encoded data removed]",
      "text/plain": [
       "<Figure size 432x288 with 1 Axes>"
      ]
     },
     "metadata": {
      "needs_background": "light"
     },
     "output_type": "display_data"
    }
   ],
   "source": [
    "data['kitchen_area'].hist(bins=10)\n",
    "data['kitchen_area'].describe()"
   ]
  },
  {
   "cell_type": "code",
   "execution_count": 44,
   "metadata": {},
   "outputs": [
    {
     "data": {
      "text/html": [
       "<div>\n",
       "<style scoped>\n",
       "    .dataframe tbody tr th:only-of-type {\n",
       "        vertical-align: middle;\n",
       "    }\n",
       "\n",
       "    .dataframe tbody tr th {\n",
       "        vertical-align: top;\n",
       "    }\n",
       "\n",
       "    .dataframe thead th {\n",
       "        text-align: right;\n",
       "    }\n",
       "</style>\n",
       "<table border=\"1\" class=\"dataframe\">\n",
       "  <thead>\n",
       "    <tr style=\"text-align: right;\">\n",
       "      <th></th>\n",
       "      <th>total_images</th>\n",
       "      <th>last_price</th>\n",
       "      <th>total_area</th>\n",
       "      <th>first_day_exposition</th>\n",
       "      <th>rooms</th>\n",
       "      <th>ceiling_height</th>\n",
       "      <th>floors_total</th>\n",
       "      <th>living_area</th>\n",
       "      <th>floor</th>\n",
       "      <th>is_apartment</th>\n",
       "      <th>studio</th>\n",
       "      <th>open_plan</th>\n",
       "      <th>kitchen_area</th>\n",
       "      <th>balcony</th>\n",
       "      <th>locality_name</th>\n",
       "      <th>airports_nearest</th>\n",
       "      <th>cityCenters_nearest</th>\n",
       "      <th>parks_around3000</th>\n",
       "      <th>parks_nearest</th>\n",
       "      <th>ponds_around3000</th>\n",
       "      <th>ponds_nearest</th>\n",
       "      <th>days_exposition</th>\n",
       "      <th>living_mean</th>\n",
       "      <th>kitchen_mean</th>\n",
       "      <th>locality_type</th>\n",
       "      <th>locality_name_split</th>\n",
       "      <th>price_meter</th>\n",
       "      <th>weekday</th>\n",
       "      <th>month_exposition</th>\n",
       "      <th>year_exposition</th>\n",
       "      <th>floor_type</th>\n",
       "      <th>cityCenters_km</th>\n",
       "    </tr>\n",
       "  </thead>\n",
       "  <tbody>\n",
       "    <tr>\n",
       "      <th>4</th>\n",
       "      <td>2</td>\n",
       "      <td>10000000</td>\n",
       "      <td>100.0</td>\n",
       "      <td>2018-06-19</td>\n",
       "      <td>2</td>\n",
       "      <td>3.03</td>\n",
       "      <td>14</td>\n",
       "      <td>32.00</td>\n",
       "      <td>13</td>\n",
       "      <td>True</td>\n",
       "      <td>False</td>\n",
       "      <td>False</td>\n",
       "      <td>41.0</td>\n",
       "      <td>0</td>\n",
       "      <td>Санкт-Петербург</td>\n",
       "      <td>31856.0</td>\n",
       "      <td>8098.0</td>\n",
       "      <td>2</td>\n",
       "      <td>112.0</td>\n",
       "      <td>1</td>\n",
       "      <td>48.0</td>\n",
       "      <td>121.0</td>\n",
       "      <td>0.57098</td>\n",
       "      <td>0.175146</td>\n",
       "      <td></td>\n",
       "      <td>Санкт-Петербург</td>\n",
       "      <td>100000.00</td>\n",
       "      <td>1</td>\n",
       "      <td>6</td>\n",
       "      <td>2018</td>\n",
       "      <td>другой</td>\n",
       "      <td>8.0</td>\n",
       "    </tr>\n",
       "    <tr>\n",
       "      <th>239</th>\n",
       "      <td>16</td>\n",
       "      <td>22000000</td>\n",
       "      <td>119.0</td>\n",
       "      <td>2017-02-16</td>\n",
       "      <td>3</td>\n",
       "      <td>3.50</td>\n",
       "      <td>5</td>\n",
       "      <td>56.00</td>\n",
       "      <td>3</td>\n",
       "      <td>False</td>\n",
       "      <td>False</td>\n",
       "      <td>False</td>\n",
       "      <td>35.0</td>\n",
       "      <td>0</td>\n",
       "      <td>Санкт-Петербург</td>\n",
       "      <td>21698.0</td>\n",
       "      <td>2004.0</td>\n",
       "      <td>1</td>\n",
       "      <td>688.0</td>\n",
       "      <td>1</td>\n",
       "      <td>86.0</td>\n",
       "      <td>77.0</td>\n",
       "      <td>0.57098</td>\n",
       "      <td>0.175146</td>\n",
       "      <td></td>\n",
       "      <td>Санкт-Петербург</td>\n",
       "      <td>184873.95</td>\n",
       "      <td>3</td>\n",
       "      <td>2</td>\n",
       "      <td>2017</td>\n",
       "      <td>другой</td>\n",
       "      <td>2.0</td>\n",
       "    </tr>\n",
       "    <tr>\n",
       "      <th>263</th>\n",
       "      <td>12</td>\n",
       "      <td>39900000</td>\n",
       "      <td>140.6</td>\n",
       "      <td>2016-11-19</td>\n",
       "      <td>2</td>\n",
       "      <td>3.50</td>\n",
       "      <td>8</td>\n",
       "      <td>39.80</td>\n",
       "      <td>7</td>\n",
       "      <td>True</td>\n",
       "      <td>False</td>\n",
       "      <td>False</td>\n",
       "      <td>49.2</td>\n",
       "      <td>4</td>\n",
       "      <td>Санкт-Петербург</td>\n",
       "      <td>32537.0</td>\n",
       "      <td>6589.0</td>\n",
       "      <td>0</td>\n",
       "      <td>NaN</td>\n",
       "      <td>3</td>\n",
       "      <td>99.0</td>\n",
       "      <td>NaN</td>\n",
       "      <td>0.57098</td>\n",
       "      <td>0.175146</td>\n",
       "      <td></td>\n",
       "      <td>Санкт-Петербург</td>\n",
       "      <td>283783.78</td>\n",
       "      <td>5</td>\n",
       "      <td>11</td>\n",
       "      <td>2016</td>\n",
       "      <td>другой</td>\n",
       "      <td>7.0</td>\n",
       "    </tr>\n",
       "    <tr>\n",
       "      <th>379</th>\n",
       "      <td>14</td>\n",
       "      <td>21000000</td>\n",
       "      <td>96.0</td>\n",
       "      <td>2017-02-07</td>\n",
       "      <td>2</td>\n",
       "      <td>3.00</td>\n",
       "      <td>7</td>\n",
       "      <td>20.00</td>\n",
       "      <td>1</td>\n",
       "      <td>True</td>\n",
       "      <td>False</td>\n",
       "      <td>False</td>\n",
       "      <td>36.0</td>\n",
       "      <td>2</td>\n",
       "      <td>Санкт-Петербург</td>\n",
       "      <td>23843.0</td>\n",
       "      <td>2391.0</td>\n",
       "      <td>0</td>\n",
       "      <td>NaN</td>\n",
       "      <td>3</td>\n",
       "      <td>418.0</td>\n",
       "      <td>153.0</td>\n",
       "      <td>0.57098</td>\n",
       "      <td>0.175146</td>\n",
       "      <td></td>\n",
       "      <td>Санкт-Петербург</td>\n",
       "      <td>218750.00</td>\n",
       "      <td>1</td>\n",
       "      <td>2</td>\n",
       "      <td>2017</td>\n",
       "      <td>первый</td>\n",
       "      <td>2.0</td>\n",
       "    </tr>\n",
       "    <tr>\n",
       "      <th>576</th>\n",
       "      <td>12</td>\n",
       "      <td>8600000</td>\n",
       "      <td>100.0</td>\n",
       "      <td>2017-09-11</td>\n",
       "      <td>3</td>\n",
       "      <td>2.70</td>\n",
       "      <td>5</td>\n",
       "      <td>42.50</td>\n",
       "      <td>2</td>\n",
       "      <td>True</td>\n",
       "      <td>False</td>\n",
       "      <td>False</td>\n",
       "      <td>31.0</td>\n",
       "      <td>1</td>\n",
       "      <td>Санкт-Петербург</td>\n",
       "      <td>13836.0</td>\n",
       "      <td>8839.0</td>\n",
       "      <td>0</td>\n",
       "      <td>NaN</td>\n",
       "      <td>0</td>\n",
       "      <td>NaN</td>\n",
       "      <td>50.0</td>\n",
       "      <td>0.57098</td>\n",
       "      <td>0.175146</td>\n",
       "      <td></td>\n",
       "      <td>Санкт-Петербург</td>\n",
       "      <td>86000.00</td>\n",
       "      <td>0</td>\n",
       "      <td>9</td>\n",
       "      <td>2017</td>\n",
       "      <td>другой</td>\n",
       "      <td>9.0</td>\n",
       "    </tr>\n",
       "    <tr>\n",
       "      <th>...</th>\n",
       "      <td>...</td>\n",
       "      <td>...</td>\n",
       "      <td>...</td>\n",
       "      <td>...</td>\n",
       "      <td>...</td>\n",
       "      <td>...</td>\n",
       "      <td>...</td>\n",
       "      <td>...</td>\n",
       "      <td>...</td>\n",
       "      <td>...</td>\n",
       "      <td>...</td>\n",
       "      <td>...</td>\n",
       "      <td>...</td>\n",
       "      <td>...</td>\n",
       "      <td>...</td>\n",
       "      <td>...</td>\n",
       "      <td>...</td>\n",
       "      <td>...</td>\n",
       "      <td>...</td>\n",
       "      <td>...</td>\n",
       "      <td>...</td>\n",
       "      <td>...</td>\n",
       "      <td>...</td>\n",
       "      <td>...</td>\n",
       "      <td>...</td>\n",
       "      <td>...</td>\n",
       "      <td>...</td>\n",
       "      <td>...</td>\n",
       "      <td>...</td>\n",
       "      <td>...</td>\n",
       "      <td>...</td>\n",
       "      <td>...</td>\n",
       "    </tr>\n",
       "    <tr>\n",
       "      <th>22128</th>\n",
       "      <td>17</td>\n",
       "      <td>23000000</td>\n",
       "      <td>125.0</td>\n",
       "      <td>2017-11-23</td>\n",
       "      <td>3</td>\n",
       "      <td>3.30</td>\n",
       "      <td>5</td>\n",
       "      <td>49.00</td>\n",
       "      <td>5</td>\n",
       "      <td>True</td>\n",
       "      <td>False</td>\n",
       "      <td>False</td>\n",
       "      <td>34.0</td>\n",
       "      <td>0</td>\n",
       "      <td>Санкт-Петербург</td>\n",
       "      <td>24054.0</td>\n",
       "      <td>4621.0</td>\n",
       "      <td>1</td>\n",
       "      <td>327.0</td>\n",
       "      <td>0</td>\n",
       "      <td>NaN</td>\n",
       "      <td>123.0</td>\n",
       "      <td>0.57098</td>\n",
       "      <td>0.175146</td>\n",
       "      <td></td>\n",
       "      <td>Санкт-Петербург</td>\n",
       "      <td>184000.00</td>\n",
       "      <td>3</td>\n",
       "      <td>11</td>\n",
       "      <td>2017</td>\n",
       "      <td>последний</td>\n",
       "      <td>5.0</td>\n",
       "    </tr>\n",
       "    <tr>\n",
       "      <th>22225</th>\n",
       "      <td>18</td>\n",
       "      <td>16080000</td>\n",
       "      <td>147.0</td>\n",
       "      <td>2018-03-07</td>\n",
       "      <td>4</td>\n",
       "      <td>2.50</td>\n",
       "      <td>7</td>\n",
       "      <td>69.28</td>\n",
       "      <td>5</td>\n",
       "      <td>True</td>\n",
       "      <td>False</td>\n",
       "      <td>False</td>\n",
       "      <td>33.0</td>\n",
       "      <td>0</td>\n",
       "      <td>Санкт-Петербург</td>\n",
       "      <td>28768.0</td>\n",
       "      <td>7615.0</td>\n",
       "      <td>1</td>\n",
       "      <td>602.0</td>\n",
       "      <td>0</td>\n",
       "      <td>NaN</td>\n",
       "      <td>NaN</td>\n",
       "      <td>0.57098</td>\n",
       "      <td>0.175146</td>\n",
       "      <td></td>\n",
       "      <td>Санкт-Петербург</td>\n",
       "      <td>109387.76</td>\n",
       "      <td>2</td>\n",
       "      <td>3</td>\n",
       "      <td>2018</td>\n",
       "      <td>другой</td>\n",
       "      <td>8.0</td>\n",
       "    </tr>\n",
       "    <tr>\n",
       "      <th>22807</th>\n",
       "      <td>20</td>\n",
       "      <td>23000000</td>\n",
       "      <td>149.1</td>\n",
       "      <td>2018-02-09</td>\n",
       "      <td>4</td>\n",
       "      <td>2.70</td>\n",
       "      <td>6</td>\n",
       "      <td>68.00</td>\n",
       "      <td>4</td>\n",
       "      <td>True</td>\n",
       "      <td>False</td>\n",
       "      <td>False</td>\n",
       "      <td>35.0</td>\n",
       "      <td>0</td>\n",
       "      <td>Санкт-Петербург</td>\n",
       "      <td>31687.0</td>\n",
       "      <td>4996.0</td>\n",
       "      <td>2</td>\n",
       "      <td>192.0</td>\n",
       "      <td>2</td>\n",
       "      <td>804.0</td>\n",
       "      <td>306.0</td>\n",
       "      <td>0.57098</td>\n",
       "      <td>0.175146</td>\n",
       "      <td></td>\n",
       "      <td>Санкт-Петербург</td>\n",
       "      <td>154258.89</td>\n",
       "      <td>4</td>\n",
       "      <td>2</td>\n",
       "      <td>2018</td>\n",
       "      <td>другой</td>\n",
       "      <td>5.0</td>\n",
       "    </tr>\n",
       "    <tr>\n",
       "      <th>22948</th>\n",
       "      <td>10</td>\n",
       "      <td>34500000</td>\n",
       "      <td>100.0</td>\n",
       "      <td>2018-06-26</td>\n",
       "      <td>3</td>\n",
       "      <td>2.70</td>\n",
       "      <td>7</td>\n",
       "      <td>34.20</td>\n",
       "      <td>3</td>\n",
       "      <td>True</td>\n",
       "      <td>False</td>\n",
       "      <td>False</td>\n",
       "      <td>34.4</td>\n",
       "      <td>0</td>\n",
       "      <td>Санкт-Петербург</td>\n",
       "      <td>25754.0</td>\n",
       "      <td>5961.0</td>\n",
       "      <td>3</td>\n",
       "      <td>125.0</td>\n",
       "      <td>0</td>\n",
       "      <td>NaN</td>\n",
       "      <td>NaN</td>\n",
       "      <td>0.57098</td>\n",
       "      <td>0.175146</td>\n",
       "      <td></td>\n",
       "      <td>Санкт-Петербург</td>\n",
       "      <td>345000.00</td>\n",
       "      <td>1</td>\n",
       "      <td>6</td>\n",
       "      <td>2018</td>\n",
       "      <td>другой</td>\n",
       "      <td>6.0</td>\n",
       "    </tr>\n",
       "    <tr>\n",
       "      <th>23134</th>\n",
       "      <td>4</td>\n",
       "      <td>12900000</td>\n",
       "      <td>118.0</td>\n",
       "      <td>2016-01-20</td>\n",
       "      <td>3</td>\n",
       "      <td>3.00</td>\n",
       "      <td>6</td>\n",
       "      <td>53.00</td>\n",
       "      <td>6</td>\n",
       "      <td>False</td>\n",
       "      <td>False</td>\n",
       "      <td>False</td>\n",
       "      <td>36.0</td>\n",
       "      <td>0</td>\n",
       "      <td>Санкт-Петербург</td>\n",
       "      <td>23476.0</td>\n",
       "      <td>4258.0</td>\n",
       "      <td>0</td>\n",
       "      <td>NaN</td>\n",
       "      <td>0</td>\n",
       "      <td>NaN</td>\n",
       "      <td>332.0</td>\n",
       "      <td>0.57098</td>\n",
       "      <td>0.175146</td>\n",
       "      <td></td>\n",
       "      <td>Санкт-Петербург</td>\n",
       "      <td>109322.03</td>\n",
       "      <td>2</td>\n",
       "      <td>1</td>\n",
       "      <td>2016</td>\n",
       "      <td>последний</td>\n",
       "      <td>4.0</td>\n",
       "    </tr>\n",
       "  </tbody>\n",
       "</table>\n",
       "<p>160 rows × 32 columns</p>\n",
       "</div>"
      ],
      "text/plain": [
       "       total_images  last_price  total_area first_day_exposition  rooms  \\\n",
       "4                 2    10000000       100.0           2018-06-19      2   \n",
       "239              16    22000000       119.0           2017-02-16      3   \n",
       "263              12    39900000       140.6           2016-11-19      2   \n",
       "379              14    21000000        96.0           2017-02-07      2   \n",
       "576              12     8600000       100.0           2017-09-11      3   \n",
       "...             ...         ...         ...                  ...    ...   \n",
       "22128            17    23000000       125.0           2017-11-23      3   \n",
       "22225            18    16080000       147.0           2018-03-07      4   \n",
       "22807            20    23000000       149.1           2018-02-09      4   \n",
       "22948            10    34500000       100.0           2018-06-26      3   \n",
       "23134             4    12900000       118.0           2016-01-20      3   \n",
       "\n",
       "       ceiling_height  floors_total  living_area  floor  is_apartment  studio  \\\n",
       "4                3.03            14        32.00     13          True   False   \n",
       "239              3.50             5        56.00      3         False   False   \n",
       "263              3.50             8        39.80      7          True   False   \n",
       "379              3.00             7        20.00      1          True   False   \n",
       "576              2.70             5        42.50      2          True   False   \n",
       "...               ...           ...          ...    ...           ...     ...   \n",
       "22128            3.30             5        49.00      5          True   False   \n",
       "22225            2.50             7        69.28      5          True   False   \n",
       "22807            2.70             6        68.00      4          True   False   \n",
       "22948            2.70             7        34.20      3          True   False   \n",
       "23134            3.00             6        53.00      6         False   False   \n",
       "\n",
       "       open_plan  kitchen_area  balcony    locality_name  airports_nearest  \\\n",
       "4          False          41.0        0  Санкт-Петербург           31856.0   \n",
       "239        False          35.0        0  Санкт-Петербург           21698.0   \n",
       "263        False          49.2        4  Санкт-Петербург           32537.0   \n",
       "379        False          36.0        2  Санкт-Петербург           23843.0   \n",
       "576        False          31.0        1  Санкт-Петербург           13836.0   \n",
       "...          ...           ...      ...              ...               ...   \n",
       "22128      False          34.0        0  Санкт-Петербург           24054.0   \n",
       "22225      False          33.0        0  Санкт-Петербург           28768.0   \n",
       "22807      False          35.0        0  Санкт-Петербург           31687.0   \n",
       "22948      False          34.4        0  Санкт-Петербург           25754.0   \n",
       "23134      False          36.0        0  Санкт-Петербург           23476.0   \n",
       "\n",
       "       cityCenters_nearest  parks_around3000  parks_nearest  ponds_around3000  \\\n",
       "4                   8098.0                 2          112.0                 1   \n",
       "239                 2004.0                 1          688.0                 1   \n",
       "263                 6589.0                 0            NaN                 3   \n",
       "379                 2391.0                 0            NaN                 3   \n",
       "576                 8839.0                 0            NaN                 0   \n",
       "...                    ...               ...            ...               ...   \n",
       "22128               4621.0                 1          327.0                 0   \n",
       "22225               7615.0                 1          602.0                 0   \n",
       "22807               4996.0                 2          192.0                 2   \n",
       "22948               5961.0                 3          125.0                 0   \n",
       "23134               4258.0                 0            NaN                 0   \n",
       "\n",
       "       ponds_nearest  days_exposition  living_mean  kitchen_mean  \\\n",
       "4               48.0            121.0      0.57098      0.175146   \n",
       "239             86.0             77.0      0.57098      0.175146   \n",
       "263             99.0              NaN      0.57098      0.175146   \n",
       "379            418.0            153.0      0.57098      0.175146   \n",
       "576              NaN             50.0      0.57098      0.175146   \n",
       "...              ...              ...          ...           ...   \n",
       "22128            NaN            123.0      0.57098      0.175146   \n",
       "22225            NaN              NaN      0.57098      0.175146   \n",
       "22807          804.0            306.0      0.57098      0.175146   \n",
       "22948            NaN              NaN      0.57098      0.175146   \n",
       "23134            NaN            332.0      0.57098      0.175146   \n",
       "\n",
       "      locality_type locality_name_split  price_meter  weekday  \\\n",
       "4                       Санкт-Петербург    100000.00        1   \n",
       "239                     Санкт-Петербург    184873.95        3   \n",
       "263                     Санкт-Петербург    283783.78        5   \n",
       "379                     Санкт-Петербург    218750.00        1   \n",
       "576                     Санкт-Петербург     86000.00        0   \n",
       "...             ...                 ...          ...      ...   \n",
       "22128                   Санкт-Петербург    184000.00        3   \n",
       "22225                   Санкт-Петербург    109387.76        2   \n",
       "22807                   Санкт-Петербург    154258.89        4   \n",
       "22948                   Санкт-Петербург    345000.00        1   \n",
       "23134                   Санкт-Петербург    109322.03        2   \n",
       "\n",
       "       month_exposition  year_exposition floor_type  cityCenters_km  \n",
       "4                     6             2018     другой             8.0  \n",
       "239                   2             2017     другой             2.0  \n",
       "263                  11             2016     другой             7.0  \n",
       "379                   2             2017     первый             2.0  \n",
       "576                   9             2017     другой             9.0  \n",
       "...                 ...              ...        ...             ...  \n",
       "22128                11             2017  последний             5.0  \n",
       "22225                 3             2018     другой             8.0  \n",
       "22807                 2             2018     другой             5.0  \n",
       "22948                 6             2018     другой             6.0  \n",
       "23134                 1             2016  последний             4.0  \n",
       "\n",
       "[160 rows x 32 columns]"
      ]
     },
     "execution_count": 44,
     "metadata": {},
     "output_type": "execute_result"
    }
   ],
   "source": [
    "data[data['kitchen_area'] > 30]"
   ]
  },
  {
   "cell_type": "markdown",
   "metadata": {},
   "source": [
    "Количество квартир с кухней площадью более 30 квадратных метров невелико. Эти данные точны и не оказывают существенного влияния на общую картину, поэтому мы не будем их менять.\n",
    "\n",
    "Давайте рассмотрим, сколько комнат в объектах недвижимости."
   ]
  },
  {
   "cell_type": "code",
   "execution_count": 45,
   "metadata": {},
   "outputs": [
    {
     "name": "stdout",
     "output_type": "stream",
     "text": [
      "[3 1 2 4 5 6 0 7]\n"
     ]
    },
    {
     "data": {
      "text/plain": [
       "<AxesSubplot:>"
      ]
     },
     "execution_count": 45,
     "metadata": {},
     "output_type": "execute_result"
    },
    {
     "data": {
      "image/png": "[encoded data removed]",
      "text/plain": [
       "<Figure size 432x288 with 1 Axes>"
      ]
     },
     "metadata": {
      "needs_background": "light"
     },
     "output_type": "display_data"
    }
   ],
   "source": [
    "print(data['rooms'].unique())\n",
    "data['rooms'].hist(bins=7)"
   ]
  },
  {
   "cell_type": "markdown",
   "metadata": {},
   "source": [
    "Чаще всего на продажу выставлялись одно-, двух- и трёхкомнатные квартиры. Эти данные выглядят достоверно, изменения не требуются.\n",
    "\n",
    "Выясним, на каких этажах квартиры расположены чаще: на первом, последнем или каких-то других?"
   ]
  },
  {
   "cell_type": "code",
   "execution_count": 46,
   "metadata": {},
   "outputs": [
    {
     "data": {
      "text/plain": [
       "<AxesSubplot:>"
      ]
     },
     "execution_count": 46,
     "metadata": {},
     "output_type": "execute_result"
    },
    {
     "data": {
      "image/png": "[encoded data removed]",
      "text/plain": [
       "<Figure size 432x288 with 1 Axes>"
      ]
     },
     "metadata": {
      "needs_background": "light"
     },
     "output_type": "display_data"
    }
   ],
   "source": [
    "data['floor_type'].hist(bins=5)"
   ]
  },
  {
   "cell_type": "markdown",
   "metadata": {},
   "source": [
    "Квартиры на первом и последнем этажах реже выставлялись на продажу, чем квартиры на других этажах. Это связано с тем, что в категории «другой» было больше вариантов этажей. Эти данные выглядят достоверно, поэтому изменения не требуются.\n",
    "\n",
    "Рассмотрим объявления в зависимости от дня недели."
   ]
  },
  {
   "cell_type": "code",
   "execution_count": 47,
   "metadata": {},
   "outputs": [
    {
     "data": {
      "text/plain": [
       "<AxesSubplot:>"
      ]
     },
     "execution_count": 47,
     "metadata": {},
     "output_type": "execute_result"
    },
    {
     "data": {
      "image/png": "[encoded data removed]",
      "text/plain": [
       "<Figure size 432x288 with 1 Axes>"
      ]
     },
     "metadata": {
      "needs_background": "light"
     },
     "output_type": "display_data"
    }
   ],
   "source": [
    "data['weekday'].hist(bins=6)"
   ]
  },
  {
   "cell_type": "markdown",
   "metadata": {},
   "source": [
    "Обратим внимание на интересную закономерность: чаще всего недвижимость выставляли на продажу со вторника по субботу. Особенно выделяется четверг. Реже всего объявления публиковали в понедельник и воскресенье."
   ]
  },
  {
   "cell_type": "code",
   "execution_count": 48,
   "metadata": {},
   "outputs": [
    {
     "name": "stdout",
     "output_type": "stream",
     "text": [
      "[16 11  5 14 12 26 24 27  9  6 17 25  3 23 19 18  4 22  2 10  7 13 15  8\n",
      " 20 28 36 21 35 34 60  1 29 33 52]\n",
      "count    22972.000000\n",
      "mean        10.745734\n",
      "std          6.615617\n",
      "min          1.000000\n",
      "25%          5.000000\n",
      "50%          9.000000\n",
      "75%         16.000000\n",
      "max         60.000000\n",
      "Name: floors_total, dtype: float64\n"
     ]
    },
    {
     "data": {
      "text/plain": [
       "<AxesSubplot:>"
      ]
     },
     "execution_count": 48,
     "metadata": {},
     "output_type": "execute_result"
    },
    {
     "data": {
      "image/png": "[encoded data removed]",
      "text/plain": [
       "<Figure size 432x288 with 1 Axes>"
      ]
     },
     "metadata": {
      "needs_background": "light"
     },
     "output_type": "display_data"
    }
   ],
   "source": [
    "print(data['floors_total'].unique())\n",
    "print(data['floors_total'].describe())\n",
    "data['floors_total'].hist(bins=60)"
   ]
  },
  {
   "cell_type": "code",
   "execution_count": 49,
   "metadata": {},
   "outputs": [
    {
     "data": {
      "text/plain": [
       "0.0013494689186836148"
      ]
     },
     "execution_count": 49,
     "metadata": {},
     "output_type": "execute_result"
    }
   ],
   "source": [
    "len(data.query('floors_total > 30')) / len(data) # посмотрим их процент в данных и сделаем выводы"
   ]
  },
  {
   "cell_type": "markdown",
   "metadata": {},
   "source": [
    "Поскольку квартиры с количеством этажей более 30 встречаются редко и являются нетипичными, а объём потерянных данных незначителен (менее 1 процента), мы исключим эти строки из таблицы. "
   ]
  },
  {
   "cell_type": "code",
   "execution_count": 50,
   "metadata": {},
   "outputs": [
    {
     "name": "stdout",
     "output_type": "stream",
     "text": [
      "count    22941.000000\n",
      "mean        10.711129\n",
      "std          6.549838\n",
      "min          1.000000\n",
      "25%          5.000000\n",
      "50%          9.000000\n",
      "75%         16.000000\n",
      "max         29.000000\n",
      "Name: floors_total, dtype: float64\n"
     ]
    },
    {
     "data": {
      "text/plain": [
       "<AxesSubplot:>"
      ]
     },
     "execution_count": 50,
     "metadata": {},
     "output_type": "execute_result"
    },
    {
     "data": {
      "image/png": "[encoded data removed]",
      "text/plain": [
       "<Figure size 432x288 with 1 Axes>"
      ]
     },
     "metadata": {
      "needs_background": "light"
     },
     "output_type": "display_data"
    }
   ],
   "source": [
    "data = data[data['floors_total'] <= 30]\n",
    "print(data['floors_total'].describe())\n",
    "data['floors_total'].hist(bins=30)"
   ]
  },
  {
   "cell_type": "markdown",
   "metadata": {},
   "source": [
    "Чаще всего объявления о продаже недвижимости размещались в домах с 5 и 9 этажами.\n",
    "\n",
    "Узнаем, на каком расстоянии от центра города обычно предлагаются квартиры для продажи."
   ]
  },
  {
   "cell_type": "code",
   "execution_count": 51,
   "metadata": {},
   "outputs": [
    {
     "name": "stdout",
     "output_type": "stream",
     "text": [
      "count    17467.000000\n",
      "mean     14398.677163\n",
      "std       8568.508373\n",
      "min        208.000000\n",
      "25%       9660.000000\n",
      "50%      13223.000000\n",
      "75%      16371.000000\n",
      "max      65968.000000\n",
      "Name: cityCenters_nearest, dtype: float64\n"
     ]
    },
    {
     "data": {
      "text/plain": [
       "<AxesSubplot:>"
      ]
     },
     "execution_count": 51,
     "metadata": {},
     "output_type": "execute_result"
    },
    {
     "data": {
      "image/png": "[encoded data removed]",
      "text/plain": [
       "<Figure size 432x288 with 1 Axes>"
      ]
     },
     "metadata": {
      "needs_background": "light"
     },
     "output_type": "display_data"
    }
   ],
   "source": [
    "print(data['cityCenters_nearest'].describe())\n",
    "data['cityCenters_nearest'].hist(bins=65968)"
   ]
  },
  {
   "cell_type": "code",
   "execution_count": 52,
   "metadata": {},
   "outputs": [
    {
     "data": {
      "text/plain": [
       "0.11106752103221307"
      ]
     },
     "execution_count": 52,
     "metadata": {},
     "output_type": "execute_result"
    }
   ],
   "source": [
    "len(data.query('cityCenters_nearest > 20000')) / len(data) # посмотрим их процент в данных и сделаем выводы"
   ]
  },
  {
   "cell_type": "markdown",
   "metadata": {},
   "source": [
    "В нашем исследовании мы обнаружили множество квартир, расположенных далеко от центра города. Также было много объявлений с пропущенными данными в этом критерии. Эти данные выглядят логичными и равномерными, поэтому мы оставим их без изменений. Чтобы лучше понять распределение значений, мы построим гистограмму, которая покажет наиболее часто встречающиеся значения."
   ]
  },
  {
   "cell_type": "code",
   "execution_count": 53,
   "metadata": {},
   "outputs": [
    {
     "data": {
      "text/plain": [
       "<AxesSubplot:>"
      ]
     },
     "execution_count": 53,
     "metadata": {},
     "output_type": "execute_result"
    },
    {
     "data": {
      "image/png": "[encoded data removed]",
      "text/plain": [
       "<Figure size 432x288 with 1 Axes>"
      ]
     },
     "metadata": {
      "needs_background": "light"
     },
     "output_type": "display_data"
    }
   ],
   "source": [
    "# data.plot(x='cityCenters_nearest', y='last_price', kind='scatter') пробный график оказался не наглядным, оставим на заметку\n",
    "data['cityCenters_nearest'].hist(bins=20000, range=(0, 20000))"
   ]
  },
  {
   "cell_type": "markdown",
   "metadata": {},
   "source": [
    "Недвижимость выставленная на продажу обычно находится на расстоянии от центра города от 9,66 до 16,37 километра.\n",
    "\n",
    "Узнаем, на каком расстоянии от ближайшего парка обычно расположены объекты недвижимости."
   ]
  },
  {
   "cell_type": "code",
   "execution_count": 54,
   "metadata": {},
   "outputs": [
    {
     "name": "stdout",
     "output_type": "stream",
     "text": [
      "count    7646.000000\n",
      "mean      493.254512\n",
      "std       342.517750\n",
      "min         1.000000\n",
      "25%       288.000000\n",
      "50%       456.000000\n",
      "75%       614.000000\n",
      "max      3190.000000\n",
      "Name: parks_nearest, dtype: float64\n"
     ]
    },
    {
     "data": {
      "text/plain": [
       "<AxesSubplot:>"
      ]
     },
     "execution_count": 54,
     "metadata": {},
     "output_type": "execute_result"
    },
    {
     "data": {
      "image/png": "[encoded data removed]",
      "text/plain": [
       "<Figure size 432x288 with 1 Axes>"
      ]
     },
     "metadata": {
      "needs_background": "light"
     },
     "output_type": "display_data"
    }
   ],
   "source": [
    "print(data['parks_nearest'].describe())\n",
    "data['parks_nearest'].hist(bins=3190)"
   ]
  },
  {
   "cell_type": "code",
   "execution_count": 55,
   "metadata": {},
   "outputs": [
    {
     "data": {
      "text/html": [
       "<div>\n",
       "<style scoped>\n",
       "    .dataframe tbody tr th:only-of-type {\n",
       "        vertical-align: middle;\n",
       "    }\n",
       "\n",
       "    .dataframe tbody tr th {\n",
       "        vertical-align: top;\n",
       "    }\n",
       "\n",
       "    .dataframe thead th {\n",
       "        text-align: right;\n",
       "    }\n",
       "</style>\n",
       "<table border=\"1\" class=\"dataframe\">\n",
       "  <thead>\n",
       "    <tr style=\"text-align: right;\">\n",
       "      <th></th>\n",
       "      <th>total_images</th>\n",
       "      <th>last_price</th>\n",
       "      <th>total_area</th>\n",
       "      <th>first_day_exposition</th>\n",
       "      <th>rooms</th>\n",
       "      <th>ceiling_height</th>\n",
       "      <th>floors_total</th>\n",
       "      <th>living_area</th>\n",
       "      <th>floor</th>\n",
       "      <th>is_apartment</th>\n",
       "      <th>studio</th>\n",
       "      <th>open_plan</th>\n",
       "      <th>kitchen_area</th>\n",
       "      <th>balcony</th>\n",
       "      <th>locality_name</th>\n",
       "      <th>airports_nearest</th>\n",
       "      <th>cityCenters_nearest</th>\n",
       "      <th>parks_around3000</th>\n",
       "      <th>parks_nearest</th>\n",
       "      <th>ponds_around3000</th>\n",
       "      <th>ponds_nearest</th>\n",
       "      <th>days_exposition</th>\n",
       "      <th>living_mean</th>\n",
       "      <th>kitchen_mean</th>\n",
       "      <th>locality_type</th>\n",
       "      <th>locality_name_split</th>\n",
       "      <th>price_meter</th>\n",
       "      <th>weekday</th>\n",
       "      <th>month_exposition</th>\n",
       "      <th>year_exposition</th>\n",
       "      <th>floor_type</th>\n",
       "      <th>cityCenters_km</th>\n",
       "    </tr>\n",
       "  </thead>\n",
       "  <tbody>\n",
       "    <tr>\n",
       "      <th>323</th>\n",
       "      <td>6</td>\n",
       "      <td>9591727</td>\n",
       "      <td>72.0</td>\n",
       "      <td>2017-06-29</td>\n",
       "      <td>2</td>\n",
       "      <td>2.80</td>\n",
       "      <td>10</td>\n",
       "      <td>34.000000</td>\n",
       "      <td>9</td>\n",
       "      <td>True</td>\n",
       "      <td>False</td>\n",
       "      <td>False</td>\n",
       "      <td>17.000000</td>\n",
       "      <td>0</td>\n",
       "      <td>Санкт-Петербург</td>\n",
       "      <td>23756.0</td>\n",
       "      <td>5384.0</td>\n",
       "      <td>1</td>\n",
       "      <td>2295.0</td>\n",
       "      <td>1</td>\n",
       "      <td>534.0</td>\n",
       "      <td>118.0</td>\n",
       "      <td>0.57098</td>\n",
       "      <td>0.175146</td>\n",
       "      <td></td>\n",
       "      <td>Санкт-Петербург</td>\n",
       "      <td>133218.43</td>\n",
       "      <td>3</td>\n",
       "      <td>6</td>\n",
       "      <td>2017</td>\n",
       "      <td>другой</td>\n",
       "      <td>5.0</td>\n",
       "    </tr>\n",
       "    <tr>\n",
       "      <th>371</th>\n",
       "      <td>11</td>\n",
       "      <td>7300000</td>\n",
       "      <td>65.0</td>\n",
       "      <td>2018-09-12</td>\n",
       "      <td>2</td>\n",
       "      <td>2.70</td>\n",
       "      <td>12</td>\n",
       "      <td>30.040000</td>\n",
       "      <td>2</td>\n",
       "      <td>True</td>\n",
       "      <td>False</td>\n",
       "      <td>False</td>\n",
       "      <td>10.200000</td>\n",
       "      <td>5</td>\n",
       "      <td>Санкт-Петербург</td>\n",
       "      <td>18621.0</td>\n",
       "      <td>17623.0</td>\n",
       "      <td>1</td>\n",
       "      <td>1510.0</td>\n",
       "      <td>2</td>\n",
       "      <td>372.0</td>\n",
       "      <td>92.0</td>\n",
       "      <td>0.57098</td>\n",
       "      <td>0.175146</td>\n",
       "      <td></td>\n",
       "      <td>Санкт-Петербург</td>\n",
       "      <td>112307.69</td>\n",
       "      <td>2</td>\n",
       "      <td>9</td>\n",
       "      <td>2018</td>\n",
       "      <td>другой</td>\n",
       "      <td>18.0</td>\n",
       "    </tr>\n",
       "    <tr>\n",
       "      <th>438</th>\n",
       "      <td>6</td>\n",
       "      <td>7410000</td>\n",
       "      <td>70.0</td>\n",
       "      <td>2017-06-29</td>\n",
       "      <td>2</td>\n",
       "      <td>2.70</td>\n",
       "      <td>12</td>\n",
       "      <td>39.968576</td>\n",
       "      <td>5</td>\n",
       "      <td>True</td>\n",
       "      <td>False</td>\n",
       "      <td>False</td>\n",
       "      <td>12.260200</td>\n",
       "      <td>0</td>\n",
       "      <td>Санкт-Петербург</td>\n",
       "      <td>23756.0</td>\n",
       "      <td>5384.0</td>\n",
       "      <td>1</td>\n",
       "      <td>2295.0</td>\n",
       "      <td>1</td>\n",
       "      <td>534.0</td>\n",
       "      <td>229.0</td>\n",
       "      <td>0.57098</td>\n",
       "      <td>0.175146</td>\n",
       "      <td></td>\n",
       "      <td>Санкт-Петербург</td>\n",
       "      <td>105857.14</td>\n",
       "      <td>3</td>\n",
       "      <td>6</td>\n",
       "      <td>2017</td>\n",
       "      <td>другой</td>\n",
       "      <td>5.0</td>\n",
       "    </tr>\n",
       "    <tr>\n",
       "      <th>512</th>\n",
       "      <td>8</td>\n",
       "      <td>6260000</td>\n",
       "      <td>43.3</td>\n",
       "      <td>2014-12-09</td>\n",
       "      <td>1</td>\n",
       "      <td>2.70</td>\n",
       "      <td>8</td>\n",
       "      <td>24.723419</td>\n",
       "      <td>5</td>\n",
       "      <td>True</td>\n",
       "      <td>False</td>\n",
       "      <td>False</td>\n",
       "      <td>7.583809</td>\n",
       "      <td>0</td>\n",
       "      <td>Санкт-Петербург</td>\n",
       "      <td>39946.0</td>\n",
       "      <td>10720.0</td>\n",
       "      <td>1</td>\n",
       "      <td>2102.0</td>\n",
       "      <td>3</td>\n",
       "      <td>303.0</td>\n",
       "      <td>1155.0</td>\n",
       "      <td>0.57098</td>\n",
       "      <td>0.175146</td>\n",
       "      <td></td>\n",
       "      <td>Санкт-Петербург</td>\n",
       "      <td>144572.75</td>\n",
       "      <td>1</td>\n",
       "      <td>12</td>\n",
       "      <td>2014</td>\n",
       "      <td>другой</td>\n",
       "      <td>11.0</td>\n",
       "    </tr>\n",
       "    <tr>\n",
       "      <th>680</th>\n",
       "      <td>14</td>\n",
       "      <td>7200000</td>\n",
       "      <td>43.0</td>\n",
       "      <td>2017-10-31</td>\n",
       "      <td>1</td>\n",
       "      <td>2.70</td>\n",
       "      <td>8</td>\n",
       "      <td>9.000000</td>\n",
       "      <td>2</td>\n",
       "      <td>True</td>\n",
       "      <td>False</td>\n",
       "      <td>False</td>\n",
       "      <td>23.000000</td>\n",
       "      <td>0</td>\n",
       "      <td>Санкт-Петербург</td>\n",
       "      <td>23900.0</td>\n",
       "      <td>5232.0</td>\n",
       "      <td>1</td>\n",
       "      <td>2137.0</td>\n",
       "      <td>1</td>\n",
       "      <td>933.0</td>\n",
       "      <td>296.0</td>\n",
       "      <td>0.57098</td>\n",
       "      <td>0.175146</td>\n",
       "      <td></td>\n",
       "      <td>Санкт-Петербург</td>\n",
       "      <td>167441.86</td>\n",
       "      <td>1</td>\n",
       "      <td>10</td>\n",
       "      <td>2017</td>\n",
       "      <td>другой</td>\n",
       "      <td>5.0</td>\n",
       "    </tr>\n",
       "    <tr>\n",
       "      <th>...</th>\n",
       "      <td>...</td>\n",
       "      <td>...</td>\n",
       "      <td>...</td>\n",
       "      <td>...</td>\n",
       "      <td>...</td>\n",
       "      <td>...</td>\n",
       "      <td>...</td>\n",
       "      <td>...</td>\n",
       "      <td>...</td>\n",
       "      <td>...</td>\n",
       "      <td>...</td>\n",
       "      <td>...</td>\n",
       "      <td>...</td>\n",
       "      <td>...</td>\n",
       "      <td>...</td>\n",
       "      <td>...</td>\n",
       "      <td>...</td>\n",
       "      <td>...</td>\n",
       "      <td>...</td>\n",
       "      <td>...</td>\n",
       "      <td>...</td>\n",
       "      <td>...</td>\n",
       "      <td>...</td>\n",
       "      <td>...</td>\n",
       "      <td>...</td>\n",
       "      <td>...</td>\n",
       "      <td>...</td>\n",
       "      <td>...</td>\n",
       "      <td>...</td>\n",
       "      <td>...</td>\n",
       "      <td>...</td>\n",
       "      <td>...</td>\n",
       "    </tr>\n",
       "    <tr>\n",
       "      <th>23159</th>\n",
       "      <td>2</td>\n",
       "      <td>7952000</td>\n",
       "      <td>64.0</td>\n",
       "      <td>2018-07-05</td>\n",
       "      <td>2</td>\n",
       "      <td>2.75</td>\n",
       "      <td>10</td>\n",
       "      <td>37.000000</td>\n",
       "      <td>3</td>\n",
       "      <td>True</td>\n",
       "      <td>False</td>\n",
       "      <td>False</td>\n",
       "      <td>11.000000</td>\n",
       "      <td>1</td>\n",
       "      <td>Санкт-Петербург</td>\n",
       "      <td>23756.0</td>\n",
       "      <td>5384.0</td>\n",
       "      <td>1</td>\n",
       "      <td>2295.0</td>\n",
       "      <td>1</td>\n",
       "      <td>534.0</td>\n",
       "      <td>54.0</td>\n",
       "      <td>0.57098</td>\n",
       "      <td>0.175146</td>\n",
       "      <td></td>\n",
       "      <td>Санкт-Петербург</td>\n",
       "      <td>124250.00</td>\n",
       "      <td>3</td>\n",
       "      <td>7</td>\n",
       "      <td>2018</td>\n",
       "      <td>другой</td>\n",
       "      <td>5.0</td>\n",
       "    </tr>\n",
       "    <tr>\n",
       "      <th>23240</th>\n",
       "      <td>20</td>\n",
       "      <td>21800000</td>\n",
       "      <td>114.0</td>\n",
       "      <td>2019-04-22</td>\n",
       "      <td>3</td>\n",
       "      <td>2.75</td>\n",
       "      <td>15</td>\n",
       "      <td>64.400000</td>\n",
       "      <td>7</td>\n",
       "      <td>True</td>\n",
       "      <td>False</td>\n",
       "      <td>False</td>\n",
       "      <td>23.300000</td>\n",
       "      <td>0</td>\n",
       "      <td>Санкт-Петербург</td>\n",
       "      <td>37106.0</td>\n",
       "      <td>8256.0</td>\n",
       "      <td>1</td>\n",
       "      <td>2009.0</td>\n",
       "      <td>3</td>\n",
       "      <td>253.0</td>\n",
       "      <td>NaN</td>\n",
       "      <td>0.57098</td>\n",
       "      <td>0.175146</td>\n",
       "      <td></td>\n",
       "      <td>Санкт-Петербург</td>\n",
       "      <td>191228.07</td>\n",
       "      <td>0</td>\n",
       "      <td>4</td>\n",
       "      <td>2019</td>\n",
       "      <td>другой</td>\n",
       "      <td>8.0</td>\n",
       "    </tr>\n",
       "    <tr>\n",
       "      <th>23343</th>\n",
       "      <td>12</td>\n",
       "      <td>11900000</td>\n",
       "      <td>85.0</td>\n",
       "      <td>2017-04-10</td>\n",
       "      <td>3</td>\n",
       "      <td>2.70</td>\n",
       "      <td>8</td>\n",
       "      <td>51.000000</td>\n",
       "      <td>7</td>\n",
       "      <td>True</td>\n",
       "      <td>False</td>\n",
       "      <td>False</td>\n",
       "      <td>13.600000</td>\n",
       "      <td>0</td>\n",
       "      <td>Санкт-Петербург</td>\n",
       "      <td>18140.0</td>\n",
       "      <td>17143.0</td>\n",
       "      <td>1</td>\n",
       "      <td>1514.0</td>\n",
       "      <td>2</td>\n",
       "      <td>16.0</td>\n",
       "      <td>475.0</td>\n",
       "      <td>0.57098</td>\n",
       "      <td>0.175146</td>\n",
       "      <td></td>\n",
       "      <td>Санкт-Петербург</td>\n",
       "      <td>140000.00</td>\n",
       "      <td>0</td>\n",
       "      <td>4</td>\n",
       "      <td>2017</td>\n",
       "      <td>другой</td>\n",
       "      <td>17.0</td>\n",
       "    </tr>\n",
       "    <tr>\n",
       "      <th>23404</th>\n",
       "      <td>3</td>\n",
       "      <td>17671500</td>\n",
       "      <td>90.0</td>\n",
       "      <td>2017-02-03</td>\n",
       "      <td>2</td>\n",
       "      <td>2.80</td>\n",
       "      <td>12</td>\n",
       "      <td>35.000000</td>\n",
       "      <td>9</td>\n",
       "      <td>False</td>\n",
       "      <td>False</td>\n",
       "      <td>False</td>\n",
       "      <td>16.000000</td>\n",
       "      <td>1</td>\n",
       "      <td>Санкт-Петербург</td>\n",
       "      <td>39946.0</td>\n",
       "      <td>10720.0</td>\n",
       "      <td>1</td>\n",
       "      <td>2102.0</td>\n",
       "      <td>3</td>\n",
       "      <td>303.0</td>\n",
       "      <td>277.0</td>\n",
       "      <td>0.57098</td>\n",
       "      <td>0.175146</td>\n",
       "      <td></td>\n",
       "      <td>Санкт-Петербург</td>\n",
       "      <td>196350.00</td>\n",
       "      <td>4</td>\n",
       "      <td>2</td>\n",
       "      <td>2017</td>\n",
       "      <td>другой</td>\n",
       "      <td>11.0</td>\n",
       "    </tr>\n",
       "    <tr>\n",
       "      <th>23466</th>\n",
       "      <td>15</td>\n",
       "      <td>11900000</td>\n",
       "      <td>80.0</td>\n",
       "      <td>2017-08-16</td>\n",
       "      <td>2</td>\n",
       "      <td>2.70</td>\n",
       "      <td>5</td>\n",
       "      <td>45.678373</td>\n",
       "      <td>3</td>\n",
       "      <td>True</td>\n",
       "      <td>False</td>\n",
       "      <td>False</td>\n",
       "      <td>14.011657</td>\n",
       "      <td>0</td>\n",
       "      <td>Санкт-Петербург</td>\n",
       "      <td>36813.0</td>\n",
       "      <td>8572.0</td>\n",
       "      <td>1</td>\n",
       "      <td>2467.0</td>\n",
       "      <td>3</td>\n",
       "      <td>214.0</td>\n",
       "      <td>116.0</td>\n",
       "      <td>0.57098</td>\n",
       "      <td>0.175146</td>\n",
       "      <td></td>\n",
       "      <td>Санкт-Петербург</td>\n",
       "      <td>148750.00</td>\n",
       "      <td>2</td>\n",
       "      <td>8</td>\n",
       "      <td>2017</td>\n",
       "      <td>другой</td>\n",
       "      <td>9.0</td>\n",
       "    </tr>\n",
       "  </tbody>\n",
       "</table>\n",
       "<p>165 rows × 32 columns</p>\n",
       "</div>"
      ],
      "text/plain": [
       "       total_images  last_price  total_area first_day_exposition  rooms  \\\n",
       "323               6     9591727        72.0           2017-06-29      2   \n",
       "371              11     7300000        65.0           2018-09-12      2   \n",
       "438               6     7410000        70.0           2017-06-29      2   \n",
       "512               8     6260000        43.3           2014-12-09      1   \n",
       "680              14     7200000        43.0           2017-10-31      1   \n",
       "...             ...         ...         ...                  ...    ...   \n",
       "23159             2     7952000        64.0           2018-07-05      2   \n",
       "23240            20    21800000       114.0           2019-04-22      3   \n",
       "23343            12    11900000        85.0           2017-04-10      3   \n",
       "23404             3    17671500        90.0           2017-02-03      2   \n",
       "23466            15    11900000        80.0           2017-08-16      2   \n",
       "\n",
       "       ceiling_height  floors_total  living_area  floor  is_apartment  studio  \\\n",
       "323              2.80            10    34.000000      9          True   False   \n",
       "371              2.70            12    30.040000      2          True   False   \n",
       "438              2.70            12    39.968576      5          True   False   \n",
       "512              2.70             8    24.723419      5          True   False   \n",
       "680              2.70             8     9.000000      2          True   False   \n",
       "...               ...           ...          ...    ...           ...     ...   \n",
       "23159            2.75            10    37.000000      3          True   False   \n",
       "23240            2.75            15    64.400000      7          True   False   \n",
       "23343            2.70             8    51.000000      7          True   False   \n",
       "23404            2.80            12    35.000000      9         False   False   \n",
       "23466            2.70             5    45.678373      3          True   False   \n",
       "\n",
       "       open_plan  kitchen_area  balcony    locality_name  airports_nearest  \\\n",
       "323        False     17.000000        0  Санкт-Петербург           23756.0   \n",
       "371        False     10.200000        5  Санкт-Петербург           18621.0   \n",
       "438        False     12.260200        0  Санкт-Петербург           23756.0   \n",
       "512        False      7.583809        0  Санкт-Петербург           39946.0   \n",
       "680        False     23.000000        0  Санкт-Петербург           23900.0   \n",
       "...          ...           ...      ...              ...               ...   \n",
       "23159      False     11.000000        1  Санкт-Петербург           23756.0   \n",
       "23240      False     23.300000        0  Санкт-Петербург           37106.0   \n",
       "23343      False     13.600000        0  Санкт-Петербург           18140.0   \n",
       "23404      False     16.000000        1  Санкт-Петербург           39946.0   \n",
       "23466      False     14.011657        0  Санкт-Петербург           36813.0   \n",
       "\n",
       "       cityCenters_nearest  parks_around3000  parks_nearest  ponds_around3000  \\\n",
       "323                 5384.0                 1         2295.0                 1   \n",
       "371                17623.0                 1         1510.0                 2   \n",
       "438                 5384.0                 1         2295.0                 1   \n",
       "512                10720.0                 1         2102.0                 3   \n",
       "680                 5232.0                 1         2137.0                 1   \n",
       "...                    ...               ...            ...               ...   \n",
       "23159               5384.0                 1         2295.0                 1   \n",
       "23240               8256.0                 1         2009.0                 3   \n",
       "23343              17143.0                 1         1514.0                 2   \n",
       "23404              10720.0                 1         2102.0                 3   \n",
       "23466               8572.0                 1         2467.0                 3   \n",
       "\n",
       "       ponds_nearest  days_exposition  living_mean  kitchen_mean  \\\n",
       "323            534.0            118.0      0.57098      0.175146   \n",
       "371            372.0             92.0      0.57098      0.175146   \n",
       "438            534.0            229.0      0.57098      0.175146   \n",
       "512            303.0           1155.0      0.57098      0.175146   \n",
       "680            933.0            296.0      0.57098      0.175146   \n",
       "...              ...              ...          ...           ...   \n",
       "23159          534.0             54.0      0.57098      0.175146   \n",
       "23240          253.0              NaN      0.57098      0.175146   \n",
       "23343           16.0            475.0      0.57098      0.175146   \n",
       "23404          303.0            277.0      0.57098      0.175146   \n",
       "23466          214.0            116.0      0.57098      0.175146   \n",
       "\n",
       "      locality_type locality_name_split  price_meter  weekday  \\\n",
       "323                     Санкт-Петербург    133218.43        3   \n",
       "371                     Санкт-Петербург    112307.69        2   \n",
       "438                     Санкт-Петербург    105857.14        3   \n",
       "512                     Санкт-Петербург    144572.75        1   \n",
       "680                     Санкт-Петербург    167441.86        1   \n",
       "...             ...                 ...          ...      ...   \n",
       "23159                   Санкт-Петербург    124250.00        3   \n",
       "23240                   Санкт-Петербург    191228.07        0   \n",
       "23343                   Санкт-Петербург    140000.00        0   \n",
       "23404                   Санкт-Петербург    196350.00        4   \n",
       "23466                   Санкт-Петербург    148750.00        2   \n",
       "\n",
       "       month_exposition  year_exposition floor_type  cityCenters_km  \n",
       "323                   6             2017     другой             5.0  \n",
       "371                   9             2018     другой            18.0  \n",
       "438                   6             2017     другой             5.0  \n",
       "512                  12             2014     другой            11.0  \n",
       "680                  10             2017     другой             5.0  \n",
       "...                 ...              ...        ...             ...  \n",
       "23159                 7             2018     другой             5.0  \n",
       "23240                 4             2019     другой             8.0  \n",
       "23343                 4             2017     другой            17.0  \n",
       "23404                 2             2017     другой            11.0  \n",
       "23466                 8             2017     другой             9.0  \n",
       "\n",
       "[165 rows x 32 columns]"
      ]
     },
     "execution_count": 55,
     "metadata": {},
     "output_type": "execute_result"
    }
   ],
   "source": [
    "data[data['parks_nearest'] > 1500] # изучим строки с большим растоянием до парка"
   ]
  },
  {
   "cell_type": "code",
   "execution_count": 56,
   "metadata": {},
   "outputs": [
    {
     "data": {
      "text/plain": [
       "0.0071923630181770625"
      ]
     },
     "execution_count": 56,
     "metadata": {},
     "output_type": "execute_result"
    }
   ],
   "source": [
    "len(data.query('parks_nearest > 1500')) / len(data) # посмотрим их процент в данных и сделаем выводы"
   ]
  },
  {
   "cell_type": "markdown",
   "metadata": {},
   "source": [
    "Данные выглядят вполне логично и не вызывают подозрений. \n",
    "\n",
    "Обычно парки и скверы расположены в пределах 300–600 метров от объекта недвижимости.\n",
    "\n",
    "Поскольку в этом столбце много пропусков, которые нельзя заполнить на основе логики, имеющиеся данные лучше оставить без изменений. Чтобы получить более полное представление о распределении значений, мы создадим гистограмму, которая наглядно покажет наиболее часто встречающиеся значения."
   ]
  },
  {
   "cell_type": "code",
   "execution_count": 57,
   "metadata": {},
   "outputs": [
    {
     "data": {
      "text/plain": [
       "<AxesSubplot:>"
      ]
     },
     "execution_count": 57,
     "metadata": {},
     "output_type": "execute_result"
    },
    {
     "data": {
      "image/png": "[encoded data removed]",
      "text/plain": [
       "<Figure size 432x288 with 1 Axes>"
      ]
     },
     "metadata": {
      "needs_background": "light"
     },
     "output_type": "display_data"
    }
   ],
   "source": [
    "data['parks_nearest'].hist(bins=1500, range=(0, 1500))"
   ]
  },
  {
   "cell_type": "markdown",
   "metadata": {},
   "source": [
    "Посмотрим, как быстро продавались квартиры. Для этого мы проанализируем, сколько дней было размещено каждое объявление. Затем мы построим гистограмму и определим характерные значения для столбца «days_exposition», чтобы сделать выводы."
   ]
  },
  {
   "cell_type": "code",
   "execution_count": 58,
   "metadata": {},
   "outputs": [
    {
     "data": {
      "text/plain": [
       "count    19928.000000\n",
       "mean       178.055901\n",
       "std        217.128033\n",
       "min          1.000000\n",
       "25%         44.000000\n",
       "50%         94.000000\n",
       "75%        226.000000\n",
       "max       1580.000000\n",
       "Name: days_exposition, dtype: float64"
      ]
     },
     "execution_count": 58,
     "metadata": {},
     "output_type": "execute_result"
    },
    {
     "data": {
      "image/png": "[encoded data removed]",
      "text/plain": [
       "<Figure size 432x288 with 1 Axes>"
      ]
     },
     "metadata": {
      "needs_background": "light"
     },
     "output_type": "display_data"
    }
   ],
   "source": [
    "data['days_exposition'].hist(bins=1580)\n",
    "data['days_exposition'].describe()"
   ]
  },
  {
   "cell_type": "markdown",
   "metadata": {},
   "source": [
    "Если проанализировать данные о количестве дней, в течение которых объявления о продаже недвижимости были размещены, то можно сделать вывод, что обычно такие объекты продаются в срок от 44 до 226 дней, то есть примерно от полутора до семи с половиной месяцев. В среднем продажа занимает почти шесть месяцев, а медианное значение составляет 94 дня, что примерно равно трём месяцам.\n",
    "\n",
    "Объявления о продаже недвижимости размещались на срок от одного дня до 1580 дней, то есть более четырёх лет. Быстрыми продажами можно считать сделки, которые были совершены в течение 1–44 дней, а долгими — те, что длились более 226 дней, то есть дольше семи с половиной месяцев."
   ]
  },
  {
   "cell_type": "markdown",
   "metadata": {},
   "source": [
    "Определим факторы, которые в наибольшей степени влияют на общую стоимость недвижимости. Сначала мы выясним, зависит ли цена от площади квартиры."
   ]
  },
  {
   "cell_type": "code",
   "execution_count": 59,
   "metadata": {},
   "outputs": [
    {
     "data": {
      "text/plain": [
       "0.6959547301490229"
      ]
     },
     "execution_count": 59,
     "metadata": {},
     "output_type": "execute_result"
    },
    {
     "data": {
      "image/png": "[encoded data removed]",
      "text/plain": [
       "<Figure size 720x360 with 1 Axes>"
      ]
     },
     "metadata": {
      "needs_background": "light"
     },
     "output_type": "display_data"
    }
   ],
   "source": [
    "data.plot(x='total_area', y='last_price', kind='scatter', grid=True, alpha=0.5, figsize=(10, 5))\n",
    "data['total_area'].corr(data['last_price'])"
   ]
  },
  {
   "cell_type": "markdown",
   "metadata": {},
   "source": [
    "Из графика следует, что чем больше площадь квартиры, тем выше её стоимость. Наиболее дорогие квартиры имеют площадь свыше 120 квадратных метров.\n",
    "\n",
    "Коэффициент корреляции Пирсона для этого графика составляет 0,695 и является высоким и положительным, что свидетельствует о тесной линейной связи между площадью квартиры и её стоимостью.\n",
    "\n",
    "Рассмотрим, как цена зависит от жилой площади квартиры."
   ]
  },
  {
   "cell_type": "code",
   "execution_count": 60,
   "metadata": {},
   "outputs": [
    {
     "data": {
      "text/plain": [
       "0.5824361268770778"
      ]
     },
     "execution_count": 60,
     "metadata": {},
     "output_type": "execute_result"
    },
    {
     "data": {
      "image/png": "[encoded data removed]",
      "text/plain": [
       "<Figure size 720x360 with 1 Axes>"
      ]
     },
     "metadata": {
      "needs_background": "light"
     },
     "output_type": "display_data"
    }
   ],
   "source": [
    "data.plot(x='living_area', y='last_price', kind='scatter', grid=True, alpha=0.5, figsize=(10, 5))\n",
    "data['living_area'].corr(data['last_price'])"
   ]
  },
  {
   "cell_type": "markdown",
   "metadata": {},
   "source": [
    "График показывает, что чем больше жилая площадь квартиры, тем выше её цена. Корреляция между этими показателями составляет 0,58, что указывает на наличие связи, но не очень сильной. Это означает, что увеличение жилой площади обычно приводит к увеличению стоимости, но не всегда.\n",
    "\n",
    "Теперь разберём, как цена зависит от площади кухни в квартире."
   ]
  },
  {
   "cell_type": "code",
   "execution_count": 61,
   "metadata": {},
   "outputs": [
    {
     "data": {
      "text/plain": [
       "0.5636936672455447"
      ]
     },
     "execution_count": 61,
     "metadata": {},
     "output_type": "execute_result"
    },
    {
     "data": {
      "image/png": "[encoded data removed]",
      "text/plain": [
       "<Figure size 648x360 with 1 Axes>"
      ]
     },
     "metadata": {
      "needs_background": "light"
     },
     "output_type": "display_data"
    }
   ],
   "source": [
    "data.plot(x='kitchen_area', y='last_price', kind='scatter', grid=True, alpha=0.3, figsize=(9, 5))\n",
    "data['kitchen_area'].corr(data['last_price'])"
   ]
  },
  {
   "cell_type": "markdown",
   "metadata": {},
   "source": [
    "Как и в предыдущем анализе данных, график демонстрирует, что цена квартиры возрастает с увеличением площади её кухни. Коэффициент корреляции между этими показателями составляет 0,52, что указывает на наличие взаимосвязи, хотя и не очень сильной. Это означает, что, как правило, при увеличении площади кухни растёт и её стоимость, однако это не всегда так.\n",
    "\n",
    "Теперь рассмотрим, как цена зависит от количества комнат в недвижимости. Для этого мы сгруппируем данные по количеству комнат и построим столбчатую диаграмму."
   ]
  },
  {
   "cell_type": "code",
   "execution_count": 62,
   "metadata": {},
   "outputs": [
    {
     "data": {
      "text/plain": [
       "0.39909150276905586"
      ]
     },
     "execution_count": 62,
     "metadata": {},
     "output_type": "execute_result"
    },
    {
     "data": {
      "image/png": "[encoded data removed]",
      "text/plain": [
       "<Figure size 432x288 with 1 Axes>"
      ]
     },
     "metadata": {
      "needs_background": "light"
     },
     "output_type": "display_data"
    }
   ],
   "source": [
    "data.groupby('rooms')['last_price'].median().plot(kind='bar')\n",
    "data['rooms'].corr(data['last_price'])"
   ]
  },
  {
   "cell_type": "markdown",
   "metadata": {},
   "source": [
    "График показывает, что цена квартиры увеличивается с увеличением количества комнат в ней. Коэффициент корреляции между этими показателями составляет 0,4, что указывает на наличие взаимосвязи, хотя и не очень сильной. Это означает, что обычно чем больше комнат в квартире, тем выше её стоимость. Однако стоит отметить, что эта зависимость не всегда соблюдается.\n",
    "\n",
    "Теперь рассмотрим, как цена зависит от этажа расположения квартиры: первый этаж, последний этаж или другие этажи. Для этого мы сгруппируем данные по этим критериям и построим столбчатую диаграмму, чтобы наглядно продемонстрировать различия в ценах на квартиры в зависимости от этажа."
   ]
  },
  {
   "cell_type": "code",
   "execution_count": 63,
   "metadata": {},
   "outputs": [
    {
     "data": {
      "text/plain": [
       "<AxesSubplot:xlabel='floor_type'>"
      ]
     },
     "execution_count": 63,
     "metadata": {},
     "output_type": "execute_result"
    },
    {
     "data": {
      "image/png": "[encoded data removed]",
      "text/plain": [
       "<Figure size 432x288 with 1 Axes>"
      ]
     },
     "metadata": {
      "needs_background": "light"
     },
     "output_type": "display_data"
    }
   ],
   "source": [
    "data.groupby('floor_type')['last_price'].median().plot(kind='bar', grid=True)"
   ]
  },
  {
   "cell_type": "markdown",
   "metadata": {},
   "source": [
    "Из графика видно, что квартиры на первом этаже обычно стоят дешевле, чем квартиры на других этажах. Квартиры на последних этажах стоят дороже, чем на первых, но дешевле, чем на остальных.\n",
    "\n",
    "Таким образом, можно сделать вывод, что стоимость недвижимости зависит от этажа, на котором она находится.\n",
    "\n",
    "Выясним, существует ли зависимость между ценой квартиры и днём недели, месяцем или годом, когда она была выставлена на продажу."
   ]
  },
  {
   "cell_type": "code",
   "execution_count": 64,
   "metadata": {},
   "outputs": [
    {
     "data": {
      "text/plain": [
       "-0.012800107186439072"
      ]
     },
     "execution_count": 64,
     "metadata": {},
     "output_type": "execute_result"
    },
    {
     "data": {
      "image/png": "[encoded data removed]",
      "text/plain": [
       "<Figure size 432x288 with 1 Axes>"
      ]
     },
     "metadata": {},
     "output_type": "display_data"
    }
   ],
   "source": [
    "data.groupby('weekday')['last_price'].median().plot(kind='pie')\n",
    "data['weekday'].corr(data['last_price'])"
   ]
  },
  {
   "cell_type": "markdown",
   "metadata": {},
   "source": [
    "Из графика видно, что цена на недвижимость не зависит от того, в какой день было размещено объявление."
   ]
  },
  {
   "cell_type": "code",
   "execution_count": 65,
   "metadata": {},
   "outputs": [
    {
     "data": {
      "text/plain": [
       "<AxesSubplot:xlabel='month_exposition'>"
      ]
     },
     "execution_count": 65,
     "metadata": {},
     "output_type": "execute_result"
    },
    {
     "data": {
      "image/png": "[encoded data removed]",
      "text/plain": [
       "<Figure size 432x288 with 1 Axes>"
      ]
     },
     "metadata": {
      "needs_background": "light"
     },
     "output_type": "display_data"
    }
   ],
   "source": [
    "data.groupby('month_exposition')['last_price'].median().plot(kind='bar', grid=True)"
   ]
  },
  {
   "cell_type": "markdown",
   "metadata": {},
   "source": [
    "График показывает, что существует связь между месяцем размещения объявления о продаже недвижимости и ценой, по которой объект был реализован. Так, в июне квартиры продавались по самым низким ценам, а в апреле — по самым высоким."
   ]
  },
  {
   "cell_type": "code",
   "execution_count": 66,
   "metadata": {},
   "outputs": [
    {
     "data": {
      "text/plain": [
       "<AxesSubplot:xlabel='year_exposition'>"
      ]
     },
     "execution_count": 66,
     "metadata": {},
     "output_type": "execute_result"
    },
    {
     "data": {
      "image/png": "[encoded data removed]",
      "text/plain": [
       "<Figure size 432x288 with 1 Axes>"
      ]
     },
     "metadata": {
      "needs_background": "light"
     },
     "output_type": "display_data"
    }
   ],
   "source": [
    "data.groupby('year_exposition')['last_price'].median().plot(kind='bar', grid=True)"
   ]
  },
  {
   "cell_type": "markdown",
   "metadata": {},
   "source": [
    "Из графика можно сделать интересные выводы. Оказывается, в 2014 году объекты недвижимости продавались по самым высоким ценам. Наибольшее снижение стоимости было зафиксировано в 2016 и 2017 годах. После этого цены на недвижимость начали постепенно расти.\n",
    "\n",
    "Итак, можно сделать вывод, что наиболее значимыми факторами, влияющими на общую стоимость объекта недвижимости, являются площадь квартиры, жилая площадь, площадь кухни и количество комнат. В меньшей степени на цену влияют этаж расположения квартиры и месяц, в котором было опубликовано объявление о продаже. Не удалось обнаружить взаимосвязи между днём недели, в который было опубликовано объявление о продаже квартиры, и её стоимостью. График цен на квартиры по годам показывает, что после периода снижения цен начался постепенный рост стоимости объектов недвижимости."
   ]
  },
  {
   "cell_type": "markdown",
   "metadata": {},
   "source": [
    "Рассчитаем среднюю стоимость одного квадратного метра в десяти населённых пунктах, где было размещено наибольшее количество объявлений. Создадим сводную таблицу, в которой будет указано количество объявлений и средняя цена квадратного метра для каждого из этих населённых пунктов."
   ]
  },
  {
   "cell_type": "code",
   "execution_count": 67,
   "metadata": {},
   "outputs": [],
   "source": [
    "data_pivot = (\n",
    "    data.pivot_table(index=['locality_name_split'], values='price_meter', aggfunc=('count', 'mean'))\n",
    "    .sort_values(by='count', ascending=False).head(10)\n",
    ")\n",
    "data_pivot['mean'] = round(data_pivot['mean'], 2)"
   ]
  },
  {
   "cell_type": "code",
   "execution_count": 68,
   "metadata": {},
   "outputs": [
    {
     "data": {
      "text/html": [
       "<div>\n",
       "<style scoped>\n",
       "    .dataframe tbody tr th:only-of-type {\n",
       "        vertical-align: middle;\n",
       "    }\n",
       "\n",
       "    .dataframe tbody tr th {\n",
       "        vertical-align: top;\n",
       "    }\n",
       "\n",
       "    .dataframe thead th {\n",
       "        text-align: right;\n",
       "    }\n",
       "</style>\n",
       "<table border=\"1\" class=\"dataframe\">\n",
       "  <thead>\n",
       "    <tr style=\"text-align: right;\">\n",
       "      <th></th>\n",
       "      <th>Населённые пункты</th>\n",
       "      <th>Всего объявлений</th>\n",
       "      <th>Средняя цена кв.м.</th>\n",
       "    </tr>\n",
       "  </thead>\n",
       "  <tbody>\n",
       "    <tr>\n",
       "      <th>0</th>\n",
       "      <td>Санкт-Петербург</td>\n",
       "      <td>15073</td>\n",
       "      <td>112302.93</td>\n",
       "    </tr>\n",
       "    <tr>\n",
       "      <th>1</th>\n",
       "      <td>Мурино</td>\n",
       "      <td>586</td>\n",
       "      <td>86041.12</td>\n",
       "    </tr>\n",
       "    <tr>\n",
       "      <th>2</th>\n",
       "      <td>Кудрово</td>\n",
       "      <td>469</td>\n",
       "      <td>95261.96</td>\n",
       "    </tr>\n",
       "    <tr>\n",
       "      <th>3</th>\n",
       "      <td>Шушары</td>\n",
       "      <td>439</td>\n",
       "      <td>78551.34</td>\n",
       "    </tr>\n",
       "    <tr>\n",
       "      <th>4</th>\n",
       "      <td>Всеволожск</td>\n",
       "      <td>396</td>\n",
       "      <td>68768.25</td>\n",
       "    </tr>\n",
       "    <tr>\n",
       "      <th>5</th>\n",
       "      <td>Пушкин</td>\n",
       "      <td>359</td>\n",
       "      <td>102866.52</td>\n",
       "    </tr>\n",
       "    <tr>\n",
       "      <th>6</th>\n",
       "      <td>Колпино</td>\n",
       "      <td>337</td>\n",
       "      <td>75333.30</td>\n",
       "    </tr>\n",
       "    <tr>\n",
       "      <th>7</th>\n",
       "      <td>Парголово</td>\n",
       "      <td>326</td>\n",
       "      <td>90332.26</td>\n",
       "    </tr>\n",
       "    <tr>\n",
       "      <th>8</th>\n",
       "      <td>Гатчина</td>\n",
       "      <td>307</td>\n",
       "      <td>68746.15</td>\n",
       "    </tr>\n",
       "    <tr>\n",
       "      <th>9</th>\n",
       "      <td>Выборг</td>\n",
       "      <td>233</td>\n",
       "      <td>58172.39</td>\n",
       "    </tr>\n",
       "  </tbody>\n",
       "</table>\n",
       "</div>"
      ],
      "text/plain": [
       "  Населённые пункты  Всего объявлений  Средняя цена кв.м.\n",
       "0   Санкт-Петербург             15073           112302.93\n",
       "1            Мурино               586            86041.12\n",
       "2           Кудрово               469            95261.96\n",
       "3            Шушары               439            78551.34\n",
       "4        Всеволожск               396            68768.25\n",
       "5            Пушкин               359           102866.52\n",
       "6           Колпино               337            75333.30\n",
       "7         Парголово               326            90332.26\n",
       "8           Гатчина               307            68746.15\n",
       "9            Выборг               233            58172.39"
      ]
     },
     "execution_count": 68,
     "metadata": {},
     "output_type": "execute_result"
    }
   ],
   "source": [
    "data_pivot = data_pivot.reset_index(drop=False) # убираем мультииндекс\n",
    "data_pivot = (\n",
    "    data_pivot\n",
    "    .rename(columns={'locality_name_split': 'Населённые пункты', 'count': 'Всего объявлений', 'mean': 'Средняя цена кв.м.'})\n",
    ") # меняем название колонок для улучшения восприятия\n",
    "data_pivot"
   ]
  },
  {
   "cell_type": "code",
   "execution_count": 69,
   "metadata": {},
   "outputs": [
    {
     "data": {
      "text/html": [
       "<div>\n",
       "<style scoped>\n",
       "    .dataframe tbody tr th:only-of-type {\n",
       "        vertical-align: middle;\n",
       "    }\n",
       "\n",
       "    .dataframe tbody tr th {\n",
       "        vertical-align: top;\n",
       "    }\n",
       "\n",
       "    .dataframe thead th {\n",
       "        text-align: right;\n",
       "    }\n",
       "</style>\n",
       "<table border=\"1\" class=\"dataframe\">\n",
       "  <thead>\n",
       "    <tr style=\"text-align: right;\">\n",
       "      <th></th>\n",
       "      <th>Населённые пункты</th>\n",
       "      <th>Всего объявлений</th>\n",
       "      <th>Средняя цена кв.м.</th>\n",
       "    </tr>\n",
       "  </thead>\n",
       "  <tbody>\n",
       "    <tr>\n",
       "      <th>0</th>\n",
       "      <td>Санкт-Петербург</td>\n",
       "      <td>15073</td>\n",
       "      <td>112302.93</td>\n",
       "    </tr>\n",
       "    <tr>\n",
       "      <th>5</th>\n",
       "      <td>Пушкин</td>\n",
       "      <td>359</td>\n",
       "      <td>102866.52</td>\n",
       "    </tr>\n",
       "    <tr>\n",
       "      <th>2</th>\n",
       "      <td>Кудрово</td>\n",
       "      <td>469</td>\n",
       "      <td>95261.96</td>\n",
       "    </tr>\n",
       "    <tr>\n",
       "      <th>7</th>\n",
       "      <td>Парголово</td>\n",
       "      <td>326</td>\n",
       "      <td>90332.26</td>\n",
       "    </tr>\n",
       "    <tr>\n",
       "      <th>1</th>\n",
       "      <td>Мурино</td>\n",
       "      <td>586</td>\n",
       "      <td>86041.12</td>\n",
       "    </tr>\n",
       "    <tr>\n",
       "      <th>3</th>\n",
       "      <td>Шушары</td>\n",
       "      <td>439</td>\n",
       "      <td>78551.34</td>\n",
       "    </tr>\n",
       "    <tr>\n",
       "      <th>6</th>\n",
       "      <td>Колпино</td>\n",
       "      <td>337</td>\n",
       "      <td>75333.30</td>\n",
       "    </tr>\n",
       "    <tr>\n",
       "      <th>4</th>\n",
       "      <td>Всеволожск</td>\n",
       "      <td>396</td>\n",
       "      <td>68768.25</td>\n",
       "    </tr>\n",
       "    <tr>\n",
       "      <th>8</th>\n",
       "      <td>Гатчина</td>\n",
       "      <td>307</td>\n",
       "      <td>68746.15</td>\n",
       "    </tr>\n",
       "    <tr>\n",
       "      <th>9</th>\n",
       "      <td>Выборг</td>\n",
       "      <td>233</td>\n",
       "      <td>58172.39</td>\n",
       "    </tr>\n",
       "  </tbody>\n",
       "</table>\n",
       "</div>"
      ],
      "text/plain": [
       "  Населённые пункты  Всего объявлений  Средняя цена кв.м.\n",
       "0   Санкт-Петербург             15073           112302.93\n",
       "5            Пушкин               359           102866.52\n",
       "2           Кудрово               469            95261.96\n",
       "7         Парголово               326            90332.26\n",
       "1            Мурино               586            86041.12\n",
       "3            Шушары               439            78551.34\n",
       "6           Колпино               337            75333.30\n",
       "4        Всеволожск               396            68768.25\n",
       "8           Гатчина               307            68746.15\n",
       "9            Выборг               233            58172.39"
      ]
     },
     "execution_count": 69,
     "metadata": {},
     "output_type": "execute_result"
    }
   ],
   "source": [
    "data_pivot.sort_values(by='Средняя цена кв.м.', ascending=False) \n",
    "# выделим населённые пункты с самой высокой и низкой стоимостью квадратного метра"
   ]
  },
  {
   "cell_type": "code",
   "execution_count": 70,
   "metadata": {},
   "outputs": [
    {
     "data": {
      "image/png": "[encoded data removed]",
      "text/plain": [
       "<Figure size 576x576 with 1 Axes>"
      ]
     },
     "metadata": {
      "needs_background": "light"
     },
     "output_type": "display_data"
    }
   ],
   "source": [
    "data_pivot.plot(x='Населённые пункты', y='Средняя цена кв.м.', kind='bar', grid=True, figsize=(8, 8));"
   ]
  },
  {
   "cell_type": "markdown",
   "metadata": {},
   "source": [
    "В сводной таблице мы выделили 10 населённых пунктов, в которых объявления о продаже недвижимости появлялись чаще всего. Из таблицы видно, что средняя стоимость квадратного метра жилья в Санкт-Петербурге самая высокая, а в Выборге — самая низкая."
   ]
  },
  {
   "cell_type": "markdown",
   "metadata": {},
   "source": [
    "Рассмотрим стоимость квартир в Санкт-Петербурге в зависимости от их удалённости от центра города. Мы проанализируем цены на квартиры на разном расстоянии от центра и построим график, который покажет, как меняется средняя стоимость объектов недвижимости при удалении от центра на один километр. Это поможет нам понять, как расстояние до центра города влияет на стоимость жилья."
   ]
  },
  {
   "cell_type": "code",
   "execution_count": 71,
   "metadata": {},
   "outputs": [
    {
     "data": {
      "text/html": [
       "<div>\n",
       "<style scoped>\n",
       "    .dataframe tbody tr th:only-of-type {\n",
       "        vertical-align: middle;\n",
       "    }\n",
       "\n",
       "    .dataframe tbody tr th {\n",
       "        vertical-align: top;\n",
       "    }\n",
       "\n",
       "    .dataframe thead th {\n",
       "        text-align: right;\n",
       "    }\n",
       "</style>\n",
       "<table border=\"1\" class=\"dataframe\">\n",
       "  <thead>\n",
       "    <tr style=\"text-align: right;\">\n",
       "      <th></th>\n",
       "      <th>Расстояние до центра</th>\n",
       "      <th>Всего объектов</th>\n",
       "      <th>Средняя цена квартиры</th>\n",
       "    </tr>\n",
       "  </thead>\n",
       "  <tbody>\n",
       "    <tr>\n",
       "      <th>0</th>\n",
       "      <td>0.0</td>\n",
       "      <td>19.0</td>\n",
       "      <td>21988559.0</td>\n",
       "    </tr>\n",
       "    <tr>\n",
       "      <th>1</th>\n",
       "      <td>1.0</td>\n",
       "      <td>162.0</td>\n",
       "      <td>11619012.0</td>\n",
       "    </tr>\n",
       "    <tr>\n",
       "      <th>2</th>\n",
       "      <td>2.0</td>\n",
       "      <td>260.0</td>\n",
       "      <td>12002412.0</td>\n",
       "    </tr>\n",
       "    <tr>\n",
       "      <th>3</th>\n",
       "      <td>3.0</td>\n",
       "      <td>312.0</td>\n",
       "      <td>9570049.0</td>\n",
       "    </tr>\n",
       "    <tr>\n",
       "      <th>4</th>\n",
       "      <td>4.0</td>\n",
       "      <td>619.0</td>\n",
       "      <td>9892485.0</td>\n",
       "    </tr>\n",
       "    <tr>\n",
       "      <th>5</th>\n",
       "      <td>5.0</td>\n",
       "      <td>806.0</td>\n",
       "      <td>10453559.0</td>\n",
       "    </tr>\n",
       "    <tr>\n",
       "      <th>6</th>\n",
       "      <td>6.0</td>\n",
       "      <td>547.0</td>\n",
       "      <td>10944113.0</td>\n",
       "    </tr>\n",
       "    <tr>\n",
       "      <th>7</th>\n",
       "      <td>7.0</td>\n",
       "      <td>383.0</td>\n",
       "      <td>11560972.0</td>\n",
       "    </tr>\n",
       "    <tr>\n",
       "      <th>8</th>\n",
       "      <td>8.0</td>\n",
       "      <td>562.0</td>\n",
       "      <td>8214542.0</td>\n",
       "    </tr>\n",
       "    <tr>\n",
       "      <th>9</th>\n",
       "      <td>9.0</td>\n",
       "      <td>586.0</td>\n",
       "      <td>6777151.0</td>\n",
       "    </tr>\n",
       "    <tr>\n",
       "      <th>10</th>\n",
       "      <td>10.0</td>\n",
       "      <td>705.0</td>\n",
       "      <td>6195059.0</td>\n",
       "    </tr>\n",
       "    <tr>\n",
       "      <th>11</th>\n",
       "      <td>11.0</td>\n",
       "      <td>1159.0</td>\n",
       "      <td>6016347.0</td>\n",
       "    </tr>\n",
       "    <tr>\n",
       "      <th>12</th>\n",
       "      <td>12.0</td>\n",
       "      <td>1588.0</td>\n",
       "      <td>5753836.0</td>\n",
       "    </tr>\n",
       "    <tr>\n",
       "      <th>13</th>\n",
       "      <td>13.0</td>\n",
       "      <td>1439.0</td>\n",
       "      <td>5970919.0</td>\n",
       "    </tr>\n",
       "    <tr>\n",
       "      <th>14</th>\n",
       "      <td>14.0</td>\n",
       "      <td>1269.0</td>\n",
       "      <td>5537959.0</td>\n",
       "    </tr>\n",
       "    <tr>\n",
       "      <th>15</th>\n",
       "      <td>15.0</td>\n",
       "      <td>1545.0</td>\n",
       "      <td>5696799.0</td>\n",
       "    </tr>\n",
       "    <tr>\n",
       "      <th>16</th>\n",
       "      <td>16.0</td>\n",
       "      <td>1259.0</td>\n",
       "      <td>5291159.0</td>\n",
       "    </tr>\n",
       "    <tr>\n",
       "      <th>17</th>\n",
       "      <td>17.0</td>\n",
       "      <td>863.0</td>\n",
       "      <td>5166203.0</td>\n",
       "    </tr>\n",
       "    <tr>\n",
       "      <th>18</th>\n",
       "      <td>18.0</td>\n",
       "      <td>256.0</td>\n",
       "      <td>4768795.0</td>\n",
       "    </tr>\n",
       "    <tr>\n",
       "      <th>19</th>\n",
       "      <td>19.0</td>\n",
       "      <td>156.0</td>\n",
       "      <td>5051410.0</td>\n",
       "    </tr>\n",
       "    <tr>\n",
       "      <th>20</th>\n",
       "      <td>20.0</td>\n",
       "      <td>19.0</td>\n",
       "      <td>4611579.0</td>\n",
       "    </tr>\n",
       "    <tr>\n",
       "      <th>21</th>\n",
       "      <td>21.0</td>\n",
       "      <td>117.0</td>\n",
       "      <td>5493469.0</td>\n",
       "    </tr>\n",
       "    <tr>\n",
       "      <th>22</th>\n",
       "      <td>22.0</td>\n",
       "      <td>200.0</td>\n",
       "      <td>5314640.0</td>\n",
       "    </tr>\n",
       "    <tr>\n",
       "      <th>23</th>\n",
       "      <td>23.0</td>\n",
       "      <td>83.0</td>\n",
       "      <td>4689843.0</td>\n",
       "    </tr>\n",
       "    <tr>\n",
       "      <th>24</th>\n",
       "      <td>24.0</td>\n",
       "      <td>26.0</td>\n",
       "      <td>3854430.0</td>\n",
       "    </tr>\n",
       "    <tr>\n",
       "      <th>25</th>\n",
       "      <td>25.0</td>\n",
       "      <td>26.0</td>\n",
       "      <td>4052840.0</td>\n",
       "    </tr>\n",
       "    <tr>\n",
       "      <th>26</th>\n",
       "      <td>26.0</td>\n",
       "      <td>43.0</td>\n",
       "      <td>4014287.0</td>\n",
       "    </tr>\n",
       "    <tr>\n",
       "      <th>27</th>\n",
       "      <td>27.0</td>\n",
       "      <td>2.0</td>\n",
       "      <td>8300000.0</td>\n",
       "    </tr>\n",
       "    <tr>\n",
       "      <th>28</th>\n",
       "      <td>28.0</td>\n",
       "      <td>7.0</td>\n",
       "      <td>5026429.0</td>\n",
       "    </tr>\n",
       "    <tr>\n",
       "      <th>29</th>\n",
       "      <td>29.0</td>\n",
       "      <td>6.0</td>\n",
       "      <td>4236667.0</td>\n",
       "    </tr>\n",
       "  </tbody>\n",
       "</table>\n",
       "</div>"
      ],
      "text/plain": [
       "    Расстояние до центра  Всего объектов  Средняя цена квартиры\n",
       "0                    0.0            19.0             21988559.0\n",
       "1                    1.0           162.0             11619012.0\n",
       "2                    2.0           260.0             12002412.0\n",
       "3                    3.0           312.0              9570049.0\n",
       "4                    4.0           619.0              9892485.0\n",
       "5                    5.0           806.0             10453559.0\n",
       "6                    6.0           547.0             10944113.0\n",
       "7                    7.0           383.0             11560972.0\n",
       "8                    8.0           562.0              8214542.0\n",
       "9                    9.0           586.0              6777151.0\n",
       "10                  10.0           705.0              6195059.0\n",
       "11                  11.0          1159.0              6016347.0\n",
       "12                  12.0          1588.0              5753836.0\n",
       "13                  13.0          1439.0              5970919.0\n",
       "14                  14.0          1269.0              5537959.0\n",
       "15                  15.0          1545.0              5696799.0\n",
       "16                  16.0          1259.0              5291159.0\n",
       "17                  17.0           863.0              5166203.0\n",
       "18                  18.0           256.0              4768795.0\n",
       "19                  19.0           156.0              5051410.0\n",
       "20                  20.0            19.0              4611579.0\n",
       "21                  21.0           117.0              5493469.0\n",
       "22                  22.0           200.0              5314640.0\n",
       "23                  23.0            83.0              4689843.0\n",
       "24                  24.0            26.0              3854430.0\n",
       "25                  25.0            26.0              4052840.0\n",
       "26                  26.0            43.0              4014287.0\n",
       "27                  27.0             2.0              8300000.0\n",
       "28                  28.0             7.0              5026429.0\n",
       "29                  29.0             6.0              4236667.0"
      ]
     },
     "execution_count": 71,
     "metadata": {},
     "output_type": "execute_result"
    }
   ],
   "source": [
    "data_spb = (\n",
    "    data.query('locality_name_split == \"Санкт-Петербург\"')\n",
    "    .pivot_table(index=['cityCenters_km'], values='last_price', aggfunc=('count', 'mean'))\n",
    ")\n",
    "data_spb['mean'] = round(data_spb['mean']) # округляем\n",
    "data_spb = data_spb.reset_index(drop=False)\n",
    "data_spb = (\n",
    "    data_spb\n",
    "    .rename(columns={'cityCenters_km': 'Расстояние до центра', 'count': 'Всего объектов', 'mean': 'Средняя цена квартиры'})\n",
    ")\n",
    "data_spb"
   ]
  },
  {
   "cell_type": "code",
   "execution_count": 72,
   "metadata": {},
   "outputs": [
    {
     "data": {
      "text/plain": [
       "-0.7489513369113368"
      ]
     },
     "execution_count": 72,
     "metadata": {},
     "output_type": "execute_result"
    },
    {
     "data": {
      "image/png": "[encoded data removed]",
      "text/plain": [
       "<Figure size 720x360 with 1 Axes>"
      ]
     },
     "metadata": {
      "needs_background": "light"
     },
     "output_type": "display_data"
    }
   ],
   "source": [
    "data_spb['Средняя цена квартиры'].plot(style='o-', grid=True, figsize=(10, 5))\n",
    "data_spb['Средняя цена квартиры'].corr(data_spb['Расстояние до центра'])"
   ]
  },
  {
   "cell_type": "markdown",
   "metadata": {},
   "source": [
    "Коэффициент корреляции равен -0,75, что указывает на тесную взаимосвязь между расстоянием от центра города и стоимостью объекта недвижимости. То есть, чем дальше объект находится от центра, тем ниже его цена. Однако на графике можно заметить некоторые исключения из этого правила."
   ]
  },
  {
   "cell_type": "markdown",
   "metadata": {},
   "source": [
    "После проведения исследовательского анализа данных, можно сказать следующее:\n",
    "* Большинство объектов недвижимости имеют площадь от 40 до 67 квадратных метров и жилую площадь от 19 до 41 квадратного метра. \n",
    "\n",
    "* Чаще всего на продажу выставляли одно-, двух- и трёхкомнатные квартиры, а квартиры на первом и последнем этажах — реже. Это связано с большим количеством вариантов других этажей.\n",
    "\n",
    "* Недвижимость чаще всего выставляли на продажу со вторника по субботу, особенно в четверг. Реже всего объявления публиковали в понедельник и воскресенье.\n",
    "\n",
    "* Недвижимость выставленная на продажу обычно находится на расстоянии от 9,66 до 16,37 км от центра города. \n",
    "\n",
    "* Парки и скверы обычно расположены в пределах 300–600 м от объекта недвижимости.\n",
    "\n",
    "* Продажи недвижимости занимают от 44 до 226 дней, в среднем — почти шесть месяцев.\n",
    "\n",
    "* Объявления о продаже недвижимости размещались на срок от одного дня до 1580 дней. Быстрыми продажами считаются сделки, которые были совершены в течение 1–44 дней, а долгими — те, что длились более 226 дней.\n",
    "\n",
    "* На стоимость объекта недвижимости влияют площадь квартиры, жилая площадь, площадь кухни и количество комнат. Этаж и месяц публикации объявления о продаже влияют в меньшей степени. Взаимосвязи между днём недели публикации объявления и стоимостью квартиры не обнаружено.\n",
    "\n",
    "* График цен на квартиры по годам показывает, что после периода снижения цен начался постепенный рост стоимости объектов недвижимости.\n",
    "\n",
    "* Из 10 населённых пунктов, где чаще всего появлялись объявления о продаже недвижимости, средняя стоимость квадратного метра жилья в Санкт-Петербурге самая высокая, а в Выборге — самая низкая.\n",
    "\n",
    "* Существует взаимосвязь между расстоянием от центра города и стоимостью объекта недвижимости: чем дальше от центра, тем ниже цена. Но существуют исключения из этого правила."
   ]
  },
  {
   "cell_type": "markdown",
   "metadata": {
    "id": "h7VpzkIDAwb-"
   },
   "source": [
    "### Общий вывод"
   ]
  },
  {
   "cell_type": "markdown",
   "metadata": {
    "id": "3H4lnp_KAwb-"
   },
   "source": [
    "1. При предобработке данных:\n",
    "* были обнаружены пропуски, и там, где это было возможно, значения были заполнены;\n",
    "* были рассмотрены типы данных в каждом столбце, и выявлены столбцы, в которых тип данных требовалось изменить;\n",
    "* были устранены неявные дубликаты;\n",
    "* были обработаны редкие и необычные значения (аномалии).\n",
    "\n",
    "2. Были созданы столбцы со следующими данными: цена одного квадратного метра; день недели, месяц и год размещения объявления о продаже недвижимости; тип этажа квартиры; расстояние до центра города в километрах.\n",
    "\n",
    "3. Был проведён детальный анализ данных, в результате которого были определены факторы, влияющие на стоимость недвижимости:\n",
    "* Площадь квартиры, жилая площадь и площадь кухни, а также количество комнат. Чем больше эти показатели, тем выше стоимость недвижимости.\n",
    "* Этаж, на котором находится объект. Квартиры на нижних этажах стоят дешевле, чем на более высоких этажах. Квартиры на последних этажах стоят дороже, чем на первых, но дешевле, чем на остальных этажах.\n",
    "* Месяц публикации объявления о продаже. В июне недвижимость продавалась по самым низким ценам, а в апреле — по самым высоким.\n",
    "* Расположение объекта недвижимости в определённом населённом пункте. В Санкт-Петербурге, Пушкине и Кудрово цена квадратного метра выше, чем в других населённых пунктах, где были размещены объявления.\n",
    "* Расстояние от центра города. Чем дальше от центра, тем ниже цена.\n",
    "\n",
    "\n",
    "\n",
    "\n"
   ]
  }
 ],
 "metadata": {
  "ExecuteTimeLog": [
   {
    "duration": 642,
    "start_time": "2024-04-27T07:14:50.042Z"
   },
   {
    "duration": 109,
    "start_time": "2024-04-27T07:14:59.791Z"
   },
   {
    "duration": 130,
    "start_time": "2024-04-27T07:15:39.195Z"
   },
   {
    "duration": 132,
    "start_time": "2024-04-27T07:16:09.563Z"
   },
   {
    "duration": 112,
    "start_time": "2024-04-27T07:16:44.198Z"
   },
   {
    "duration": 503,
    "start_time": "2024-04-27T07:22:23.951Z"
   },
   {
    "duration": 115,
    "start_time": "2024-04-27T07:22:58.287Z"
   },
   {
    "duration": 26,
    "start_time": "2024-04-27T07:23:34.048Z"
   },
   {
    "duration": 104,
    "start_time": "2024-04-27T07:23:45.001Z"
   },
   {
    "duration": 527,
    "start_time": "2024-04-27T07:23:51.900Z"
   },
   {
    "duration": 33,
    "start_time": "2024-04-27T07:23:52.429Z"
   },
   {
    "duration": 50,
    "start_time": "2024-04-27T07:25:03.188Z"
   },
   {
    "duration": 2446,
    "start_time": "2024-04-27T07:27:24.230Z"
   },
   {
    "duration": 27,
    "start_time": "2024-04-27T07:53:21.395Z"
   },
   {
    "duration": 17,
    "start_time": "2024-04-27T07:53:44.212Z"
   },
   {
    "duration": 9,
    "start_time": "2024-04-27T08:00:33.675Z"
   },
   {
    "duration": 4,
    "start_time": "2024-04-27T08:01:06.894Z"
   },
   {
    "duration": 5,
    "start_time": "2024-04-27T08:01:27.289Z"
   },
   {
    "duration": 5,
    "start_time": "2024-04-27T08:01:52.178Z"
   },
   {
    "duration": 83,
    "start_time": "2024-04-27T08:05:03.525Z"
   },
   {
    "duration": 7,
    "start_time": "2024-04-27T08:05:20.396Z"
   },
   {
    "duration": 81,
    "start_time": "2024-04-27T08:07:58.811Z"
   },
   {
    "duration": 71,
    "start_time": "2024-04-27T08:08:27.662Z"
   },
   {
    "duration": 79,
    "start_time": "2024-04-27T08:08:43.940Z"
   },
   {
    "duration": 10,
    "start_time": "2024-04-27T08:13:27.951Z"
   },
   {
    "duration": 514,
    "start_time": "2024-04-27T08:16:56.346Z"
   },
   {
    "duration": 53,
    "start_time": "2024-04-27T08:16:56.861Z"
   },
   {
    "duration": 2248,
    "start_time": "2024-04-27T08:16:56.916Z"
   },
   {
    "duration": 10,
    "start_time": "2024-04-27T08:16:59.166Z"
   },
   {
    "duration": 8,
    "start_time": "2024-04-27T08:27:42.835Z"
   },
   {
    "duration": 10,
    "start_time": "2024-04-27T08:30:03.575Z"
   },
   {
    "duration": 241,
    "start_time": "2024-04-27T08:35:10.634Z"
   },
   {
    "duration": 8,
    "start_time": "2024-04-27T08:35:43.942Z"
   },
   {
    "duration": 101,
    "start_time": "2024-04-27T08:35:58.441Z"
   },
   {
    "duration": 9,
    "start_time": "2024-04-27T08:36:16.760Z"
   },
   {
    "duration": 9,
    "start_time": "2024-04-27T08:37:09.497Z"
   },
   {
    "duration": 10,
    "start_time": "2024-04-27T08:37:40.934Z"
   },
   {
    "duration": 8,
    "start_time": "2024-04-27T08:38:21.433Z"
   },
   {
    "duration": 6,
    "start_time": "2024-04-27T08:40:36.709Z"
   },
   {
    "duration": 75,
    "start_time": "2024-04-27T08:42:12.242Z"
   },
   {
    "duration": 5,
    "start_time": "2024-04-27T08:42:40.031Z"
   },
   {
    "duration": 4,
    "start_time": "2024-04-27T08:42:52.405Z"
   },
   {
    "duration": 5,
    "start_time": "2024-04-27T08:43:08.532Z"
   },
   {
    "duration": 206,
    "start_time": "2024-04-27T08:56:56.065Z"
   },
   {
    "duration": 208,
    "start_time": "2024-04-27T08:57:22.060Z"
   },
   {
    "duration": 73,
    "start_time": "2024-04-27T08:57:45.859Z"
   },
   {
    "duration": 245,
    "start_time": "2024-04-27T08:57:51.299Z"
   },
   {
    "duration": 9,
    "start_time": "2024-04-27T08:58:33.005Z"
   },
   {
    "duration": 9,
    "start_time": "2024-04-27T08:59:33.113Z"
   },
   {
    "duration": 8,
    "start_time": "2024-04-27T09:01:46.193Z"
   },
   {
    "duration": 7,
    "start_time": "2024-04-27T09:02:17.100Z"
   },
   {
    "duration": 9,
    "start_time": "2024-04-27T09:06:59.177Z"
   },
   {
    "duration": 50,
    "start_time": "2024-04-27T09:07:10.797Z"
   },
   {
    "duration": 531,
    "start_time": "2024-04-27T11:23:33.789Z"
   },
   {
    "duration": 62,
    "start_time": "2024-04-27T11:23:34.321Z"
   },
   {
    "duration": 2347,
    "start_time": "2024-04-27T11:23:34.385Z"
   },
   {
    "duration": 9,
    "start_time": "2024-04-27T11:23:36.734Z"
   },
   {
    "duration": 37,
    "start_time": "2024-04-27T11:23:36.745Z"
   },
   {
    "duration": 86,
    "start_time": "2024-04-27T11:23:36.784Z"
   },
   {
    "duration": 0,
    "start_time": "2024-04-27T11:23:36.871Z"
   },
   {
    "duration": 0,
    "start_time": "2024-04-27T11:23:36.872Z"
   },
   {
    "duration": 0,
    "start_time": "2024-04-27T11:23:36.873Z"
   },
   {
    "duration": 544,
    "start_time": "2024-04-27T11:24:00.115Z"
   },
   {
    "duration": 59,
    "start_time": "2024-04-27T11:24:00.661Z"
   },
   {
    "duration": 2485,
    "start_time": "2024-04-27T11:24:00.722Z"
   },
   {
    "duration": 10,
    "start_time": "2024-04-27T11:24:03.209Z"
   },
   {
    "duration": 17,
    "start_time": "2024-04-27T11:24:03.222Z"
   },
   {
    "duration": 63,
    "start_time": "2024-04-27T11:24:03.241Z"
   },
   {
    "duration": 6,
    "start_time": "2024-04-27T11:24:03.306Z"
   },
   {
    "duration": 247,
    "start_time": "2024-04-27T11:24:03.313Z"
   },
   {
    "duration": 7,
    "start_time": "2024-04-27T11:24:03.561Z"
   },
   {
    "duration": 238,
    "start_time": "2024-04-27T11:24:59.461Z"
   },
   {
    "duration": 482,
    "start_time": "2024-04-27T11:25:24.251Z"
   },
   {
    "duration": 54,
    "start_time": "2024-04-27T11:25:24.735Z"
   },
   {
    "duration": 2494,
    "start_time": "2024-04-27T11:25:24.790Z"
   },
   {
    "duration": 22,
    "start_time": "2024-04-27T11:25:27.286Z"
   },
   {
    "duration": 19,
    "start_time": "2024-04-27T11:25:27.309Z"
   },
   {
    "duration": 50,
    "start_time": "2024-04-27T11:25:27.329Z"
   },
   {
    "duration": 5,
    "start_time": "2024-04-27T11:25:27.381Z"
   },
   {
    "duration": 23,
    "start_time": "2024-04-27T11:25:27.387Z"
   },
   {
    "duration": 14,
    "start_time": "2024-04-27T11:25:27.412Z"
   },
   {
    "duration": 233,
    "start_time": "2024-04-27T11:26:00.539Z"
   },
   {
    "duration": 483,
    "start_time": "2024-04-27T11:26:30.030Z"
   },
   {
    "duration": 50,
    "start_time": "2024-04-27T11:26:30.515Z"
   },
   {
    "duration": 2425,
    "start_time": "2024-04-27T11:26:30.567Z"
   },
   {
    "duration": 24,
    "start_time": "2024-04-27T11:26:32.995Z"
   },
   {
    "duration": 22,
    "start_time": "2024-04-27T11:26:33.020Z"
   },
   {
    "duration": 60,
    "start_time": "2024-04-27T11:26:33.044Z"
   },
   {
    "duration": 6,
    "start_time": "2024-04-27T11:26:33.106Z"
   },
   {
    "duration": 203,
    "start_time": "2024-04-27T11:26:33.114Z"
   },
   {
    "duration": 8,
    "start_time": "2024-04-27T11:26:33.318Z"
   },
   {
    "duration": 219,
    "start_time": "2024-04-27T11:27:42.935Z"
   },
   {
    "duration": 536,
    "start_time": "2024-04-27T11:28:33.096Z"
   },
   {
    "duration": 73,
    "start_time": "2024-04-27T11:28:33.634Z"
   },
   {
    "duration": 2407,
    "start_time": "2024-04-27T11:28:33.709Z"
   },
   {
    "duration": 10,
    "start_time": "2024-04-27T11:28:36.118Z"
   },
   {
    "duration": 25,
    "start_time": "2024-04-27T11:28:36.129Z"
   },
   {
    "duration": 59,
    "start_time": "2024-04-27T11:28:36.156Z"
   },
   {
    "duration": 5,
    "start_time": "2024-04-27T11:28:36.216Z"
   },
   {
    "duration": 231,
    "start_time": "2024-04-27T11:28:36.223Z"
   },
   {
    "duration": 7,
    "start_time": "2024-04-27T11:28:36.455Z"
   },
   {
    "duration": 46,
    "start_time": "2024-04-27T11:29:24.324Z"
   },
   {
    "duration": 531,
    "start_time": "2024-04-27T11:29:34.116Z"
   },
   {
    "duration": 59,
    "start_time": "2024-04-27T11:29:34.649Z"
   },
   {
    "duration": 2283,
    "start_time": "2024-04-27T11:29:34.710Z"
   },
   {
    "duration": 11,
    "start_time": "2024-04-27T11:29:36.999Z"
   },
   {
    "duration": 14,
    "start_time": "2024-04-27T11:29:37.012Z"
   },
   {
    "duration": 5,
    "start_time": "2024-04-27T11:29:37.027Z"
   },
   {
    "duration": 231,
    "start_time": "2024-04-27T11:29:37.033Z"
   },
   {
    "duration": 67,
    "start_time": "2024-04-27T11:29:37.266Z"
   },
   {
    "duration": 6,
    "start_time": "2024-04-27T11:29:37.335Z"
   },
   {
    "duration": 88,
    "start_time": "2024-04-27T11:33:46.762Z"
   },
   {
    "duration": 53,
    "start_time": "2024-04-27T11:54:42.358Z"
   },
   {
    "duration": 531,
    "start_time": "2024-04-27T11:56:41.682Z"
   },
   {
    "duration": 51,
    "start_time": "2024-04-27T11:56:42.215Z"
   },
   {
    "duration": 2199,
    "start_time": "2024-04-27T11:56:42.267Z"
   },
   {
    "duration": 9,
    "start_time": "2024-04-27T11:56:44.468Z"
   },
   {
    "duration": 26,
    "start_time": "2024-04-27T11:56:44.479Z"
   },
   {
    "duration": 5,
    "start_time": "2024-04-27T11:56:44.506Z"
   },
   {
    "duration": 214,
    "start_time": "2024-04-27T11:56:44.513Z"
   },
   {
    "duration": 48,
    "start_time": "2024-04-27T11:56:44.729Z"
   },
   {
    "duration": 17,
    "start_time": "2024-04-27T11:56:44.779Z"
   },
   {
    "duration": 58,
    "start_time": "2024-04-27T11:56:44.798Z"
   },
   {
    "duration": 7,
    "start_time": "2024-04-27T11:56:44.857Z"
   },
   {
    "duration": 6,
    "start_time": "2024-04-27T11:57:14.551Z"
   },
   {
    "duration": 510,
    "start_time": "2024-04-27T11:58:32.299Z"
   },
   {
    "duration": 52,
    "start_time": "2024-04-27T11:58:32.811Z"
   },
   {
    "duration": 2233,
    "start_time": "2024-04-27T11:58:32.867Z"
   },
   {
    "duration": 10,
    "start_time": "2024-04-27T11:58:35.102Z"
   },
   {
    "duration": 11,
    "start_time": "2024-04-27T11:58:35.114Z"
   },
   {
    "duration": 5,
    "start_time": "2024-04-27T11:58:35.126Z"
   },
   {
    "duration": 235,
    "start_time": "2024-04-27T11:58:35.132Z"
   },
   {
    "duration": 53,
    "start_time": "2024-04-27T11:58:35.368Z"
   },
   {
    "duration": 6,
    "start_time": "2024-04-27T11:58:35.424Z"
   },
   {
    "duration": 61,
    "start_time": "2024-04-27T11:58:35.431Z"
   },
   {
    "duration": 519,
    "start_time": "2024-04-27T12:00:04.012Z"
   },
   {
    "duration": 52,
    "start_time": "2024-04-27T12:00:04.533Z"
   },
   {
    "duration": 2293,
    "start_time": "2024-04-27T12:00:04.591Z"
   },
   {
    "duration": 10,
    "start_time": "2024-04-27T12:00:06.885Z"
   },
   {
    "duration": 30,
    "start_time": "2024-04-27T12:00:06.896Z"
   },
   {
    "duration": 57,
    "start_time": "2024-04-27T12:00:06.928Z"
   },
   {
    "duration": 222,
    "start_time": "2024-04-27T12:00:06.987Z"
   },
   {
    "duration": 51,
    "start_time": "2024-04-27T12:00:07.210Z"
   },
   {
    "duration": 56,
    "start_time": "2024-04-27T12:00:07.262Z"
   },
   {
    "duration": 49,
    "start_time": "2024-04-27T12:05:45.457Z"
   },
   {
    "duration": 20,
    "start_time": "2024-04-27T12:06:47.709Z"
   },
   {
    "duration": 7,
    "start_time": "2024-04-27T12:08:46.041Z"
   },
   {
    "duration": 39,
    "start_time": "2024-04-27T12:17:04.417Z"
   },
   {
    "duration": 4,
    "start_time": "2024-04-27T12:17:37.398Z"
   },
   {
    "duration": 46,
    "start_time": "2024-04-27T12:18:09.103Z"
   },
   {
    "duration": 5,
    "start_time": "2024-04-27T12:20:47.759Z"
   },
   {
    "duration": 6,
    "start_time": "2024-04-27T12:21:07.172Z"
   },
   {
    "duration": 70,
    "start_time": "2024-04-27T12:21:22.218Z"
   },
   {
    "duration": 6,
    "start_time": "2024-04-27T12:21:33.504Z"
   },
   {
    "duration": 5,
    "start_time": "2024-04-27T12:22:12.055Z"
   },
   {
    "duration": 26,
    "start_time": "2024-04-27T15:20:08.629Z"
   },
   {
    "duration": 9,
    "start_time": "2024-04-27T15:22:00.759Z"
   },
   {
    "duration": 7,
    "start_time": "2024-04-27T15:23:21.159Z"
   },
   {
    "duration": 512,
    "start_time": "2024-04-27T15:23:27.315Z"
   },
   {
    "duration": 49,
    "start_time": "2024-04-27T15:23:27.828Z"
   },
   {
    "duration": 2214,
    "start_time": "2024-04-27T15:23:27.878Z"
   },
   {
    "duration": 10,
    "start_time": "2024-04-27T15:23:30.094Z"
   },
   {
    "duration": 122,
    "start_time": "2024-04-27T15:23:30.106Z"
   },
   {
    "duration": 104,
    "start_time": "2024-04-27T15:23:30.230Z"
   },
   {
    "duration": 244,
    "start_time": "2024-04-27T15:23:30.335Z"
   },
   {
    "duration": 52,
    "start_time": "2024-04-27T15:23:30.581Z"
   },
   {
    "duration": 90,
    "start_time": "2024-04-27T15:23:30.635Z"
   },
   {
    "duration": 97,
    "start_time": "2024-04-27T15:23:30.727Z"
   },
   {
    "duration": 5,
    "start_time": "2024-04-27T15:23:30.826Z"
   },
   {
    "duration": 17,
    "start_time": "2024-04-27T15:31:35.877Z"
   },
   {
    "duration": 542,
    "start_time": "2024-04-27T15:32:58.988Z"
   },
   {
    "duration": 54,
    "start_time": "2024-04-27T15:33:00.848Z"
   },
   {
    "duration": 2596,
    "start_time": "2024-04-27T15:33:00.904Z"
   },
   {
    "duration": 10,
    "start_time": "2024-04-27T15:33:03.501Z"
   },
   {
    "duration": 22,
    "start_time": "2024-04-27T15:33:03.513Z"
   },
   {
    "duration": 7,
    "start_time": "2024-04-27T15:33:03.537Z"
   },
   {
    "duration": 221,
    "start_time": "2024-04-27T15:33:03.546Z"
   },
   {
    "duration": 57,
    "start_time": "2024-04-27T15:33:03.768Z"
   },
   {
    "duration": 16,
    "start_time": "2024-04-27T15:33:03.827Z"
   },
   {
    "duration": 60,
    "start_time": "2024-04-27T15:33:03.844Z"
   },
   {
    "duration": 5,
    "start_time": "2024-04-27T15:33:03.906Z"
   },
   {
    "duration": 541,
    "start_time": "2024-04-27T15:43:21.094Z"
   },
   {
    "duration": 58,
    "start_time": "2024-04-27T15:43:21.638Z"
   },
   {
    "duration": 2322,
    "start_time": "2024-04-27T15:43:21.698Z"
   },
   {
    "duration": 13,
    "start_time": "2024-04-27T15:43:24.023Z"
   },
   {
    "duration": 33,
    "start_time": "2024-04-27T15:43:24.038Z"
   },
   {
    "duration": 6,
    "start_time": "2024-04-27T15:43:24.074Z"
   },
   {
    "duration": 227,
    "start_time": "2024-04-27T15:43:24.082Z"
   },
   {
    "duration": 51,
    "start_time": "2024-04-27T15:43:24.311Z"
   },
   {
    "duration": 64,
    "start_time": "2024-04-27T15:43:24.364Z"
   },
   {
    "duration": 17,
    "start_time": "2024-04-27T15:43:24.431Z"
   },
   {
    "duration": 55,
    "start_time": "2024-04-27T15:43:24.450Z"
   },
   {
    "duration": 6,
    "start_time": "2024-04-27T15:43:24.507Z"
   },
   {
    "duration": 545,
    "start_time": "2024-04-27T15:50:18.914Z"
   },
   {
    "duration": 62,
    "start_time": "2024-04-27T15:50:19.461Z"
   },
   {
    "duration": 2435,
    "start_time": "2024-04-27T15:50:19.525Z"
   },
   {
    "duration": 24,
    "start_time": "2024-04-27T15:50:21.962Z"
   },
   {
    "duration": 16,
    "start_time": "2024-04-27T15:50:21.989Z"
   },
   {
    "duration": 6,
    "start_time": "2024-04-27T15:50:22.007Z"
   },
   {
    "duration": 248,
    "start_time": "2024-04-27T15:50:22.015Z"
   },
   {
    "duration": 44,
    "start_time": "2024-04-27T15:50:22.264Z"
   },
   {
    "duration": 53,
    "start_time": "2024-04-27T15:50:22.309Z"
   },
   {
    "duration": 37,
    "start_time": "2024-04-27T15:50:22.365Z"
   },
   {
    "duration": 6,
    "start_time": "2024-04-27T15:50:22.404Z"
   },
   {
    "duration": 6,
    "start_time": "2024-04-27T15:54:42.868Z"
   },
   {
    "duration": 6,
    "start_time": "2024-04-27T16:05:45.252Z"
   },
   {
    "duration": 527,
    "start_time": "2024-04-27T16:11:23.488Z"
   },
   {
    "duration": 59,
    "start_time": "2024-04-27T16:11:24.017Z"
   },
   {
    "duration": 2230,
    "start_time": "2024-04-27T16:11:24.078Z"
   },
   {
    "duration": 11,
    "start_time": "2024-04-27T16:11:26.310Z"
   },
   {
    "duration": 23,
    "start_time": "2024-04-27T16:11:26.322Z"
   },
   {
    "duration": 22,
    "start_time": "2024-04-27T16:11:26.347Z"
   },
   {
    "duration": 204,
    "start_time": "2024-04-27T16:11:26.370Z"
   },
   {
    "duration": 39,
    "start_time": "2024-04-27T16:11:26.576Z"
   },
   {
    "duration": 5,
    "start_time": "2024-04-27T16:11:26.617Z"
   },
   {
    "duration": 52,
    "start_time": "2024-04-27T16:11:26.624Z"
   },
   {
    "duration": 16,
    "start_time": "2024-04-27T16:11:26.691Z"
   },
   {
    "duration": 13,
    "start_time": "2024-04-27T16:11:45.219Z"
   },
   {
    "duration": 538,
    "start_time": "2024-04-27T16:12:01.603Z"
   },
   {
    "duration": 51,
    "start_time": "2024-04-27T16:12:02.143Z"
   },
   {
    "duration": 2217,
    "start_time": "2024-04-27T16:12:02.195Z"
   },
   {
    "duration": 10,
    "start_time": "2024-04-27T16:12:04.414Z"
   },
   {
    "duration": 17,
    "start_time": "2024-04-27T16:12:04.426Z"
   },
   {
    "duration": 5,
    "start_time": "2024-04-27T16:12:04.445Z"
   },
   {
    "duration": 202,
    "start_time": "2024-04-27T16:12:04.452Z"
   },
   {
    "duration": 44,
    "start_time": "2024-04-27T16:12:04.655Z"
   },
   {
    "duration": 4,
    "start_time": "2024-04-27T16:12:04.701Z"
   },
   {
    "duration": 55,
    "start_time": "2024-04-27T16:12:04.707Z"
   },
   {
    "duration": 28,
    "start_time": "2024-04-27T16:12:04.764Z"
   },
   {
    "duration": 9,
    "start_time": "2024-04-27T16:18:25.094Z"
   },
   {
    "duration": 112,
    "start_time": "2024-04-27T16:19:12.736Z"
   },
   {
    "duration": 51,
    "start_time": "2024-04-27T16:19:12.849Z"
   },
   {
    "duration": 2025,
    "start_time": "2024-04-27T16:19:12.901Z"
   },
   {
    "duration": 10,
    "start_time": "2024-04-27T16:19:14.928Z"
   },
   {
    "duration": 52,
    "start_time": "2024-04-27T16:19:14.939Z"
   },
   {
    "duration": 9,
    "start_time": "2024-04-27T16:19:14.992Z"
   },
   {
    "duration": 254,
    "start_time": "2024-04-27T16:19:15.002Z"
   },
   {
    "duration": 36,
    "start_time": "2024-04-27T16:19:15.257Z"
   },
   {
    "duration": 8,
    "start_time": "2024-04-27T16:19:15.295Z"
   },
   {
    "duration": 53,
    "start_time": "2024-04-27T16:19:15.305Z"
   },
   {
    "duration": 20,
    "start_time": "2024-04-27T16:19:15.359Z"
   },
   {
    "duration": 108,
    "start_time": "2024-04-27T16:19:15.381Z"
   },
   {
    "duration": 544,
    "start_time": "2024-04-27T16:19:51.540Z"
   },
   {
    "duration": 54,
    "start_time": "2024-04-27T16:19:52.087Z"
   },
   {
    "duration": 2217,
    "start_time": "2024-04-27T16:19:52.143Z"
   },
   {
    "duration": 11,
    "start_time": "2024-04-27T16:19:54.361Z"
   },
   {
    "duration": 13,
    "start_time": "2024-04-27T16:19:54.744Z"
   },
   {
    "duration": 9,
    "start_time": "2024-04-27T16:19:54.759Z"
   },
   {
    "duration": 247,
    "start_time": "2024-04-27T16:19:54.770Z"
   },
   {
    "duration": 42,
    "start_time": "2024-04-27T16:19:55.018Z"
   },
   {
    "duration": 28,
    "start_time": "2024-04-27T16:19:55.061Z"
   },
   {
    "duration": 37,
    "start_time": "2024-04-27T16:19:55.091Z"
   },
   {
    "duration": 39,
    "start_time": "2024-04-27T16:19:55.129Z"
   },
   {
    "duration": 50,
    "start_time": "2024-04-27T16:19:55.169Z"
   },
   {
    "duration": 25,
    "start_time": "2024-04-27T16:21:20.076Z"
   },
   {
    "duration": 538,
    "start_time": "2024-04-27T16:23:00.376Z"
   },
   {
    "duration": 51,
    "start_time": "2024-04-27T16:23:00.916Z"
   },
   {
    "duration": 2442,
    "start_time": "2024-04-27T16:23:00.968Z"
   },
   {
    "duration": 9,
    "start_time": "2024-04-27T16:23:03.412Z"
   },
   {
    "duration": 25,
    "start_time": "2024-04-27T16:23:03.423Z"
   },
   {
    "duration": 8,
    "start_time": "2024-04-27T16:23:03.450Z"
   },
   {
    "duration": 228,
    "start_time": "2024-04-27T16:23:03.460Z"
   },
   {
    "duration": 35,
    "start_time": "2024-04-27T16:23:03.689Z"
   },
   {
    "duration": 5,
    "start_time": "2024-04-27T16:23:03.726Z"
   },
   {
    "duration": 35,
    "start_time": "2024-04-27T16:23:03.732Z"
   },
   {
    "duration": 12,
    "start_time": "2024-04-27T16:23:03.769Z"
   },
   {
    "duration": 6,
    "start_time": "2024-04-27T16:23:03.783Z"
   },
   {
    "duration": 7,
    "start_time": "2024-04-27T16:23:03.791Z"
   },
   {
    "duration": 23,
    "start_time": "2024-04-27T16:23:03.800Z"
   },
   {
    "duration": 66,
    "start_time": "2024-04-27T16:23:03.825Z"
   },
   {
    "duration": 691,
    "start_time": "2024-04-28T10:28:23.065Z"
   },
   {
    "duration": 52,
    "start_time": "2024-04-28T10:28:23.759Z"
   },
   {
    "duration": 2484,
    "start_time": "2024-04-28T10:28:23.813Z"
   },
   {
    "duration": 10,
    "start_time": "2024-04-28T10:28:26.299Z"
   },
   {
    "duration": 12,
    "start_time": "2024-04-28T10:28:26.311Z"
   },
   {
    "duration": 14,
    "start_time": "2024-04-28T10:28:26.324Z"
   },
   {
    "duration": 211,
    "start_time": "2024-04-28T10:28:26.339Z"
   },
   {
    "duration": 42,
    "start_time": "2024-04-28T10:28:26.552Z"
   },
   {
    "duration": 4,
    "start_time": "2024-04-28T10:28:26.596Z"
   },
   {
    "duration": 9,
    "start_time": "2024-04-28T10:28:26.602Z"
   },
   {
    "duration": 8,
    "start_time": "2024-04-28T10:28:26.613Z"
   },
   {
    "duration": 5,
    "start_time": "2024-04-28T10:28:26.622Z"
   },
   {
    "duration": 39,
    "start_time": "2024-04-28T10:28:26.628Z"
   },
   {
    "duration": 23,
    "start_time": "2024-04-28T10:28:26.669Z"
   },
   {
    "duration": 79,
    "start_time": "2024-04-28T10:28:26.693Z"
   },
   {
    "duration": 553,
    "start_time": "2024-04-28T10:31:15.520Z"
   },
   {
    "duration": 55,
    "start_time": "2024-04-28T10:31:16.076Z"
   },
   {
    "duration": 2425,
    "start_time": "2024-04-28T10:31:16.133Z"
   },
   {
    "duration": 11,
    "start_time": "2024-04-28T10:31:18.560Z"
   },
   {
    "duration": 9,
    "start_time": "2024-04-28T10:31:18.573Z"
   },
   {
    "duration": 5,
    "start_time": "2024-04-28T10:31:18.584Z"
   },
   {
    "duration": 241,
    "start_time": "2024-04-28T10:31:18.590Z"
   },
   {
    "duration": 49,
    "start_time": "2024-04-28T10:31:18.832Z"
   },
   {
    "duration": 6,
    "start_time": "2024-04-28T10:31:18.882Z"
   },
   {
    "duration": 19,
    "start_time": "2024-04-28T10:31:18.890Z"
   },
   {
    "duration": 23,
    "start_time": "2024-04-28T10:31:18.911Z"
   },
   {
    "duration": 19,
    "start_time": "2024-04-28T10:31:18.935Z"
   },
   {
    "duration": 42,
    "start_time": "2024-04-28T10:31:18.956Z"
   },
   {
    "duration": 57,
    "start_time": "2024-04-28T10:31:19.000Z"
   },
   {
    "duration": 10,
    "start_time": "2024-04-28T11:25:54.836Z"
   },
   {
    "duration": 109,
    "start_time": "2024-04-29T08:04:18.405Z"
   },
   {
    "duration": 621,
    "start_time": "2024-04-29T08:04:18.568Z"
   },
   {
    "duration": 39,
    "start_time": "2024-04-29T08:04:19.190Z"
   },
   {
    "duration": 1846,
    "start_time": "2024-04-29T08:04:19.231Z"
   },
   {
    "duration": 8,
    "start_time": "2024-04-29T08:04:21.080Z"
   },
   {
    "duration": 8,
    "start_time": "2024-04-29T08:04:21.090Z"
   },
   {
    "duration": 4,
    "start_time": "2024-04-29T08:04:21.099Z"
   },
   {
    "duration": 158,
    "start_time": "2024-04-29T08:04:21.104Z"
   },
   {
    "duration": 35,
    "start_time": "2024-04-29T08:04:21.263Z"
   },
   {
    "duration": 7,
    "start_time": "2024-04-29T08:04:21.300Z"
   },
   {
    "duration": 73,
    "start_time": "2024-04-29T08:04:21.310Z"
   },
   {
    "duration": 0,
    "start_time": "2024-04-29T08:04:21.385Z"
   },
   {
    "duration": 0,
    "start_time": "2024-04-29T08:04:21.386Z"
   },
   {
    "duration": 0,
    "start_time": "2024-04-29T08:04:21.387Z"
   },
   {
    "duration": 0,
    "start_time": "2024-04-29T08:04:21.388Z"
   },
   {
    "duration": 0,
    "start_time": "2024-04-29T08:04:21.389Z"
   },
   {
    "duration": 0,
    "start_time": "2024-04-29T08:04:21.390Z"
   },
   {
    "duration": 17,
    "start_time": "2024-04-29T08:41:19.934Z"
   },
   {
    "duration": 410,
    "start_time": "2024-04-29T08:56:50.325Z"
   },
   {
    "duration": 38,
    "start_time": "2024-04-29T08:56:50.736Z"
   },
   {
    "duration": 1750,
    "start_time": "2024-04-29T08:56:50.775Z"
   },
   {
    "duration": 7,
    "start_time": "2024-04-29T08:56:52.527Z"
   },
   {
    "duration": 14,
    "start_time": "2024-04-29T08:56:52.535Z"
   },
   {
    "duration": 22,
    "start_time": "2024-04-29T08:56:52.550Z"
   },
   {
    "duration": 177,
    "start_time": "2024-04-29T08:56:52.573Z"
   },
   {
    "duration": 16,
    "start_time": "2024-04-29T08:56:52.751Z"
   },
   {
    "duration": 70,
    "start_time": "2024-04-29T08:56:52.769Z"
   },
   {
    "duration": 0,
    "start_time": "2024-04-29T08:56:52.840Z"
   },
   {
    "duration": 0,
    "start_time": "2024-04-29T08:56:52.842Z"
   },
   {
    "duration": 0,
    "start_time": "2024-04-29T08:56:52.843Z"
   },
   {
    "duration": 0,
    "start_time": "2024-04-29T08:56:52.844Z"
   },
   {
    "duration": 0,
    "start_time": "2024-04-29T08:56:52.845Z"
   },
   {
    "duration": 0,
    "start_time": "2024-04-29T08:56:52.846Z"
   },
   {
    "duration": 477,
    "start_time": "2024-04-29T08:58:15.102Z"
   },
   {
    "duration": 40,
    "start_time": "2024-04-29T08:58:15.581Z"
   },
   {
    "duration": 1726,
    "start_time": "2024-04-29T08:58:15.623Z"
   },
   {
    "duration": 8,
    "start_time": "2024-04-29T08:58:17.351Z"
   },
   {
    "duration": 7,
    "start_time": "2024-04-29T08:58:17.360Z"
   },
   {
    "duration": 4,
    "start_time": "2024-04-29T08:58:17.368Z"
   },
   {
    "duration": 146,
    "start_time": "2024-04-29T08:58:17.373Z"
   },
   {
    "duration": 16,
    "start_time": "2024-04-29T08:58:17.520Z"
   },
   {
    "duration": 71,
    "start_time": "2024-04-29T08:58:17.537Z"
   },
   {
    "duration": 0,
    "start_time": "2024-04-29T08:58:17.609Z"
   },
   {
    "duration": 0,
    "start_time": "2024-04-29T08:58:17.610Z"
   },
   {
    "duration": 0,
    "start_time": "2024-04-29T08:58:17.611Z"
   },
   {
    "duration": 0,
    "start_time": "2024-04-29T08:58:17.612Z"
   },
   {
    "duration": 0,
    "start_time": "2024-04-29T08:58:17.613Z"
   },
   {
    "duration": 0,
    "start_time": "2024-04-29T08:58:17.614Z"
   },
   {
    "duration": 7,
    "start_time": "2024-04-29T08:58:44.496Z"
   },
   {
    "duration": 7,
    "start_time": "2024-04-29T08:59:26.919Z"
   },
   {
    "duration": 458,
    "start_time": "2024-04-29T09:00:08.882Z"
   },
   {
    "duration": 39,
    "start_time": "2024-04-29T09:00:09.342Z"
   },
   {
    "duration": 1725,
    "start_time": "2024-04-29T09:00:09.384Z"
   },
   {
    "duration": 8,
    "start_time": "2024-04-29T09:00:11.111Z"
   },
   {
    "duration": 11,
    "start_time": "2024-04-29T09:00:11.120Z"
   },
   {
    "duration": 9,
    "start_time": "2024-04-29T09:00:11.132Z"
   },
   {
    "duration": 143,
    "start_time": "2024-04-29T09:00:11.142Z"
   },
   {
    "duration": 16,
    "start_time": "2024-04-29T09:00:11.286Z"
   },
   {
    "duration": 12,
    "start_time": "2024-04-29T09:00:11.303Z"
   },
   {
    "duration": 3,
    "start_time": "2024-04-29T09:00:11.317Z"
   },
   {
    "duration": 7,
    "start_time": "2024-04-29T09:00:11.322Z"
   },
   {
    "duration": 10,
    "start_time": "2024-04-29T09:00:11.330Z"
   },
   {
    "duration": 15,
    "start_time": "2024-04-29T09:00:11.341Z"
   },
   {
    "duration": 31,
    "start_time": "2024-04-29T09:00:11.357Z"
   },
   {
    "duration": 37,
    "start_time": "2024-04-29T09:00:11.389Z"
   },
   {
    "duration": 18,
    "start_time": "2024-04-29T09:09:32.222Z"
   },
   {
    "duration": 34,
    "start_time": "2024-04-29T09:10:06.463Z"
   },
   {
    "duration": 441,
    "start_time": "2024-04-29T09:14:14.493Z"
   },
   {
    "duration": 47,
    "start_time": "2024-04-29T09:14:14.936Z"
   },
   {
    "duration": 1718,
    "start_time": "2024-04-29T09:14:14.987Z"
   },
   {
    "duration": 7,
    "start_time": "2024-04-29T09:14:16.707Z"
   },
   {
    "duration": 15,
    "start_time": "2024-04-29T09:14:16.715Z"
   },
   {
    "duration": 9,
    "start_time": "2024-04-29T09:14:16.731Z"
   },
   {
    "duration": 157,
    "start_time": "2024-04-29T09:14:16.741Z"
   },
   {
    "duration": 18,
    "start_time": "2024-04-29T09:14:16.899Z"
   },
   {
    "duration": 20,
    "start_time": "2024-04-29T09:14:16.919Z"
   },
   {
    "duration": 12,
    "start_time": "2024-04-29T09:14:16.940Z"
   },
   {
    "duration": 13,
    "start_time": "2024-04-29T09:14:16.953Z"
   },
   {
    "duration": 25,
    "start_time": "2024-04-29T09:14:16.967Z"
   },
   {
    "duration": 26,
    "start_time": "2024-04-29T09:14:16.993Z"
   },
   {
    "duration": 25,
    "start_time": "2024-04-29T09:14:17.020Z"
   },
   {
    "duration": 14,
    "start_time": "2024-04-29T09:14:17.046Z"
   },
   {
    "duration": 8,
    "start_time": "2024-04-29T09:14:17.061Z"
   },
   {
    "duration": 49,
    "start_time": "2024-04-29T09:14:17.070Z"
   },
   {
    "duration": 37,
    "start_time": "2024-04-29T09:14:17.121Z"
   },
   {
    "duration": 442,
    "start_time": "2024-04-29T10:02:43.700Z"
   },
   {
    "duration": 45,
    "start_time": "2024-04-29T10:02:44.143Z"
   },
   {
    "duration": 1744,
    "start_time": "2024-04-29T10:02:44.189Z"
   },
   {
    "duration": 9,
    "start_time": "2024-04-29T10:02:45.935Z"
   },
   {
    "duration": 32,
    "start_time": "2024-04-29T10:02:45.946Z"
   },
   {
    "duration": 7,
    "start_time": "2024-04-29T10:02:45.980Z"
   },
   {
    "duration": 161,
    "start_time": "2024-04-29T10:02:45.988Z"
   },
   {
    "duration": 16,
    "start_time": "2024-04-29T10:02:46.150Z"
   },
   {
    "duration": 21,
    "start_time": "2024-04-29T10:02:46.167Z"
   },
   {
    "duration": 25,
    "start_time": "2024-04-29T10:02:46.189Z"
   },
   {
    "duration": 17,
    "start_time": "2024-04-29T10:02:46.215Z"
   },
   {
    "duration": 22,
    "start_time": "2024-04-29T10:02:46.233Z"
   },
   {
    "duration": 30,
    "start_time": "2024-04-29T10:02:46.257Z"
   },
   {
    "duration": 14,
    "start_time": "2024-04-29T10:02:46.289Z"
   },
   {
    "duration": 51,
    "start_time": "2024-04-29T10:02:46.304Z"
   },
   {
    "duration": 48,
    "start_time": "2024-04-29T10:02:46.356Z"
   },
   {
    "duration": 68,
    "start_time": "2024-04-29T10:06:44.297Z"
   },
   {
    "duration": 307,
    "start_time": "2024-04-29T10:07:59.398Z"
   },
   {
    "duration": 14,
    "start_time": "2024-04-29T10:10:05.198Z"
   },
   {
    "duration": 5,
    "start_time": "2024-04-29T10:10:16.940Z"
   },
   {
    "duration": 15,
    "start_time": "2024-04-29T10:11:17.037Z"
   },
   {
    "duration": 9,
    "start_time": "2024-04-29T10:13:25.977Z"
   },
   {
    "duration": 20,
    "start_time": "2024-04-29T10:14:21.089Z"
   },
   {
    "duration": 768,
    "start_time": "2024-04-29T10:15:01.962Z"
   },
   {
    "duration": 466,
    "start_time": "2024-04-29T10:15:22.567Z"
   },
   {
    "duration": 40,
    "start_time": "2024-04-29T10:15:23.034Z"
   },
   {
    "duration": 1718,
    "start_time": "2024-04-29T10:15:23.075Z"
   },
   {
    "duration": 7,
    "start_time": "2024-04-29T10:15:24.795Z"
   },
   {
    "duration": 8,
    "start_time": "2024-04-29T10:15:24.803Z"
   },
   {
    "duration": 4,
    "start_time": "2024-04-29T10:15:24.812Z"
   },
   {
    "duration": 148,
    "start_time": "2024-04-29T10:15:24.817Z"
   },
   {
    "duration": 19,
    "start_time": "2024-04-29T10:15:24.966Z"
   },
   {
    "duration": 12,
    "start_time": "2024-04-29T10:15:24.986Z"
   },
   {
    "duration": 5,
    "start_time": "2024-04-29T10:15:24.999Z"
   },
   {
    "duration": 5,
    "start_time": "2024-04-29T10:15:25.005Z"
   },
   {
    "duration": 5,
    "start_time": "2024-04-29T10:15:25.011Z"
   },
   {
    "duration": 16,
    "start_time": "2024-04-29T10:15:25.017Z"
   },
   {
    "duration": 13,
    "start_time": "2024-04-29T10:15:25.035Z"
   },
   {
    "duration": 5,
    "start_time": "2024-04-29T10:15:25.050Z"
   },
   {
    "duration": 37,
    "start_time": "2024-04-29T10:15:25.084Z"
   },
   {
    "duration": 65,
    "start_time": "2024-04-29T10:16:02.319Z"
   },
   {
    "duration": 3,
    "start_time": "2024-04-29T10:17:07.617Z"
   },
   {
    "duration": 470,
    "start_time": "2024-04-29T10:17:19.969Z"
   },
   {
    "duration": 39,
    "start_time": "2024-04-29T10:17:20.440Z"
   },
   {
    "duration": 1753,
    "start_time": "2024-04-29T10:17:20.484Z"
   },
   {
    "duration": 7,
    "start_time": "2024-04-29T10:17:22.239Z"
   },
   {
    "duration": 28,
    "start_time": "2024-04-29T10:17:22.248Z"
   },
   {
    "duration": 10,
    "start_time": "2024-04-29T10:17:22.277Z"
   },
   {
    "duration": 146,
    "start_time": "2024-04-29T10:17:22.288Z"
   },
   {
    "duration": 16,
    "start_time": "2024-04-29T10:17:22.436Z"
   },
   {
    "duration": 13,
    "start_time": "2024-04-29T10:17:22.453Z"
   },
   {
    "duration": 22,
    "start_time": "2024-04-29T10:17:22.467Z"
   },
   {
    "duration": 19,
    "start_time": "2024-04-29T10:17:22.490Z"
   },
   {
    "duration": 34,
    "start_time": "2024-04-29T10:17:22.510Z"
   },
   {
    "duration": 37,
    "start_time": "2024-04-29T10:17:22.546Z"
   },
   {
    "duration": 15,
    "start_time": "2024-04-29T10:17:22.585Z"
   },
   {
    "duration": 11,
    "start_time": "2024-04-29T10:17:22.601Z"
   },
   {
    "duration": 55,
    "start_time": "2024-04-29T10:17:22.614Z"
   },
   {
    "duration": 77,
    "start_time": "2024-04-29T10:17:57.477Z"
   },
   {
    "duration": 4,
    "start_time": "2024-04-29T10:18:04.169Z"
   },
   {
    "duration": 13,
    "start_time": "2024-04-29T10:18:39.610Z"
   },
   {
    "duration": 4,
    "start_time": "2024-04-29T10:20:07.258Z"
   },
   {
    "duration": 412,
    "start_time": "2024-04-29T10:21:44.638Z"
   },
   {
    "duration": 44,
    "start_time": "2024-04-29T10:21:45.051Z"
   },
   {
    "duration": 1705,
    "start_time": "2024-04-29T10:21:45.096Z"
   },
   {
    "duration": 8,
    "start_time": "2024-04-29T10:21:46.802Z"
   },
   {
    "duration": 25,
    "start_time": "2024-04-29T10:21:46.812Z"
   },
   {
    "duration": 4,
    "start_time": "2024-04-29T10:21:46.838Z"
   },
   {
    "duration": 150,
    "start_time": "2024-04-29T10:21:46.843Z"
   },
   {
    "duration": 18,
    "start_time": "2024-04-29T10:21:46.995Z"
   },
   {
    "duration": 13,
    "start_time": "2024-04-29T10:21:47.014Z"
   },
   {
    "duration": 6,
    "start_time": "2024-04-29T10:21:47.029Z"
   },
   {
    "duration": 6,
    "start_time": "2024-04-29T10:21:47.036Z"
   },
   {
    "duration": 6,
    "start_time": "2024-04-29T10:21:47.043Z"
   },
   {
    "duration": 49,
    "start_time": "2024-04-29T10:21:47.050Z"
   },
   {
    "duration": 14,
    "start_time": "2024-04-29T10:21:47.102Z"
   },
   {
    "duration": 6,
    "start_time": "2024-04-29T10:21:47.118Z"
   },
   {
    "duration": 5,
    "start_time": "2024-04-29T10:21:47.125Z"
   },
   {
    "duration": 5,
    "start_time": "2024-04-29T10:21:47.132Z"
   },
   {
    "duration": 9,
    "start_time": "2024-04-29T10:21:47.139Z"
   },
   {
    "duration": 37,
    "start_time": "2024-04-29T10:21:47.149Z"
   },
   {
    "duration": 37,
    "start_time": "2024-04-29T10:21:47.187Z"
   },
   {
    "duration": 436,
    "start_time": "2024-04-29T10:22:34.215Z"
   },
   {
    "duration": 45,
    "start_time": "2024-04-29T10:22:34.653Z"
   },
   {
    "duration": 1706,
    "start_time": "2024-04-29T10:22:34.699Z"
   },
   {
    "duration": 9,
    "start_time": "2024-04-29T10:22:36.408Z"
   },
   {
    "duration": 23,
    "start_time": "2024-04-29T10:22:36.418Z"
   },
   {
    "duration": 18,
    "start_time": "2024-04-29T10:22:36.443Z"
   },
   {
    "duration": 148,
    "start_time": "2024-04-29T10:22:36.462Z"
   },
   {
    "duration": 17,
    "start_time": "2024-04-29T10:22:36.612Z"
   },
   {
    "duration": 18,
    "start_time": "2024-04-29T10:22:36.630Z"
   },
   {
    "duration": 30,
    "start_time": "2024-04-29T10:22:36.651Z"
   },
   {
    "duration": 23,
    "start_time": "2024-04-29T10:22:36.682Z"
   },
   {
    "duration": 21,
    "start_time": "2024-04-29T10:22:36.706Z"
   },
   {
    "duration": 41,
    "start_time": "2024-04-29T10:22:36.728Z"
   },
   {
    "duration": 35,
    "start_time": "2024-04-29T10:22:36.770Z"
   },
   {
    "duration": 83,
    "start_time": "2024-04-29T10:22:36.806Z"
   },
   {
    "duration": 0,
    "start_time": "2024-04-29T10:22:36.890Z"
   },
   {
    "duration": 0,
    "start_time": "2024-04-29T10:22:36.891Z"
   },
   {
    "duration": 0,
    "start_time": "2024-04-29T10:22:36.894Z"
   },
   {
    "duration": 0,
    "start_time": "2024-04-29T10:22:36.895Z"
   },
   {
    "duration": 0,
    "start_time": "2024-04-29T10:22:36.897Z"
   },
   {
    "duration": 99,
    "start_time": "2024-04-29T10:23:11.043Z"
   },
   {
    "duration": 435,
    "start_time": "2024-04-29T10:23:57.419Z"
   },
   {
    "duration": 43,
    "start_time": "2024-04-29T10:23:57.855Z"
   },
   {
    "duration": 1750,
    "start_time": "2024-04-29T10:23:57.899Z"
   },
   {
    "duration": 10,
    "start_time": "2024-04-29T10:23:59.651Z"
   },
   {
    "duration": 12,
    "start_time": "2024-04-29T10:23:59.662Z"
   },
   {
    "duration": 5,
    "start_time": "2024-04-29T10:23:59.675Z"
   },
   {
    "duration": 145,
    "start_time": "2024-04-29T10:23:59.681Z"
   },
   {
    "duration": 15,
    "start_time": "2024-04-29T10:23:59.827Z"
   },
   {
    "duration": 11,
    "start_time": "2024-04-29T10:23:59.843Z"
   },
   {
    "duration": 5,
    "start_time": "2024-04-29T10:23:59.856Z"
   },
   {
    "duration": 22,
    "start_time": "2024-04-29T10:23:59.862Z"
   },
   {
    "duration": 5,
    "start_time": "2024-04-29T10:23:59.885Z"
   },
   {
    "duration": 16,
    "start_time": "2024-04-29T10:23:59.891Z"
   },
   {
    "duration": 13,
    "start_time": "2024-04-29T10:23:59.909Z"
   },
   {
    "duration": 6,
    "start_time": "2024-04-29T10:23:59.923Z"
   },
   {
    "duration": 5,
    "start_time": "2024-04-29T10:23:59.930Z"
   },
   {
    "duration": 5,
    "start_time": "2024-04-29T10:23:59.936Z"
   },
   {
    "duration": 4,
    "start_time": "2024-04-29T10:23:59.942Z"
   },
   {
    "duration": 6,
    "start_time": "2024-04-29T10:23:59.947Z"
   },
   {
    "duration": 35,
    "start_time": "2024-04-29T10:23:59.985Z"
   },
   {
    "duration": 3,
    "start_time": "2024-04-29T10:25:28.186Z"
   },
   {
    "duration": 10,
    "start_time": "2024-04-29T10:26:02.349Z"
   },
   {
    "duration": 400,
    "start_time": "2024-04-29T10:33:09.040Z"
   },
   {
    "duration": 39,
    "start_time": "2024-04-29T10:33:09.442Z"
   },
   {
    "duration": 1705,
    "start_time": "2024-04-29T10:33:09.484Z"
   },
   {
    "duration": 7,
    "start_time": "2024-04-29T10:33:11.191Z"
   },
   {
    "duration": 8,
    "start_time": "2024-04-29T10:33:11.199Z"
   },
   {
    "duration": 3,
    "start_time": "2024-04-29T10:33:11.208Z"
   },
   {
    "duration": 153,
    "start_time": "2024-04-29T10:33:11.212Z"
   },
   {
    "duration": 25,
    "start_time": "2024-04-29T10:33:11.366Z"
   },
   {
    "duration": 11,
    "start_time": "2024-04-29T10:33:11.392Z"
   },
   {
    "duration": 5,
    "start_time": "2024-04-29T10:33:11.405Z"
   },
   {
    "duration": 5,
    "start_time": "2024-04-29T10:33:11.411Z"
   },
   {
    "duration": 4,
    "start_time": "2024-04-29T10:33:11.417Z"
   },
   {
    "duration": 16,
    "start_time": "2024-04-29T10:33:11.422Z"
   },
   {
    "duration": 12,
    "start_time": "2024-04-29T10:33:11.439Z"
   },
   {
    "duration": 5,
    "start_time": "2024-04-29T10:33:11.452Z"
   },
   {
    "duration": 29,
    "start_time": "2024-04-29T10:33:11.458Z"
   },
   {
    "duration": 5,
    "start_time": "2024-04-29T10:33:11.488Z"
   },
   {
    "duration": 5,
    "start_time": "2024-04-29T10:33:11.494Z"
   },
   {
    "duration": 4,
    "start_time": "2024-04-29T10:33:11.500Z"
   },
   {
    "duration": 11,
    "start_time": "2024-04-29T10:33:11.505Z"
   },
   {
    "duration": 34,
    "start_time": "2024-04-29T10:33:11.517Z"
   },
   {
    "duration": 62,
    "start_time": "2024-04-29T10:39:48.220Z"
   },
   {
    "duration": 6,
    "start_time": "2024-04-29T10:42:45.888Z"
   },
   {
    "duration": 471,
    "start_time": "2024-04-29T10:43:18.974Z"
   },
   {
    "duration": 42,
    "start_time": "2024-04-29T10:43:19.447Z"
   },
   {
    "duration": 1686,
    "start_time": "2024-04-29T10:43:19.491Z"
   },
   {
    "duration": 7,
    "start_time": "2024-04-29T10:43:21.179Z"
   },
   {
    "duration": 8,
    "start_time": "2024-04-29T10:43:21.187Z"
   },
   {
    "duration": 4,
    "start_time": "2024-04-29T10:43:21.196Z"
   },
   {
    "duration": 153,
    "start_time": "2024-04-29T10:43:21.201Z"
   },
   {
    "duration": 16,
    "start_time": "2024-04-29T10:43:21.355Z"
   },
   {
    "duration": 19,
    "start_time": "2024-04-29T10:43:21.372Z"
   },
   {
    "duration": 5,
    "start_time": "2024-04-29T10:43:21.392Z"
   },
   {
    "duration": 19,
    "start_time": "2024-04-29T10:43:21.398Z"
   },
   {
    "duration": 14,
    "start_time": "2024-04-29T10:43:21.418Z"
   },
   {
    "duration": 17,
    "start_time": "2024-04-29T10:43:21.434Z"
   },
   {
    "duration": 13,
    "start_time": "2024-04-29T10:43:21.452Z"
   },
   {
    "duration": 5,
    "start_time": "2024-04-29T10:43:21.467Z"
   },
   {
    "duration": 5,
    "start_time": "2024-04-29T10:43:21.474Z"
   },
   {
    "duration": 7,
    "start_time": "2024-04-29T10:43:21.484Z"
   },
   {
    "duration": 7,
    "start_time": "2024-04-29T10:43:21.492Z"
   },
   {
    "duration": 4,
    "start_time": "2024-04-29T10:43:21.501Z"
   },
   {
    "duration": 810,
    "start_time": "2024-04-29T10:43:21.507Z"
   },
   {
    "duration": 0,
    "start_time": "2024-04-29T10:43:22.318Z"
   },
   {
    "duration": 0,
    "start_time": "2024-04-29T10:43:22.319Z"
   },
   {
    "duration": 7,
    "start_time": "2024-04-29T10:45:28.626Z"
   },
   {
    "duration": 394,
    "start_time": "2024-04-29T10:45:38.239Z"
   },
   {
    "duration": 37,
    "start_time": "2024-04-29T10:45:38.635Z"
   },
   {
    "duration": 1772,
    "start_time": "2024-04-29T10:45:38.673Z"
   },
   {
    "duration": 8,
    "start_time": "2024-04-29T10:45:40.447Z"
   },
   {
    "duration": 11,
    "start_time": "2024-04-29T10:45:40.456Z"
   },
   {
    "duration": 4,
    "start_time": "2024-04-29T10:45:40.468Z"
   },
   {
    "duration": 138,
    "start_time": "2024-04-29T10:45:40.473Z"
   },
   {
    "duration": 16,
    "start_time": "2024-04-29T10:45:40.612Z"
   },
   {
    "duration": 12,
    "start_time": "2024-04-29T10:45:40.629Z"
   },
   {
    "duration": 5,
    "start_time": "2024-04-29T10:45:40.642Z"
   },
   {
    "duration": 7,
    "start_time": "2024-04-29T10:45:40.648Z"
   },
   {
    "duration": 28,
    "start_time": "2024-04-29T10:45:40.656Z"
   },
   {
    "duration": 18,
    "start_time": "2024-04-29T10:45:40.685Z"
   },
   {
    "duration": 15,
    "start_time": "2024-04-29T10:45:40.704Z"
   },
   {
    "duration": 5,
    "start_time": "2024-04-29T10:45:40.721Z"
   },
   {
    "duration": 16,
    "start_time": "2024-04-29T10:45:40.727Z"
   },
   {
    "duration": 6,
    "start_time": "2024-04-29T10:45:40.744Z"
   },
   {
    "duration": 4,
    "start_time": "2024-04-29T10:45:40.752Z"
   },
   {
    "duration": 13,
    "start_time": "2024-04-29T10:45:40.757Z"
   },
   {
    "duration": 14,
    "start_time": "2024-04-29T10:45:40.771Z"
   },
   {
    "duration": 11,
    "start_time": "2024-04-29T10:45:40.787Z"
   },
   {
    "duration": 34,
    "start_time": "2024-04-29T10:45:40.799Z"
   },
   {
    "duration": 7,
    "start_time": "2024-04-29T10:47:22.511Z"
   },
   {
    "duration": 5,
    "start_time": "2024-04-29T10:47:47.863Z"
   },
   {
    "duration": 73,
    "start_time": "2024-04-29T10:49:18.127Z"
   },
   {
    "duration": 408,
    "start_time": "2024-04-29T10:54:40.332Z"
   },
   {
    "duration": 44,
    "start_time": "2024-04-29T10:54:40.741Z"
   },
   {
    "duration": 1674,
    "start_time": "2024-04-29T10:54:40.787Z"
   },
   {
    "duration": 9,
    "start_time": "2024-04-29T10:54:42.463Z"
   },
   {
    "duration": 12,
    "start_time": "2024-04-29T10:54:42.473Z"
   },
   {
    "duration": 4,
    "start_time": "2024-04-29T10:54:42.486Z"
   },
   {
    "duration": 145,
    "start_time": "2024-04-29T10:54:42.492Z"
   },
   {
    "duration": 17,
    "start_time": "2024-04-29T10:54:42.638Z"
   },
   {
    "duration": 29,
    "start_time": "2024-04-29T10:54:42.656Z"
   },
   {
    "duration": 5,
    "start_time": "2024-04-29T10:54:42.688Z"
   },
   {
    "duration": 13,
    "start_time": "2024-04-29T10:54:42.694Z"
   },
   {
    "duration": 6,
    "start_time": "2024-04-29T10:54:42.708Z"
   },
   {
    "duration": 24,
    "start_time": "2024-04-29T10:54:42.716Z"
   },
   {
    "duration": 14,
    "start_time": "2024-04-29T10:54:42.741Z"
   },
   {
    "duration": 5,
    "start_time": "2024-04-29T10:54:42.757Z"
   },
   {
    "duration": 21,
    "start_time": "2024-04-29T10:54:42.764Z"
   },
   {
    "duration": 5,
    "start_time": "2024-04-29T10:54:42.786Z"
   },
   {
    "duration": 6,
    "start_time": "2024-04-29T10:54:42.792Z"
   },
   {
    "duration": 8,
    "start_time": "2024-04-29T10:54:42.799Z"
   },
   {
    "duration": 7,
    "start_time": "2024-04-29T10:54:42.808Z"
   },
   {
    "duration": 4,
    "start_time": "2024-04-29T10:54:42.816Z"
   },
   {
    "duration": 10,
    "start_time": "2024-04-29T10:54:42.821Z"
   },
   {
    "duration": 4,
    "start_time": "2024-04-29T10:54:42.832Z"
   },
   {
    "duration": 53,
    "start_time": "2024-04-29T10:54:42.837Z"
   },
   {
    "duration": 7,
    "start_time": "2024-04-29T11:07:09.527Z"
   },
   {
    "duration": 5,
    "start_time": "2024-04-29T11:46:57.509Z"
   },
   {
    "duration": 65,
    "start_time": "2024-04-29T11:47:11.877Z"
   },
   {
    "duration": 7,
    "start_time": "2024-04-29T11:47:20.387Z"
   },
   {
    "duration": 6,
    "start_time": "2024-04-29T11:47:57.575Z"
   },
   {
    "duration": 5,
    "start_time": "2024-04-29T11:49:04.021Z"
   },
   {
    "duration": 48,
    "start_time": "2024-04-30T14:46:49.281Z"
   },
   {
    "duration": 691,
    "start_time": "2024-04-30T14:47:12.762Z"
   },
   {
    "duration": 46,
    "start_time": "2024-04-30T14:47:13.455Z"
   },
   {
    "duration": 2195,
    "start_time": "2024-04-30T14:47:13.502Z"
   },
   {
    "duration": 9,
    "start_time": "2024-04-30T14:47:15.699Z"
   },
   {
    "duration": 11,
    "start_time": "2024-04-30T14:47:15.710Z"
   },
   {
    "duration": 5,
    "start_time": "2024-04-30T14:47:15.722Z"
   },
   {
    "duration": 188,
    "start_time": "2024-04-30T14:47:15.728Z"
   },
   {
    "duration": 18,
    "start_time": "2024-04-30T14:47:15.917Z"
   },
   {
    "duration": 14,
    "start_time": "2024-04-30T14:47:15.936Z"
   },
   {
    "duration": 21,
    "start_time": "2024-04-30T14:47:15.952Z"
   },
   {
    "duration": 6,
    "start_time": "2024-04-30T14:47:15.974Z"
   },
   {
    "duration": 14,
    "start_time": "2024-04-30T14:47:15.982Z"
   },
   {
    "duration": 26,
    "start_time": "2024-04-30T14:47:15.997Z"
   },
   {
    "duration": 15,
    "start_time": "2024-04-30T14:47:16.024Z"
   },
   {
    "duration": 6,
    "start_time": "2024-04-30T14:47:16.041Z"
   },
   {
    "duration": 22,
    "start_time": "2024-04-30T14:47:16.048Z"
   },
   {
    "duration": 5,
    "start_time": "2024-04-30T14:47:16.071Z"
   },
   {
    "duration": 14,
    "start_time": "2024-04-30T14:47:16.077Z"
   },
   {
    "duration": 4,
    "start_time": "2024-04-30T14:47:16.092Z"
   },
   {
    "duration": 16,
    "start_time": "2024-04-30T14:47:16.098Z"
   },
   {
    "duration": 4,
    "start_time": "2024-04-30T14:47:16.115Z"
   },
   {
    "duration": 15,
    "start_time": "2024-04-30T14:47:16.120Z"
   },
   {
    "duration": 5,
    "start_time": "2024-04-30T14:47:16.137Z"
   },
   {
    "duration": 26,
    "start_time": "2024-04-30T14:47:16.144Z"
   },
   {
    "duration": 68,
    "start_time": "2024-04-30T14:47:16.172Z"
   },
   {
    "duration": 0,
    "start_time": "2024-04-30T14:47:16.242Z"
   },
   {
    "duration": 73,
    "start_time": "2024-04-30T14:47:56.770Z"
   },
   {
    "duration": 16,
    "start_time": "2024-04-30T14:48:25.334Z"
   },
   {
    "duration": 87,
    "start_time": "2024-04-30T15:03:05.605Z"
   },
   {
    "duration": 102,
    "start_time": "2024-04-30T15:03:48.314Z"
   },
   {
    "duration": 42,
    "start_time": "2024-04-30T15:04:11.537Z"
   },
   {
    "duration": 6,
    "start_time": "2024-04-30T15:07:14.091Z"
   },
   {
    "duration": 10,
    "start_time": "2024-04-30T15:19:04.097Z"
   },
   {
    "duration": 523,
    "start_time": "2024-04-30T15:19:16.338Z"
   },
   {
    "duration": 52,
    "start_time": "2024-04-30T15:19:16.863Z"
   },
   {
    "duration": 2060,
    "start_time": "2024-04-30T15:19:16.917Z"
   },
   {
    "duration": 10,
    "start_time": "2024-04-30T15:19:18.978Z"
   },
   {
    "duration": 8,
    "start_time": "2024-04-30T15:19:18.990Z"
   },
   {
    "duration": 4,
    "start_time": "2024-04-30T15:19:19.000Z"
   },
   {
    "duration": 208,
    "start_time": "2024-04-30T15:19:19.005Z"
   },
   {
    "duration": 19,
    "start_time": "2024-04-30T15:19:19.214Z"
   },
   {
    "duration": 15,
    "start_time": "2024-04-30T15:19:19.234Z"
   },
   {
    "duration": 20,
    "start_time": "2024-04-30T15:19:19.250Z"
   },
   {
    "duration": 10,
    "start_time": "2024-04-30T15:19:19.272Z"
   },
   {
    "duration": 6,
    "start_time": "2024-04-30T15:19:19.284Z"
   },
   {
    "duration": 31,
    "start_time": "2024-04-30T15:19:19.291Z"
   },
   {
    "duration": 17,
    "start_time": "2024-04-30T15:19:19.324Z"
   },
   {
    "duration": 7,
    "start_time": "2024-04-30T15:19:19.342Z"
   },
   {
    "duration": 19,
    "start_time": "2024-04-30T15:19:19.350Z"
   },
   {
    "duration": 11,
    "start_time": "2024-04-30T15:19:19.371Z"
   },
   {
    "duration": 7,
    "start_time": "2024-04-30T15:19:19.383Z"
   },
   {
    "duration": 12,
    "start_time": "2024-04-30T15:19:19.392Z"
   },
   {
    "duration": 29,
    "start_time": "2024-04-30T15:19:19.405Z"
   },
   {
    "duration": 5,
    "start_time": "2024-04-30T15:19:19.436Z"
   },
   {
    "duration": 28,
    "start_time": "2024-04-30T15:19:19.443Z"
   },
   {
    "duration": 10,
    "start_time": "2024-04-30T15:19:19.473Z"
   },
   {
    "duration": 6,
    "start_time": "2024-04-30T15:19:19.484Z"
   },
   {
    "duration": 12,
    "start_time": "2024-04-30T15:19:19.492Z"
   },
   {
    "duration": 76,
    "start_time": "2024-04-30T15:19:19.506Z"
   },
   {
    "duration": 215,
    "start_time": "2024-04-30T15:19:19.584Z"
   },
   {
    "duration": 6,
    "start_time": "2024-04-30T15:27:01.529Z"
   },
   {
    "duration": 4,
    "start_time": "2024-04-30T15:27:22.986Z"
   },
   {
    "duration": 5,
    "start_time": "2024-04-30T15:27:51.813Z"
   },
   {
    "duration": 501,
    "start_time": "2024-04-30T15:28:06.003Z"
   },
   {
    "duration": 51,
    "start_time": "2024-04-30T15:28:06.505Z"
   },
   {
    "duration": 2316,
    "start_time": "2024-04-30T15:28:06.557Z"
   },
   {
    "duration": 10,
    "start_time": "2024-04-30T15:28:08.875Z"
   },
   {
    "duration": 10,
    "start_time": "2024-04-30T15:28:08.887Z"
   },
   {
    "duration": 5,
    "start_time": "2024-04-30T15:28:08.898Z"
   },
   {
    "duration": 223,
    "start_time": "2024-04-30T15:28:08.905Z"
   },
   {
    "duration": 21,
    "start_time": "2024-04-30T15:28:09.129Z"
   },
   {
    "duration": 29,
    "start_time": "2024-04-30T15:28:09.152Z"
   },
   {
    "duration": 6,
    "start_time": "2024-04-30T15:28:09.184Z"
   },
   {
    "duration": 8,
    "start_time": "2024-04-30T15:28:09.192Z"
   },
   {
    "duration": 9,
    "start_time": "2024-04-30T15:28:09.202Z"
   },
   {
    "duration": 25,
    "start_time": "2024-04-30T15:28:09.213Z"
   },
   {
    "duration": 35,
    "start_time": "2024-04-30T15:28:09.240Z"
   },
   {
    "duration": 7,
    "start_time": "2024-04-30T15:28:09.277Z"
   },
   {
    "duration": 18,
    "start_time": "2024-04-30T15:28:09.286Z"
   },
   {
    "duration": 19,
    "start_time": "2024-04-30T15:28:09.306Z"
   },
   {
    "duration": 17,
    "start_time": "2024-04-30T15:28:09.327Z"
   },
   {
    "duration": 14,
    "start_time": "2024-04-30T15:28:09.345Z"
   },
   {
    "duration": 9,
    "start_time": "2024-04-30T15:28:09.361Z"
   },
   {
    "duration": 5,
    "start_time": "2024-04-30T15:28:09.372Z"
   },
   {
    "duration": 15,
    "start_time": "2024-04-30T15:28:09.378Z"
   },
   {
    "duration": 10,
    "start_time": "2024-04-30T15:28:09.394Z"
   },
   {
    "duration": 26,
    "start_time": "2024-04-30T15:28:09.405Z"
   },
   {
    "duration": 67,
    "start_time": "2024-04-30T15:28:09.432Z"
   },
   {
    "duration": 5,
    "start_time": "2024-04-30T15:28:09.501Z"
   },
   {
    "duration": 81,
    "start_time": "2024-04-30T15:29:02.933Z"
   },
   {
    "duration": 48,
    "start_time": "2024-04-30T15:30:10.565Z"
   },
   {
    "duration": 12,
    "start_time": "2024-04-30T15:30:30.002Z"
   },
   {
    "duration": 9,
    "start_time": "2024-04-30T15:30:49.287Z"
   },
   {
    "duration": 35,
    "start_time": "2024-04-30T15:31:00.695Z"
   },
   {
    "duration": 31,
    "start_time": "2024-04-30T15:31:19.104Z"
   },
   {
    "duration": 43,
    "start_time": "2024-04-30T15:31:28.060Z"
   },
   {
    "duration": 34,
    "start_time": "2024-04-30T15:35:10.514Z"
   },
   {
    "duration": 33,
    "start_time": "2024-04-30T15:41:32.852Z"
   },
   {
    "duration": 8,
    "start_time": "2024-04-30T15:44:30.797Z"
   },
   {
    "duration": 24,
    "start_time": "2024-04-30T15:44:40.055Z"
   },
   {
    "duration": 73,
    "start_time": "2024-04-30T15:51:10.902Z"
   },
   {
    "duration": 551,
    "start_time": "2024-04-30T15:51:40.532Z"
   },
   {
    "duration": 541,
    "start_time": "2024-04-30T15:53:46.055Z"
   },
   {
    "duration": 658,
    "start_time": "2024-04-30T16:03:14.432Z"
   },
   {
    "duration": 683,
    "start_time": "2024-04-30T16:03:35.235Z"
   },
   {
    "duration": 5,
    "start_time": "2024-04-30T16:04:08.635Z"
   },
   {
    "duration": 70,
    "start_time": "2024-04-30T16:04:46.174Z"
   },
   {
    "duration": 10,
    "start_time": "2024-04-30T16:05:33.559Z"
   },
   {
    "duration": 11,
    "start_time": "2024-04-30T16:05:36.613Z"
   },
   {
    "duration": 30,
    "start_time": "2024-04-30T16:05:38.510Z"
   },
   {
    "duration": 591,
    "start_time": "2024-04-30T16:06:06.070Z"
   },
   {
    "duration": 67,
    "start_time": "2024-04-30T16:06:06.663Z"
   },
   {
    "duration": 2426,
    "start_time": "2024-04-30T16:06:06.731Z"
   },
   {
    "duration": 13,
    "start_time": "2024-04-30T16:06:09.160Z"
   },
   {
    "duration": 24,
    "start_time": "2024-04-30T16:06:09.175Z"
   },
   {
    "duration": 5,
    "start_time": "2024-04-30T16:06:09.201Z"
   },
   {
    "duration": 220,
    "start_time": "2024-04-30T16:06:09.208Z"
   },
   {
    "duration": 20,
    "start_time": "2024-04-30T16:06:09.430Z"
   },
   {
    "duration": 32,
    "start_time": "2024-04-30T16:06:09.451Z"
   },
   {
    "duration": 9,
    "start_time": "2024-04-30T16:06:09.490Z"
   },
   {
    "duration": 16,
    "start_time": "2024-04-30T16:06:09.500Z"
   },
   {
    "duration": 36,
    "start_time": "2024-04-30T16:06:09.518Z"
   },
   {
    "duration": 27,
    "start_time": "2024-04-30T16:06:09.555Z"
   },
   {
    "duration": 22,
    "start_time": "2024-04-30T16:06:09.585Z"
   },
   {
    "duration": 7,
    "start_time": "2024-04-30T16:06:09.608Z"
   },
   {
    "duration": 31,
    "start_time": "2024-04-30T16:06:09.617Z"
   },
   {
    "duration": 13,
    "start_time": "2024-04-30T16:06:09.650Z"
   },
   {
    "duration": 32,
    "start_time": "2024-04-30T16:06:09.665Z"
   },
   {
    "duration": 20,
    "start_time": "2024-04-30T16:06:09.698Z"
   },
   {
    "duration": 12,
    "start_time": "2024-04-30T16:06:09.719Z"
   },
   {
    "duration": 6,
    "start_time": "2024-04-30T16:06:09.732Z"
   },
   {
    "duration": 13,
    "start_time": "2024-04-30T16:06:09.740Z"
   },
   {
    "duration": 10,
    "start_time": "2024-04-30T16:06:09.755Z"
   },
   {
    "duration": 27,
    "start_time": "2024-04-30T16:06:09.767Z"
   },
   {
    "duration": 45,
    "start_time": "2024-04-30T16:06:09.797Z"
   },
   {
    "duration": 48,
    "start_time": "2024-04-30T16:06:09.844Z"
   },
   {
    "duration": 42,
    "start_time": "2024-04-30T16:06:09.894Z"
   },
   {
    "duration": 32,
    "start_time": "2024-04-30T16:06:09.939Z"
   },
   {
    "duration": 15,
    "start_time": "2024-04-30T16:06:09.973Z"
   },
   {
    "duration": 78,
    "start_time": "2024-04-30T16:06:27.913Z"
   },
   {
    "duration": 5,
    "start_time": "2024-04-30T16:07:06.649Z"
   },
   {
    "duration": 7,
    "start_time": "2024-04-30T16:08:10.483Z"
   },
   {
    "duration": 31,
    "start_time": "2024-04-30T16:08:13.024Z"
   },
   {
    "duration": 10,
    "start_time": "2024-04-30T16:08:29.157Z"
   },
   {
    "duration": 39,
    "start_time": "2024-04-30T16:08:31.653Z"
   },
   {
    "duration": 6,
    "start_time": "2024-04-30T16:43:37.793Z"
   },
   {
    "duration": 34,
    "start_time": "2024-04-30T16:43:41.460Z"
   },
   {
    "duration": 9,
    "start_time": "2024-04-30T16:43:56.785Z"
   },
   {
    "duration": 39,
    "start_time": "2024-04-30T16:43:59.167Z"
   },
   {
    "duration": 6,
    "start_time": "2024-04-30T16:56:50.112Z"
   },
   {
    "duration": 16,
    "start_time": "2024-04-30T16:56:52.735Z"
   },
   {
    "duration": 503,
    "start_time": "2024-04-30T17:13:25.294Z"
   },
   {
    "duration": 51,
    "start_time": "2024-04-30T17:13:25.799Z"
   },
   {
    "duration": 2177,
    "start_time": "2024-04-30T17:13:25.852Z"
   },
   {
    "duration": 9,
    "start_time": "2024-04-30T17:13:28.031Z"
   },
   {
    "duration": 13,
    "start_time": "2024-04-30T17:13:28.041Z"
   },
   {
    "duration": 4,
    "start_time": "2024-04-30T17:13:28.056Z"
   },
   {
    "duration": 202,
    "start_time": "2024-04-30T17:13:28.062Z"
   },
   {
    "duration": 22,
    "start_time": "2024-04-30T17:13:28.266Z"
   },
   {
    "duration": 16,
    "start_time": "2024-04-30T17:13:28.289Z"
   },
   {
    "duration": 6,
    "start_time": "2024-04-30T17:13:28.308Z"
   },
   {
    "duration": 8,
    "start_time": "2024-04-30T17:13:28.316Z"
   },
   {
    "duration": 9,
    "start_time": "2024-04-30T17:13:28.325Z"
   },
   {
    "duration": 62,
    "start_time": "2024-04-30T17:13:28.336Z"
   },
   {
    "duration": 22,
    "start_time": "2024-04-30T17:13:28.400Z"
   },
   {
    "duration": 8,
    "start_time": "2024-04-30T17:13:28.423Z"
   },
   {
    "duration": 12,
    "start_time": "2024-04-30T17:13:28.432Z"
   },
   {
    "duration": 27,
    "start_time": "2024-04-30T17:13:28.446Z"
   },
   {
    "duration": 13,
    "start_time": "2024-04-30T17:13:28.475Z"
   },
   {
    "duration": 12,
    "start_time": "2024-04-30T17:13:28.490Z"
   },
   {
    "duration": 20,
    "start_time": "2024-04-30T17:13:28.503Z"
   },
   {
    "duration": 10,
    "start_time": "2024-04-30T17:13:28.524Z"
   },
   {
    "duration": 20,
    "start_time": "2024-04-30T17:13:28.536Z"
   },
   {
    "duration": 9,
    "start_time": "2024-04-30T17:13:28.558Z"
   },
   {
    "duration": 12,
    "start_time": "2024-04-30T17:13:28.570Z"
   },
   {
    "duration": 49,
    "start_time": "2024-04-30T17:13:28.584Z"
   },
   {
    "duration": 7,
    "start_time": "2024-04-30T17:13:28.634Z"
   },
   {
    "duration": 39,
    "start_time": "2024-04-30T17:13:28.642Z"
   },
   {
    "duration": 25,
    "start_time": "2024-04-30T17:13:28.685Z"
   },
   {
    "duration": 11,
    "start_time": "2024-04-30T17:13:28.712Z"
   },
   {
    "duration": 9,
    "start_time": "2024-04-30T17:15:08.688Z"
   },
   {
    "duration": 4,
    "start_time": "2024-04-30T17:15:39.889Z"
   },
   {
    "duration": 520,
    "start_time": "2024-04-30T17:16:29.354Z"
   },
   {
    "duration": 49,
    "start_time": "2024-04-30T17:16:29.876Z"
   },
   {
    "duration": 2097,
    "start_time": "2024-04-30T17:16:29.927Z"
   },
   {
    "duration": 9,
    "start_time": "2024-04-30T17:16:32.026Z"
   },
   {
    "duration": 63,
    "start_time": "2024-04-30T17:16:32.037Z"
   },
   {
    "duration": 19,
    "start_time": "2024-04-30T17:16:32.101Z"
   },
   {
    "duration": 204,
    "start_time": "2024-04-30T17:16:32.122Z"
   },
   {
    "duration": 19,
    "start_time": "2024-04-30T17:16:32.327Z"
   },
   {
    "duration": 25,
    "start_time": "2024-04-30T17:16:32.347Z"
   },
   {
    "duration": 7,
    "start_time": "2024-04-30T17:16:32.374Z"
   },
   {
    "duration": 11,
    "start_time": "2024-04-30T17:16:32.382Z"
   },
   {
    "duration": 8,
    "start_time": "2024-04-30T17:16:32.395Z"
   },
   {
    "duration": 21,
    "start_time": "2024-04-30T17:16:32.405Z"
   },
   {
    "duration": 42,
    "start_time": "2024-04-30T17:16:32.428Z"
   },
   {
    "duration": 7,
    "start_time": "2024-04-30T17:16:32.472Z"
   },
   {
    "duration": 24,
    "start_time": "2024-04-30T17:16:32.480Z"
   },
   {
    "duration": 8,
    "start_time": "2024-04-30T17:16:32.506Z"
   },
   {
    "duration": 4,
    "start_time": "2024-04-30T17:16:32.515Z"
   },
   {
    "duration": 5,
    "start_time": "2024-04-30T17:16:32.520Z"
   },
   {
    "duration": 8,
    "start_time": "2024-04-30T17:16:32.526Z"
   },
   {
    "duration": 5,
    "start_time": "2024-04-30T17:16:32.536Z"
   },
   {
    "duration": 39,
    "start_time": "2024-04-30T17:16:32.542Z"
   },
   {
    "duration": 8,
    "start_time": "2024-04-30T17:16:32.582Z"
   },
   {
    "duration": 11,
    "start_time": "2024-04-30T17:16:32.592Z"
   },
   {
    "duration": 65,
    "start_time": "2024-04-30T17:16:32.605Z"
   },
   {
    "duration": 82,
    "start_time": "2024-04-30T17:16:32.672Z"
   },
   {
    "duration": 0,
    "start_time": "2024-04-30T17:16:32.755Z"
   },
   {
    "duration": 0,
    "start_time": "2024-04-30T17:16:32.756Z"
   },
   {
    "duration": 0,
    "start_time": "2024-04-30T17:16:32.757Z"
   },
   {
    "duration": 0,
    "start_time": "2024-04-30T17:16:32.758Z"
   },
   {
    "duration": 93,
    "start_time": "2024-04-30T17:16:49.341Z"
   },
   {
    "duration": 8,
    "start_time": "2024-04-30T17:17:27.330Z"
   },
   {
    "duration": 529,
    "start_time": "2024-04-30T17:17:33.059Z"
   },
   {
    "duration": 47,
    "start_time": "2024-04-30T17:17:33.590Z"
   },
   {
    "duration": 2102,
    "start_time": "2024-04-30T17:17:33.639Z"
   },
   {
    "duration": 9,
    "start_time": "2024-04-30T17:17:35.742Z"
   },
   {
    "duration": 9,
    "start_time": "2024-04-30T17:17:35.752Z"
   },
   {
    "duration": 8,
    "start_time": "2024-04-30T17:17:35.762Z"
   },
   {
    "duration": 197,
    "start_time": "2024-04-30T17:17:35.771Z"
   },
   {
    "duration": 18,
    "start_time": "2024-04-30T17:17:35.970Z"
   },
   {
    "duration": 15,
    "start_time": "2024-04-30T17:17:35.989Z"
   },
   {
    "duration": 18,
    "start_time": "2024-04-30T17:17:36.006Z"
   },
   {
    "duration": 13,
    "start_time": "2024-04-30T17:17:36.025Z"
   },
   {
    "duration": 6,
    "start_time": "2024-04-30T17:17:36.039Z"
   },
   {
    "duration": 33,
    "start_time": "2024-04-30T17:17:36.047Z"
   },
   {
    "duration": 16,
    "start_time": "2024-04-30T17:17:36.082Z"
   },
   {
    "duration": 18,
    "start_time": "2024-04-30T17:17:36.099Z"
   },
   {
    "duration": 6,
    "start_time": "2024-04-30T17:17:36.118Z"
   },
   {
    "duration": 9,
    "start_time": "2024-04-30T17:17:36.126Z"
   },
   {
    "duration": 21,
    "start_time": "2024-04-30T17:17:36.136Z"
   },
   {
    "duration": 5,
    "start_time": "2024-04-30T17:17:36.158Z"
   },
   {
    "duration": 13,
    "start_time": "2024-04-30T17:17:36.164Z"
   },
   {
    "duration": 8,
    "start_time": "2024-04-30T17:17:36.179Z"
   },
   {
    "duration": 18,
    "start_time": "2024-04-30T17:17:36.188Z"
   },
   {
    "duration": 8,
    "start_time": "2024-04-30T17:17:36.207Z"
   },
   {
    "duration": 11,
    "start_time": "2024-04-30T17:17:36.216Z"
   },
   {
    "duration": 96,
    "start_time": "2024-04-30T17:17:36.229Z"
   },
   {
    "duration": 7,
    "start_time": "2024-04-30T17:17:36.326Z"
   },
   {
    "duration": 18,
    "start_time": "2024-04-30T17:17:36.335Z"
   },
   {
    "duration": 16,
    "start_time": "2024-04-30T17:17:36.370Z"
   },
   {
    "duration": 17,
    "start_time": "2024-04-30T17:17:36.387Z"
   },
   {
    "duration": 13,
    "start_time": "2024-04-30T17:17:36.406Z"
   },
   {
    "duration": 549,
    "start_time": "2024-04-30T17:24:01.374Z"
   },
   {
    "duration": 54,
    "start_time": "2024-04-30T17:24:01.925Z"
   },
   {
    "duration": 2300,
    "start_time": "2024-04-30T17:24:01.981Z"
   },
   {
    "duration": 10,
    "start_time": "2024-04-30T17:24:04.283Z"
   },
   {
    "duration": 13,
    "start_time": "2024-04-30T17:24:04.294Z"
   },
   {
    "duration": 19,
    "start_time": "2024-04-30T17:24:04.308Z"
   },
   {
    "duration": 222,
    "start_time": "2024-04-30T17:24:04.329Z"
   },
   {
    "duration": 26,
    "start_time": "2024-04-30T17:24:04.552Z"
   },
   {
    "duration": 16,
    "start_time": "2024-04-30T17:24:04.580Z"
   },
   {
    "duration": 7,
    "start_time": "2024-04-30T17:24:04.599Z"
   },
   {
    "duration": 16,
    "start_time": "2024-04-30T17:24:04.607Z"
   },
   {
    "duration": 7,
    "start_time": "2024-04-30T17:24:04.624Z"
   },
   {
    "duration": 41,
    "start_time": "2024-04-30T17:24:04.633Z"
   },
   {
    "duration": 18,
    "start_time": "2024-04-30T17:24:04.675Z"
   },
   {
    "duration": 7,
    "start_time": "2024-04-30T17:24:04.695Z"
   },
   {
    "duration": 11,
    "start_time": "2024-04-30T17:24:04.703Z"
   },
   {
    "duration": 8,
    "start_time": "2024-04-30T17:24:04.715Z"
   },
   {
    "duration": 5,
    "start_time": "2024-04-30T17:24:04.725Z"
   },
   {
    "duration": 5,
    "start_time": "2024-04-30T17:24:04.731Z"
   },
   {
    "duration": 10,
    "start_time": "2024-04-30T17:24:04.769Z"
   },
   {
    "duration": 6,
    "start_time": "2024-04-30T17:24:04.780Z"
   },
   {
    "duration": 18,
    "start_time": "2024-04-30T17:24:04.787Z"
   },
   {
    "duration": 9,
    "start_time": "2024-04-30T17:24:04.807Z"
   },
   {
    "duration": 14,
    "start_time": "2024-04-30T17:24:04.817Z"
   },
   {
    "duration": 73,
    "start_time": "2024-04-30T17:24:04.832Z"
   },
   {
    "duration": 640,
    "start_time": "2024-04-30T17:24:04.906Z"
   },
   {
    "duration": 0,
    "start_time": "2024-04-30T17:24:05.547Z"
   },
   {
    "duration": 0,
    "start_time": "2024-04-30T17:24:05.549Z"
   },
   {
    "duration": 0,
    "start_time": "2024-04-30T17:24:05.549Z"
   },
   {
    "duration": 0,
    "start_time": "2024-04-30T17:24:05.550Z"
   },
   {
    "duration": 526,
    "start_time": "2024-04-30T17:25:12.551Z"
   },
   {
    "duration": 30,
    "start_time": "2024-04-30T17:31:22.670Z"
   },
   {
    "duration": 17,
    "start_time": "2024-04-30T17:31:28.548Z"
   },
   {
    "duration": 25,
    "start_time": "2024-04-30T17:31:31.169Z"
   },
   {
    "duration": 510,
    "start_time": "2024-04-30T17:32:45.798Z"
   },
   {
    "duration": 49,
    "start_time": "2024-04-30T17:32:46.310Z"
   },
   {
    "duration": 2268,
    "start_time": "2024-04-30T17:32:46.361Z"
   },
   {
    "duration": 10,
    "start_time": "2024-04-30T17:32:48.631Z"
   },
   {
    "duration": 10,
    "start_time": "2024-04-30T17:32:48.642Z"
   },
   {
    "duration": 6,
    "start_time": "2024-04-30T17:32:48.653Z"
   },
   {
    "duration": 192,
    "start_time": "2024-04-30T17:32:48.660Z"
   },
   {
    "duration": 26,
    "start_time": "2024-04-30T17:32:48.853Z"
   },
   {
    "duration": 19,
    "start_time": "2024-04-30T17:32:48.880Z"
   },
   {
    "duration": 8,
    "start_time": "2024-04-30T17:32:48.902Z"
   },
   {
    "duration": 7,
    "start_time": "2024-04-30T17:32:48.912Z"
   },
   {
    "duration": 14,
    "start_time": "2024-04-30T17:32:48.921Z"
   },
   {
    "duration": 43,
    "start_time": "2024-04-30T17:32:48.937Z"
   },
   {
    "duration": 19,
    "start_time": "2024-04-30T17:32:48.982Z"
   },
   {
    "duration": 8,
    "start_time": "2024-04-30T17:32:49.002Z"
   },
   {
    "duration": 8,
    "start_time": "2024-04-30T17:32:49.012Z"
   },
   {
    "duration": 7,
    "start_time": "2024-04-30T17:32:49.021Z"
   },
   {
    "duration": 6,
    "start_time": "2024-04-30T17:32:49.030Z"
   },
   {
    "duration": 6,
    "start_time": "2024-04-30T17:32:49.069Z"
   },
   {
    "duration": 17,
    "start_time": "2024-04-30T17:32:49.077Z"
   },
   {
    "duration": 16,
    "start_time": "2024-04-30T17:32:49.096Z"
   },
   {
    "duration": 16,
    "start_time": "2024-04-30T17:32:49.113Z"
   },
   {
    "duration": 10,
    "start_time": "2024-04-30T17:32:49.130Z"
   },
   {
    "duration": 33,
    "start_time": "2024-04-30T17:32:49.141Z"
   },
   {
    "duration": 63,
    "start_time": "2024-04-30T17:32:49.176Z"
   },
   {
    "duration": 48,
    "start_time": "2024-04-30T17:32:49.240Z"
   },
   {
    "duration": 26,
    "start_time": "2024-04-30T17:32:49.290Z"
   },
   {
    "duration": 27,
    "start_time": "2024-04-30T17:32:49.320Z"
   },
   {
    "duration": 29,
    "start_time": "2024-04-30T17:32:49.348Z"
   },
   {
    "duration": 7,
    "start_time": "2024-04-30T17:32:49.380Z"
   },
   {
    "duration": 491,
    "start_time": "2024-04-30T17:34:11.231Z"
   },
   {
    "duration": 56,
    "start_time": "2024-04-30T17:34:11.724Z"
   },
   {
    "duration": 2231,
    "start_time": "2024-04-30T17:34:11.782Z"
   },
   {
    "duration": 10,
    "start_time": "2024-04-30T17:34:14.015Z"
   },
   {
    "duration": 13,
    "start_time": "2024-04-30T17:34:14.026Z"
   },
   {
    "duration": 6,
    "start_time": "2024-04-30T17:34:14.040Z"
   },
   {
    "duration": 224,
    "start_time": "2024-04-30T17:34:14.047Z"
   },
   {
    "duration": 21,
    "start_time": "2024-04-30T17:34:14.273Z"
   },
   {
    "duration": 20,
    "start_time": "2024-04-30T17:34:14.295Z"
   },
   {
    "duration": 7,
    "start_time": "2024-04-30T17:34:14.318Z"
   },
   {
    "duration": 7,
    "start_time": "2024-04-30T17:34:14.327Z"
   },
   {
    "duration": 37,
    "start_time": "2024-04-30T17:34:14.336Z"
   },
   {
    "duration": 22,
    "start_time": "2024-04-30T17:34:14.374Z"
   },
   {
    "duration": 31,
    "start_time": "2024-04-30T17:34:14.398Z"
   },
   {
    "duration": 9,
    "start_time": "2024-04-30T17:34:14.430Z"
   },
   {
    "duration": 31,
    "start_time": "2024-04-30T17:34:14.441Z"
   },
   {
    "duration": 9,
    "start_time": "2024-04-30T17:34:14.473Z"
   },
   {
    "duration": 6,
    "start_time": "2024-04-30T17:34:14.484Z"
   },
   {
    "duration": 6,
    "start_time": "2024-04-30T17:34:14.492Z"
   },
   {
    "duration": 18,
    "start_time": "2024-04-30T17:34:14.499Z"
   },
   {
    "duration": 5,
    "start_time": "2024-04-30T17:34:14.519Z"
   },
   {
    "duration": 15,
    "start_time": "2024-04-30T17:34:14.525Z"
   },
   {
    "duration": 11,
    "start_time": "2024-04-30T17:34:14.571Z"
   },
   {
    "duration": 13,
    "start_time": "2024-04-30T17:34:14.583Z"
   },
   {
    "duration": 47,
    "start_time": "2024-04-30T17:34:14.598Z"
   },
   {
    "duration": 7,
    "start_time": "2024-04-30T17:34:14.669Z"
   },
   {
    "duration": 21,
    "start_time": "2024-04-30T17:34:14.677Z"
   },
   {
    "duration": 15,
    "start_time": "2024-04-30T17:34:14.700Z"
   },
   {
    "duration": 25,
    "start_time": "2024-04-30T17:34:14.717Z"
   },
   {
    "duration": 32,
    "start_time": "2024-04-30T17:34:14.744Z"
   },
   {
    "duration": 6,
    "start_time": "2024-04-30T17:34:14.778Z"
   },
   {
    "duration": 10,
    "start_time": "2024-04-30T17:35:40.531Z"
   },
   {
    "duration": 513,
    "start_time": "2024-04-30T17:36:44.636Z"
   },
   {
    "duration": 55,
    "start_time": "2024-04-30T17:36:45.151Z"
   },
   {
    "duration": 2142,
    "start_time": "2024-04-30T17:36:45.207Z"
   },
   {
    "duration": 9,
    "start_time": "2024-04-30T17:36:47.351Z"
   },
   {
    "duration": 17,
    "start_time": "2024-04-30T17:36:47.362Z"
   },
   {
    "duration": 5,
    "start_time": "2024-04-30T17:36:47.380Z"
   },
   {
    "duration": 210,
    "start_time": "2024-04-30T17:36:47.387Z"
   },
   {
    "duration": 19,
    "start_time": "2024-04-30T17:36:47.598Z"
   },
   {
    "duration": 15,
    "start_time": "2024-04-30T17:36:47.618Z"
   },
   {
    "duration": 6,
    "start_time": "2024-04-30T17:36:47.635Z"
   },
   {
    "duration": 31,
    "start_time": "2024-04-30T17:36:47.643Z"
   },
   {
    "duration": 37,
    "start_time": "2024-04-30T17:36:47.676Z"
   },
   {
    "duration": 26,
    "start_time": "2024-04-30T17:36:47.715Z"
   },
   {
    "duration": 17,
    "start_time": "2024-04-30T17:36:47.743Z"
   },
   {
    "duration": 7,
    "start_time": "2024-04-30T17:36:47.761Z"
   },
   {
    "duration": 19,
    "start_time": "2024-04-30T17:36:47.769Z"
   },
   {
    "duration": 11,
    "start_time": "2024-04-30T17:36:47.789Z"
   },
   {
    "duration": 9,
    "start_time": "2024-04-30T17:36:47.801Z"
   },
   {
    "duration": 7,
    "start_time": "2024-04-30T17:36:47.811Z"
   },
   {
    "duration": 10,
    "start_time": "2024-04-30T17:36:47.820Z"
   },
   {
    "duration": 14,
    "start_time": "2024-04-30T17:36:47.832Z"
   },
   {
    "duration": 20,
    "start_time": "2024-04-30T17:36:47.848Z"
   },
   {
    "duration": 9,
    "start_time": "2024-04-30T17:36:47.870Z"
   },
   {
    "duration": 16,
    "start_time": "2024-04-30T17:36:47.880Z"
   },
   {
    "duration": 51,
    "start_time": "2024-04-30T17:36:47.898Z"
   },
   {
    "duration": 27,
    "start_time": "2024-04-30T17:36:47.950Z"
   },
   {
    "duration": 18,
    "start_time": "2024-04-30T17:36:47.979Z"
   },
   {
    "duration": 15,
    "start_time": "2024-04-30T17:36:48.000Z"
   },
   {
    "duration": 59,
    "start_time": "2024-04-30T17:36:48.016Z"
   },
   {
    "duration": 9,
    "start_time": "2024-04-30T17:36:48.077Z"
   },
   {
    "duration": 9,
    "start_time": "2024-04-30T17:36:48.088Z"
   },
   {
    "duration": 137,
    "start_time": "2024-04-30T17:39:04.287Z"
   },
   {
    "duration": 74,
    "start_time": "2024-04-30T17:39:52.400Z"
   },
   {
    "duration": 219,
    "start_time": "2024-04-30T17:39:58.425Z"
   },
   {
    "duration": 532,
    "start_time": "2024-04-30T17:41:14.033Z"
   },
   {
    "duration": 56,
    "start_time": "2024-04-30T17:41:14.567Z"
   },
   {
    "duration": 2332,
    "start_time": "2024-04-30T17:41:14.625Z"
   },
   {
    "duration": 10,
    "start_time": "2024-04-30T17:41:16.959Z"
   },
   {
    "duration": 16,
    "start_time": "2024-04-30T17:41:16.971Z"
   },
   {
    "duration": 4,
    "start_time": "2024-04-30T17:41:16.989Z"
   },
   {
    "duration": 210,
    "start_time": "2024-04-30T17:41:16.995Z"
   },
   {
    "duration": 20,
    "start_time": "2024-04-30T17:41:17.207Z"
   },
   {
    "duration": 22,
    "start_time": "2024-04-30T17:41:17.229Z"
   },
   {
    "duration": 8,
    "start_time": "2024-04-30T17:41:17.271Z"
   },
   {
    "duration": 11,
    "start_time": "2024-04-30T17:41:17.280Z"
   },
   {
    "duration": 15,
    "start_time": "2024-04-30T17:41:17.292Z"
   },
   {
    "duration": 21,
    "start_time": "2024-04-30T17:41:17.308Z"
   },
   {
    "duration": 27,
    "start_time": "2024-04-30T17:41:17.331Z"
   },
   {
    "duration": 17,
    "start_time": "2024-04-30T17:41:17.359Z"
   },
   {
    "duration": 15,
    "start_time": "2024-04-30T17:41:17.377Z"
   },
   {
    "duration": 11,
    "start_time": "2024-04-30T17:41:17.393Z"
   },
   {
    "duration": 13,
    "start_time": "2024-04-30T17:41:17.405Z"
   },
   {
    "duration": 5,
    "start_time": "2024-04-30T17:41:17.419Z"
   },
   {
    "duration": 20,
    "start_time": "2024-04-30T17:41:17.426Z"
   },
   {
    "duration": 7,
    "start_time": "2024-04-30T17:41:17.447Z"
   },
   {
    "duration": 25,
    "start_time": "2024-04-30T17:41:17.456Z"
   },
   {
    "duration": 27,
    "start_time": "2024-04-30T17:41:17.482Z"
   },
   {
    "duration": 13,
    "start_time": "2024-04-30T17:41:17.510Z"
   },
   {
    "duration": 69,
    "start_time": "2024-04-30T17:41:17.524Z"
   },
   {
    "duration": 20,
    "start_time": "2024-04-30T17:41:17.595Z"
   },
   {
    "duration": 17,
    "start_time": "2024-04-30T17:41:17.617Z"
   },
   {
    "duration": 52,
    "start_time": "2024-04-30T17:41:17.638Z"
   },
   {
    "duration": 9,
    "start_time": "2024-04-30T17:41:17.692Z"
   },
   {
    "duration": 21,
    "start_time": "2024-04-30T17:41:17.703Z"
   },
   {
    "duration": 11,
    "start_time": "2024-04-30T17:41:59.372Z"
   },
   {
    "duration": 8,
    "start_time": "2024-04-30T17:44:08.673Z"
   },
   {
    "duration": 49,
    "start_time": "2024-04-30T18:16:17.568Z"
   },
   {
    "duration": 38,
    "start_time": "2024-04-30T18:17:08.450Z"
   },
   {
    "duration": 34,
    "start_time": "2024-04-30T18:20:00.068Z"
   },
   {
    "duration": 36,
    "start_time": "2024-04-30T18:24:07.070Z"
   },
   {
    "duration": 59,
    "start_time": "2024-04-30T18:24:33.875Z"
   },
   {
    "duration": 37,
    "start_time": "2024-04-30T18:25:35.823Z"
   },
   {
    "duration": 36,
    "start_time": "2024-04-30T18:27:17.511Z"
   },
   {
    "duration": 34,
    "start_time": "2024-04-30T18:30:03.526Z"
   },
   {
    "duration": 35,
    "start_time": "2024-04-30T18:30:29.579Z"
   },
   {
    "duration": 61,
    "start_time": "2024-04-30T18:33:32.142Z"
   },
   {
    "duration": 16,
    "start_time": "2024-04-30T18:33:56.458Z"
   },
   {
    "duration": 527,
    "start_time": "2024-04-30T18:34:05.076Z"
   },
   {
    "duration": 51,
    "start_time": "2024-04-30T18:34:05.604Z"
   },
   {
    "duration": 2204,
    "start_time": "2024-04-30T18:34:05.657Z"
   },
   {
    "duration": 10,
    "start_time": "2024-04-30T18:34:07.863Z"
   },
   {
    "duration": 26,
    "start_time": "2024-04-30T18:34:07.875Z"
   },
   {
    "duration": 6,
    "start_time": "2024-04-30T18:34:07.903Z"
   },
   {
    "duration": 280,
    "start_time": "2024-04-30T18:34:07.911Z"
   },
   {
    "duration": 28,
    "start_time": "2024-04-30T18:34:08.193Z"
   },
   {
    "duration": 24,
    "start_time": "2024-04-30T18:34:08.223Z"
   },
   {
    "duration": 23,
    "start_time": "2024-04-30T18:34:08.251Z"
   },
   {
    "duration": 6,
    "start_time": "2024-04-30T18:34:08.276Z"
   },
   {
    "duration": 7,
    "start_time": "2024-04-30T18:34:08.284Z"
   },
   {
    "duration": 21,
    "start_time": "2024-04-30T18:34:08.292Z"
   },
   {
    "duration": 18,
    "start_time": "2024-04-30T18:34:08.315Z"
   },
   {
    "duration": 41,
    "start_time": "2024-04-30T18:34:08.335Z"
   },
   {
    "duration": 9,
    "start_time": "2024-04-30T18:34:08.379Z"
   },
   {
    "duration": 14,
    "start_time": "2024-04-30T18:34:08.390Z"
   },
   {
    "duration": 5,
    "start_time": "2024-04-30T18:34:08.407Z"
   },
   {
    "duration": 6,
    "start_time": "2024-04-30T18:34:08.414Z"
   },
   {
    "duration": 14,
    "start_time": "2024-04-30T18:34:08.422Z"
   },
   {
    "duration": 35,
    "start_time": "2024-04-30T18:34:08.439Z"
   },
   {
    "duration": 15,
    "start_time": "2024-04-30T18:34:08.475Z"
   },
   {
    "duration": 9,
    "start_time": "2024-04-30T18:34:08.491Z"
   },
   {
    "duration": 12,
    "start_time": "2024-04-30T18:34:08.502Z"
   },
   {
    "duration": 76,
    "start_time": "2024-04-30T18:34:08.516Z"
   },
   {
    "duration": 21,
    "start_time": "2024-04-30T18:34:08.593Z"
   },
   {
    "duration": 23,
    "start_time": "2024-04-30T18:34:08.616Z"
   },
   {
    "duration": 57,
    "start_time": "2024-04-30T18:34:08.643Z"
   },
   {
    "duration": 10,
    "start_time": "2024-04-30T18:34:08.702Z"
   },
   {
    "duration": 21,
    "start_time": "2024-04-30T18:34:08.714Z"
   },
   {
    "duration": 21,
    "start_time": "2024-04-30T18:34:08.737Z"
   },
   {
    "duration": 53,
    "start_time": "2024-04-30T18:34:08.760Z"
   },
   {
    "duration": 40,
    "start_time": "2024-04-30T18:34:08.815Z"
   },
   {
    "duration": 5,
    "start_time": "2024-04-30T18:38:03.960Z"
   },
   {
    "duration": 5,
    "start_time": "2024-04-30T18:38:34.271Z"
   },
   {
    "duration": 5,
    "start_time": "2024-04-30T18:39:03.089Z"
   },
   {
    "duration": 4,
    "start_time": "2024-04-30T18:39:18.903Z"
   },
   {
    "duration": 6,
    "start_time": "2024-04-30T18:39:36.109Z"
   },
   {
    "duration": 4,
    "start_time": "2024-04-30T18:54:08.805Z"
   },
   {
    "duration": 4,
    "start_time": "2024-04-30T18:56:41.430Z"
   },
   {
    "duration": 5,
    "start_time": "2024-04-30T18:56:56.644Z"
   },
   {
    "duration": 9,
    "start_time": "2024-04-30T18:57:26.506Z"
   },
   {
    "duration": 6,
    "start_time": "2024-04-30T19:10:35.613Z"
   },
   {
    "duration": 12,
    "start_time": "2024-04-30T19:10:45.048Z"
   },
   {
    "duration": 8,
    "start_time": "2024-04-30T19:16:41.002Z"
   },
   {
    "duration": 550,
    "start_time": "2024-04-30T19:17:09.540Z"
   },
   {
    "duration": 58,
    "start_time": "2024-04-30T19:17:10.092Z"
   },
   {
    "duration": 2165,
    "start_time": "2024-04-30T19:17:10.172Z"
   },
   {
    "duration": 10,
    "start_time": "2024-04-30T19:17:12.339Z"
   },
   {
    "duration": 16,
    "start_time": "2024-04-30T19:17:12.351Z"
   },
   {
    "duration": 6,
    "start_time": "2024-04-30T19:17:12.369Z"
   },
   {
    "duration": 210,
    "start_time": "2024-04-30T19:17:12.376Z"
   },
   {
    "duration": 22,
    "start_time": "2024-04-30T19:17:12.588Z"
   },
   {
    "duration": 25,
    "start_time": "2024-04-30T19:17:12.612Z"
   },
   {
    "duration": 30,
    "start_time": "2024-04-30T19:17:12.640Z"
   },
   {
    "duration": 7,
    "start_time": "2024-04-30T19:17:12.672Z"
   },
   {
    "duration": 21,
    "start_time": "2024-04-30T19:17:12.680Z"
   },
   {
    "duration": 34,
    "start_time": "2024-04-30T19:17:12.703Z"
   },
   {
    "duration": 21,
    "start_time": "2024-04-30T19:17:12.739Z"
   },
   {
    "duration": 8,
    "start_time": "2024-04-30T19:17:12.762Z"
   },
   {
    "duration": 7,
    "start_time": "2024-04-30T19:17:12.771Z"
   },
   {
    "duration": 15,
    "start_time": "2024-04-30T19:17:12.779Z"
   },
   {
    "duration": 7,
    "start_time": "2024-04-30T19:17:12.795Z"
   },
   {
    "duration": 5,
    "start_time": "2024-04-30T19:17:12.804Z"
   },
   {
    "duration": 16,
    "start_time": "2024-04-30T19:17:12.811Z"
   },
   {
    "duration": 13,
    "start_time": "2024-04-30T19:17:12.828Z"
   },
   {
    "duration": 29,
    "start_time": "2024-04-30T19:17:12.843Z"
   },
   {
    "duration": 9,
    "start_time": "2024-04-30T19:17:12.874Z"
   },
   {
    "duration": 12,
    "start_time": "2024-04-30T19:17:12.884Z"
   },
   {
    "duration": 73,
    "start_time": "2024-04-30T19:17:12.898Z"
   },
   {
    "duration": 20,
    "start_time": "2024-04-30T19:17:12.973Z"
   },
   {
    "duration": 16,
    "start_time": "2024-04-30T19:17:12.995Z"
   },
   {
    "duration": 23,
    "start_time": "2024-04-30T19:17:13.015Z"
   },
   {
    "duration": 36,
    "start_time": "2024-04-30T19:17:13.040Z"
   },
   {
    "duration": 8,
    "start_time": "2024-04-30T19:17:13.078Z"
   },
   {
    "duration": 8,
    "start_time": "2024-04-30T19:17:13.088Z"
   },
   {
    "duration": 39,
    "start_time": "2024-04-30T19:17:13.097Z"
   },
   {
    "duration": 69,
    "start_time": "2024-04-30T19:17:13.138Z"
   },
   {
    "duration": 8,
    "start_time": "2024-04-30T19:17:13.209Z"
   },
   {
    "duration": 8,
    "start_time": "2024-04-30T19:17:13.219Z"
   },
   {
    "duration": 730,
    "start_time": "2024-04-30T19:21:35.557Z"
   },
   {
    "duration": 11,
    "start_time": "2024-04-30T19:27:09.273Z"
   },
   {
    "duration": 527,
    "start_time": "2024-04-30T19:27:15.757Z"
   },
   {
    "duration": 50,
    "start_time": "2024-04-30T19:27:16.286Z"
   },
   {
    "duration": 2247,
    "start_time": "2024-04-30T19:27:16.338Z"
   },
   {
    "duration": 11,
    "start_time": "2024-04-30T19:27:18.587Z"
   },
   {
    "duration": 16,
    "start_time": "2024-04-30T19:27:18.600Z"
   },
   {
    "duration": 5,
    "start_time": "2024-04-30T19:27:18.618Z"
   },
   {
    "duration": 211,
    "start_time": "2024-04-30T19:27:18.625Z"
   },
   {
    "duration": 19,
    "start_time": "2024-04-30T19:27:18.837Z"
   },
   {
    "duration": 25,
    "start_time": "2024-04-30T19:27:18.858Z"
   },
   {
    "duration": 6,
    "start_time": "2024-04-30T19:27:18.886Z"
   },
   {
    "duration": 9,
    "start_time": "2024-04-30T19:27:18.893Z"
   },
   {
    "duration": 23,
    "start_time": "2024-04-30T19:27:18.904Z"
   },
   {
    "duration": 20,
    "start_time": "2024-04-30T19:27:18.929Z"
   },
   {
    "duration": 29,
    "start_time": "2024-04-30T19:27:18.950Z"
   },
   {
    "duration": 18,
    "start_time": "2024-04-30T19:27:18.981Z"
   },
   {
    "duration": 6,
    "start_time": "2024-04-30T19:27:19.000Z"
   },
   {
    "duration": 15,
    "start_time": "2024-04-30T19:27:19.007Z"
   },
   {
    "duration": 7,
    "start_time": "2024-04-30T19:27:19.023Z"
   },
   {
    "duration": 4,
    "start_time": "2024-04-30T19:27:19.031Z"
   },
   {
    "duration": 8,
    "start_time": "2024-04-30T19:27:19.037Z"
   },
   {
    "duration": 26,
    "start_time": "2024-04-30T19:27:19.046Z"
   },
   {
    "duration": 20,
    "start_time": "2024-04-30T19:27:19.073Z"
   },
   {
    "duration": 10,
    "start_time": "2024-04-30T19:27:19.095Z"
   },
   {
    "duration": 11,
    "start_time": "2024-04-30T19:27:19.107Z"
   },
   {
    "duration": 68,
    "start_time": "2024-04-30T19:27:19.120Z"
   },
   {
    "duration": 19,
    "start_time": "2024-04-30T19:27:19.189Z"
   },
   {
    "duration": 15,
    "start_time": "2024-04-30T19:27:19.210Z"
   },
   {
    "duration": 44,
    "start_time": "2024-04-30T19:27:19.228Z"
   },
   {
    "duration": 8,
    "start_time": "2024-04-30T19:27:19.274Z"
   },
   {
    "duration": 20,
    "start_time": "2024-04-30T19:27:19.283Z"
   },
   {
    "duration": 16,
    "start_time": "2024-04-30T19:27:19.304Z"
   },
   {
    "duration": 35,
    "start_time": "2024-04-30T19:27:19.321Z"
   },
   {
    "duration": 54,
    "start_time": "2024-04-30T19:27:19.357Z"
   },
   {
    "duration": 7,
    "start_time": "2024-04-30T19:27:19.412Z"
   },
   {
    "duration": 11,
    "start_time": "2024-04-30T19:27:19.420Z"
   },
   {
    "duration": 78,
    "start_time": "2024-04-30T19:27:19.432Z"
   },
   {
    "duration": 0,
    "start_time": "2024-04-30T19:27:19.512Z"
   },
   {
    "duration": 515,
    "start_time": "2024-04-30T19:27:33.279Z"
   },
   {
    "duration": 50,
    "start_time": "2024-04-30T19:27:33.796Z"
   },
   {
    "duration": 2206,
    "start_time": "2024-04-30T19:27:33.847Z"
   },
   {
    "duration": 9,
    "start_time": "2024-04-30T19:27:36.055Z"
   },
   {
    "duration": 17,
    "start_time": "2024-04-30T19:27:36.066Z"
   },
   {
    "duration": 11,
    "start_time": "2024-04-30T19:27:36.084Z"
   },
   {
    "duration": 212,
    "start_time": "2024-04-30T19:27:36.096Z"
   },
   {
    "duration": 21,
    "start_time": "2024-04-30T19:27:36.310Z"
   },
   {
    "duration": 16,
    "start_time": "2024-04-30T19:27:36.333Z"
   },
   {
    "duration": 8,
    "start_time": "2024-04-30T19:27:36.370Z"
   },
   {
    "duration": 7,
    "start_time": "2024-04-30T19:27:36.380Z"
   },
   {
    "duration": 27,
    "start_time": "2024-04-30T19:27:36.389Z"
   },
   {
    "duration": 23,
    "start_time": "2024-04-30T19:27:36.418Z"
   },
   {
    "duration": 38,
    "start_time": "2024-04-30T19:27:36.443Z"
   },
   {
    "duration": 10,
    "start_time": "2024-04-30T19:27:36.483Z"
   },
   {
    "duration": 19,
    "start_time": "2024-04-30T19:27:36.495Z"
   },
   {
    "duration": 16,
    "start_time": "2024-04-30T19:27:36.515Z"
   },
   {
    "duration": 5,
    "start_time": "2024-04-30T19:27:36.533Z"
   },
   {
    "duration": 12,
    "start_time": "2024-04-30T19:27:36.539Z"
   },
   {
    "duration": 24,
    "start_time": "2024-04-30T19:27:36.553Z"
   },
   {
    "duration": 4,
    "start_time": "2024-04-30T19:27:36.579Z"
   },
   {
    "duration": 14,
    "start_time": "2024-04-30T19:27:36.585Z"
   },
   {
    "duration": 9,
    "start_time": "2024-04-30T19:27:36.601Z"
   },
   {
    "duration": 13,
    "start_time": "2024-04-30T19:27:36.611Z"
   },
   {
    "duration": 80,
    "start_time": "2024-04-30T19:27:36.625Z"
   },
   {
    "duration": 19,
    "start_time": "2024-04-30T19:27:36.706Z"
   },
   {
    "duration": 42,
    "start_time": "2024-04-30T19:27:36.727Z"
   },
   {
    "duration": 29,
    "start_time": "2024-04-30T19:27:36.772Z"
   },
   {
    "duration": 8,
    "start_time": "2024-04-30T19:27:36.802Z"
   },
   {
    "duration": 8,
    "start_time": "2024-04-30T19:27:36.811Z"
   },
   {
    "duration": 8,
    "start_time": "2024-04-30T19:27:36.821Z"
   },
   {
    "duration": 54,
    "start_time": "2024-04-30T19:27:36.830Z"
   },
   {
    "duration": 40,
    "start_time": "2024-04-30T19:27:36.886Z"
   },
   {
    "duration": 6,
    "start_time": "2024-04-30T19:27:36.928Z"
   },
   {
    "duration": 8,
    "start_time": "2024-04-30T19:27:36.935Z"
   },
   {
    "duration": 93,
    "start_time": "2024-04-30T19:27:36.944Z"
   },
   {
    "duration": 8,
    "start_time": "2024-04-30T19:28:22.983Z"
   },
   {
    "duration": 7,
    "start_time": "2024-04-30T19:34:19.931Z"
   },
   {
    "duration": 7,
    "start_time": "2024-04-30T19:39:03.382Z"
   },
   {
    "duration": 3,
    "start_time": "2024-04-30T19:49:52.609Z"
   },
   {
    "duration": 8,
    "start_time": "2024-04-30T19:51:12.686Z"
   },
   {
    "duration": 11,
    "start_time": "2024-04-30T19:51:29.923Z"
   },
   {
    "duration": 66,
    "start_time": "2024-04-30T19:52:16.420Z"
   },
   {
    "duration": 11,
    "start_time": "2024-04-30T19:52:21.132Z"
   },
   {
    "duration": 92,
    "start_time": "2024-04-30T19:53:20.712Z"
   },
   {
    "duration": 69,
    "start_time": "2024-04-30T19:53:37.442Z"
   },
   {
    "duration": 11,
    "start_time": "2024-04-30T19:55:46.945Z"
   },
   {
    "duration": 1907,
    "start_time": "2024-04-30T19:56:26.061Z"
   },
   {
    "duration": 86,
    "start_time": "2024-04-30T20:08:42.888Z"
   },
   {
    "duration": 825,
    "start_time": "2024-04-30T20:08:54.634Z"
   },
   {
    "duration": 91,
    "start_time": "2024-04-30T20:10:15.946Z"
   },
   {
    "duration": 371,
    "start_time": "2024-04-30T20:10:47.728Z"
   },
   {
    "duration": 852,
    "start_time": "2024-04-30T20:11:01.239Z"
   },
   {
    "duration": 288,
    "start_time": "2024-04-30T20:11:20.803Z"
   },
   {
    "duration": 295,
    "start_time": "2024-04-30T20:11:42.226Z"
   },
   {
    "duration": 305,
    "start_time": "2024-04-30T20:11:52.272Z"
   },
   {
    "duration": 369,
    "start_time": "2024-04-30T20:12:45.669Z"
   },
   {
    "duration": 306,
    "start_time": "2024-04-30T20:12:53.547Z"
   },
   {
    "duration": 313,
    "start_time": "2024-04-30T20:13:23.931Z"
   },
   {
    "duration": 300,
    "start_time": "2024-04-30T20:13:31.865Z"
   },
   {
    "duration": 30,
    "start_time": "2024-04-30T20:14:32.438Z"
   },
   {
    "duration": 353,
    "start_time": "2024-04-30T20:14:43.914Z"
   },
   {
    "duration": 315,
    "start_time": "2024-04-30T20:15:19.833Z"
   },
   {
    "duration": 543,
    "start_time": "2024-04-30T20:17:44.549Z"
   },
   {
    "duration": 52,
    "start_time": "2024-04-30T20:17:45.094Z"
   },
   {
    "duration": 2205,
    "start_time": "2024-04-30T20:17:45.148Z"
   },
   {
    "duration": 10,
    "start_time": "2024-04-30T20:17:47.355Z"
   },
   {
    "duration": 21,
    "start_time": "2024-04-30T20:17:47.367Z"
   },
   {
    "duration": 23,
    "start_time": "2024-04-30T20:17:47.389Z"
   },
   {
    "duration": 203,
    "start_time": "2024-04-30T20:17:47.414Z"
   },
   {
    "duration": 19,
    "start_time": "2024-04-30T20:17:47.619Z"
   },
   {
    "duration": 14,
    "start_time": "2024-04-30T20:17:47.640Z"
   },
   {
    "duration": 7,
    "start_time": "2024-04-30T20:17:47.669Z"
   },
   {
    "duration": 6,
    "start_time": "2024-04-30T20:17:47.678Z"
   },
   {
    "duration": 7,
    "start_time": "2024-04-30T20:17:47.685Z"
   },
   {
    "duration": 20,
    "start_time": "2024-04-30T20:17:47.693Z"
   },
   {
    "duration": 17,
    "start_time": "2024-04-30T20:17:47.714Z"
   },
   {
    "duration": 41,
    "start_time": "2024-04-30T20:17:47.733Z"
   },
   {
    "duration": 6,
    "start_time": "2024-04-30T20:17:47.776Z"
   },
   {
    "duration": 7,
    "start_time": "2024-04-30T20:17:47.783Z"
   },
   {
    "duration": 7,
    "start_time": "2024-04-30T20:17:47.792Z"
   },
   {
    "duration": 5,
    "start_time": "2024-04-30T20:17:47.801Z"
   },
   {
    "duration": 11,
    "start_time": "2024-04-30T20:17:47.807Z"
   },
   {
    "duration": 13,
    "start_time": "2024-04-30T20:17:47.820Z"
   },
   {
    "duration": 39,
    "start_time": "2024-04-30T20:17:47.835Z"
   },
   {
    "duration": 9,
    "start_time": "2024-04-30T20:17:47.876Z"
   },
   {
    "duration": 12,
    "start_time": "2024-04-30T20:17:47.886Z"
   },
   {
    "duration": 61,
    "start_time": "2024-04-30T20:17:47.900Z"
   },
   {
    "duration": 21,
    "start_time": "2024-04-30T20:17:47.969Z"
   },
   {
    "duration": 15,
    "start_time": "2024-04-30T20:17:47.992Z"
   },
   {
    "duration": 24,
    "start_time": "2024-04-30T20:17:48.010Z"
   },
   {
    "duration": 35,
    "start_time": "2024-04-30T20:17:48.035Z"
   },
   {
    "duration": 9,
    "start_time": "2024-04-30T20:17:48.071Z"
   },
   {
    "duration": 12,
    "start_time": "2024-04-30T20:17:48.081Z"
   },
   {
    "duration": 43,
    "start_time": "2024-04-30T20:17:48.094Z"
   },
   {
    "duration": 61,
    "start_time": "2024-04-30T20:17:48.139Z"
   },
   {
    "duration": 6,
    "start_time": "2024-04-30T20:17:48.202Z"
   },
   {
    "duration": 17,
    "start_time": "2024-04-30T20:17:48.209Z"
   },
   {
    "duration": 7,
    "start_time": "2024-04-30T20:17:48.227Z"
   },
   {
    "duration": 83,
    "start_time": "2024-04-30T20:17:48.235Z"
   },
   {
    "duration": 0,
    "start_time": "2024-04-30T20:17:48.319Z"
   },
   {
    "duration": 0,
    "start_time": "2024-04-30T20:17:48.320Z"
   },
   {
    "duration": 496,
    "start_time": "2024-04-30T20:18:05.182Z"
   },
   {
    "duration": 45,
    "start_time": "2024-04-30T20:18:05.680Z"
   },
   {
    "duration": 2085,
    "start_time": "2024-04-30T20:18:05.728Z"
   },
   {
    "duration": 10,
    "start_time": "2024-04-30T20:18:07.814Z"
   },
   {
    "duration": 19,
    "start_time": "2024-04-30T20:18:07.825Z"
   },
   {
    "duration": 4,
    "start_time": "2024-04-30T20:18:07.845Z"
   },
   {
    "duration": 196,
    "start_time": "2024-04-30T20:18:07.851Z"
   },
   {
    "duration": 25,
    "start_time": "2024-04-30T20:18:08.049Z"
   },
   {
    "duration": 16,
    "start_time": "2024-04-30T20:18:08.077Z"
   },
   {
    "duration": 6,
    "start_time": "2024-04-30T20:18:08.094Z"
   },
   {
    "duration": 10,
    "start_time": "2024-04-30T20:18:08.102Z"
   },
   {
    "duration": 8,
    "start_time": "2024-04-30T20:18:08.114Z"
   },
   {
    "duration": 24,
    "start_time": "2024-04-30T20:18:08.123Z"
   },
   {
    "duration": 34,
    "start_time": "2024-04-30T20:18:08.149Z"
   },
   {
    "duration": 7,
    "start_time": "2024-04-30T20:18:08.185Z"
   },
   {
    "duration": 8,
    "start_time": "2024-04-30T20:18:08.193Z"
   },
   {
    "duration": 16,
    "start_time": "2024-04-30T20:18:08.202Z"
   },
   {
    "duration": 21,
    "start_time": "2024-04-30T20:18:08.220Z"
   },
   {
    "duration": 5,
    "start_time": "2024-04-30T20:18:08.243Z"
   },
   {
    "duration": 20,
    "start_time": "2024-04-30T20:18:08.249Z"
   },
   {
    "duration": 6,
    "start_time": "2024-04-30T20:18:08.271Z"
   },
   {
    "duration": 19,
    "start_time": "2024-04-30T20:18:08.279Z"
   },
   {
    "duration": 9,
    "start_time": "2024-04-30T20:18:08.299Z"
   },
   {
    "duration": 11,
    "start_time": "2024-04-30T20:18:08.309Z"
   },
   {
    "duration": 81,
    "start_time": "2024-04-30T20:18:08.322Z"
   },
   {
    "duration": 19,
    "start_time": "2024-04-30T20:18:08.404Z"
   },
   {
    "duration": 15,
    "start_time": "2024-04-30T20:18:08.426Z"
   },
   {
    "duration": 53,
    "start_time": "2024-04-30T20:18:08.443Z"
   },
   {
    "duration": 9,
    "start_time": "2024-04-30T20:18:08.497Z"
   },
   {
    "duration": 9,
    "start_time": "2024-04-30T20:18:08.508Z"
   },
   {
    "duration": 8,
    "start_time": "2024-04-30T20:18:08.518Z"
   },
   {
    "duration": 54,
    "start_time": "2024-04-30T20:18:08.527Z"
   },
   {
    "duration": 38,
    "start_time": "2024-04-30T20:18:08.583Z"
   },
   {
    "duration": 6,
    "start_time": "2024-04-30T20:18:08.623Z"
   },
   {
    "duration": 9,
    "start_time": "2024-04-30T20:18:08.630Z"
   },
   {
    "duration": 34,
    "start_time": "2024-04-30T20:18:08.640Z"
   },
   {
    "duration": 7,
    "start_time": "2024-04-30T20:18:08.675Z"
   },
   {
    "duration": 321,
    "start_time": "2024-04-30T20:18:08.683Z"
   },
   {
    "duration": 7,
    "start_time": "2024-04-30T20:24:49.670Z"
   },
   {
    "duration": 7,
    "start_time": "2024-04-30T20:25:05.069Z"
   },
   {
    "duration": 516,
    "start_time": "2024-04-30T20:27:25.640Z"
   },
   {
    "duration": 54,
    "start_time": "2024-04-30T20:27:26.158Z"
   },
   {
    "duration": 2099,
    "start_time": "2024-04-30T20:27:26.214Z"
   },
   {
    "duration": 10,
    "start_time": "2024-04-30T20:27:28.315Z"
   },
   {
    "duration": 9,
    "start_time": "2024-04-30T20:27:28.326Z"
   },
   {
    "duration": 5,
    "start_time": "2024-04-30T20:27:28.337Z"
   },
   {
    "duration": 208,
    "start_time": "2024-04-30T20:27:28.343Z"
   },
   {
    "duration": 24,
    "start_time": "2024-04-30T20:27:28.553Z"
   },
   {
    "duration": 15,
    "start_time": "2024-04-30T20:27:28.578Z"
   },
   {
    "duration": 6,
    "start_time": "2024-04-30T20:27:28.596Z"
   },
   {
    "duration": 7,
    "start_time": "2024-04-30T20:27:28.603Z"
   },
   {
    "duration": 5,
    "start_time": "2024-04-30T20:27:28.611Z"
   },
   {
    "duration": 23,
    "start_time": "2024-04-30T20:27:28.618Z"
   },
   {
    "duration": 39,
    "start_time": "2024-04-30T20:27:28.642Z"
   },
   {
    "duration": 7,
    "start_time": "2024-04-30T20:27:28.682Z"
   },
   {
    "duration": 6,
    "start_time": "2024-04-30T20:27:28.690Z"
   },
   {
    "duration": 5,
    "start_time": "2024-04-30T20:27:28.697Z"
   },
   {
    "duration": 4,
    "start_time": "2024-04-30T20:27:28.703Z"
   },
   {
    "duration": 5,
    "start_time": "2024-04-30T20:27:28.708Z"
   },
   {
    "duration": 10,
    "start_time": "2024-04-30T20:27:28.715Z"
   },
   {
    "duration": 20,
    "start_time": "2024-04-30T20:27:28.726Z"
   },
   {
    "duration": 16,
    "start_time": "2024-04-30T20:27:28.769Z"
   },
   {
    "duration": 8,
    "start_time": "2024-04-30T20:27:28.787Z"
   },
   {
    "duration": 16,
    "start_time": "2024-04-30T20:27:28.797Z"
   },
   {
    "duration": 56,
    "start_time": "2024-04-30T20:27:28.814Z"
   },
   {
    "duration": 19,
    "start_time": "2024-04-30T20:27:28.872Z"
   },
   {
    "duration": 14,
    "start_time": "2024-04-30T20:27:28.892Z"
   },
   {
    "duration": 21,
    "start_time": "2024-04-30T20:27:28.909Z"
   },
   {
    "duration": 10,
    "start_time": "2024-04-30T20:27:28.931Z"
   },
   {
    "duration": 9,
    "start_time": "2024-04-30T20:27:28.970Z"
   },
   {
    "duration": 17,
    "start_time": "2024-04-30T20:27:28.980Z"
   },
   {
    "duration": 33,
    "start_time": "2024-04-30T20:27:28.999Z"
   },
   {
    "duration": 54,
    "start_time": "2024-04-30T20:27:29.033Z"
   },
   {
    "duration": 17,
    "start_time": "2024-04-30T20:27:29.089Z"
   },
   {
    "duration": 8,
    "start_time": "2024-04-30T20:27:29.107Z"
   },
   {
    "duration": 8,
    "start_time": "2024-04-30T20:27:29.117Z"
   },
   {
    "duration": 8,
    "start_time": "2024-04-30T20:27:29.127Z"
   },
   {
    "duration": 357,
    "start_time": "2024-04-30T20:27:29.137Z"
   },
   {
    "duration": 6,
    "start_time": "2024-04-30T20:27:29.495Z"
   },
   {
    "duration": 6,
    "start_time": "2024-04-30T20:40:19.134Z"
   },
   {
    "duration": 37,
    "start_time": "2024-04-30T20:43:52.084Z"
   },
   {
    "duration": 8,
    "start_time": "2024-04-30T20:50:22.934Z"
   },
   {
    "duration": 360,
    "start_time": "2024-04-30T20:50:51.803Z"
   },
   {
    "duration": 26,
    "start_time": "2024-04-30T20:54:36.069Z"
   },
   {
    "duration": 15,
    "start_time": "2024-04-30T20:59:00.935Z"
   },
   {
    "duration": 42,
    "start_time": "2024-04-30T21:02:06.751Z"
   },
   {
    "duration": 41,
    "start_time": "2024-04-30T21:03:10.796Z"
   },
   {
    "duration": 303,
    "start_time": "2024-04-30T21:07:07.470Z"
   },
   {
    "duration": 740,
    "start_time": "2024-04-30T21:10:38.054Z"
   },
   {
    "duration": 45,
    "start_time": "2024-04-30T21:10:38.796Z"
   },
   {
    "duration": 1909,
    "start_time": "2024-04-30T21:10:38.843Z"
   },
   {
    "duration": 10,
    "start_time": "2024-04-30T21:10:40.754Z"
   },
   {
    "duration": 8,
    "start_time": "2024-04-30T21:10:40.765Z"
   },
   {
    "duration": 4,
    "start_time": "2024-04-30T21:10:40.775Z"
   },
   {
    "duration": 206,
    "start_time": "2024-04-30T21:10:40.780Z"
   },
   {
    "duration": 19,
    "start_time": "2024-04-30T21:10:40.988Z"
   },
   {
    "duration": 15,
    "start_time": "2024-04-30T21:10:41.008Z"
   },
   {
    "duration": 6,
    "start_time": "2024-04-30T21:10:41.025Z"
   },
   {
    "duration": 10,
    "start_time": "2024-04-30T21:10:41.033Z"
   },
   {
    "duration": 27,
    "start_time": "2024-04-30T21:10:41.045Z"
   },
   {
    "duration": 28,
    "start_time": "2024-04-30T21:10:41.074Z"
   },
   {
    "duration": 16,
    "start_time": "2024-04-30T21:10:41.103Z"
   },
   {
    "duration": 16,
    "start_time": "2024-04-30T21:10:41.120Z"
   },
   {
    "duration": 12,
    "start_time": "2024-04-30T21:10:41.137Z"
   },
   {
    "duration": 7,
    "start_time": "2024-04-30T21:10:41.151Z"
   },
   {
    "duration": 6,
    "start_time": "2024-04-30T21:10:41.159Z"
   },
   {
    "duration": 12,
    "start_time": "2024-04-30T21:10:41.169Z"
   },
   {
    "duration": 12,
    "start_time": "2024-04-30T21:10:41.182Z"
   },
   {
    "duration": 6,
    "start_time": "2024-04-30T21:10:41.196Z"
   },
   {
    "duration": 18,
    "start_time": "2024-04-30T21:10:41.203Z"
   },
   {
    "duration": 9,
    "start_time": "2024-04-30T21:10:41.222Z"
   },
   {
    "duration": 11,
    "start_time": "2024-04-30T21:10:41.233Z"
   },
   {
    "duration": 66,
    "start_time": "2024-04-30T21:10:41.246Z"
   },
   {
    "duration": 18,
    "start_time": "2024-04-30T21:10:41.314Z"
   },
   {
    "duration": 36,
    "start_time": "2024-04-30T21:10:41.334Z"
   },
   {
    "duration": 23,
    "start_time": "2024-04-30T21:10:41.373Z"
   },
   {
    "duration": 7,
    "start_time": "2024-04-30T21:10:41.398Z"
   },
   {
    "duration": 8,
    "start_time": "2024-04-30T21:10:41.407Z"
   },
   {
    "duration": 8,
    "start_time": "2024-04-30T21:10:41.417Z"
   },
   {
    "duration": 69,
    "start_time": "2024-04-30T21:10:41.427Z"
   },
   {
    "duration": 13,
    "start_time": "2024-04-30T21:10:41.498Z"
   },
   {
    "duration": 7,
    "start_time": "2024-04-30T21:10:41.512Z"
   },
   {
    "duration": 13,
    "start_time": "2024-04-30T21:10:41.521Z"
   },
   {
    "duration": 8,
    "start_time": "2024-04-30T21:10:41.536Z"
   },
   {
    "duration": 29,
    "start_time": "2024-04-30T21:10:41.545Z"
   },
   {
    "duration": 309,
    "start_time": "2024-04-30T21:10:41.576Z"
   },
   {
    "duration": 6,
    "start_time": "2024-04-30T21:10:41.886Z"
   },
   {
    "duration": 25,
    "start_time": "2024-04-30T21:10:41.893Z"
   },
   {
    "duration": 356,
    "start_time": "2024-04-30T21:10:41.919Z"
   },
   {
    "duration": 304,
    "start_time": "2024-04-30T21:19:18.260Z"
   },
   {
    "duration": 95,
    "start_time": "2024-04-30T21:24:13.815Z"
   },
   {
    "duration": 278,
    "start_time": "2024-04-30T21:25:15.878Z"
   },
   {
    "duration": 49,
    "start_time": "2024-05-01T08:23:44.467Z"
   },
   {
    "duration": 48,
    "start_time": "2024-05-01T08:25:50.119Z"
   },
   {
    "duration": 0,
    "start_time": "2024-05-01T08:25:50.168Z"
   },
   {
    "duration": 1130,
    "start_time": "2024-05-01T08:25:50.218Z"
   },
   {
    "duration": 58,
    "start_time": "2024-05-01T08:25:51.350Z"
   },
   {
    "duration": 2087,
    "start_time": "2024-05-01T08:25:51.409Z"
   },
   {
    "duration": 14,
    "start_time": "2024-05-01T08:25:53.498Z"
   },
   {
    "duration": 21,
    "start_time": "2024-05-01T08:25:53.514Z"
   },
   {
    "duration": 19,
    "start_time": "2024-05-01T08:25:53.537Z"
   },
   {
    "duration": 221,
    "start_time": "2024-05-01T08:25:53.557Z"
   },
   {
    "duration": 28,
    "start_time": "2024-05-01T08:25:53.780Z"
   },
   {
    "duration": 19,
    "start_time": "2024-05-01T08:25:53.811Z"
   },
   {
    "duration": 7,
    "start_time": "2024-05-01T08:25:53.832Z"
   },
   {
    "duration": 19,
    "start_time": "2024-05-01T08:25:53.841Z"
   },
   {
    "duration": 19,
    "start_time": "2024-05-01T08:25:53.862Z"
   },
   {
    "duration": 30,
    "start_time": "2024-05-01T08:25:53.882Z"
   },
   {
    "duration": 25,
    "start_time": "2024-05-01T08:25:53.913Z"
   },
   {
    "duration": 12,
    "start_time": "2024-05-01T08:25:53.939Z"
   },
   {
    "duration": 18,
    "start_time": "2024-05-01T08:25:53.953Z"
   },
   {
    "duration": 21,
    "start_time": "2024-05-01T08:25:53.973Z"
   },
   {
    "duration": 25,
    "start_time": "2024-05-01T08:25:53.995Z"
   },
   {
    "duration": 18,
    "start_time": "2024-05-01T08:25:54.021Z"
   },
   {
    "duration": 14,
    "start_time": "2024-05-01T08:25:54.041Z"
   },
   {
    "duration": 33,
    "start_time": "2024-05-01T08:25:54.057Z"
   },
   {
    "duration": 22,
    "start_time": "2024-05-01T08:25:54.091Z"
   },
   {
    "duration": 13,
    "start_time": "2024-05-01T08:25:54.115Z"
   },
   {
    "duration": 22,
    "start_time": "2024-05-01T08:25:54.129Z"
   },
   {
    "duration": 50,
    "start_time": "2024-05-01T08:25:54.152Z"
   },
   {
    "duration": 19,
    "start_time": "2024-05-01T08:25:54.204Z"
   },
   {
    "duration": 16,
    "start_time": "2024-05-01T08:25:54.225Z"
   },
   {
    "duration": 52,
    "start_time": "2024-05-01T08:25:54.244Z"
   },
   {
    "duration": 9,
    "start_time": "2024-05-01T08:25:54.299Z"
   },
   {
    "duration": 9,
    "start_time": "2024-05-01T08:25:54.309Z"
   },
   {
    "duration": 9,
    "start_time": "2024-05-01T08:25:54.319Z"
   },
   {
    "duration": 56,
    "start_time": "2024-05-01T08:25:54.329Z"
   },
   {
    "duration": 12,
    "start_time": "2024-05-01T08:25:54.392Z"
   },
   {
    "duration": 7,
    "start_time": "2024-05-01T08:25:54.405Z"
   },
   {
    "duration": 35,
    "start_time": "2024-05-01T08:25:54.413Z"
   },
   {
    "duration": 10,
    "start_time": "2024-05-01T08:25:54.449Z"
   },
   {
    "duration": 8,
    "start_time": "2024-05-01T08:25:54.460Z"
   },
   {
    "duration": 418,
    "start_time": "2024-05-01T08:25:54.469Z"
   },
   {
    "duration": 7,
    "start_time": "2024-05-01T08:25:54.888Z"
   },
   {
    "duration": 36,
    "start_time": "2024-05-01T08:25:54.897Z"
   },
   {
    "duration": 331,
    "start_time": "2024-05-01T08:25:54.935Z"
   },
   {
    "duration": 326,
    "start_time": "2024-05-01T08:25:55.267Z"
   },
   {
    "duration": 299,
    "start_time": "2024-05-01T08:25:55.594Z"
   },
   {
    "duration": 37,
    "start_time": "2024-05-01T08:25:55.895Z"
   },
   {
    "duration": 23,
    "start_time": "2024-05-01T08:27:00.233Z"
   },
   {
    "duration": 37,
    "start_time": "2024-05-01T08:28:53.959Z"
   },
   {
    "duration": 5,
    "start_time": "2024-05-01T08:36:00.033Z"
   },
   {
    "duration": 163,
    "start_time": "2024-05-01T08:36:51.581Z"
   },
   {
    "duration": 141,
    "start_time": "2024-05-01T08:37:34.321Z"
   },
   {
    "duration": 260,
    "start_time": "2024-05-01T08:37:45.399Z"
   },
   {
    "duration": 136,
    "start_time": "2024-05-01T08:59:37.837Z"
   },
   {
    "duration": 306,
    "start_time": "2024-05-01T09:09:22.139Z"
   },
   {
    "duration": 150,
    "start_time": "2024-05-01T09:09:38.659Z"
   },
   {
    "duration": 124,
    "start_time": "2024-05-01T09:09:48.302Z"
   },
   {
    "duration": 152,
    "start_time": "2024-05-01T09:09:53.972Z"
   },
   {
    "duration": 130,
    "start_time": "2024-05-01T09:09:59.528Z"
   },
   {
    "duration": 142,
    "start_time": "2024-05-01T09:10:06.462Z"
   },
   {
    "duration": 169,
    "start_time": "2024-05-01T09:16:23.850Z"
   },
   {
    "duration": 146,
    "start_time": "2024-05-01T09:19:07.138Z"
   },
   {
    "duration": 144,
    "start_time": "2024-05-01T09:22:48.221Z"
   },
   {
    "duration": 131,
    "start_time": "2024-05-01T09:22:53.184Z"
   },
   {
    "duration": 140,
    "start_time": "2024-05-01T09:24:09.820Z"
   },
   {
    "duration": 805,
    "start_time": "2024-05-01T09:28:22.463Z"
   },
   {
    "duration": 59,
    "start_time": "2024-05-01T09:28:23.271Z"
   },
   {
    "duration": 2073,
    "start_time": "2024-05-01T09:28:23.331Z"
   },
   {
    "duration": 11,
    "start_time": "2024-05-01T09:28:25.405Z"
   },
   {
    "duration": 19,
    "start_time": "2024-05-01T09:28:25.418Z"
   },
   {
    "duration": 37,
    "start_time": "2024-05-01T09:28:25.439Z"
   },
   {
    "duration": 226,
    "start_time": "2024-05-01T09:28:25.477Z"
   },
   {
    "duration": 19,
    "start_time": "2024-05-01T09:28:25.705Z"
   },
   {
    "duration": 34,
    "start_time": "2024-05-01T09:28:25.726Z"
   },
   {
    "duration": 22,
    "start_time": "2024-05-01T09:28:25.761Z"
   },
   {
    "duration": 10,
    "start_time": "2024-05-01T09:28:25.785Z"
   },
   {
    "duration": 7,
    "start_time": "2024-05-01T09:28:25.796Z"
   },
   {
    "duration": 31,
    "start_time": "2024-05-01T09:28:25.805Z"
   },
   {
    "duration": 17,
    "start_time": "2024-05-01T09:28:25.839Z"
   },
   {
    "duration": 8,
    "start_time": "2024-05-01T09:28:25.857Z"
   },
   {
    "duration": 11,
    "start_time": "2024-05-01T09:28:25.867Z"
   },
   {
    "duration": 6,
    "start_time": "2024-05-01T09:28:25.892Z"
   },
   {
    "duration": 6,
    "start_time": "2024-05-01T09:28:25.900Z"
   },
   {
    "duration": 6,
    "start_time": "2024-05-01T09:28:25.908Z"
   },
   {
    "duration": 17,
    "start_time": "2024-05-01T09:28:25.916Z"
   },
   {
    "duration": 5,
    "start_time": "2024-05-01T09:28:25.934Z"
   },
   {
    "duration": 17,
    "start_time": "2024-05-01T09:28:25.940Z"
   },
   {
    "duration": 10,
    "start_time": "2024-05-01T09:28:25.990Z"
   },
   {
    "duration": 46,
    "start_time": "2024-05-01T09:28:26.001Z"
   },
   {
    "duration": 59,
    "start_time": "2024-05-01T09:28:26.048Z"
   },
   {
    "duration": 24,
    "start_time": "2024-05-01T09:28:26.109Z"
   },
   {
    "duration": 24,
    "start_time": "2024-05-01T09:28:26.135Z"
   },
   {
    "duration": 33,
    "start_time": "2024-05-01T09:28:26.161Z"
   },
   {
    "duration": 10,
    "start_time": "2024-05-01T09:28:26.195Z"
   },
   {
    "duration": 9,
    "start_time": "2024-05-01T09:28:26.206Z"
   },
   {
    "duration": 18,
    "start_time": "2024-05-01T09:28:26.216Z"
   },
   {
    "duration": 37,
    "start_time": "2024-05-01T09:28:26.236Z"
   },
   {
    "duration": 13,
    "start_time": "2024-05-01T09:28:26.291Z"
   },
   {
    "duration": 23,
    "start_time": "2024-05-01T09:28:26.306Z"
   },
   {
    "duration": 26,
    "start_time": "2024-05-01T09:28:26.330Z"
   },
   {
    "duration": 16,
    "start_time": "2024-05-01T09:28:26.358Z"
   },
   {
    "duration": 12,
    "start_time": "2024-05-01T09:28:26.376Z"
   },
   {
    "duration": 375,
    "start_time": "2024-05-01T09:28:26.390Z"
   },
   {
    "duration": 6,
    "start_time": "2024-05-01T09:28:26.767Z"
   },
   {
    "duration": 44,
    "start_time": "2024-05-01T09:28:26.774Z"
   },
   {
    "duration": 382,
    "start_time": "2024-05-01T09:28:26.822Z"
   },
   {
    "duration": 314,
    "start_time": "2024-05-01T09:28:27.206Z"
   },
   {
    "duration": 153,
    "start_time": "2024-05-01T09:28:27.522Z"
   },
   {
    "duration": 51,
    "start_time": "2024-05-01T09:28:27.677Z"
   },
   {
    "duration": 160,
    "start_time": "2024-05-01T09:28:27.729Z"
   },
   {
    "duration": 138,
    "start_time": "2024-05-01T09:28:27.890Z"
   },
   {
    "duration": 144,
    "start_time": "2024-05-01T09:28:28.030Z"
   },
   {
    "duration": 765,
    "start_time": "2024-05-01T09:34:15.145Z"
   },
   {
    "duration": 50,
    "start_time": "2024-05-01T09:34:15.913Z"
   },
   {
    "duration": 2115,
    "start_time": "2024-05-01T09:34:15.965Z"
   },
   {
    "duration": 10,
    "start_time": "2024-05-01T09:34:18.082Z"
   },
   {
    "duration": 30,
    "start_time": "2024-05-01T09:34:18.094Z"
   },
   {
    "duration": 25,
    "start_time": "2024-05-01T09:34:18.126Z"
   },
   {
    "duration": 247,
    "start_time": "2024-05-01T09:34:18.152Z"
   },
   {
    "duration": 21,
    "start_time": "2024-05-01T09:34:18.401Z"
   },
   {
    "duration": 24,
    "start_time": "2024-05-01T09:34:18.424Z"
   },
   {
    "duration": 7,
    "start_time": "2024-05-01T09:34:18.450Z"
   },
   {
    "duration": 45,
    "start_time": "2024-05-01T09:34:18.459Z"
   },
   {
    "duration": 49,
    "start_time": "2024-05-01T09:34:18.506Z"
   },
   {
    "duration": 31,
    "start_time": "2024-05-01T09:34:18.557Z"
   },
   {
    "duration": 20,
    "start_time": "2024-05-01T09:34:18.590Z"
   },
   {
    "duration": 8,
    "start_time": "2024-05-01T09:34:18.612Z"
   },
   {
    "duration": 12,
    "start_time": "2024-05-01T09:34:18.622Z"
   },
   {
    "duration": 18,
    "start_time": "2024-05-01T09:34:18.636Z"
   },
   {
    "duration": 8,
    "start_time": "2024-05-01T09:34:18.656Z"
   },
   {
    "duration": 8,
    "start_time": "2024-05-01T09:34:18.665Z"
   },
   {
    "duration": 27,
    "start_time": "2024-05-01T09:34:18.675Z"
   },
   {
    "duration": 10,
    "start_time": "2024-05-01T09:34:18.703Z"
   },
   {
    "duration": 38,
    "start_time": "2024-05-01T09:34:18.715Z"
   },
   {
    "duration": 36,
    "start_time": "2024-05-01T09:34:18.755Z"
   },
   {
    "duration": 29,
    "start_time": "2024-05-01T09:34:18.793Z"
   },
   {
    "duration": 63,
    "start_time": "2024-05-01T09:34:18.824Z"
   },
   {
    "duration": 21,
    "start_time": "2024-05-01T09:34:18.888Z"
   },
   {
    "duration": 18,
    "start_time": "2024-05-01T09:34:18.910Z"
   },
   {
    "duration": 34,
    "start_time": "2024-05-01T09:34:18.933Z"
   },
   {
    "duration": 10,
    "start_time": "2024-05-01T09:34:18.992Z"
   },
   {
    "duration": 11,
    "start_time": "2024-05-01T09:34:19.004Z"
   },
   {
    "duration": 31,
    "start_time": "2024-05-01T09:34:19.017Z"
   },
   {
    "duration": 42,
    "start_time": "2024-05-01T09:34:19.050Z"
   },
   {
    "duration": 12,
    "start_time": "2024-05-01T09:34:19.094Z"
   },
   {
    "duration": 6,
    "start_time": "2024-05-01T09:34:19.108Z"
   },
   {
    "duration": 11,
    "start_time": "2024-05-01T09:34:19.116Z"
   },
   {
    "duration": 12,
    "start_time": "2024-05-01T09:34:19.128Z"
   },
   {
    "duration": 9,
    "start_time": "2024-05-01T09:34:19.142Z"
   },
   {
    "duration": 365,
    "start_time": "2024-05-01T09:34:19.153Z"
   },
   {
    "duration": 8,
    "start_time": "2024-05-01T09:34:19.520Z"
   },
   {
    "duration": 31,
    "start_time": "2024-05-01T09:34:19.529Z"
   },
   {
    "duration": 407,
    "start_time": "2024-05-01T09:34:19.562Z"
   },
   {
    "duration": 338,
    "start_time": "2024-05-01T09:34:19.971Z"
   },
   {
    "duration": 156,
    "start_time": "2024-05-01T09:34:20.311Z"
   },
   {
    "duration": 67,
    "start_time": "2024-05-01T09:34:20.469Z"
   },
   {
    "duration": 175,
    "start_time": "2024-05-01T09:34:20.537Z"
   },
   {
    "duration": 180,
    "start_time": "2024-05-01T09:34:20.714Z"
   },
   {
    "duration": 169,
    "start_time": "2024-05-01T09:34:20.896Z"
   },
   {
    "duration": 98,
    "start_time": "2024-05-01T09:34:21.067Z"
   },
   {
    "duration": 141,
    "start_time": "2024-05-01T09:34:33.025Z"
   },
   {
    "duration": 229,
    "start_time": "2024-05-01T09:35:35.915Z"
   },
   {
    "duration": 46,
    "start_time": "2024-05-01T09:36:58.286Z"
   },
   {
    "duration": 193,
    "start_time": "2024-05-01T09:37:58.286Z"
   },
   {
    "duration": 7,
    "start_time": "2024-05-01T09:38:12.579Z"
   },
   {
    "duration": 7,
    "start_time": "2024-05-01T09:38:24.444Z"
   },
   {
    "duration": 46,
    "start_time": "2024-05-01T09:38:33.871Z"
   },
   {
    "duration": 32,
    "start_time": "2024-05-01T10:14:34.317Z"
   },
   {
    "duration": 9,
    "start_time": "2024-05-01T10:15:28.737Z"
   },
   {
    "duration": 208,
    "start_time": "2024-05-01T10:15:46.584Z"
   },
   {
    "duration": 151,
    "start_time": "2024-05-01T10:15:55.737Z"
   },
   {
    "duration": 167,
    "start_time": "2024-05-01T10:17:23.256Z"
   },
   {
    "duration": 9,
    "start_time": "2024-05-01T10:25:52.683Z"
   },
   {
    "duration": 98608,
    "start_time": "2024-05-01T10:26:14.508Z"
   },
   {
    "duration": 13,
    "start_time": "2024-05-01T10:29:07.865Z"
   },
   {
    "duration": 24,
    "start_time": "2024-05-01T10:29:14.451Z"
   },
   {
    "duration": 206,
    "start_time": "2024-05-01T10:30:44.973Z"
   },
   {
    "duration": 100744,
    "start_time": "2024-05-01T10:33:13.262Z"
   },
   {
    "duration": 37,
    "start_time": "2024-05-01T10:35:48.040Z"
   },
   {
    "duration": 12,
    "start_time": "2024-05-01T10:42:46.754Z"
   },
   {
    "duration": 101508,
    "start_time": "2024-05-01T10:44:06.992Z"
   },
   {
    "duration": 791,
    "start_time": "2024-05-01T11:22:25.360Z"
   },
   {
    "duration": 55,
    "start_time": "2024-05-01T11:22:26.153Z"
   },
   {
    "duration": 2089,
    "start_time": "2024-05-01T11:22:26.210Z"
   },
   {
    "duration": 14,
    "start_time": "2024-05-01T11:22:28.302Z"
   },
   {
    "duration": 53,
    "start_time": "2024-05-01T11:22:28.318Z"
   },
   {
    "duration": 18,
    "start_time": "2024-05-01T11:22:28.373Z"
   },
   {
    "duration": 258,
    "start_time": "2024-05-01T11:22:28.392Z"
   },
   {
    "duration": 20,
    "start_time": "2024-05-01T11:22:28.652Z"
   },
   {
    "duration": 25,
    "start_time": "2024-05-01T11:22:28.674Z"
   },
   {
    "duration": 18,
    "start_time": "2024-05-01T11:22:28.703Z"
   },
   {
    "duration": 8,
    "start_time": "2024-05-01T11:22:28.722Z"
   },
   {
    "duration": 10,
    "start_time": "2024-05-01T11:22:28.732Z"
   },
   {
    "duration": 22,
    "start_time": "2024-05-01T11:22:28.743Z"
   },
   {
    "duration": 35,
    "start_time": "2024-05-01T11:22:28.767Z"
   },
   {
    "duration": 8,
    "start_time": "2024-05-01T11:22:28.804Z"
   },
   {
    "duration": 9,
    "start_time": "2024-05-01T11:22:28.814Z"
   },
   {
    "duration": 13,
    "start_time": "2024-05-01T11:22:28.825Z"
   },
   {
    "duration": 7,
    "start_time": "2024-05-01T11:22:28.840Z"
   },
   {
    "duration": 7,
    "start_time": "2024-05-01T11:22:28.848Z"
   },
   {
    "duration": 37,
    "start_time": "2024-05-01T11:22:28.856Z"
   },
   {
    "duration": 19,
    "start_time": "2024-05-01T11:22:28.895Z"
   },
   {
    "duration": 23,
    "start_time": "2024-05-01T11:22:28.915Z"
   },
   {
    "duration": 9,
    "start_time": "2024-05-01T11:22:28.939Z"
   },
   {
    "duration": 21,
    "start_time": "2024-05-01T11:22:28.950Z"
   },
   {
    "duration": 52,
    "start_time": "2024-05-01T11:22:28.972Z"
   },
   {
    "duration": 20,
    "start_time": "2024-05-01T11:22:29.025Z"
   },
   {
    "duration": 16,
    "start_time": "2024-05-01T11:22:29.046Z"
   },
   {
    "duration": 43,
    "start_time": "2024-05-01T11:22:29.065Z"
   },
   {
    "duration": 17,
    "start_time": "2024-05-01T11:22:29.110Z"
   },
   {
    "duration": 16,
    "start_time": "2024-05-01T11:22:29.129Z"
   },
   {
    "duration": 14,
    "start_time": "2024-05-01T11:22:29.147Z"
   },
   {
    "duration": 40,
    "start_time": "2024-05-01T11:22:29.163Z"
   },
   {
    "duration": 12,
    "start_time": "2024-05-01T11:22:29.205Z"
   },
   {
    "duration": 7,
    "start_time": "2024-05-01T11:22:29.218Z"
   },
   {
    "duration": 25,
    "start_time": "2024-05-01T11:22:29.226Z"
   },
   {
    "duration": 11,
    "start_time": "2024-05-01T11:22:29.253Z"
   },
   {
    "duration": 15,
    "start_time": "2024-05-01T11:22:29.266Z"
   },
   {
    "duration": 320,
    "start_time": "2024-05-01T11:22:29.283Z"
   },
   {
    "duration": 7,
    "start_time": "2024-05-01T11:22:29.605Z"
   },
   {
    "duration": 38,
    "start_time": "2024-05-01T11:22:29.614Z"
   },
   {
    "duration": 399,
    "start_time": "2024-05-01T11:22:29.654Z"
   },
   {
    "duration": 332,
    "start_time": "2024-05-01T11:22:30.055Z"
   },
   {
    "duration": 151,
    "start_time": "2024-05-01T11:22:30.388Z"
   },
   {
    "duration": 37,
    "start_time": "2024-05-01T11:22:30.541Z"
   },
   {
    "duration": 156,
    "start_time": "2024-05-01T11:22:30.592Z"
   },
   {
    "duration": 129,
    "start_time": "2024-05-01T11:22:30.750Z"
   },
   {
    "duration": 173,
    "start_time": "2024-05-01T11:22:30.881Z"
   },
   {
    "duration": 227,
    "start_time": "2024-05-01T11:22:31.055Z"
   },
   {
    "duration": 102,
    "start_time": "2024-05-01T11:22:31.290Z"
   },
   {
    "duration": 214,
    "start_time": "2024-05-01T11:22:31.394Z"
   },
   {
    "duration": 96715,
    "start_time": "2024-05-01T11:22:31.609Z"
   },
   {
    "duration": 9,
    "start_time": "2024-05-01T11:24:08.326Z"
   },
   {
    "duration": 31232,
    "start_time": "2024-05-01T11:24:08.337Z"
   },
   {
    "duration": 16,
    "start_time": "2024-05-01T11:25:44.502Z"
   },
   {
    "duration": 68,
    "start_time": "2024-05-01T11:28:40.154Z"
   },
   {
    "duration": 187,
    "start_time": "2024-05-01T11:28:47.086Z"
   },
   {
    "duration": 34239,
    "start_time": "2024-05-01T11:30:01.717Z"
   },
   {
    "duration": 10,
    "start_time": "2024-05-01T11:38:22.847Z"
   },
   {
    "duration": 4487,
    "start_time": "2024-05-01T11:38:35.577Z"
   },
   {
    "duration": 42,
    "start_time": "2024-05-01T11:41:49.242Z"
   },
   {
    "duration": 8,
    "start_time": "2024-05-01T11:43:55.264Z"
   },
   {
    "duration": 13,
    "start_time": "2024-05-01T11:53:24.833Z"
   },
   {
    "duration": 31778,
    "start_time": "2024-05-01T11:58:35.172Z"
   },
   {
    "duration": 7429,
    "start_time": "2024-05-01T11:59:56.460Z"
   },
   {
    "duration": 10,
    "start_time": "2024-05-01T12:15:09.058Z"
   },
   {
    "duration": 9,
    "start_time": "2024-05-01T12:15:26.633Z"
   },
   {
    "duration": 2012,
    "start_time": "2024-05-01T12:15:32.151Z"
   },
   {
    "duration": 751,
    "start_time": "2024-05-01T13:51:25.354Z"
   },
   {
    "duration": 48,
    "start_time": "2024-05-01T13:51:26.107Z"
   },
   {
    "duration": 1937,
    "start_time": "2024-05-01T13:51:26.159Z"
   },
   {
    "duration": 10,
    "start_time": "2024-05-01T13:51:28.097Z"
   },
   {
    "duration": 20,
    "start_time": "2024-05-01T13:51:28.108Z"
   },
   {
    "duration": 5,
    "start_time": "2024-05-01T13:51:28.129Z"
   },
   {
    "duration": 210,
    "start_time": "2024-05-01T13:51:28.135Z"
   },
   {
    "duration": 20,
    "start_time": "2024-05-01T13:51:28.347Z"
   },
   {
    "duration": 29,
    "start_time": "2024-05-01T13:51:28.369Z"
   },
   {
    "duration": 7,
    "start_time": "2024-05-01T13:51:28.399Z"
   },
   {
    "duration": 8,
    "start_time": "2024-05-01T13:51:28.407Z"
   },
   {
    "duration": 8,
    "start_time": "2024-05-01T13:51:28.417Z"
   },
   {
    "duration": 23,
    "start_time": "2024-05-01T13:51:28.426Z"
   },
   {
    "duration": 17,
    "start_time": "2024-05-01T13:51:28.451Z"
   },
   {
    "duration": 8,
    "start_time": "2024-05-01T13:51:28.491Z"
   },
   {
    "duration": 14,
    "start_time": "2024-05-01T13:51:28.501Z"
   },
   {
    "duration": 12,
    "start_time": "2024-05-01T13:51:28.516Z"
   },
   {
    "duration": 11,
    "start_time": "2024-05-01T13:51:28.530Z"
   },
   {
    "duration": 6,
    "start_time": "2024-05-01T13:51:28.543Z"
   },
   {
    "duration": 18,
    "start_time": "2024-05-01T13:51:28.551Z"
   },
   {
    "duration": 15,
    "start_time": "2024-05-01T13:51:28.570Z"
   },
   {
    "duration": 49,
    "start_time": "2024-05-01T13:51:28.586Z"
   },
   {
    "duration": 8,
    "start_time": "2024-05-01T13:51:28.636Z"
   },
   {
    "duration": 24,
    "start_time": "2024-05-01T13:51:28.646Z"
   },
   {
    "duration": 52,
    "start_time": "2024-05-01T13:51:28.672Z"
   },
   {
    "duration": 20,
    "start_time": "2024-05-01T13:51:28.725Z"
   },
   {
    "duration": 16,
    "start_time": "2024-05-01T13:51:28.750Z"
   },
   {
    "duration": 43,
    "start_time": "2024-05-01T13:51:28.768Z"
   },
   {
    "duration": 13,
    "start_time": "2024-05-01T13:51:28.813Z"
   },
   {
    "duration": 14,
    "start_time": "2024-05-01T13:51:28.827Z"
   },
   {
    "duration": 9,
    "start_time": "2024-05-01T13:51:28.843Z"
   },
   {
    "duration": 50,
    "start_time": "2024-05-01T13:51:28.853Z"
   },
   {
    "duration": 13,
    "start_time": "2024-05-01T13:51:28.904Z"
   },
   {
    "duration": 7,
    "start_time": "2024-05-01T13:51:28.918Z"
   },
   {
    "duration": 17,
    "start_time": "2024-05-01T13:51:28.927Z"
   },
   {
    "duration": 9,
    "start_time": "2024-05-01T13:51:28.946Z"
   },
   {
    "duration": 18,
    "start_time": "2024-05-01T13:51:28.957Z"
   },
   {
    "duration": 472,
    "start_time": "2024-05-01T13:51:28.976Z"
   },
   {
    "duration": 9,
    "start_time": "2024-05-01T13:51:29.450Z"
   },
   {
    "duration": 56,
    "start_time": "2024-05-01T13:51:29.461Z"
   },
   {
    "duration": 396,
    "start_time": "2024-05-01T13:51:29.519Z"
   },
   {
    "duration": 359,
    "start_time": "2024-05-01T13:51:29.917Z"
   },
   {
    "duration": 151,
    "start_time": "2024-05-01T13:51:30.278Z"
   },
   {
    "duration": 140,
    "start_time": "2024-05-01T13:51:30.430Z"
   },
   {
    "duration": 193,
    "start_time": "2024-05-01T13:51:30.572Z"
   },
   {
    "duration": 145,
    "start_time": "2024-05-01T13:51:30.766Z"
   },
   {
    "duration": 162,
    "start_time": "2024-05-01T13:51:30.912Z"
   },
   {
    "duration": 232,
    "start_time": "2024-05-01T13:51:31.075Z"
   },
   {
    "duration": 125,
    "start_time": "2024-05-01T13:51:31.309Z"
   },
   {
    "duration": 236,
    "start_time": "2024-05-01T13:51:31.436Z"
   },
   {
    "duration": 96174,
    "start_time": "2024-05-01T13:51:31.673Z"
   },
   {
    "duration": 8,
    "start_time": "2024-05-01T13:53:07.849Z"
   },
   {
    "duration": 30632,
    "start_time": "2024-05-01T13:53:07.858Z"
   },
   {
    "duration": 7633,
    "start_time": "2024-05-01T13:53:38.492Z"
   },
   {
    "duration": 36,
    "start_time": "2024-05-01T13:53:46.127Z"
   },
   {
    "duration": 9,
    "start_time": "2024-05-01T13:53:46.164Z"
   },
   {
    "duration": 2011,
    "start_time": "2024-05-01T13:53:46.174Z"
   },
   {
    "duration": 2072,
    "start_time": "2024-05-01T13:53:48.186Z"
   },
   {
    "duration": 214,
    "start_time": "2024-05-01T14:08:52.988Z"
   },
   {
    "duration": 10,
    "start_time": "2024-05-01T14:59:23.568Z"
   },
   {
    "duration": 244,
    "start_time": "2024-05-01T15:00:41.124Z"
   },
   {
    "duration": 213,
    "start_time": "2024-05-01T15:02:26.193Z"
   },
   {
    "duration": 217,
    "start_time": "2024-05-01T15:03:22.901Z"
   },
   {
    "duration": 227,
    "start_time": "2024-05-01T15:10:12.714Z"
   },
   {
    "duration": 227,
    "start_time": "2024-05-01T15:10:36.420Z"
   },
   {
    "duration": 245,
    "start_time": "2024-05-01T15:10:50.076Z"
   },
   {
    "duration": 235,
    "start_time": "2024-05-01T15:10:57.005Z"
   },
   {
    "duration": 256,
    "start_time": "2024-05-01T15:11:21.896Z"
   },
   {
    "duration": 250,
    "start_time": "2024-05-01T15:11:40.895Z"
   },
   {
    "duration": 79,
    "start_time": "2024-05-01T15:16:38.856Z"
   },
   {
    "duration": 9,
    "start_time": "2024-05-01T15:16:50.539Z"
   },
   {
    "duration": 247,
    "start_time": "2024-05-01T15:17:13.304Z"
   },
   {
    "duration": 246,
    "start_time": "2024-05-01T15:22:54.329Z"
   },
   {
    "duration": 235,
    "start_time": "2024-05-01T15:32:16.145Z"
   },
   {
    "duration": 260,
    "start_time": "2024-05-01T15:32:40.980Z"
   },
   {
    "duration": 244,
    "start_time": "2024-05-01T15:32:55.331Z"
   },
   {
    "duration": 234,
    "start_time": "2024-05-01T15:33:09.229Z"
   },
   {
    "duration": 14,
    "start_time": "2024-05-01T15:41:42.911Z"
   },
   {
    "duration": 173,
    "start_time": "2024-05-01T15:42:02.035Z"
   },
   {
    "duration": 146,
    "start_time": "2024-05-01T15:42:36.439Z"
   },
   {
    "duration": 5,
    "start_time": "2024-05-01T15:42:50.962Z"
   },
   {
    "duration": 151,
    "start_time": "2024-05-01T15:43:29.606Z"
   },
   {
    "duration": 477,
    "start_time": "2024-05-01T15:50:58.998Z"
   },
   {
    "duration": 122,
    "start_time": "2024-05-01T15:51:16.362Z"
   },
   {
    "duration": 98,
    "start_time": "2024-05-01T16:03:37.034Z"
   },
   {
    "duration": 146,
    "start_time": "2024-05-01T16:04:35.399Z"
   },
   {
    "duration": 104,
    "start_time": "2024-05-01T16:04:51.089Z"
   },
   {
    "duration": 123,
    "start_time": "2024-05-01T16:08:14.192Z"
   },
   {
    "duration": 145,
    "start_time": "2024-05-01T16:08:18.174Z"
   },
   {
    "duration": 112,
    "start_time": "2024-05-01T16:10:05.883Z"
   },
   {
    "duration": 160,
    "start_time": "2024-05-01T16:10:25.955Z"
   },
   {
    "duration": 130,
    "start_time": "2024-05-01T16:13:34.134Z"
   },
   {
    "duration": 129,
    "start_time": "2024-05-01T16:14:08.974Z"
   },
   {
    "duration": 976,
    "start_time": "2024-05-01T18:29:53.686Z"
   },
   {
    "duration": 42,
    "start_time": "2024-05-01T18:29:54.663Z"
   },
   {
    "duration": 1789,
    "start_time": "2024-05-01T18:29:54.707Z"
   },
   {
    "duration": 9,
    "start_time": "2024-05-01T18:29:56.498Z"
   },
   {
    "duration": 9,
    "start_time": "2024-05-01T18:29:56.508Z"
   },
   {
    "duration": 4,
    "start_time": "2024-05-01T18:29:56.519Z"
   },
   {
    "duration": 196,
    "start_time": "2024-05-01T18:29:56.524Z"
   },
   {
    "duration": 17,
    "start_time": "2024-05-01T18:29:56.722Z"
   },
   {
    "duration": 24,
    "start_time": "2024-05-01T18:29:56.741Z"
   },
   {
    "duration": 6,
    "start_time": "2024-05-01T18:29:56.768Z"
   },
   {
    "duration": 6,
    "start_time": "2024-05-01T18:29:56.775Z"
   },
   {
    "duration": 11,
    "start_time": "2024-05-01T18:29:56.782Z"
   },
   {
    "duration": 25,
    "start_time": "2024-05-01T18:29:56.794Z"
   },
   {
    "duration": 19,
    "start_time": "2024-05-01T18:29:56.820Z"
   },
   {
    "duration": 28,
    "start_time": "2024-05-01T18:29:56.840Z"
   },
   {
    "duration": 6,
    "start_time": "2024-05-01T18:29:56.871Z"
   },
   {
    "duration": 6,
    "start_time": "2024-05-01T18:29:56.878Z"
   },
   {
    "duration": 5,
    "start_time": "2024-05-01T18:29:56.886Z"
   },
   {
    "duration": 5,
    "start_time": "2024-05-01T18:29:56.892Z"
   },
   {
    "duration": 10,
    "start_time": "2024-05-01T18:29:56.898Z"
   },
   {
    "duration": 4,
    "start_time": "2024-05-01T18:29:56.910Z"
   },
   {
    "duration": 50,
    "start_time": "2024-05-01T18:29:56.916Z"
   },
   {
    "duration": 8,
    "start_time": "2024-05-01T18:29:56.967Z"
   },
   {
    "duration": 11,
    "start_time": "2024-05-01T18:29:56.977Z"
   },
   {
    "duration": 44,
    "start_time": "2024-05-01T18:29:56.989Z"
   },
   {
    "duration": 41,
    "start_time": "2024-05-01T18:29:57.035Z"
   },
   {
    "duration": 14,
    "start_time": "2024-05-01T18:29:57.077Z"
   },
   {
    "duration": 28,
    "start_time": "2024-05-01T18:29:57.095Z"
   },
   {
    "duration": 8,
    "start_time": "2024-05-01T18:29:57.124Z"
   },
   {
    "duration": 7,
    "start_time": "2024-05-01T18:29:57.133Z"
   },
   {
    "duration": 25,
    "start_time": "2024-05-01T18:29:57.142Z"
   },
   {
    "duration": 30,
    "start_time": "2024-05-01T18:29:57.169Z"
   },
   {
    "duration": 12,
    "start_time": "2024-05-01T18:29:57.200Z"
   },
   {
    "duration": 6,
    "start_time": "2024-05-01T18:29:57.213Z"
   },
   {
    "duration": 13,
    "start_time": "2024-05-01T18:29:57.220Z"
   },
   {
    "duration": 33,
    "start_time": "2024-05-01T18:29:57.235Z"
   },
   {
    "duration": 7,
    "start_time": "2024-05-01T18:29:57.269Z"
   },
   {
    "duration": 304,
    "start_time": "2024-05-01T18:29:57.277Z"
   },
   {
    "duration": 6,
    "start_time": "2024-05-01T18:29:57.582Z"
   },
   {
    "duration": 29,
    "start_time": "2024-05-01T18:29:57.589Z"
   },
   {
    "duration": 340,
    "start_time": "2024-05-01T18:29:57.620Z"
   },
   {
    "duration": 275,
    "start_time": "2024-05-01T18:29:57.962Z"
   },
   {
    "duration": 140,
    "start_time": "2024-05-01T18:29:58.238Z"
   },
   {
    "duration": 32,
    "start_time": "2024-05-01T18:29:58.379Z"
   },
   {
    "duration": 141,
    "start_time": "2024-05-01T18:29:58.412Z"
   },
   {
    "duration": 117,
    "start_time": "2024-05-01T18:29:58.555Z"
   },
   {
    "duration": 128,
    "start_time": "2024-05-01T18:29:58.673Z"
   },
   {
    "duration": 188,
    "start_time": "2024-05-01T18:29:58.802Z"
   },
   {
    "duration": 86,
    "start_time": "2024-05-01T18:29:58.991Z"
   },
   {
    "duration": 151,
    "start_time": "2024-05-01T18:29:59.079Z"
   },
   {
    "duration": 84848,
    "start_time": "2024-05-01T18:29:59.231Z"
   },
   {
    "duration": 10,
    "start_time": "2024-05-01T18:31:24.080Z"
   },
   {
    "duration": 27339,
    "start_time": "2024-05-01T18:31:24.092Z"
   },
   {
    "duration": 6740,
    "start_time": "2024-05-01T18:31:51.432Z"
   },
   {
    "duration": 33,
    "start_time": "2024-05-01T18:31:58.174Z"
   },
   {
    "duration": 7,
    "start_time": "2024-05-01T18:31:58.209Z"
   },
   {
    "duration": 1844,
    "start_time": "2024-05-01T18:31:58.218Z"
   },
   {
    "duration": 1821,
    "start_time": "2024-05-01T18:32:00.065Z"
   },
   {
    "duration": 220,
    "start_time": "2024-05-01T18:32:01.887Z"
   },
   {
    "duration": 203,
    "start_time": "2024-05-01T18:32:02.109Z"
   },
   {
    "duration": 219,
    "start_time": "2024-05-01T18:32:02.314Z"
   },
   {
    "duration": 131,
    "start_time": "2024-05-01T18:32:02.534Z"
   },
   {
    "duration": 101,
    "start_time": "2024-05-01T18:32:02.666Z"
   },
   {
    "duration": 76,
    "start_time": "2024-05-01T18:32:02.769Z"
   },
   {
    "duration": 139,
    "start_time": "2024-05-01T18:32:02.846Z"
   },
   {
    "duration": 119,
    "start_time": "2024-05-01T18:32:02.987Z"
   },
   {
    "duration": 10,
    "start_time": "2024-05-01T18:57:01.850Z"
   },
   {
    "duration": 24,
    "start_time": "2024-05-01T19:33:11.275Z"
   },
   {
    "duration": 24,
    "start_time": "2024-05-01T19:33:23.013Z"
   },
   {
    "duration": 47,
    "start_time": "2024-05-01T19:35:23.534Z"
   },
   {
    "duration": 25,
    "start_time": "2024-05-01T19:35:39.713Z"
   },
   {
    "duration": 23,
    "start_time": "2024-05-01T19:36:22.547Z"
   },
   {
    "duration": 23,
    "start_time": "2024-05-01T19:36:40.474Z"
   },
   {
    "duration": 21,
    "start_time": "2024-05-01T19:36:55.820Z"
   },
   {
    "duration": 8,
    "start_time": "2024-05-01T19:38:48.634Z"
   },
   {
    "duration": 21,
    "start_time": "2024-05-01T19:45:57.449Z"
   },
   {
    "duration": 10,
    "start_time": "2024-05-01T19:48:17.310Z"
   },
   {
    "duration": 12,
    "start_time": "2024-05-01T19:52:12.657Z"
   },
   {
    "duration": 72,
    "start_time": "2024-05-01T19:52:55.336Z"
   },
   {
    "duration": 646,
    "start_time": "2024-05-01T19:54:29.518Z"
   },
   {
    "duration": 65,
    "start_time": "2024-05-01T19:54:30.166Z"
   },
   {
    "duration": 1839,
    "start_time": "2024-05-01T19:54:30.233Z"
   },
   {
    "duration": 9,
    "start_time": "2024-05-01T19:54:32.074Z"
   },
   {
    "duration": 22,
    "start_time": "2024-05-01T19:54:32.084Z"
   },
   {
    "duration": 13,
    "start_time": "2024-05-01T19:54:32.107Z"
   },
   {
    "duration": 203,
    "start_time": "2024-05-01T19:54:32.121Z"
   },
   {
    "duration": 17,
    "start_time": "2024-05-01T19:54:32.326Z"
   },
   {
    "duration": 27,
    "start_time": "2024-05-01T19:54:32.345Z"
   },
   {
    "duration": 6,
    "start_time": "2024-05-01T19:54:32.374Z"
   },
   {
    "duration": 12,
    "start_time": "2024-05-01T19:54:32.381Z"
   },
   {
    "duration": 7,
    "start_time": "2024-05-01T19:54:32.395Z"
   },
   {
    "duration": 21,
    "start_time": "2024-05-01T19:54:32.403Z"
   },
   {
    "duration": 14,
    "start_time": "2024-05-01T19:54:32.425Z"
   },
   {
    "duration": 27,
    "start_time": "2024-05-01T19:54:32.441Z"
   },
   {
    "duration": 10,
    "start_time": "2024-05-01T19:54:32.470Z"
   },
   {
    "duration": 8,
    "start_time": "2024-05-01T19:54:32.481Z"
   },
   {
    "duration": 5,
    "start_time": "2024-05-01T19:54:32.490Z"
   },
   {
    "duration": 11,
    "start_time": "2024-05-01T19:54:32.496Z"
   },
   {
    "duration": 11,
    "start_time": "2024-05-01T19:54:32.509Z"
   },
   {
    "duration": 4,
    "start_time": "2024-05-01T19:54:32.522Z"
   },
   {
    "duration": 13,
    "start_time": "2024-05-01T19:54:32.527Z"
   },
   {
    "duration": 26,
    "start_time": "2024-05-01T19:54:32.541Z"
   },
   {
    "duration": 11,
    "start_time": "2024-05-01T19:54:32.568Z"
   },
   {
    "duration": 46,
    "start_time": "2024-05-01T19:54:32.581Z"
   },
   {
    "duration": 37,
    "start_time": "2024-05-01T19:54:32.628Z"
   },
   {
    "duration": 15,
    "start_time": "2024-05-01T19:54:32.666Z"
   },
   {
    "duration": 23,
    "start_time": "2024-05-01T19:54:32.685Z"
   },
   {
    "duration": 9,
    "start_time": "2024-05-01T19:54:32.709Z"
   },
   {
    "duration": 29,
    "start_time": "2024-05-01T19:54:32.720Z"
   },
   {
    "duration": 14,
    "start_time": "2024-05-01T19:54:32.751Z"
   },
   {
    "duration": 32,
    "start_time": "2024-05-01T19:54:32.766Z"
   },
   {
    "duration": 11,
    "start_time": "2024-05-01T19:54:32.800Z"
   },
   {
    "duration": 7,
    "start_time": "2024-05-01T19:54:32.813Z"
   },
   {
    "duration": 8,
    "start_time": "2024-05-01T19:54:32.821Z"
   },
   {
    "duration": 8,
    "start_time": "2024-05-01T19:54:32.865Z"
   },
   {
    "duration": 8,
    "start_time": "2024-05-01T19:54:32.875Z"
   },
   {
    "duration": 305,
    "start_time": "2024-05-01T19:54:32.884Z"
   },
   {
    "duration": 7,
    "start_time": "2024-05-01T19:54:33.190Z"
   },
   {
    "duration": 24,
    "start_time": "2024-05-01T19:54:33.198Z"
   },
   {
    "duration": 361,
    "start_time": "2024-05-01T19:54:33.223Z"
   },
   {
    "duration": 274,
    "start_time": "2024-05-01T19:54:33.586Z"
   },
   {
    "duration": 121,
    "start_time": "2024-05-01T19:54:33.864Z"
   },
   {
    "duration": 31,
    "start_time": "2024-05-01T19:54:33.987Z"
   },
   {
    "duration": 144,
    "start_time": "2024-05-01T19:54:34.019Z"
   },
   {
    "duration": 113,
    "start_time": "2024-05-01T19:54:34.164Z"
   },
   {
    "duration": 123,
    "start_time": "2024-05-01T19:54:34.278Z"
   },
   {
    "duration": 179,
    "start_time": "2024-05-01T19:54:34.402Z"
   },
   {
    "duration": 83,
    "start_time": "2024-05-01T19:54:34.583Z"
   },
   {
    "duration": 153,
    "start_time": "2024-05-01T19:54:34.668Z"
   },
   {
    "duration": 82819,
    "start_time": "2024-05-01T19:54:34.823Z"
   },
   {
    "duration": 10,
    "start_time": "2024-05-01T19:55:57.643Z"
   },
   {
    "duration": 26845,
    "start_time": "2024-05-01T19:55:57.654Z"
   },
   {
    "duration": 6836,
    "start_time": "2024-05-01T19:56:24.500Z"
   },
   {
    "duration": 41,
    "start_time": "2024-05-01T19:56:31.337Z"
   },
   {
    "duration": 21,
    "start_time": "2024-05-01T19:56:31.379Z"
   },
   {
    "duration": 1696,
    "start_time": "2024-05-01T19:56:31.402Z"
   },
   {
    "duration": 1791,
    "start_time": "2024-05-01T19:56:33.100Z"
   },
   {
    "duration": 209,
    "start_time": "2024-05-01T19:56:34.892Z"
   },
   {
    "duration": 202,
    "start_time": "2024-05-01T19:56:35.103Z"
   },
   {
    "duration": 188,
    "start_time": "2024-05-01T19:56:35.306Z"
   },
   {
    "duration": 125,
    "start_time": "2024-05-01T19:56:35.496Z"
   },
   {
    "duration": 100,
    "start_time": "2024-05-01T19:56:35.622Z"
   },
   {
    "duration": 89,
    "start_time": "2024-05-01T19:56:35.724Z"
   },
   {
    "duration": 128,
    "start_time": "2024-05-01T19:56:35.814Z"
   },
   {
    "duration": 122,
    "start_time": "2024-05-01T19:56:35.944Z"
   },
   {
    "duration": 16,
    "start_time": "2024-05-01T19:56:36.068Z"
   },
   {
    "duration": 4,
    "start_time": "2024-05-01T19:56:36.086Z"
   },
   {
    "duration": 10,
    "start_time": "2024-05-01T19:57:42.021Z"
   },
   {
    "duration": 49,
    "start_time": "2024-05-01T20:02:00.676Z"
   },
   {
    "duration": 54,
    "start_time": "2024-05-01T20:02:14.306Z"
   },
   {
    "duration": 13,
    "start_time": "2024-05-01T20:05:48.926Z"
   },
   {
    "duration": 69,
    "start_time": "2024-05-01T20:06:01.216Z"
   },
   {
    "duration": 10,
    "start_time": "2024-05-01T20:06:11.994Z"
   },
   {
    "duration": 709,
    "start_time": "2024-05-01T20:06:19.798Z"
   },
   {
    "duration": 45,
    "start_time": "2024-05-01T20:06:20.510Z"
   },
   {
    "duration": 1784,
    "start_time": "2024-05-01T20:06:20.556Z"
   },
   {
    "duration": 9,
    "start_time": "2024-05-01T20:06:22.341Z"
   },
   {
    "duration": 12,
    "start_time": "2024-05-01T20:06:22.351Z"
   },
   {
    "duration": 5,
    "start_time": "2024-05-01T20:06:22.364Z"
   },
   {
    "duration": 189,
    "start_time": "2024-05-01T20:06:22.370Z"
   },
   {
    "duration": 20,
    "start_time": "2024-05-01T20:06:22.560Z"
   },
   {
    "duration": 15,
    "start_time": "2024-05-01T20:06:22.581Z"
   },
   {
    "duration": 6,
    "start_time": "2024-05-01T20:06:22.599Z"
   },
   {
    "duration": 8,
    "start_time": "2024-05-01T20:06:22.606Z"
   },
   {
    "duration": 6,
    "start_time": "2024-05-01T20:06:22.615Z"
   },
   {
    "duration": 47,
    "start_time": "2024-05-01T20:06:22.622Z"
   },
   {
    "duration": 16,
    "start_time": "2024-05-01T20:06:22.670Z"
   },
   {
    "duration": 9,
    "start_time": "2024-05-01T20:06:22.687Z"
   },
   {
    "duration": 8,
    "start_time": "2024-05-01T20:06:22.698Z"
   },
   {
    "duration": 7,
    "start_time": "2024-05-01T20:06:22.708Z"
   },
   {
    "duration": 4,
    "start_time": "2024-05-01T20:06:22.717Z"
   },
   {
    "duration": 4,
    "start_time": "2024-05-01T20:06:22.723Z"
   },
   {
    "duration": 46,
    "start_time": "2024-05-01T20:06:22.729Z"
   },
   {
    "duration": 8,
    "start_time": "2024-05-01T20:06:22.777Z"
   },
   {
    "duration": 17,
    "start_time": "2024-05-01T20:06:22.786Z"
   },
   {
    "duration": 14,
    "start_time": "2024-05-01T20:06:22.805Z"
   },
   {
    "duration": 24,
    "start_time": "2024-05-01T20:06:22.820Z"
   },
   {
    "duration": 49,
    "start_time": "2024-05-01T20:06:22.866Z"
   },
   {
    "duration": 25,
    "start_time": "2024-05-01T20:06:22.917Z"
   },
   {
    "duration": 37,
    "start_time": "2024-05-01T20:06:22.944Z"
   },
   {
    "duration": 28,
    "start_time": "2024-05-01T20:06:22.986Z"
   },
   {
    "duration": 9,
    "start_time": "2024-05-01T20:06:23.016Z"
   },
   {
    "duration": 10,
    "start_time": "2024-05-01T20:06:23.026Z"
   },
   {
    "duration": 11,
    "start_time": "2024-05-01T20:06:23.066Z"
   },
   {
    "duration": 33,
    "start_time": "2024-05-01T20:06:23.078Z"
   },
   {
    "duration": 13,
    "start_time": "2024-05-01T20:06:23.113Z"
   },
   {
    "duration": 7,
    "start_time": "2024-05-01T20:06:23.127Z"
   },
   {
    "duration": 34,
    "start_time": "2024-05-01T20:06:23.136Z"
   },
   {
    "duration": 9,
    "start_time": "2024-05-01T20:06:23.172Z"
   },
   {
    "duration": 8,
    "start_time": "2024-05-01T20:06:23.183Z"
   },
   {
    "duration": 336,
    "start_time": "2024-05-01T20:06:23.193Z"
   },
   {
    "duration": 6,
    "start_time": "2024-05-01T20:06:23.530Z"
   },
   {
    "duration": 38,
    "start_time": "2024-05-01T20:06:23.538Z"
   },
   {
    "duration": 345,
    "start_time": "2024-05-01T20:06:23.577Z"
   },
   {
    "duration": 285,
    "start_time": "2024-05-01T20:06:23.924Z"
   },
   {
    "duration": 132,
    "start_time": "2024-05-01T20:06:24.210Z"
   },
   {
    "duration": 39,
    "start_time": "2024-05-01T20:06:24.343Z"
   },
   {
    "duration": 140,
    "start_time": "2024-05-01T20:06:24.384Z"
   },
   {
    "duration": 117,
    "start_time": "2024-05-01T20:06:24.526Z"
   },
   {
    "duration": 141,
    "start_time": "2024-05-01T20:06:24.644Z"
   },
   {
    "duration": 191,
    "start_time": "2024-05-01T20:06:24.787Z"
   },
   {
    "duration": 91,
    "start_time": "2024-05-01T20:06:24.979Z"
   },
   {
    "duration": 147,
    "start_time": "2024-05-01T20:06:25.071Z"
   },
   {
    "duration": 675,
    "start_time": "2024-05-01T20:06:53.679Z"
   },
   {
    "duration": 46,
    "start_time": "2024-05-01T20:06:54.355Z"
   },
   {
    "duration": 1858,
    "start_time": "2024-05-01T20:06:54.402Z"
   },
   {
    "duration": 12,
    "start_time": "2024-05-01T20:06:56.262Z"
   },
   {
    "duration": 18,
    "start_time": "2024-05-01T20:06:56.275Z"
   },
   {
    "duration": 4,
    "start_time": "2024-05-01T20:06:56.295Z"
   },
   {
    "duration": 204,
    "start_time": "2024-05-01T20:06:56.301Z"
   },
   {
    "duration": 18,
    "start_time": "2024-05-01T20:06:56.506Z"
   },
   {
    "duration": 14,
    "start_time": "2024-05-01T20:06:56.526Z"
   },
   {
    "duration": 25,
    "start_time": "2024-05-01T20:06:56.542Z"
   },
   {
    "duration": 8,
    "start_time": "2024-05-01T20:06:56.569Z"
   },
   {
    "duration": 8,
    "start_time": "2024-05-01T20:06:56.579Z"
   },
   {
    "duration": 23,
    "start_time": "2024-05-01T20:06:56.588Z"
   },
   {
    "duration": 14,
    "start_time": "2024-05-01T20:06:56.613Z"
   },
   {
    "duration": 6,
    "start_time": "2024-05-01T20:06:56.629Z"
   },
   {
    "duration": 29,
    "start_time": "2024-05-01T20:06:56.637Z"
   },
   {
    "duration": 5,
    "start_time": "2024-05-01T20:06:56.667Z"
   },
   {
    "duration": 5,
    "start_time": "2024-05-01T20:06:56.674Z"
   },
   {
    "duration": 6,
    "start_time": "2024-05-01T20:06:56.681Z"
   },
   {
    "duration": 22,
    "start_time": "2024-05-01T20:06:56.689Z"
   },
   {
    "duration": 7,
    "start_time": "2024-05-01T20:06:56.712Z"
   },
   {
    "duration": 13,
    "start_time": "2024-05-01T20:06:56.721Z"
   },
   {
    "duration": 30,
    "start_time": "2024-05-01T20:06:56.735Z"
   },
   {
    "duration": 11,
    "start_time": "2024-05-01T20:06:56.766Z"
   },
   {
    "duration": 52,
    "start_time": "2024-05-01T20:06:56.779Z"
   },
   {
    "duration": 17,
    "start_time": "2024-05-01T20:06:56.833Z"
   },
   {
    "duration": 27,
    "start_time": "2024-05-01T20:06:56.851Z"
   },
   {
    "duration": 20,
    "start_time": "2024-05-01T20:06:56.882Z"
   },
   {
    "duration": 7,
    "start_time": "2024-05-01T20:06:56.904Z"
   },
   {
    "duration": 8,
    "start_time": "2024-05-01T20:06:56.913Z"
   },
   {
    "duration": 11,
    "start_time": "2024-05-01T20:06:56.922Z"
   },
   {
    "duration": 59,
    "start_time": "2024-05-01T20:06:56.934Z"
   },
   {
    "duration": 12,
    "start_time": "2024-05-01T20:06:56.994Z"
   },
   {
    "duration": 7,
    "start_time": "2024-05-01T20:06:57.007Z"
   },
   {
    "duration": 8,
    "start_time": "2024-05-01T20:06:57.015Z"
   },
   {
    "duration": 7,
    "start_time": "2024-05-01T20:06:57.025Z"
   },
   {
    "duration": 7,
    "start_time": "2024-05-01T20:06:57.065Z"
   },
   {
    "duration": 300,
    "start_time": "2024-05-01T20:06:57.073Z"
   },
   {
    "duration": 6,
    "start_time": "2024-05-01T20:06:57.374Z"
   },
   {
    "duration": 24,
    "start_time": "2024-05-01T20:06:57.382Z"
   },
   {
    "duration": 401,
    "start_time": "2024-05-01T20:06:57.407Z"
   },
   {
    "duration": 299,
    "start_time": "2024-05-01T20:06:57.811Z"
   },
   {
    "duration": 125,
    "start_time": "2024-05-01T20:06:58.112Z"
   },
   {
    "duration": 38,
    "start_time": "2024-05-01T20:06:58.239Z"
   },
   {
    "duration": 134,
    "start_time": "2024-05-01T20:06:58.278Z"
   },
   {
    "duration": 116,
    "start_time": "2024-05-01T20:06:58.414Z"
   },
   {
    "duration": 122,
    "start_time": "2024-05-01T20:06:58.531Z"
   },
   {
    "duration": 179,
    "start_time": "2024-05-01T20:06:58.654Z"
   },
   {
    "duration": 128,
    "start_time": "2024-05-01T20:06:58.834Z"
   },
   {
    "duration": 165,
    "start_time": "2024-05-01T20:06:58.964Z"
   },
   {
    "duration": 87439,
    "start_time": "2024-05-01T20:06:59.130Z"
   },
   {
    "duration": 9,
    "start_time": "2024-05-01T20:08:26.570Z"
   },
   {
    "duration": 28297,
    "start_time": "2024-05-01T20:08:26.580Z"
   },
   {
    "duration": 6980,
    "start_time": "2024-05-01T20:08:54.879Z"
   },
   {
    "duration": 34,
    "start_time": "2024-05-01T20:09:01.861Z"
   },
   {
    "duration": 10,
    "start_time": "2024-05-01T20:09:01.897Z"
   },
   {
    "duration": 1775,
    "start_time": "2024-05-01T20:09:01.908Z"
   },
   {
    "duration": 1938,
    "start_time": "2024-05-01T20:09:03.685Z"
   },
   {
    "duration": 231,
    "start_time": "2024-05-01T20:09:05.626Z"
   },
   {
    "duration": 208,
    "start_time": "2024-05-01T20:09:05.864Z"
   },
   {
    "duration": 195,
    "start_time": "2024-05-01T20:09:06.073Z"
   },
   {
    "duration": 137,
    "start_time": "2024-05-01T20:09:06.269Z"
   },
   {
    "duration": 107,
    "start_time": "2024-05-01T20:09:06.408Z"
   },
   {
    "duration": 96,
    "start_time": "2024-05-01T20:09:06.516Z"
   },
   {
    "duration": 139,
    "start_time": "2024-05-01T20:09:06.614Z"
   },
   {
    "duration": 130,
    "start_time": "2024-05-01T20:09:06.755Z"
   },
   {
    "duration": 17,
    "start_time": "2024-05-01T20:09:06.887Z"
   },
   {
    "duration": 9,
    "start_time": "2024-05-01T20:09:06.905Z"
   },
   {
    "duration": 11,
    "start_time": "2024-05-01T20:13:28.964Z"
   },
   {
    "duration": 91,
    "start_time": "2024-05-01T20:40:49.761Z"
   },
   {
    "duration": 52,
    "start_time": "2024-05-01T20:40:59.012Z"
   },
   {
    "duration": 28,
    "start_time": "2024-05-01T20:41:20.618Z"
   },
   {
    "duration": 29,
    "start_time": "2024-05-01T20:43:22.521Z"
   },
   {
    "duration": 28,
    "start_time": "2024-05-01T20:43:46.198Z"
   },
   {
    "duration": 24,
    "start_time": "2024-05-01T20:44:00.791Z"
   },
   {
    "duration": 25,
    "start_time": "2024-05-01T20:45:12.049Z"
   },
   {
    "duration": 23,
    "start_time": "2024-05-01T20:45:21.875Z"
   },
   {
    "duration": 23,
    "start_time": "2024-05-01T20:45:43.685Z"
   },
   {
    "duration": 31,
    "start_time": "2024-05-01T20:45:58.604Z"
   },
   {
    "duration": 19,
    "start_time": "2024-05-01T20:46:22.462Z"
   },
   {
    "duration": 24,
    "start_time": "2024-05-01T20:46:50.496Z"
   },
   {
    "duration": 173,
    "start_time": "2024-05-01T20:47:30.390Z"
   },
   {
    "duration": 22,
    "start_time": "2024-05-01T20:49:52.363Z"
   },
   {
    "duration": 20,
    "start_time": "2024-05-01T20:52:58.284Z"
   },
   {
    "duration": 21,
    "start_time": "2024-05-01T20:53:21.498Z"
   },
   {
    "duration": 42,
    "start_time": "2024-05-01T20:59:38.137Z"
   },
   {
    "duration": 21,
    "start_time": "2024-05-01T21:00:22.524Z"
   },
   {
    "duration": 26,
    "start_time": "2024-05-01T21:00:52.216Z"
   },
   {
    "duration": 29,
    "start_time": "2024-05-01T21:02:30.981Z"
   },
   {
    "duration": 32,
    "start_time": "2024-05-01T21:05:44.172Z"
   },
   {
    "duration": 28,
    "start_time": "2024-05-01T21:06:51.065Z"
   },
   {
    "duration": 27,
    "start_time": "2024-05-01T21:10:02.205Z"
   },
   {
    "duration": 30,
    "start_time": "2024-05-01T21:11:08.826Z"
   },
   {
    "duration": 29,
    "start_time": "2024-05-01T21:12:35.169Z"
   },
   {
    "duration": 158,
    "start_time": "2024-05-01T21:14:40.249Z"
   },
   {
    "duration": 131,
    "start_time": "2024-05-01T21:15:32.835Z"
   },
   {
    "duration": 119,
    "start_time": "2024-05-01T21:17:34.977Z"
   },
   {
    "duration": 669,
    "start_time": "2024-05-01T22:30:11.526Z"
   },
   {
    "duration": 43,
    "start_time": "2024-05-01T22:30:12.197Z"
   },
   {
    "duration": 1774,
    "start_time": "2024-05-01T22:30:12.242Z"
   },
   {
    "duration": 10,
    "start_time": "2024-05-01T22:30:14.019Z"
   },
   {
    "duration": 9,
    "start_time": "2024-05-01T22:30:14.031Z"
   },
   {
    "duration": 4,
    "start_time": "2024-05-01T22:30:14.041Z"
   },
   {
    "duration": 196,
    "start_time": "2024-05-01T22:30:14.046Z"
   },
   {
    "duration": 23,
    "start_time": "2024-05-01T22:30:14.244Z"
   },
   {
    "duration": 15,
    "start_time": "2024-05-01T22:30:14.268Z"
   },
   {
    "duration": 6,
    "start_time": "2024-05-01T22:30:14.285Z"
   },
   {
    "duration": 6,
    "start_time": "2024-05-01T22:30:14.292Z"
   },
   {
    "duration": 6,
    "start_time": "2024-05-01T22:30:14.300Z"
   },
   {
    "duration": 18,
    "start_time": "2024-05-01T22:30:14.308Z"
   },
   {
    "duration": 41,
    "start_time": "2024-05-01T22:30:14.327Z"
   },
   {
    "duration": 6,
    "start_time": "2024-05-01T22:30:14.370Z"
   },
   {
    "duration": 6,
    "start_time": "2024-05-01T22:30:14.377Z"
   },
   {
    "duration": 5,
    "start_time": "2024-05-01T22:30:14.385Z"
   },
   {
    "duration": 4,
    "start_time": "2024-05-01T22:30:14.391Z"
   },
   {
    "duration": 6,
    "start_time": "2024-05-01T22:30:14.396Z"
   },
   {
    "duration": 13,
    "start_time": "2024-05-01T22:30:14.403Z"
   },
   {
    "duration": 5,
    "start_time": "2024-05-01T22:30:14.417Z"
   },
   {
    "duration": 43,
    "start_time": "2024-05-01T22:30:14.423Z"
   },
   {
    "duration": 8,
    "start_time": "2024-05-01T22:30:14.468Z"
   },
   {
    "duration": 10,
    "start_time": "2024-05-01T22:30:14.477Z"
   },
   {
    "duration": 47,
    "start_time": "2024-05-01T22:30:14.489Z"
   },
   {
    "duration": 40,
    "start_time": "2024-05-01T22:30:14.538Z"
   },
   {
    "duration": 14,
    "start_time": "2024-05-01T22:30:14.580Z"
   },
   {
    "duration": 20,
    "start_time": "2024-05-01T22:30:14.597Z"
   },
   {
    "duration": 7,
    "start_time": "2024-05-01T22:30:14.619Z"
   },
   {
    "duration": 7,
    "start_time": "2024-05-01T22:30:14.627Z"
   },
   {
    "duration": 35,
    "start_time": "2024-05-01T22:30:14.636Z"
   },
   {
    "duration": 29,
    "start_time": "2024-05-01T22:30:14.672Z"
   },
   {
    "duration": 10,
    "start_time": "2024-05-01T22:30:14.702Z"
   },
   {
    "duration": 5,
    "start_time": "2024-05-01T22:30:14.713Z"
   },
   {
    "duration": 7,
    "start_time": "2024-05-01T22:30:14.720Z"
   },
   {
    "duration": 6,
    "start_time": "2024-05-01T22:30:14.728Z"
   },
   {
    "duration": 7,
    "start_time": "2024-05-01T22:30:14.764Z"
   },
   {
    "duration": 293,
    "start_time": "2024-05-01T22:30:14.772Z"
   },
   {
    "duration": 5,
    "start_time": "2024-05-01T22:30:15.067Z"
   },
   {
    "duration": 50,
    "start_time": "2024-05-01T22:30:15.074Z"
   },
   {
    "duration": 323,
    "start_time": "2024-05-01T22:30:15.126Z"
   },
   {
    "duration": 300,
    "start_time": "2024-05-01T22:30:15.451Z"
   },
   {
    "duration": 128,
    "start_time": "2024-05-01T22:30:15.752Z"
   },
   {
    "duration": 31,
    "start_time": "2024-05-01T22:30:15.881Z"
   },
   {
    "duration": 130,
    "start_time": "2024-05-01T22:30:15.914Z"
   },
   {
    "duration": 111,
    "start_time": "2024-05-01T22:30:16.045Z"
   },
   {
    "duration": 118,
    "start_time": "2024-05-01T22:30:16.164Z"
   },
   {
    "duration": 164,
    "start_time": "2024-05-01T22:30:16.283Z"
   },
   {
    "duration": 83,
    "start_time": "2024-05-01T22:30:16.448Z"
   },
   {
    "duration": 151,
    "start_time": "2024-05-01T22:30:16.532Z"
   },
   {
    "duration": 83659,
    "start_time": "2024-05-01T22:30:16.684Z"
   },
   {
    "duration": 10,
    "start_time": "2024-05-01T22:31:40.345Z"
   },
   {
    "duration": 27113,
    "start_time": "2024-05-01T22:31:40.356Z"
   },
   {
    "duration": 6936,
    "start_time": "2024-05-01T22:32:07.471Z"
   },
   {
    "duration": 34,
    "start_time": "2024-05-01T22:32:14.408Z"
   },
   {
    "duration": 6,
    "start_time": "2024-05-01T22:32:14.443Z"
   },
   {
    "duration": 1694,
    "start_time": "2024-05-01T22:32:14.465Z"
   },
   {
    "duration": 1778,
    "start_time": "2024-05-01T22:32:16.165Z"
   },
   {
    "duration": 209,
    "start_time": "2024-05-01T22:32:17.945Z"
   },
   {
    "duration": 195,
    "start_time": "2024-05-01T22:32:18.156Z"
   },
   {
    "duration": 198,
    "start_time": "2024-05-01T22:32:18.353Z"
   },
   {
    "duration": 134,
    "start_time": "2024-05-01T22:32:18.553Z"
   },
   {
    "duration": 106,
    "start_time": "2024-05-01T22:32:18.688Z"
   },
   {
    "duration": 96,
    "start_time": "2024-05-01T22:32:18.796Z"
   },
   {
    "duration": 172,
    "start_time": "2024-05-01T22:32:18.894Z"
   },
   {
    "duration": 127,
    "start_time": "2024-05-01T22:32:19.068Z"
   },
   {
    "duration": 22,
    "start_time": "2024-05-01T22:32:19.196Z"
   },
   {
    "duration": 9,
    "start_time": "2024-05-01T22:32:19.219Z"
   },
   {
    "duration": 12,
    "start_time": "2024-05-01T22:32:19.229Z"
   },
   {
    "duration": 52,
    "start_time": "2024-05-01T22:32:19.242Z"
   },
   {
    "duration": 142,
    "start_time": "2024-05-01T22:32:19.295Z"
   },
   {
    "duration": 1280,
    "start_time": "2024-05-02T05:49:31.285Z"
   },
   {
    "duration": 99,
    "start_time": "2024-05-02T05:49:32.566Z"
   },
   {
    "duration": 3900,
    "start_time": "2024-05-02T05:49:32.666Z"
   },
   {
    "duration": 10,
    "start_time": "2024-05-02T05:49:36.568Z"
   },
   {
    "duration": 66,
    "start_time": "2024-05-02T05:49:36.580Z"
   },
   {
    "duration": 4,
    "start_time": "2024-05-02T05:49:36.648Z"
   },
   {
    "duration": 400,
    "start_time": "2024-05-02T05:49:36.653Z"
   },
   {
    "duration": 19,
    "start_time": "2024-05-02T05:49:37.055Z"
   },
   {
    "duration": 71,
    "start_time": "2024-05-02T05:49:37.075Z"
   },
   {
    "duration": 6,
    "start_time": "2024-05-02T05:49:37.147Z"
   },
   {
    "duration": 28,
    "start_time": "2024-05-02T05:49:37.154Z"
   },
   {
    "duration": 67,
    "start_time": "2024-05-02T05:49:37.184Z"
   },
   {
    "duration": 41,
    "start_time": "2024-05-02T05:49:37.253Z"
   },
   {
    "duration": 67,
    "start_time": "2024-05-02T05:49:37.297Z"
   },
   {
    "duration": 30,
    "start_time": "2024-05-02T05:49:37.365Z"
   },
   {
    "duration": 72,
    "start_time": "2024-05-02T05:49:37.397Z"
   },
   {
    "duration": 32,
    "start_time": "2024-05-02T05:49:37.471Z"
   },
   {
    "duration": 41,
    "start_time": "2024-05-02T05:49:37.504Z"
   },
   {
    "duration": 6,
    "start_time": "2024-05-02T05:49:37.546Z"
   },
   {
    "duration": 30,
    "start_time": "2024-05-02T05:49:37.553Z"
   },
   {
    "duration": 28,
    "start_time": "2024-05-02T05:49:37.584Z"
   },
   {
    "duration": 14,
    "start_time": "2024-05-02T05:49:37.645Z"
   },
   {
    "duration": 88,
    "start_time": "2024-05-02T05:49:37.661Z"
   },
   {
    "duration": 22,
    "start_time": "2024-05-02T05:49:37.751Z"
   },
   {
    "duration": 178,
    "start_time": "2024-05-02T05:49:37.775Z"
   },
   {
    "duration": 17,
    "start_time": "2024-05-02T05:49:37.955Z"
   },
   {
    "duration": 113,
    "start_time": "2024-05-02T05:49:37.974Z"
   },
   {
    "duration": 66,
    "start_time": "2024-05-02T05:49:38.089Z"
   },
   {
    "duration": 11,
    "start_time": "2024-05-02T05:49:38.157Z"
   },
   {
    "duration": 15,
    "start_time": "2024-05-02T05:49:38.170Z"
   },
   {
    "duration": 10,
    "start_time": "2024-05-02T05:49:38.246Z"
   },
   {
    "duration": 110,
    "start_time": "2024-05-02T05:49:38.258Z"
   },
   {
    "duration": 76,
    "start_time": "2024-05-02T05:49:38.370Z"
   },
   {
    "duration": 6,
    "start_time": "2024-05-02T05:49:38.448Z"
   },
   {
    "duration": 44,
    "start_time": "2024-05-02T05:49:38.455Z"
   },
   {
    "duration": 49,
    "start_time": "2024-05-02T05:49:38.500Z"
   },
   {
    "duration": 24,
    "start_time": "2024-05-02T05:49:38.551Z"
   },
   {
    "duration": 476,
    "start_time": "2024-05-02T05:49:38.577Z"
   },
   {
    "duration": 6,
    "start_time": "2024-05-02T05:49:39.054Z"
   },
   {
    "duration": 95,
    "start_time": "2024-05-02T05:49:39.061Z"
   },
   {
    "duration": 732,
    "start_time": "2024-05-02T05:49:39.160Z"
   },
   {
    "duration": 290,
    "start_time": "2024-05-02T05:49:39.893Z"
   },
   {
    "duration": 128,
    "start_time": "2024-05-02T05:49:40.185Z"
   },
   {
    "duration": 35,
    "start_time": "2024-05-02T05:49:40.314Z"
   },
   {
    "duration": 141,
    "start_time": "2024-05-02T05:49:40.350Z"
   },
   {
    "duration": 114,
    "start_time": "2024-05-02T05:49:40.492Z"
   },
   {
    "duration": 122,
    "start_time": "2024-05-02T05:49:40.608Z"
   },
   {
    "duration": 189,
    "start_time": "2024-05-02T05:49:40.732Z"
   },
   {
    "duration": 87,
    "start_time": "2024-05-02T05:49:40.922Z"
   },
   {
    "duration": 139,
    "start_time": "2024-05-02T05:49:41.011Z"
   },
   {
    "duration": 85394,
    "start_time": "2024-05-02T05:49:41.151Z"
   },
   {
    "duration": 8,
    "start_time": "2024-05-02T05:51:06.546Z"
   },
   {
    "duration": 27889,
    "start_time": "2024-05-02T05:51:06.556Z"
   },
   {
    "duration": 6782,
    "start_time": "2024-05-02T05:51:34.447Z"
   },
   {
    "duration": 40,
    "start_time": "2024-05-02T05:51:41.231Z"
   },
   {
    "duration": 7,
    "start_time": "2024-05-02T05:51:41.273Z"
   },
   {
    "duration": 1778,
    "start_time": "2024-05-02T05:51:41.281Z"
   },
   {
    "duration": 1906,
    "start_time": "2024-05-02T05:51:43.060Z"
   },
   {
    "duration": 214,
    "start_time": "2024-05-02T05:51:44.968Z"
   },
   {
    "duration": 215,
    "start_time": "2024-05-02T05:51:45.184Z"
   },
   {
    "duration": 212,
    "start_time": "2024-05-02T05:51:45.401Z"
   },
   {
    "duration": 136,
    "start_time": "2024-05-02T05:51:45.615Z"
   },
   {
    "duration": 119,
    "start_time": "2024-05-02T05:51:45.753Z"
   },
   {
    "duration": 97,
    "start_time": "2024-05-02T05:51:45.873Z"
   },
   {
    "duration": 155,
    "start_time": "2024-05-02T05:51:45.971Z"
   },
   {
    "duration": 143,
    "start_time": "2024-05-02T05:51:46.128Z"
   },
   {
    "duration": 18,
    "start_time": "2024-05-02T05:51:46.272Z"
   },
   {
    "duration": 10,
    "start_time": "2024-05-02T05:51:46.292Z"
   },
   {
    "duration": 9,
    "start_time": "2024-05-02T05:51:46.303Z"
   },
   {
    "duration": 55,
    "start_time": "2024-05-02T05:51:46.313Z"
   },
   {
    "duration": 137,
    "start_time": "2024-05-02T05:51:46.370Z"
   },
   {
    "duration": 8,
    "start_time": "2024-05-02T07:08:07.896Z"
   },
   {
    "duration": 85,
    "start_time": "2024-05-02T07:08:45.911Z"
   },
   {
    "duration": 729,
    "start_time": "2024-05-02T07:09:13.663Z"
   },
   {
    "duration": 52,
    "start_time": "2024-05-02T07:09:14.394Z"
   },
   {
    "duration": 1935,
    "start_time": "2024-05-02T07:09:14.447Z"
   },
   {
    "duration": 11,
    "start_time": "2024-05-02T07:09:16.385Z"
   },
   {
    "duration": 22,
    "start_time": "2024-05-02T07:09:16.398Z"
   },
   {
    "duration": 25,
    "start_time": "2024-05-02T07:09:16.422Z"
   },
   {
    "duration": 206,
    "start_time": "2024-05-02T07:09:16.449Z"
   },
   {
    "duration": 19,
    "start_time": "2024-05-02T07:09:16.656Z"
   },
   {
    "duration": 48,
    "start_time": "2024-05-02T07:09:16.676Z"
   },
   {
    "duration": 48,
    "start_time": "2024-05-02T07:09:16.727Z"
   },
   {
    "duration": 46,
    "start_time": "2024-05-02T07:09:16.777Z"
   },
   {
    "duration": 34,
    "start_time": "2024-05-02T07:09:16.825Z"
   },
   {
    "duration": 45,
    "start_time": "2024-05-02T07:09:16.860Z"
   },
   {
    "duration": 33,
    "start_time": "2024-05-02T07:09:16.907Z"
   },
   {
    "duration": 11,
    "start_time": "2024-05-02T07:09:16.942Z"
   },
   {
    "duration": 38,
    "start_time": "2024-05-02T07:09:16.954Z"
   },
   {
    "duration": 29,
    "start_time": "2024-05-02T07:09:16.994Z"
   },
   {
    "duration": 34,
    "start_time": "2024-05-02T07:09:17.024Z"
   },
   {
    "duration": 26,
    "start_time": "2024-05-02T07:09:17.059Z"
   },
   {
    "duration": 36,
    "start_time": "2024-05-02T07:09:17.086Z"
   },
   {
    "duration": 51,
    "start_time": "2024-05-02T07:09:17.123Z"
   },
   {
    "duration": 44,
    "start_time": "2024-05-02T07:09:17.176Z"
   },
   {
    "duration": 14,
    "start_time": "2024-05-02T07:09:17.221Z"
   },
   {
    "duration": 40,
    "start_time": "2024-05-02T07:09:17.236Z"
   },
   {
    "duration": 70,
    "start_time": "2024-05-02T07:09:17.278Z"
   },
   {
    "duration": 64,
    "start_time": "2024-05-02T07:09:17.350Z"
   },
   {
    "duration": 36,
    "start_time": "2024-05-02T07:09:17.416Z"
   },
   {
    "duration": 30,
    "start_time": "2024-05-02T07:09:17.457Z"
   },
   {
    "duration": 38,
    "start_time": "2024-05-02T07:09:17.489Z"
   },
   {
    "duration": 41,
    "start_time": "2024-05-02T07:09:17.529Z"
   },
   {
    "duration": 59,
    "start_time": "2024-05-02T07:09:17.572Z"
   },
   {
    "duration": 81,
    "start_time": "2024-05-02T07:09:17.633Z"
   },
   {
    "duration": 14,
    "start_time": "2024-05-02T07:09:17.716Z"
   },
   {
    "duration": 25,
    "start_time": "2024-05-02T07:09:17.732Z"
   },
   {
    "duration": 15,
    "start_time": "2024-05-02T07:09:17.759Z"
   },
   {
    "duration": 21,
    "start_time": "2024-05-02T07:09:17.777Z"
   },
   {
    "duration": 12,
    "start_time": "2024-05-02T07:09:17.800Z"
   },
   {
    "duration": 309,
    "start_time": "2024-05-02T07:09:17.813Z"
   },
   {
    "duration": 6,
    "start_time": "2024-05-02T07:09:18.123Z"
   },
   {
    "duration": 40,
    "start_time": "2024-05-02T07:09:18.130Z"
   },
   {
    "duration": 363,
    "start_time": "2024-05-02T07:09:18.172Z"
   },
   {
    "duration": 306,
    "start_time": "2024-05-02T07:09:18.537Z"
   },
   {
    "duration": 135,
    "start_time": "2024-05-02T07:09:18.845Z"
   },
   {
    "duration": 36,
    "start_time": "2024-05-02T07:09:18.982Z"
   },
   {
    "duration": 163,
    "start_time": "2024-05-02T07:09:19.020Z"
   },
   {
    "duration": 127,
    "start_time": "2024-05-02T07:09:19.184Z"
   },
   {
    "duration": 140,
    "start_time": "2024-05-02T07:09:19.312Z"
   },
   {
    "duration": 187,
    "start_time": "2024-05-02T07:09:19.454Z"
   },
   {
    "duration": 84,
    "start_time": "2024-05-02T07:09:19.644Z"
   },
   {
    "duration": 152,
    "start_time": "2024-05-02T07:09:19.730Z"
   },
   {
    "duration": 89665,
    "start_time": "2024-05-02T07:09:19.884Z"
   },
   {
    "duration": 10,
    "start_time": "2024-05-02T07:10:49.551Z"
   },
   {
    "duration": 28635,
    "start_time": "2024-05-02T07:10:49.563Z"
   },
   {
    "duration": 7204,
    "start_time": "2024-05-02T07:11:18.199Z"
   },
   {
    "duration": 32,
    "start_time": "2024-05-02T07:11:25.404Z"
   },
   {
    "duration": 7,
    "start_time": "2024-05-02T07:11:25.446Z"
   },
   {
    "duration": 1796,
    "start_time": "2024-05-02T07:11:25.455Z"
   },
   {
    "duration": 96,
    "start_time": "2024-05-02T07:11:27.253Z"
   },
   {
    "duration": 1918,
    "start_time": "2024-05-02T07:11:27.351Z"
   },
   {
    "duration": 204,
    "start_time": "2024-05-02T07:11:29.270Z"
   },
   {
    "duration": 208,
    "start_time": "2024-05-02T07:11:29.475Z"
   },
   {
    "duration": 203,
    "start_time": "2024-05-02T07:11:29.685Z"
   },
   {
    "duration": 129,
    "start_time": "2024-05-02T07:11:29.890Z"
   },
   {
    "duration": 115,
    "start_time": "2024-05-02T07:11:30.021Z"
   },
   {
    "duration": 88,
    "start_time": "2024-05-02T07:11:30.144Z"
   },
   {
    "duration": 160,
    "start_time": "2024-05-02T07:11:30.247Z"
   },
   {
    "duration": 123,
    "start_time": "2024-05-02T07:11:30.408Z"
   },
   {
    "duration": 19,
    "start_time": "2024-05-02T07:11:30.532Z"
   },
   {
    "duration": 48,
    "start_time": "2024-05-02T07:11:30.552Z"
   },
   {
    "duration": 64,
    "start_time": "2024-05-02T07:11:30.602Z"
   },
   {
    "duration": 57,
    "start_time": "2024-05-02T07:11:30.668Z"
   },
   {
    "duration": 142,
    "start_time": "2024-05-02T07:11:30.726Z"
   },
   {
    "duration": 49,
    "start_time": "2024-05-02T07:34:29.596Z"
   },
   {
    "duration": 1164,
    "start_time": "2024-05-02T07:36:35.229Z"
   },
   {
    "duration": 38,
    "start_time": "2024-05-02T07:36:45.995Z"
   },
   {
    "duration": 1413,
    "start_time": "2024-05-02T07:36:57.450Z"
   },
   {
    "duration": 35,
    "start_time": "2024-05-02T07:36:58.865Z"
   },
   {
    "duration": 2081,
    "start_time": "2024-05-02T07:36:58.902Z"
   },
   {
    "duration": 10,
    "start_time": "2024-05-02T07:37:00.985Z"
   },
   {
    "duration": 75,
    "start_time": "2024-05-02T07:37:00.997Z"
   },
   {
    "duration": 61,
    "start_time": "2024-05-02T07:37:01.074Z"
   },
   {
    "duration": 266,
    "start_time": "2024-05-02T07:37:01.137Z"
   },
   {
    "duration": 20,
    "start_time": "2024-05-02T07:37:01.405Z"
   },
   {
    "duration": 67,
    "start_time": "2024-05-02T07:37:01.427Z"
   },
   {
    "duration": 64,
    "start_time": "2024-05-02T07:37:01.496Z"
   },
   {
    "duration": 75,
    "start_time": "2024-05-02T07:37:01.562Z"
   },
   {
    "duration": 144,
    "start_time": "2024-05-02T07:37:01.638Z"
   },
   {
    "duration": 106,
    "start_time": "2024-05-02T07:37:01.784Z"
   },
   {
    "duration": 62,
    "start_time": "2024-05-02T07:37:01.892Z"
   },
   {
    "duration": 36,
    "start_time": "2024-05-02T07:37:01.955Z"
   },
   {
    "duration": 80,
    "start_time": "2024-05-02T07:37:01.993Z"
   },
   {
    "duration": 28,
    "start_time": "2024-05-02T07:37:02.075Z"
   },
   {
    "duration": 68,
    "start_time": "2024-05-02T07:37:02.105Z"
   },
   {
    "duration": 34,
    "start_time": "2024-05-02T07:37:02.175Z"
   },
   {
    "duration": 46,
    "start_time": "2024-05-02T07:37:02.211Z"
   },
   {
    "duration": 53,
    "start_time": "2024-05-02T07:37:02.259Z"
   },
   {
    "duration": 16,
    "start_time": "2024-05-02T07:37:02.314Z"
   },
   {
    "duration": 12,
    "start_time": "2024-05-02T07:37:02.331Z"
   },
   {
    "duration": 13,
    "start_time": "2024-05-02T07:37:02.344Z"
   },
   {
    "duration": 59,
    "start_time": "2024-05-02T07:37:02.359Z"
   },
   {
    "duration": 20,
    "start_time": "2024-05-02T07:37:02.419Z"
   },
   {
    "duration": 23,
    "start_time": "2024-05-02T07:37:02.441Z"
   },
   {
    "duration": 21,
    "start_time": "2024-05-02T07:37:02.468Z"
   },
   {
    "duration": 11,
    "start_time": "2024-05-02T07:37:02.491Z"
   },
   {
    "duration": 14,
    "start_time": "2024-05-02T07:37:02.504Z"
   },
   {
    "duration": 23,
    "start_time": "2024-05-02T07:37:02.519Z"
   },
   {
    "duration": 60,
    "start_time": "2024-05-02T07:37:02.543Z"
   },
   {
    "duration": 12,
    "start_time": "2024-05-02T07:37:02.604Z"
   },
   {
    "duration": 25,
    "start_time": "2024-05-02T07:37:02.618Z"
   },
   {
    "duration": 26,
    "start_time": "2024-05-02T07:37:02.644Z"
   },
   {
    "duration": 58,
    "start_time": "2024-05-02T07:37:02.671Z"
   },
   {
    "duration": 20,
    "start_time": "2024-05-02T07:37:02.730Z"
   },
   {
    "duration": 344,
    "start_time": "2024-05-02T07:37:02.752Z"
   },
   {
    "duration": 6,
    "start_time": "2024-05-02T07:37:03.097Z"
   },
   {
    "duration": 54,
    "start_time": "2024-05-02T07:37:03.105Z"
   },
   {
    "duration": 404,
    "start_time": "2024-05-02T07:37:03.160Z"
   },
   {
    "duration": 317,
    "start_time": "2024-05-02T07:37:03.565Z"
   },
   {
    "duration": 152,
    "start_time": "2024-05-02T07:37:03.883Z"
   },
   {
    "duration": 52,
    "start_time": "2024-05-02T07:37:04.037Z"
   },
   {
    "duration": 162,
    "start_time": "2024-05-02T07:37:04.091Z"
   },
   {
    "duration": 132,
    "start_time": "2024-05-02T07:37:04.255Z"
   },
   {
    "duration": 149,
    "start_time": "2024-05-02T07:37:04.389Z"
   },
   {
    "duration": 205,
    "start_time": "2024-05-02T07:37:04.539Z"
   },
   {
    "duration": 96,
    "start_time": "2024-05-02T07:37:04.745Z"
   },
   {
    "duration": 189,
    "start_time": "2024-05-02T07:37:04.842Z"
   },
   {
    "duration": 98109,
    "start_time": "2024-05-02T07:37:05.033Z"
   },
   {
    "duration": 15,
    "start_time": "2024-05-02T07:38:43.144Z"
   },
   {
    "duration": 31282,
    "start_time": "2024-05-02T07:38:43.161Z"
   },
   {
    "duration": 7679,
    "start_time": "2024-05-02T07:39:14.444Z"
   },
   {
    "duration": 56,
    "start_time": "2024-05-02T07:39:22.125Z"
   },
   {
    "duration": 7,
    "start_time": "2024-05-02T07:39:22.184Z"
   },
   {
    "duration": 2000,
    "start_time": "2024-05-02T07:39:22.193Z"
   },
   {
    "duration": 2107,
    "start_time": "2024-05-02T07:39:24.195Z"
   },
   {
    "duration": 230,
    "start_time": "2024-05-02T07:39:26.304Z"
   },
   {
    "duration": 230,
    "start_time": "2024-05-02T07:39:26.536Z"
   },
   {
    "duration": 230,
    "start_time": "2024-05-02T07:39:26.767Z"
   },
   {
    "duration": 154,
    "start_time": "2024-05-02T07:39:26.999Z"
   },
   {
    "duration": 132,
    "start_time": "2024-05-02T07:39:27.158Z"
   },
   {
    "duration": 111,
    "start_time": "2024-05-02T07:39:27.292Z"
   },
   {
    "duration": 162,
    "start_time": "2024-05-02T07:39:27.405Z"
   },
   {
    "duration": 147,
    "start_time": "2024-05-02T07:39:27.569Z"
   },
   {
    "duration": 19,
    "start_time": "2024-05-02T07:39:27.718Z"
   },
   {
    "duration": 24,
    "start_time": "2024-05-02T07:39:27.738Z"
   },
   {
    "duration": 19,
    "start_time": "2024-05-02T07:39:27.764Z"
   },
   {
    "duration": 39,
    "start_time": "2024-05-02T07:39:27.785Z"
   },
   {
    "duration": 164,
    "start_time": "2024-05-02T07:39:27.826Z"
   },
   {
    "duration": 2810,
    "start_time": "2024-05-02T07:39:27.998Z"
   },
   {
    "duration": 779,
    "start_time": "2024-05-02T07:42:48.795Z"
   },
   {
    "duration": 37,
    "start_time": "2024-05-02T07:42:49.576Z"
   },
   {
    "duration": 2016,
    "start_time": "2024-05-02T07:42:49.615Z"
   },
   {
    "duration": 70,
    "start_time": "2024-05-02T07:42:51.634Z"
   },
   {
    "duration": 0,
    "start_time": "2024-05-02T07:42:51.707Z"
   },
   {
    "duration": 0,
    "start_time": "2024-05-02T07:42:51.709Z"
   },
   {
    "duration": 0,
    "start_time": "2024-05-02T07:42:51.710Z"
   },
   {
    "duration": 0,
    "start_time": "2024-05-02T07:42:51.712Z"
   },
   {
    "duration": 0,
    "start_time": "2024-05-02T07:42:51.713Z"
   },
   {
    "duration": 0,
    "start_time": "2024-05-02T07:42:51.714Z"
   },
   {
    "duration": 0,
    "start_time": "2024-05-02T07:42:51.716Z"
   },
   {
    "duration": 0,
    "start_time": "2024-05-02T07:42:51.717Z"
   },
   {
    "duration": 0,
    "start_time": "2024-05-02T07:42:51.718Z"
   },
   {
    "duration": 0,
    "start_time": "2024-05-02T07:42:51.720Z"
   },
   {
    "duration": 0,
    "start_time": "2024-05-02T07:42:51.721Z"
   },
   {
    "duration": 0,
    "start_time": "2024-05-02T07:42:51.723Z"
   },
   {
    "duration": 0,
    "start_time": "2024-05-02T07:42:51.724Z"
   },
   {
    "duration": 0,
    "start_time": "2024-05-02T07:42:51.726Z"
   },
   {
    "duration": 0,
    "start_time": "2024-05-02T07:42:51.727Z"
   },
   {
    "duration": 0,
    "start_time": "2024-05-02T07:42:51.729Z"
   },
   {
    "duration": 0,
    "start_time": "2024-05-02T07:42:51.731Z"
   },
   {
    "duration": 0,
    "start_time": "2024-05-02T07:42:51.732Z"
   },
   {
    "duration": 0,
    "start_time": "2024-05-02T07:42:51.733Z"
   },
   {
    "duration": 0,
    "start_time": "2024-05-02T07:42:51.742Z"
   },
   {
    "duration": 0,
    "start_time": "2024-05-02T07:42:51.744Z"
   },
   {
    "duration": 0,
    "start_time": "2024-05-02T07:42:51.745Z"
   },
   {
    "duration": 0,
    "start_time": "2024-05-02T07:42:51.747Z"
   },
   {
    "duration": 0,
    "start_time": "2024-05-02T07:42:51.759Z"
   },
   {
    "duration": 0,
    "start_time": "2024-05-02T07:42:51.760Z"
   },
   {
    "duration": 0,
    "start_time": "2024-05-02T07:42:51.761Z"
   },
   {
    "duration": 0,
    "start_time": "2024-05-02T07:42:51.763Z"
   },
   {
    "duration": 0,
    "start_time": "2024-05-02T07:42:51.764Z"
   },
   {
    "duration": 0,
    "start_time": "2024-05-02T07:42:51.765Z"
   },
   {
    "duration": 1,
    "start_time": "2024-05-02T07:42:51.766Z"
   },
   {
    "duration": 0,
    "start_time": "2024-05-02T07:42:51.768Z"
   },
   {
    "duration": 0,
    "start_time": "2024-05-02T07:42:51.769Z"
   },
   {
    "duration": 0,
    "start_time": "2024-05-02T07:42:51.771Z"
   },
   {
    "duration": 0,
    "start_time": "2024-05-02T07:42:51.772Z"
   },
   {
    "duration": 0,
    "start_time": "2024-05-02T07:42:51.775Z"
   },
   {
    "duration": 0,
    "start_time": "2024-05-02T07:42:51.776Z"
   },
   {
    "duration": 0,
    "start_time": "2024-05-02T07:42:51.777Z"
   },
   {
    "duration": 0,
    "start_time": "2024-05-02T07:42:51.779Z"
   },
   {
    "duration": 0,
    "start_time": "2024-05-02T07:42:51.780Z"
   },
   {
    "duration": 0,
    "start_time": "2024-05-02T07:42:51.782Z"
   },
   {
    "duration": 0,
    "start_time": "2024-05-02T07:42:51.783Z"
   },
   {
    "duration": 0,
    "start_time": "2024-05-02T07:42:51.785Z"
   },
   {
    "duration": 0,
    "start_time": "2024-05-02T07:42:51.786Z"
   },
   {
    "duration": 0,
    "start_time": "2024-05-02T07:42:51.787Z"
   },
   {
    "duration": 0,
    "start_time": "2024-05-02T07:42:51.789Z"
   },
   {
    "duration": 0,
    "start_time": "2024-05-02T07:42:51.790Z"
   },
   {
    "duration": 0,
    "start_time": "2024-05-02T07:42:51.792Z"
   },
   {
    "duration": 0,
    "start_time": "2024-05-02T07:42:51.793Z"
   },
   {
    "duration": 0,
    "start_time": "2024-05-02T07:42:51.795Z"
   },
   {
    "duration": 0,
    "start_time": "2024-05-02T07:42:51.796Z"
   },
   {
    "duration": 0,
    "start_time": "2024-05-02T07:42:51.797Z"
   },
   {
    "duration": 0,
    "start_time": "2024-05-02T07:42:51.799Z"
   },
   {
    "duration": 0,
    "start_time": "2024-05-02T07:42:51.859Z"
   },
   {
    "duration": 0,
    "start_time": "2024-05-02T07:42:51.860Z"
   },
   {
    "duration": 0,
    "start_time": "2024-05-02T07:42:51.861Z"
   },
   {
    "duration": 0,
    "start_time": "2024-05-02T07:42:51.862Z"
   },
   {
    "duration": 0,
    "start_time": "2024-05-02T07:42:51.863Z"
   },
   {
    "duration": 0,
    "start_time": "2024-05-02T07:42:51.864Z"
   },
   {
    "duration": 0,
    "start_time": "2024-05-02T07:42:51.865Z"
   },
   {
    "duration": 0,
    "start_time": "2024-05-02T07:42:51.867Z"
   },
   {
    "duration": 0,
    "start_time": "2024-05-02T07:42:51.868Z"
   },
   {
    "duration": 0,
    "start_time": "2024-05-02T07:42:51.869Z"
   },
   {
    "duration": 0,
    "start_time": "2024-05-02T07:42:51.870Z"
   },
   {
    "duration": 1,
    "start_time": "2024-05-02T07:42:51.871Z"
   },
   {
    "duration": 0,
    "start_time": "2024-05-02T07:42:51.872Z"
   },
   {
    "duration": 0,
    "start_time": "2024-05-02T07:42:51.873Z"
   },
   {
    "duration": 0,
    "start_time": "2024-05-02T07:42:51.874Z"
   },
   {
    "duration": 0,
    "start_time": "2024-05-02T07:42:51.876Z"
   },
   {
    "duration": 855,
    "start_time": "2024-05-02T07:44:20.935Z"
   },
   {
    "duration": 39,
    "start_time": "2024-05-02T07:44:21.792Z"
   },
   {
    "duration": 2043,
    "start_time": "2024-05-02T07:44:21.832Z"
   },
   {
    "duration": 11,
    "start_time": "2024-05-02T07:44:23.877Z"
   },
   {
    "duration": 9,
    "start_time": "2024-05-02T07:44:23.889Z"
   },
   {
    "duration": 12,
    "start_time": "2024-05-02T07:44:23.900Z"
   },
   {
    "duration": 228,
    "start_time": "2024-05-02T07:44:23.914Z"
   },
   {
    "duration": 28,
    "start_time": "2024-05-02T07:44:24.144Z"
   },
   {
    "duration": 19,
    "start_time": "2024-05-02T07:44:24.174Z"
   },
   {
    "duration": 7,
    "start_time": "2024-05-02T07:44:24.195Z"
   },
   {
    "duration": 13,
    "start_time": "2024-05-02T07:44:24.204Z"
   },
   {
    "duration": 7,
    "start_time": "2024-05-02T07:44:24.219Z"
   },
   {
    "duration": 51,
    "start_time": "2024-05-02T07:44:24.228Z"
   },
   {
    "duration": 19,
    "start_time": "2024-05-02T07:44:24.280Z"
   },
   {
    "duration": 7,
    "start_time": "2024-05-02T07:44:24.301Z"
   },
   {
    "duration": 15,
    "start_time": "2024-05-02T07:44:24.310Z"
   },
   {
    "duration": 8,
    "start_time": "2024-05-02T07:44:24.327Z"
   },
   {
    "duration": 25,
    "start_time": "2024-05-02T07:44:24.336Z"
   },
   {
    "duration": 8,
    "start_time": "2024-05-02T07:44:24.363Z"
   },
   {
    "duration": 24,
    "start_time": "2024-05-02T07:44:24.372Z"
   },
   {
    "duration": 15,
    "start_time": "2024-05-02T07:44:24.398Z"
   },
   {
    "duration": 20,
    "start_time": "2024-05-02T07:44:24.415Z"
   },
   {
    "duration": 10,
    "start_time": "2024-05-02T07:44:24.437Z"
   },
   {
    "duration": 18,
    "start_time": "2024-05-02T07:44:24.448Z"
   },
   {
    "duration": 51,
    "start_time": "2024-05-02T07:44:24.467Z"
   },
   {
    "duration": 42,
    "start_time": "2024-05-02T07:44:24.520Z"
   },
   {
    "duration": 14,
    "start_time": "2024-05-02T07:44:24.564Z"
   },
   {
    "duration": 46,
    "start_time": "2024-05-02T07:44:24.582Z"
   },
   {
    "duration": 11,
    "start_time": "2024-05-02T07:44:24.630Z"
   },
   {
    "duration": 17,
    "start_time": "2024-05-02T07:44:24.643Z"
   },
   {
    "duration": 9,
    "start_time": "2024-05-02T07:44:24.662Z"
   },
   {
    "duration": 36,
    "start_time": "2024-05-02T07:44:24.673Z"
   },
   {
    "duration": 12,
    "start_time": "2024-05-02T07:44:24.710Z"
   },
   {
    "duration": 6,
    "start_time": "2024-05-02T07:44:24.724Z"
   },
   {
    "duration": 32,
    "start_time": "2024-05-02T07:44:24.731Z"
   },
   {
    "duration": 10,
    "start_time": "2024-05-02T07:44:24.764Z"
   },
   {
    "duration": 15,
    "start_time": "2024-05-02T07:44:24.775Z"
   },
   {
    "duration": 353,
    "start_time": "2024-05-02T07:44:24.791Z"
   },
   {
    "duration": 15,
    "start_time": "2024-05-02T07:44:25.145Z"
   },
   {
    "duration": 34,
    "start_time": "2024-05-02T07:44:25.162Z"
   },
   {
    "duration": 444,
    "start_time": "2024-05-02T07:44:25.198Z"
   },
   {
    "duration": 349,
    "start_time": "2024-05-02T07:44:25.644Z"
   },
   {
    "duration": 152,
    "start_time": "2024-05-02T07:44:25.995Z"
   },
   {
    "duration": 47,
    "start_time": "2024-05-02T07:44:26.149Z"
   },
   {
    "duration": 166,
    "start_time": "2024-05-02T07:44:26.197Z"
   },
   {
    "duration": 134,
    "start_time": "2024-05-02T07:44:26.364Z"
   },
   {
    "duration": 259,
    "start_time": "2024-05-02T07:44:26.500Z"
   },
   {
    "duration": 403,
    "start_time": "2024-05-02T07:44:26.761Z"
   },
   {
    "duration": 136,
    "start_time": "2024-05-02T07:44:27.166Z"
   },
   {
    "duration": 325,
    "start_time": "2024-05-02T07:44:27.359Z"
   },
   {
    "duration": 96478,
    "start_time": "2024-05-02T07:44:27.686Z"
   },
   {
    "duration": 9,
    "start_time": "2024-05-02T07:46:04.166Z"
   },
   {
    "duration": 31378,
    "start_time": "2024-05-02T07:46:04.176Z"
   },
   {
    "duration": 7544,
    "start_time": "2024-05-02T07:46:35.556Z"
   },
   {
    "duration": 57,
    "start_time": "2024-05-02T07:46:43.102Z"
   },
   {
    "duration": 8,
    "start_time": "2024-05-02T07:46:43.160Z"
   },
   {
    "duration": 2040,
    "start_time": "2024-05-02T07:46:43.169Z"
   },
   {
    "duration": 2073,
    "start_time": "2024-05-02T07:46:45.211Z"
   },
   {
    "duration": 232,
    "start_time": "2024-05-02T07:46:47.286Z"
   },
   {
    "duration": 226,
    "start_time": "2024-05-02T07:46:47.519Z"
   },
   {
    "duration": 223,
    "start_time": "2024-05-02T07:46:47.747Z"
   },
   {
    "duration": 157,
    "start_time": "2024-05-02T07:46:47.972Z"
   },
   {
    "duration": 122,
    "start_time": "2024-05-02T07:46:48.131Z"
   },
   {
    "duration": 100,
    "start_time": "2024-05-02T07:46:48.259Z"
   },
   {
    "duration": 158,
    "start_time": "2024-05-02T07:46:48.361Z"
   },
   {
    "duration": 146,
    "start_time": "2024-05-02T07:46:48.521Z"
   },
   {
    "duration": 18,
    "start_time": "2024-05-02T07:46:48.669Z"
   },
   {
    "duration": 10,
    "start_time": "2024-05-02T07:46:48.688Z"
   },
   {
    "duration": 11,
    "start_time": "2024-05-02T07:46:48.700Z"
   },
   {
    "duration": 69,
    "start_time": "2024-05-02T07:46:48.712Z"
   },
   {
    "duration": 165,
    "start_time": "2024-05-02T07:46:48.782Z"
   },
   {
    "duration": 41,
    "start_time": "2024-05-02T07:46:48.951Z"
   },
   {
    "duration": 804,
    "start_time": "2024-05-02T07:48:15.835Z"
   },
   {
    "duration": 44,
    "start_time": "2024-05-02T07:48:16.641Z"
   },
   {
    "duration": 2436,
    "start_time": "2024-05-02T07:48:16.687Z"
   },
   {
    "duration": 43,
    "start_time": "2024-05-02T07:48:19.125Z"
   },
   {
    "duration": 16,
    "start_time": "2024-05-02T07:48:19.170Z"
   },
   {
    "duration": 5,
    "start_time": "2024-05-02T07:48:19.187Z"
   },
   {
    "duration": 482,
    "start_time": "2024-05-02T07:48:19.194Z"
   },
   {
    "duration": 20,
    "start_time": "2024-05-02T07:48:19.678Z"
   },
   {
    "duration": 70,
    "start_time": "2024-05-02T07:48:19.700Z"
   },
   {
    "duration": 7,
    "start_time": "2024-05-02T07:48:19.773Z"
   },
   {
    "duration": 11,
    "start_time": "2024-05-02T07:48:19.782Z"
   },
   {
    "duration": 10,
    "start_time": "2024-05-02T07:48:19.795Z"
   },
   {
    "duration": 24,
    "start_time": "2024-05-02T07:48:19.807Z"
   },
   {
    "duration": 45,
    "start_time": "2024-05-02T07:48:19.833Z"
   },
   {
    "duration": 9,
    "start_time": "2024-05-02T07:48:19.879Z"
   },
   {
    "duration": 16,
    "start_time": "2024-05-02T07:48:19.890Z"
   },
   {
    "duration": 12,
    "start_time": "2024-05-02T07:48:19.907Z"
   },
   {
    "duration": 5,
    "start_time": "2024-05-02T07:48:19.921Z"
   },
   {
    "duration": 5,
    "start_time": "2024-05-02T07:48:19.927Z"
   },
   {
    "duration": 25,
    "start_time": "2024-05-02T07:48:19.934Z"
   },
   {
    "duration": 6,
    "start_time": "2024-05-02T07:48:19.961Z"
   },
   {
    "duration": 15,
    "start_time": "2024-05-02T07:48:19.969Z"
   },
   {
    "duration": 9,
    "start_time": "2024-05-02T07:48:19.986Z"
   },
   {
    "duration": 13,
    "start_time": "2024-05-02T07:48:19.997Z"
   },
   {
    "duration": 73,
    "start_time": "2024-05-02T07:48:20.012Z"
   },
   {
    "duration": 17,
    "start_time": "2024-05-02T07:48:20.086Z"
   },
   {
    "duration": 12,
    "start_time": "2024-05-02T07:48:20.104Z"
   },
   {
    "duration": 40,
    "start_time": "2024-05-02T07:48:20.120Z"
   },
   {
    "duration": 7,
    "start_time": "2024-05-02T07:48:20.161Z"
   },
   {
    "duration": 22,
    "start_time": "2024-05-02T07:48:20.170Z"
   },
   {
    "duration": 12,
    "start_time": "2024-05-02T07:48:20.193Z"
   },
   {
    "duration": 56,
    "start_time": "2024-05-02T07:48:20.207Z"
   },
   {
    "duration": 11,
    "start_time": "2024-05-02T07:48:20.265Z"
   },
   {
    "duration": 18,
    "start_time": "2024-05-02T07:48:20.277Z"
   },
   {
    "duration": 30,
    "start_time": "2024-05-02T07:48:20.297Z"
   },
   {
    "duration": 12,
    "start_time": "2024-05-02T07:48:20.328Z"
   },
   {
    "duration": 7,
    "start_time": "2024-05-02T07:48:20.342Z"
   },
   {
    "duration": 334,
    "start_time": "2024-05-02T07:48:20.350Z"
   },
   {
    "duration": 7,
    "start_time": "2024-05-02T07:48:20.685Z"
   },
   {
    "duration": 49,
    "start_time": "2024-05-02T07:48:20.694Z"
   },
   {
    "duration": 421,
    "start_time": "2024-05-02T07:48:20.744Z"
   },
   {
    "duration": 360,
    "start_time": "2024-05-02T07:48:21.167Z"
   },
   {
    "duration": 144,
    "start_time": "2024-05-02T07:48:21.529Z"
   },
   {
    "duration": 44,
    "start_time": "2024-05-02T07:48:21.675Z"
   },
   {
    "duration": 164,
    "start_time": "2024-05-02T07:48:21.721Z"
   },
   {
    "duration": 137,
    "start_time": "2024-05-02T07:48:21.886Z"
   },
   {
    "duration": 159,
    "start_time": "2024-05-02T07:48:22.025Z"
   },
   {
    "duration": 206,
    "start_time": "2024-05-02T07:48:22.185Z"
   },
   {
    "duration": 89,
    "start_time": "2024-05-02T07:48:22.392Z"
   },
   {
    "duration": 192,
    "start_time": "2024-05-02T07:48:22.483Z"
   },
   {
    "duration": 94015,
    "start_time": "2024-05-02T07:48:22.677Z"
   },
   {
    "duration": 10,
    "start_time": "2024-05-02T07:49:56.694Z"
   },
   {
    "duration": 31400,
    "start_time": "2024-05-02T07:49:56.706Z"
   },
   {
    "duration": 7423,
    "start_time": "2024-05-02T07:50:28.108Z"
   },
   {
    "duration": 51,
    "start_time": "2024-05-02T07:50:35.533Z"
   },
   {
    "duration": 6,
    "start_time": "2024-05-02T07:50:35.586Z"
   },
   {
    "duration": 1947,
    "start_time": "2024-05-02T07:50:35.594Z"
   },
   {
    "duration": 2009,
    "start_time": "2024-05-02T07:50:37.543Z"
   },
   {
    "duration": 226,
    "start_time": "2024-05-02T07:50:39.554Z"
   },
   {
    "duration": 236,
    "start_time": "2024-05-02T07:50:39.782Z"
   },
   {
    "duration": 235,
    "start_time": "2024-05-02T07:50:40.019Z"
   },
   {
    "duration": 149,
    "start_time": "2024-05-02T07:50:40.255Z"
   },
   {
    "duration": 118,
    "start_time": "2024-05-02T07:50:40.405Z"
   },
   {
    "duration": 99,
    "start_time": "2024-05-02T07:50:40.525Z"
   },
   {
    "duration": 171,
    "start_time": "2024-05-02T07:50:40.626Z"
   },
   {
    "duration": 155,
    "start_time": "2024-05-02T07:50:40.799Z"
   },
   {
    "duration": 18,
    "start_time": "2024-05-02T07:50:40.958Z"
   },
   {
    "duration": 9,
    "start_time": "2024-05-02T07:50:40.978Z"
   },
   {
    "duration": 10,
    "start_time": "2024-05-02T07:50:40.989Z"
   },
   {
    "duration": 41,
    "start_time": "2024-05-02T07:50:41.000Z"
   },
   {
    "duration": 164,
    "start_time": "2024-05-02T07:50:41.058Z"
   },
   {
    "duration": 748,
    "start_time": "2024-05-02T08:08:54.909Z"
   },
   {
    "duration": 37,
    "start_time": "2024-05-02T08:08:55.659Z"
   },
   {
    "duration": 2293,
    "start_time": "2024-05-02T08:08:55.698Z"
   },
   {
    "duration": 10,
    "start_time": "2024-05-02T08:08:57.994Z"
   },
   {
    "duration": 62,
    "start_time": "2024-05-02T08:08:58.006Z"
   },
   {
    "duration": 6,
    "start_time": "2024-05-02T08:08:58.070Z"
   },
   {
    "duration": 490,
    "start_time": "2024-05-02T08:08:58.078Z"
   },
   {
    "duration": 91,
    "start_time": "2024-05-02T08:08:58.570Z"
   },
   {
    "duration": 0,
    "start_time": "2024-05-02T08:08:58.664Z"
   },
   {
    "duration": 0,
    "start_time": "2024-05-02T08:08:58.665Z"
   },
   {
    "duration": 0,
    "start_time": "2024-05-02T08:08:58.667Z"
   },
   {
    "duration": 0,
    "start_time": "2024-05-02T08:08:58.668Z"
   },
   {
    "duration": 0,
    "start_time": "2024-05-02T08:08:58.669Z"
   },
   {
    "duration": 0,
    "start_time": "2024-05-02T08:08:58.669Z"
   },
   {
    "duration": 0,
    "start_time": "2024-05-02T08:08:58.671Z"
   },
   {
    "duration": 0,
    "start_time": "2024-05-02T08:08:58.672Z"
   },
   {
    "duration": 0,
    "start_time": "2024-05-02T08:08:58.673Z"
   },
   {
    "duration": 0,
    "start_time": "2024-05-02T08:08:58.674Z"
   },
   {
    "duration": 0,
    "start_time": "2024-05-02T08:08:58.675Z"
   },
   {
    "duration": 0,
    "start_time": "2024-05-02T08:08:58.676Z"
   },
   {
    "duration": 0,
    "start_time": "2024-05-02T08:08:58.677Z"
   },
   {
    "duration": 0,
    "start_time": "2024-05-02T08:08:58.679Z"
   },
   {
    "duration": 0,
    "start_time": "2024-05-02T08:08:58.680Z"
   },
   {
    "duration": 0,
    "start_time": "2024-05-02T08:08:58.681Z"
   },
   {
    "duration": 0,
    "start_time": "2024-05-02T08:08:58.682Z"
   },
   {
    "duration": 0,
    "start_time": "2024-05-02T08:08:58.683Z"
   },
   {
    "duration": 0,
    "start_time": "2024-05-02T08:08:58.684Z"
   },
   {
    "duration": 0,
    "start_time": "2024-05-02T08:08:58.685Z"
   },
   {
    "duration": 0,
    "start_time": "2024-05-02T08:08:58.686Z"
   },
   {
    "duration": 0,
    "start_time": "2024-05-02T08:08:58.687Z"
   },
   {
    "duration": 0,
    "start_time": "2024-05-02T08:08:58.688Z"
   },
   {
    "duration": 0,
    "start_time": "2024-05-02T08:08:58.689Z"
   },
   {
    "duration": 0,
    "start_time": "2024-05-02T08:08:58.690Z"
   },
   {
    "duration": 0,
    "start_time": "2024-05-02T08:08:58.691Z"
   },
   {
    "duration": 0,
    "start_time": "2024-05-02T08:08:58.692Z"
   },
   {
    "duration": 0,
    "start_time": "2024-05-02T08:08:58.693Z"
   },
   {
    "duration": 0,
    "start_time": "2024-05-02T08:08:58.694Z"
   },
   {
    "duration": 0,
    "start_time": "2024-05-02T08:08:58.695Z"
   },
   {
    "duration": 0,
    "start_time": "2024-05-02T08:08:58.696Z"
   },
   {
    "duration": 0,
    "start_time": "2024-05-02T08:08:58.759Z"
   },
   {
    "duration": 0,
    "start_time": "2024-05-02T08:08:58.761Z"
   },
   {
    "duration": 0,
    "start_time": "2024-05-02T08:08:58.762Z"
   },
   {
    "duration": 0,
    "start_time": "2024-05-02T08:08:58.763Z"
   },
   {
    "duration": 0,
    "start_time": "2024-05-02T08:08:58.764Z"
   },
   {
    "duration": 0,
    "start_time": "2024-05-02T08:08:58.765Z"
   },
   {
    "duration": 0,
    "start_time": "2024-05-02T08:08:58.765Z"
   },
   {
    "duration": 0,
    "start_time": "2024-05-02T08:08:58.767Z"
   },
   {
    "duration": 0,
    "start_time": "2024-05-02T08:08:58.768Z"
   },
   {
    "duration": 0,
    "start_time": "2024-05-02T08:08:58.769Z"
   },
   {
    "duration": 0,
    "start_time": "2024-05-02T08:08:58.770Z"
   },
   {
    "duration": 0,
    "start_time": "2024-05-02T08:08:58.771Z"
   },
   {
    "duration": 0,
    "start_time": "2024-05-02T08:08:58.772Z"
   },
   {
    "duration": 0,
    "start_time": "2024-05-02T08:08:58.773Z"
   },
   {
    "duration": 0,
    "start_time": "2024-05-02T08:08:58.774Z"
   },
   {
    "duration": 0,
    "start_time": "2024-05-02T08:08:58.775Z"
   },
   {
    "duration": 0,
    "start_time": "2024-05-02T08:08:58.776Z"
   },
   {
    "duration": 0,
    "start_time": "2024-05-02T08:08:58.777Z"
   },
   {
    "duration": 0,
    "start_time": "2024-05-02T08:08:58.778Z"
   },
   {
    "duration": 0,
    "start_time": "2024-05-02T08:08:58.779Z"
   },
   {
    "duration": 0,
    "start_time": "2024-05-02T08:08:58.780Z"
   },
   {
    "duration": 0,
    "start_time": "2024-05-02T08:08:58.781Z"
   },
   {
    "duration": 0,
    "start_time": "2024-05-02T08:08:58.782Z"
   },
   {
    "duration": 0,
    "start_time": "2024-05-02T08:08:58.783Z"
   },
   {
    "duration": 0,
    "start_time": "2024-05-02T08:08:58.784Z"
   },
   {
    "duration": 0,
    "start_time": "2024-05-02T08:08:58.785Z"
   },
   {
    "duration": 0,
    "start_time": "2024-05-02T08:08:58.786Z"
   },
   {
    "duration": 0,
    "start_time": "2024-05-02T08:08:58.787Z"
   },
   {
    "duration": 0,
    "start_time": "2024-05-02T08:08:58.788Z"
   },
   {
    "duration": 0,
    "start_time": "2024-05-02T08:08:58.789Z"
   },
   {
    "duration": 0,
    "start_time": "2024-05-02T08:08:58.790Z"
   },
   {
    "duration": 0,
    "start_time": "2024-05-02T08:08:58.791Z"
   },
   {
    "duration": 834,
    "start_time": "2024-05-02T08:10:02.244Z"
   },
   {
    "duration": 38,
    "start_time": "2024-05-02T08:10:03.080Z"
   },
   {
    "duration": 2008,
    "start_time": "2024-05-02T08:10:03.119Z"
   },
   {
    "duration": 9,
    "start_time": "2024-05-02T08:10:05.130Z"
   },
   {
    "duration": 27,
    "start_time": "2024-05-02T08:10:05.141Z"
   },
   {
    "duration": 5,
    "start_time": "2024-05-02T08:10:05.170Z"
   },
   {
    "duration": 207,
    "start_time": "2024-05-02T08:10:05.176Z"
   },
   {
    "duration": 9,
    "start_time": "2024-05-02T08:10:05.384Z"
   },
   {
    "duration": 87,
    "start_time": "2024-05-02T08:10:05.394Z"
   },
   {
    "duration": 0,
    "start_time": "2024-05-02T08:10:05.485Z"
   },
   {
    "duration": 0,
    "start_time": "2024-05-02T08:10:05.487Z"
   },
   {
    "duration": 1,
    "start_time": "2024-05-02T08:10:05.488Z"
   },
   {
    "duration": 0,
    "start_time": "2024-05-02T08:10:05.490Z"
   },
   {
    "duration": 0,
    "start_time": "2024-05-02T08:10:05.492Z"
   },
   {
    "duration": 0,
    "start_time": "2024-05-02T08:10:05.493Z"
   },
   {
    "duration": 0,
    "start_time": "2024-05-02T08:10:05.495Z"
   },
   {
    "duration": 0,
    "start_time": "2024-05-02T08:10:05.497Z"
   },
   {
    "duration": 0,
    "start_time": "2024-05-02T08:10:05.498Z"
   },
   {
    "duration": 0,
    "start_time": "2024-05-02T08:10:05.499Z"
   },
   {
    "duration": 0,
    "start_time": "2024-05-02T08:10:05.501Z"
   },
   {
    "duration": 0,
    "start_time": "2024-05-02T08:10:05.503Z"
   },
   {
    "duration": 0,
    "start_time": "2024-05-02T08:10:05.504Z"
   },
   {
    "duration": 0,
    "start_time": "2024-05-02T08:10:05.505Z"
   },
   {
    "duration": 0,
    "start_time": "2024-05-02T08:10:05.507Z"
   },
   {
    "duration": 1,
    "start_time": "2024-05-02T08:10:05.508Z"
   },
   {
    "duration": 0,
    "start_time": "2024-05-02T08:10:05.510Z"
   },
   {
    "duration": 0,
    "start_time": "2024-05-02T08:10:05.511Z"
   },
   {
    "duration": 0,
    "start_time": "2024-05-02T08:10:05.513Z"
   },
   {
    "duration": 0,
    "start_time": "2024-05-02T08:10:05.514Z"
   },
   {
    "duration": 0,
    "start_time": "2024-05-02T08:10:05.559Z"
   },
   {
    "duration": 0,
    "start_time": "2024-05-02T08:10:05.561Z"
   },
   {
    "duration": 0,
    "start_time": "2024-05-02T08:10:05.563Z"
   },
   {
    "duration": 0,
    "start_time": "2024-05-02T08:10:05.564Z"
   },
   {
    "duration": 0,
    "start_time": "2024-05-02T08:10:05.565Z"
   },
   {
    "duration": 0,
    "start_time": "2024-05-02T08:10:05.567Z"
   },
   {
    "duration": 0,
    "start_time": "2024-05-02T08:10:05.568Z"
   },
   {
    "duration": 0,
    "start_time": "2024-05-02T08:10:05.570Z"
   },
   {
    "duration": 0,
    "start_time": "2024-05-02T08:10:05.572Z"
   },
   {
    "duration": 0,
    "start_time": "2024-05-02T08:10:05.573Z"
   },
   {
    "duration": 0,
    "start_time": "2024-05-02T08:10:05.574Z"
   },
   {
    "duration": 0,
    "start_time": "2024-05-02T08:10:05.575Z"
   },
   {
    "duration": 0,
    "start_time": "2024-05-02T08:10:05.576Z"
   },
   {
    "duration": 0,
    "start_time": "2024-05-02T08:10:05.577Z"
   },
   {
    "duration": 0,
    "start_time": "2024-05-02T08:10:05.578Z"
   },
   {
    "duration": 0,
    "start_time": "2024-05-02T08:10:05.579Z"
   },
   {
    "duration": 0,
    "start_time": "2024-05-02T08:10:05.580Z"
   },
   {
    "duration": 0,
    "start_time": "2024-05-02T08:10:05.581Z"
   },
   {
    "duration": 0,
    "start_time": "2024-05-02T08:10:05.582Z"
   },
   {
    "duration": 0,
    "start_time": "2024-05-02T08:10:05.583Z"
   },
   {
    "duration": 0,
    "start_time": "2024-05-02T08:10:05.583Z"
   },
   {
    "duration": 0,
    "start_time": "2024-05-02T08:10:05.584Z"
   },
   {
    "duration": 0,
    "start_time": "2024-05-02T08:10:05.586Z"
   },
   {
    "duration": 0,
    "start_time": "2024-05-02T08:10:05.586Z"
   },
   {
    "duration": 0,
    "start_time": "2024-05-02T08:10:05.587Z"
   },
   {
    "duration": 0,
    "start_time": "2024-05-02T08:10:05.588Z"
   },
   {
    "duration": 0,
    "start_time": "2024-05-02T08:10:05.589Z"
   },
   {
    "duration": 0,
    "start_time": "2024-05-02T08:10:05.590Z"
   },
   {
    "duration": 0,
    "start_time": "2024-05-02T08:10:05.591Z"
   },
   {
    "duration": 0,
    "start_time": "2024-05-02T08:10:05.591Z"
   },
   {
    "duration": 0,
    "start_time": "2024-05-02T08:10:05.592Z"
   },
   {
    "duration": 0,
    "start_time": "2024-05-02T08:10:05.593Z"
   },
   {
    "duration": 0,
    "start_time": "2024-05-02T08:10:05.659Z"
   },
   {
    "duration": 0,
    "start_time": "2024-05-02T08:10:05.660Z"
   },
   {
    "duration": 0,
    "start_time": "2024-05-02T08:10:05.661Z"
   },
   {
    "duration": 0,
    "start_time": "2024-05-02T08:10:05.662Z"
   },
   {
    "duration": 0,
    "start_time": "2024-05-02T08:10:05.663Z"
   },
   {
    "duration": 0,
    "start_time": "2024-05-02T08:10:05.664Z"
   },
   {
    "duration": 0,
    "start_time": "2024-05-02T08:10:05.665Z"
   },
   {
    "duration": 0,
    "start_time": "2024-05-02T08:10:05.666Z"
   },
   {
    "duration": 0,
    "start_time": "2024-05-02T08:10:05.667Z"
   },
   {
    "duration": 0,
    "start_time": "2024-05-02T08:10:05.668Z"
   },
   {
    "duration": 794,
    "start_time": "2024-05-02T08:17:59.318Z"
   },
   {
    "duration": 49,
    "start_time": "2024-05-02T08:18:00.115Z"
   },
   {
    "duration": 2157,
    "start_time": "2024-05-02T08:18:00.166Z"
   },
   {
    "duration": 12,
    "start_time": "2024-05-02T08:18:02.326Z"
   },
   {
    "duration": 36,
    "start_time": "2024-05-02T08:18:02.339Z"
   },
   {
    "duration": 29,
    "start_time": "2024-05-02T08:18:02.377Z"
   },
   {
    "duration": 279,
    "start_time": "2024-05-02T08:18:02.408Z"
   },
   {
    "duration": 20,
    "start_time": "2024-05-02T08:18:02.689Z"
   },
   {
    "duration": 24,
    "start_time": "2024-05-02T08:18:02.711Z"
   },
   {
    "duration": 44,
    "start_time": "2024-05-02T08:18:02.739Z"
   },
   {
    "duration": 63,
    "start_time": "2024-05-02T08:18:02.784Z"
   },
   {
    "duration": 21,
    "start_time": "2024-05-02T08:18:02.849Z"
   },
   {
    "duration": 31,
    "start_time": "2024-05-02T08:18:02.872Z"
   },
   {
    "duration": 18,
    "start_time": "2024-05-02T08:18:02.904Z"
   },
   {
    "duration": 67,
    "start_time": "2024-05-02T08:18:02.923Z"
   },
   {
    "duration": 77,
    "start_time": "2024-05-02T08:18:02.992Z"
   },
   {
    "duration": 43,
    "start_time": "2024-05-02T08:18:03.070Z"
   },
   {
    "duration": 17,
    "start_time": "2024-05-02T08:18:03.115Z"
   },
   {
    "duration": 15,
    "start_time": "2024-05-02T08:18:03.133Z"
   },
   {
    "duration": 22,
    "start_time": "2024-05-02T08:18:03.150Z"
   },
   {
    "duration": 25,
    "start_time": "2024-05-02T08:18:03.173Z"
   },
   {
    "duration": 26,
    "start_time": "2024-05-02T08:18:03.200Z"
   },
   {
    "duration": 11,
    "start_time": "2024-05-02T08:18:03.227Z"
   },
   {
    "duration": 17,
    "start_time": "2024-05-02T08:18:03.239Z"
   },
   {
    "duration": 57,
    "start_time": "2024-05-02T08:18:03.258Z"
   },
   {
    "duration": 16,
    "start_time": "2024-05-02T08:18:03.317Z"
   },
   {
    "duration": 12,
    "start_time": "2024-05-02T08:18:03.335Z"
   },
   {
    "duration": 27,
    "start_time": "2024-05-02T08:18:03.351Z"
   },
   {
    "duration": 7,
    "start_time": "2024-05-02T08:18:03.380Z"
   },
   {
    "duration": 10,
    "start_time": "2024-05-02T08:18:03.389Z"
   },
   {
    "duration": 26,
    "start_time": "2024-05-02T08:18:03.400Z"
   },
   {
    "duration": 49,
    "start_time": "2024-05-02T08:18:03.427Z"
   },
   {
    "duration": 11,
    "start_time": "2024-05-02T08:18:03.477Z"
   },
   {
    "duration": 73,
    "start_time": "2024-05-02T08:18:03.490Z"
   },
   {
    "duration": 19,
    "start_time": "2024-05-02T08:18:03.566Z"
   },
   {
    "duration": 73,
    "start_time": "2024-05-02T08:18:03.587Z"
   },
   {
    "duration": 8,
    "start_time": "2024-05-02T08:18:03.661Z"
   },
   {
    "duration": 700,
    "start_time": "2024-05-02T08:18:03.671Z"
   },
   {
    "duration": 7,
    "start_time": "2024-05-02T08:18:04.372Z"
   },
   {
    "duration": 86,
    "start_time": "2024-05-02T08:18:04.380Z"
   },
   {
    "duration": 655,
    "start_time": "2024-05-02T08:18:04.468Z"
   },
   {
    "duration": 373,
    "start_time": "2024-05-02T08:18:05.125Z"
   },
   {
    "duration": 168,
    "start_time": "2024-05-02T08:18:05.500Z"
   },
   {
    "duration": 44,
    "start_time": "2024-05-02T08:18:05.670Z"
   },
   {
    "duration": 166,
    "start_time": "2024-05-02T08:18:05.716Z"
   },
   {
    "duration": 143,
    "start_time": "2024-05-02T08:18:05.884Z"
   },
   {
    "duration": 146,
    "start_time": "2024-05-02T08:18:06.029Z"
   },
   {
    "duration": 209,
    "start_time": "2024-05-02T08:18:06.177Z"
   },
   {
    "duration": 87,
    "start_time": "2024-05-02T08:18:06.388Z"
   },
   {
    "duration": 187,
    "start_time": "2024-05-02T08:18:06.477Z"
   },
   {
    "duration": 823,
    "start_time": "2024-05-02T08:18:54.442Z"
   },
   {
    "duration": 39,
    "start_time": "2024-05-02T08:18:55.267Z"
   },
   {
    "duration": 2703,
    "start_time": "2024-05-02T08:18:55.308Z"
   },
   {
    "duration": 48,
    "start_time": "2024-05-02T08:18:58.013Z"
   },
   {
    "duration": 10,
    "start_time": "2024-05-02T08:18:58.062Z"
   },
   {
    "duration": 12,
    "start_time": "2024-05-02T08:18:58.073Z"
   },
   {
    "duration": 315,
    "start_time": "2024-05-02T08:18:58.087Z"
   },
   {
    "duration": 23,
    "start_time": "2024-05-02T08:18:58.404Z"
   },
   {
    "duration": 36,
    "start_time": "2024-05-02T08:18:58.429Z"
   },
   {
    "duration": 11,
    "start_time": "2024-05-02T08:18:58.467Z"
   },
   {
    "duration": 14,
    "start_time": "2024-05-02T08:18:58.479Z"
   },
   {
    "duration": 15,
    "start_time": "2024-05-02T08:18:58.495Z"
   },
   {
    "duration": 28,
    "start_time": "2024-05-02T08:18:58.512Z"
   },
   {
    "duration": 20,
    "start_time": "2024-05-02T08:18:58.542Z"
   },
   {
    "duration": 10,
    "start_time": "2024-05-02T08:18:58.564Z"
   },
   {
    "duration": 17,
    "start_time": "2024-05-02T08:18:58.575Z"
   },
   {
    "duration": 31,
    "start_time": "2024-05-02T08:18:58.594Z"
   },
   {
    "duration": 34,
    "start_time": "2024-05-02T08:18:58.627Z"
   },
   {
    "duration": 13,
    "start_time": "2024-05-02T08:18:58.662Z"
   },
   {
    "duration": 22,
    "start_time": "2024-05-02T08:18:58.676Z"
   },
   {
    "duration": 12,
    "start_time": "2024-05-02T08:18:58.700Z"
   },
   {
    "duration": 35,
    "start_time": "2024-05-02T08:18:58.714Z"
   },
   {
    "duration": 11,
    "start_time": "2024-05-02T08:18:58.751Z"
   },
   {
    "duration": 19,
    "start_time": "2024-05-02T08:18:58.764Z"
   },
   {
    "duration": 56,
    "start_time": "2024-05-02T08:18:58.785Z"
   },
   {
    "duration": 29,
    "start_time": "2024-05-02T08:18:58.843Z"
   },
   {
    "duration": 15,
    "start_time": "2024-05-02T08:18:58.874Z"
   },
   {
    "duration": 25,
    "start_time": "2024-05-02T08:18:58.893Z"
   },
   {
    "duration": 23,
    "start_time": "2024-05-02T08:18:58.920Z"
   },
   {
    "duration": 18,
    "start_time": "2024-05-02T08:18:58.944Z"
   },
   {
    "duration": 9,
    "start_time": "2024-05-02T08:18:58.963Z"
   },
   {
    "duration": 37,
    "start_time": "2024-05-02T08:18:58.974Z"
   },
   {
    "duration": 12,
    "start_time": "2024-05-02T08:18:59.013Z"
   },
   {
    "duration": 22,
    "start_time": "2024-05-02T08:18:59.026Z"
   },
   {
    "duration": 23,
    "start_time": "2024-05-02T08:18:59.050Z"
   },
   {
    "duration": 26,
    "start_time": "2024-05-02T08:18:59.074Z"
   },
   {
    "duration": 15,
    "start_time": "2024-05-02T08:18:59.101Z"
   },
   {
    "duration": 353,
    "start_time": "2024-05-02T08:18:59.118Z"
   },
   {
    "duration": 7,
    "start_time": "2024-05-02T08:18:59.472Z"
   },
   {
    "duration": 54,
    "start_time": "2024-05-02T08:18:59.480Z"
   },
   {
    "duration": 408,
    "start_time": "2024-05-02T08:18:59.535Z"
   },
   {
    "duration": 347,
    "start_time": "2024-05-02T08:18:59.945Z"
   },
   {
    "duration": 165,
    "start_time": "2024-05-02T08:19:00.294Z"
   },
   {
    "duration": 46,
    "start_time": "2024-05-02T08:19:00.460Z"
   },
   {
    "duration": 158,
    "start_time": "2024-05-02T08:19:00.508Z"
   },
   {
    "duration": 135,
    "start_time": "2024-05-02T08:19:00.668Z"
   },
   {
    "duration": 155,
    "start_time": "2024-05-02T08:19:00.804Z"
   },
   {
    "duration": 207,
    "start_time": "2024-05-02T08:19:00.961Z"
   },
   {
    "duration": 103,
    "start_time": "2024-05-02T08:19:01.169Z"
   },
   {
    "duration": 240,
    "start_time": "2024-05-02T08:19:01.274Z"
   },
   {
    "duration": 94736,
    "start_time": "2024-05-02T08:19:01.515Z"
   },
   {
    "duration": 15,
    "start_time": "2024-05-02T08:20:36.253Z"
   },
   {
    "duration": 30854,
    "start_time": "2024-05-02T08:20:36.270Z"
   },
   {
    "duration": 846,
    "start_time": "2024-05-02T08:21:17.232Z"
   },
   {
    "duration": 40,
    "start_time": "2024-05-02T08:21:18.080Z"
   },
   {
    "duration": 2301,
    "start_time": "2024-05-02T08:21:18.122Z"
   },
   {
    "duration": 39,
    "start_time": "2024-05-02T08:21:20.425Z"
   },
   {
    "duration": 28,
    "start_time": "2024-05-02T08:21:20.465Z"
   },
   {
    "duration": 10,
    "start_time": "2024-05-02T08:21:20.494Z"
   },
   {
    "duration": 463,
    "start_time": "2024-05-02T08:21:20.505Z"
   },
   {
    "duration": 29,
    "start_time": "2024-05-02T08:21:20.970Z"
   },
   {
    "duration": 79,
    "start_time": "2024-05-02T08:21:21.000Z"
   },
   {
    "duration": 12,
    "start_time": "2024-05-02T08:21:21.082Z"
   },
   {
    "duration": 64,
    "start_time": "2024-05-02T08:21:21.096Z"
   },
   {
    "duration": 16,
    "start_time": "2024-05-02T08:21:21.162Z"
   },
   {
    "duration": 91,
    "start_time": "2024-05-02T08:21:21.180Z"
   },
   {
    "duration": 29,
    "start_time": "2024-05-02T08:21:21.273Z"
   },
   {
    "duration": 9,
    "start_time": "2024-05-02T08:21:21.360Z"
   },
   {
    "duration": 67,
    "start_time": "2024-05-02T08:21:21.371Z"
   },
   {
    "duration": 12,
    "start_time": "2024-05-02T08:21:21.440Z"
   },
   {
    "duration": 18,
    "start_time": "2024-05-02T08:21:21.454Z"
   },
   {
    "duration": 20,
    "start_time": "2024-05-02T08:21:21.474Z"
   },
   {
    "duration": 18,
    "start_time": "2024-05-02T08:21:21.496Z"
   },
   {
    "duration": 27,
    "start_time": "2024-05-02T08:21:21.516Z"
   },
   {
    "duration": 24,
    "start_time": "2024-05-02T08:21:21.544Z"
   },
   {
    "duration": 9,
    "start_time": "2024-05-02T08:21:21.570Z"
   },
   {
    "duration": 16,
    "start_time": "2024-05-02T08:21:21.580Z"
   },
   {
    "duration": 51,
    "start_time": "2024-05-02T08:21:21.598Z"
   },
   {
    "duration": 22,
    "start_time": "2024-05-02T08:21:21.651Z"
   },
   {
    "duration": 13,
    "start_time": "2024-05-02T08:21:21.675Z"
   },
   {
    "duration": 21,
    "start_time": "2024-05-02T08:21:21.692Z"
   },
   {
    "duration": 9,
    "start_time": "2024-05-02T08:21:21.715Z"
   },
   {
    "duration": 38,
    "start_time": "2024-05-02T08:21:21.725Z"
   },
   {
    "duration": 19,
    "start_time": "2024-05-02T08:21:21.764Z"
   },
   {
    "duration": 38,
    "start_time": "2024-05-02T08:21:21.785Z"
   },
   {
    "duration": 13,
    "start_time": "2024-05-02T08:21:21.825Z"
   },
   {
    "duration": 22,
    "start_time": "2024-05-02T08:21:21.839Z"
   },
   {
    "duration": 13,
    "start_time": "2024-05-02T08:21:21.863Z"
   },
   {
    "duration": 20,
    "start_time": "2024-05-02T08:21:21.878Z"
   },
   {
    "duration": 8,
    "start_time": "2024-05-02T08:21:21.900Z"
   },
   {
    "duration": 355,
    "start_time": "2024-05-02T08:21:21.910Z"
   },
   {
    "duration": 6,
    "start_time": "2024-05-02T08:21:22.267Z"
   },
   {
    "duration": 45,
    "start_time": "2024-05-02T08:21:22.275Z"
   },
   {
    "duration": 395,
    "start_time": "2024-05-02T08:21:22.321Z"
   },
   {
    "duration": 321,
    "start_time": "2024-05-02T08:21:22.719Z"
   },
   {
    "duration": 157,
    "start_time": "2024-05-02T08:21:23.041Z"
   },
   {
    "duration": 44,
    "start_time": "2024-05-02T08:21:23.200Z"
   },
   {
    "duration": 163,
    "start_time": "2024-05-02T08:21:23.245Z"
   },
   {
    "duration": 144,
    "start_time": "2024-05-02T08:21:23.410Z"
   },
   {
    "duration": 147,
    "start_time": "2024-05-02T08:21:23.559Z"
   },
   {
    "duration": 209,
    "start_time": "2024-05-02T08:21:23.708Z"
   },
   {
    "duration": 94,
    "start_time": "2024-05-02T08:21:23.920Z"
   },
   {
    "duration": 188,
    "start_time": "2024-05-02T08:21:24.016Z"
   },
   {
    "duration": 815,
    "start_time": "2024-05-02T08:22:33.630Z"
   },
   {
    "duration": 39,
    "start_time": "2024-05-02T08:22:34.447Z"
   },
   {
    "duration": 2612,
    "start_time": "2024-05-02T08:22:34.487Z"
   },
   {
    "duration": 10,
    "start_time": "2024-05-02T08:22:37.101Z"
   },
   {
    "duration": 54,
    "start_time": "2024-05-02T08:22:37.113Z"
   },
   {
    "duration": 31,
    "start_time": "2024-05-02T08:22:37.168Z"
   },
   {
    "duration": 319,
    "start_time": "2024-05-02T08:22:37.201Z"
   },
   {
    "duration": 38,
    "start_time": "2024-05-02T08:22:37.522Z"
   },
   {
    "duration": 17,
    "start_time": "2024-05-02T08:22:37.562Z"
   },
   {
    "duration": 11,
    "start_time": "2024-05-02T08:22:37.582Z"
   },
   {
    "duration": 7,
    "start_time": "2024-05-02T08:22:37.595Z"
   },
   {
    "duration": 9,
    "start_time": "2024-05-02T08:22:37.603Z"
   },
   {
    "duration": 22,
    "start_time": "2024-05-02T08:22:37.614Z"
   },
   {
    "duration": 19,
    "start_time": "2024-05-02T08:22:37.659Z"
   },
   {
    "duration": 7,
    "start_time": "2024-05-02T08:22:37.680Z"
   },
   {
    "duration": 14,
    "start_time": "2024-05-02T08:22:37.689Z"
   },
   {
    "duration": 8,
    "start_time": "2024-05-02T08:22:37.704Z"
   },
   {
    "duration": 9,
    "start_time": "2024-05-02T08:22:37.714Z"
   },
   {
    "duration": 6,
    "start_time": "2024-05-02T08:22:37.724Z"
   },
   {
    "duration": 30,
    "start_time": "2024-05-02T08:22:37.731Z"
   },
   {
    "duration": 9,
    "start_time": "2024-05-02T08:22:37.763Z"
   },
   {
    "duration": 30,
    "start_time": "2024-05-02T08:22:37.774Z"
   },
   {
    "duration": 18,
    "start_time": "2024-05-02T08:22:37.806Z"
   },
   {
    "duration": 17,
    "start_time": "2024-05-02T08:22:37.826Z"
   },
   {
    "duration": 50,
    "start_time": "2024-05-02T08:22:37.844Z"
   },
   {
    "duration": 16,
    "start_time": "2024-05-02T08:22:37.896Z"
   },
   {
    "duration": 40,
    "start_time": "2024-05-02T08:22:37.914Z"
   },
   {
    "duration": 21,
    "start_time": "2024-05-02T08:22:37.958Z"
   },
   {
    "duration": 12,
    "start_time": "2024-05-02T08:22:37.981Z"
   },
   {
    "duration": 20,
    "start_time": "2024-05-02T08:22:37.994Z"
   },
   {
    "duration": 11,
    "start_time": "2024-05-02T08:22:38.016Z"
   },
   {
    "duration": 44,
    "start_time": "2024-05-02T08:22:38.029Z"
   },
   {
    "duration": 13,
    "start_time": "2024-05-02T08:22:38.074Z"
   },
   {
    "duration": 7,
    "start_time": "2024-05-02T08:22:38.088Z"
   },
   {
    "duration": 13,
    "start_time": "2024-05-02T08:22:38.096Z"
   },
   {
    "duration": 7,
    "start_time": "2024-05-02T08:22:38.111Z"
   },
   {
    "duration": 12,
    "start_time": "2024-05-02T08:22:38.119Z"
   },
   {
    "duration": 343,
    "start_time": "2024-05-02T08:22:38.159Z"
   },
   {
    "duration": 6,
    "start_time": "2024-05-02T08:22:38.503Z"
   },
   {
    "duration": 45,
    "start_time": "2024-05-02T08:22:38.511Z"
   },
   {
    "duration": 422,
    "start_time": "2024-05-02T08:22:38.558Z"
   },
   {
    "duration": 335,
    "start_time": "2024-05-02T08:22:38.982Z"
   },
   {
    "duration": 148,
    "start_time": "2024-05-02T08:22:39.318Z"
   },
   {
    "duration": 54,
    "start_time": "2024-05-02T08:22:39.468Z"
   },
   {
    "duration": 176,
    "start_time": "2024-05-02T08:22:39.523Z"
   },
   {
    "duration": 130,
    "start_time": "2024-05-02T08:22:39.701Z"
   },
   {
    "duration": 152,
    "start_time": "2024-05-02T08:22:39.832Z"
   },
   {
    "duration": 212,
    "start_time": "2024-05-02T08:22:39.986Z"
   },
   {
    "duration": 90,
    "start_time": "2024-05-02T08:22:40.200Z"
   },
   {
    "duration": 188,
    "start_time": "2024-05-02T08:22:40.292Z"
   },
   {
    "duration": 98485,
    "start_time": "2024-05-02T08:22:40.482Z"
   },
   {
    "duration": 9,
    "start_time": "2024-05-02T08:24:18.969Z"
   },
   {
    "duration": 33333,
    "start_time": "2024-05-02T08:24:18.980Z"
   },
   {
    "duration": 7703,
    "start_time": "2024-05-02T08:24:52.315Z"
   },
   {
    "duration": 50,
    "start_time": "2024-05-02T08:25:00.020Z"
   },
   {
    "duration": 70,
    "start_time": "2024-05-02T08:25:00.072Z"
   },
   {
    "duration": 2220,
    "start_time": "2024-05-02T08:25:00.144Z"
   },
   {
    "duration": 2184,
    "start_time": "2024-05-02T08:25:02.366Z"
   },
   {
    "duration": 238,
    "start_time": "2024-05-02T08:25:04.552Z"
   },
   {
    "duration": 238,
    "start_time": "2024-05-02T08:25:04.792Z"
   },
   {
    "duration": 246,
    "start_time": "2024-05-02T08:25:05.032Z"
   },
   {
    "duration": 151,
    "start_time": "2024-05-02T08:25:05.279Z"
   },
   {
    "duration": 132,
    "start_time": "2024-05-02T08:25:05.431Z"
   },
   {
    "duration": 99,
    "start_time": "2024-05-02T08:25:05.564Z"
   },
   {
    "duration": 158,
    "start_time": "2024-05-02T08:25:05.665Z"
   },
   {
    "duration": 152,
    "start_time": "2024-05-02T08:25:05.825Z"
   },
   {
    "duration": 20,
    "start_time": "2024-05-02T08:25:05.978Z"
   },
   {
    "duration": 12,
    "start_time": "2024-05-02T08:25:05.999Z"
   },
   {
    "duration": 24,
    "start_time": "2024-05-02T08:25:06.013Z"
   },
   {
    "duration": 52,
    "start_time": "2024-05-02T08:25:06.039Z"
   },
   {
    "duration": 171,
    "start_time": "2024-05-02T08:25:06.093Z"
   },
   {
    "duration": 162,
    "start_time": "2024-05-02T08:30:25.202Z"
   },
   {
    "duration": 193,
    "start_time": "2024-05-02T08:35:07.111Z"
   },
   {
    "duration": 196,
    "start_time": "2024-05-02T08:35:47.947Z"
   },
   {
    "duration": 111,
    "start_time": "2024-05-02T08:44:01.152Z"
   },
   {
    "duration": 828,
    "start_time": "2024-05-02T08:46:27.148Z"
   },
   {
    "duration": 41,
    "start_time": "2024-05-02T08:46:27.978Z"
   },
   {
    "duration": 2837,
    "start_time": "2024-05-02T08:46:28.022Z"
   },
   {
    "duration": 10,
    "start_time": "2024-05-02T08:46:30.861Z"
   },
   {
    "duration": 92,
    "start_time": "2024-05-02T08:46:30.873Z"
   },
   {
    "duration": 169,
    "start_time": "2024-05-02T08:46:30.966Z"
   },
   {
    "duration": 251,
    "start_time": "2024-05-02T08:46:31.137Z"
   },
   {
    "duration": 22,
    "start_time": "2024-05-02T08:46:31.390Z"
   },
   {
    "duration": 122,
    "start_time": "2024-05-02T08:46:31.413Z"
   },
   {
    "duration": 57,
    "start_time": "2024-05-02T08:46:31.537Z"
   },
   {
    "duration": 44,
    "start_time": "2024-05-02T08:46:31.596Z"
   },
   {
    "duration": 24,
    "start_time": "2024-05-02T08:46:31.642Z"
   },
   {
    "duration": 34,
    "start_time": "2024-05-02T08:46:31.668Z"
   },
   {
    "duration": 23,
    "start_time": "2024-05-02T08:46:31.703Z"
   },
   {
    "duration": 65,
    "start_time": "2024-05-02T08:46:31.727Z"
   },
   {
    "duration": 45,
    "start_time": "2024-05-02T08:46:31.794Z"
   },
   {
    "duration": 46,
    "start_time": "2024-05-02T08:46:31.841Z"
   },
   {
    "duration": 28,
    "start_time": "2024-05-02T08:46:31.889Z"
   },
   {
    "duration": 70,
    "start_time": "2024-05-02T08:46:31.919Z"
   },
   {
    "duration": 114,
    "start_time": "2024-05-02T08:46:31.991Z"
   },
   {
    "duration": 91,
    "start_time": "2024-05-02T08:46:32.107Z"
   },
   {
    "duration": 46,
    "start_time": "2024-05-02T08:46:32.199Z"
   },
   {
    "duration": 40,
    "start_time": "2024-05-02T08:46:32.246Z"
   },
   {
    "duration": 50,
    "start_time": "2024-05-02T08:46:32.288Z"
   },
   {
    "duration": 170,
    "start_time": "2024-05-02T08:46:32.340Z"
   },
   {
    "duration": 34,
    "start_time": "2024-05-02T08:46:32.512Z"
   },
   {
    "duration": 13,
    "start_time": "2024-05-02T08:46:32.547Z"
   },
   {
    "duration": 26,
    "start_time": "2024-05-02T08:46:32.564Z"
   },
   {
    "duration": 22,
    "start_time": "2024-05-02T08:46:32.592Z"
   },
   {
    "duration": 14,
    "start_time": "2024-05-02T08:46:32.616Z"
   },
   {
    "duration": 8,
    "start_time": "2024-05-02T08:46:32.631Z"
   },
   {
    "duration": 48,
    "start_time": "2024-05-02T08:46:32.641Z"
   },
   {
    "duration": 12,
    "start_time": "2024-05-02T08:46:32.690Z"
   },
   {
    "duration": 7,
    "start_time": "2024-05-02T08:46:32.703Z"
   },
   {
    "duration": 11,
    "start_time": "2024-05-02T08:46:32.711Z"
   },
   {
    "duration": 7,
    "start_time": "2024-05-02T08:46:32.723Z"
   },
   {
    "duration": 8,
    "start_time": "2024-05-02T08:46:32.758Z"
   },
   {
    "duration": 358,
    "start_time": "2024-05-02T08:46:32.768Z"
   },
   {
    "duration": 8,
    "start_time": "2024-05-02T08:46:33.127Z"
   },
   {
    "duration": 146,
    "start_time": "2024-05-02T08:46:33.137Z"
   },
   {
    "duration": 409,
    "start_time": "2024-05-02T08:46:33.285Z"
   },
   {
    "duration": 324,
    "start_time": "2024-05-02T08:46:33.695Z"
   },
   {
    "duration": 157,
    "start_time": "2024-05-02T08:46:34.021Z"
   },
   {
    "duration": 44,
    "start_time": "2024-05-02T08:46:34.180Z"
   },
   {
    "duration": 162,
    "start_time": "2024-05-02T08:46:34.225Z"
   },
   {
    "duration": 135,
    "start_time": "2024-05-02T08:46:34.388Z"
   },
   {
    "duration": 159,
    "start_time": "2024-05-02T08:46:34.525Z"
   },
   {
    "duration": 222,
    "start_time": "2024-05-02T08:46:34.686Z"
   },
   {
    "duration": 84,
    "start_time": "2024-05-02T08:46:34.910Z"
   },
   {
    "duration": 176,
    "start_time": "2024-05-02T08:46:34.996Z"
   },
   {
    "duration": 96893,
    "start_time": "2024-05-02T08:46:35.174Z"
   },
   {
    "duration": 11,
    "start_time": "2024-05-02T08:48:12.068Z"
   },
   {
    "duration": 31767,
    "start_time": "2024-05-02T08:48:12.080Z"
   },
   {
    "duration": 7723,
    "start_time": "2024-05-02T08:48:43.849Z"
   },
   {
    "duration": 43,
    "start_time": "2024-05-02T08:48:51.574Z"
   },
   {
    "duration": 8,
    "start_time": "2024-05-02T08:48:51.619Z"
   },
   {
    "duration": 2012,
    "start_time": "2024-05-02T08:48:51.628Z"
   },
   {
    "duration": 2082,
    "start_time": "2024-05-02T08:48:53.642Z"
   },
   {
    "duration": 242,
    "start_time": "2024-05-02T08:48:55.726Z"
   },
   {
    "duration": 234,
    "start_time": "2024-05-02T08:48:55.970Z"
   },
   {
    "duration": 227,
    "start_time": "2024-05-02T08:48:56.205Z"
   },
   {
    "duration": 153,
    "start_time": "2024-05-02T08:48:56.434Z"
   },
   {
    "duration": 127,
    "start_time": "2024-05-02T08:48:56.588Z"
   },
   {
    "duration": 105,
    "start_time": "2024-05-02T08:48:56.716Z"
   },
   {
    "duration": 162,
    "start_time": "2024-05-02T08:48:56.823Z"
   },
   {
    "duration": 140,
    "start_time": "2024-05-02T08:48:56.986Z"
   },
   {
    "duration": 18,
    "start_time": "2024-05-02T08:48:57.127Z"
   },
   {
    "duration": 19,
    "start_time": "2024-05-02T08:48:57.147Z"
   },
   {
    "duration": 30,
    "start_time": "2024-05-02T08:48:57.168Z"
   },
   {
    "duration": 207,
    "start_time": "2024-05-02T08:48:57.199Z"
   },
   {
    "duration": 37,
    "start_time": "2024-05-02T08:48:57.408Z"
   },
   {
    "duration": 184,
    "start_time": "2024-05-02T08:48:57.460Z"
   },
   {
    "duration": 827,
    "start_time": "2024-05-02T17:25:45.956Z"
   },
   {
    "duration": 34,
    "start_time": "2024-05-02T17:25:46.785Z"
   },
   {
    "duration": 1987,
    "start_time": "2024-05-02T17:25:46.821Z"
   },
   {
    "duration": 9,
    "start_time": "2024-05-02T17:25:48.810Z"
   },
   {
    "duration": 27,
    "start_time": "2024-05-02T17:25:48.821Z"
   },
   {
    "duration": 5,
    "start_time": "2024-05-02T17:25:48.849Z"
   },
   {
    "duration": 206,
    "start_time": "2024-05-02T17:25:48.855Z"
   },
   {
    "duration": 20,
    "start_time": "2024-05-02T17:25:49.062Z"
   },
   {
    "duration": 14,
    "start_time": "2024-05-02T17:25:49.084Z"
   },
   {
    "duration": 9,
    "start_time": "2024-05-02T17:25:49.100Z"
   },
   {
    "duration": 14,
    "start_time": "2024-05-02T17:25:49.111Z"
   },
   {
    "duration": 23,
    "start_time": "2024-05-02T17:25:49.127Z"
   },
   {
    "duration": 20,
    "start_time": "2024-05-02T17:25:49.151Z"
   },
   {
    "duration": 19,
    "start_time": "2024-05-02T17:25:49.174Z"
   },
   {
    "duration": 8,
    "start_time": "2024-05-02T17:25:49.195Z"
   },
   {
    "duration": 7,
    "start_time": "2024-05-02T17:25:49.204Z"
   },
   {
    "duration": 33,
    "start_time": "2024-05-02T17:25:49.213Z"
   },
   {
    "duration": 4,
    "start_time": "2024-05-02T17:25:49.248Z"
   },
   {
    "duration": 4,
    "start_time": "2024-05-02T17:25:49.253Z"
   },
   {
    "duration": 8,
    "start_time": "2024-05-02T17:25:49.258Z"
   },
   {
    "duration": 4,
    "start_time": "2024-05-02T17:25:49.267Z"
   },
   {
    "duration": 14,
    "start_time": "2024-05-02T17:25:49.272Z"
   },
   {
    "duration": 8,
    "start_time": "2024-05-02T17:25:49.287Z"
   },
   {
    "duration": 10,
    "start_time": "2024-05-02T17:25:49.296Z"
   },
   {
    "duration": 40,
    "start_time": "2024-05-02T17:25:49.344Z"
   },
   {
    "duration": 14,
    "start_time": "2024-05-02T17:25:49.386Z"
   },
   {
    "duration": 10,
    "start_time": "2024-05-02T17:25:49.402Z"
   },
   {
    "duration": 40,
    "start_time": "2024-05-02T17:25:49.414Z"
   },
   {
    "duration": 6,
    "start_time": "2024-05-02T17:25:49.456Z"
   },
   {
    "duration": 8,
    "start_time": "2024-05-02T17:25:49.463Z"
   },
   {
    "duration": 8,
    "start_time": "2024-05-02T17:25:49.472Z"
   },
   {
    "duration": 63,
    "start_time": "2024-05-02T17:25:49.481Z"
   },
   {
    "duration": 12,
    "start_time": "2024-05-02T17:25:49.545Z"
   },
   {
    "duration": 5,
    "start_time": "2024-05-02T17:25:49.558Z"
   },
   {
    "duration": 9,
    "start_time": "2024-05-02T17:25:49.565Z"
   },
   {
    "duration": 6,
    "start_time": "2024-05-02T17:25:49.575Z"
   },
   {
    "duration": 10,
    "start_time": "2024-05-02T17:25:49.582Z"
   },
   {
    "duration": 322,
    "start_time": "2024-05-02T17:25:49.593Z"
   },
   {
    "duration": 6,
    "start_time": "2024-05-02T17:25:49.917Z"
   },
   {
    "duration": 37,
    "start_time": "2024-05-02T17:25:49.924Z"
   },
   {
    "duration": 356,
    "start_time": "2024-05-02T17:25:49.965Z"
   },
   {
    "duration": 296,
    "start_time": "2024-05-02T17:25:50.323Z"
   },
   {
    "duration": 139,
    "start_time": "2024-05-02T17:25:50.621Z"
   },
   {
    "duration": 40,
    "start_time": "2024-05-02T17:25:50.762Z"
   },
   {
    "duration": 142,
    "start_time": "2024-05-02T17:25:50.804Z"
   },
   {
    "duration": 137,
    "start_time": "2024-05-02T17:25:50.948Z"
   },
   {
    "duration": 229,
    "start_time": "2024-05-02T17:25:51.086Z"
   },
   {
    "duration": 326,
    "start_time": "2024-05-02T17:25:51.344Z"
   },
   {
    "duration": 205,
    "start_time": "2024-05-02T17:25:51.671Z"
   },
   {
    "duration": 290,
    "start_time": "2024-05-02T17:25:51.878Z"
   },
   {
    "duration": 725,
    "start_time": "2024-05-02T17:26:17.877Z"
   },
   {
    "duration": 44,
    "start_time": "2024-05-02T17:26:18.604Z"
   },
   {
    "duration": 1795,
    "start_time": "2024-05-02T17:26:18.650Z"
   },
   {
    "duration": 9,
    "start_time": "2024-05-02T17:26:20.446Z"
   },
   {
    "duration": 19,
    "start_time": "2024-05-02T17:26:20.457Z"
   },
   {
    "duration": 5,
    "start_time": "2024-05-02T17:26:20.477Z"
   },
   {
    "duration": 224,
    "start_time": "2024-05-02T17:26:20.484Z"
   },
   {
    "duration": 22,
    "start_time": "2024-05-02T17:26:20.710Z"
   },
   {
    "duration": 16,
    "start_time": "2024-05-02T17:26:20.745Z"
   },
   {
    "duration": 24,
    "start_time": "2024-05-02T17:26:20.763Z"
   },
   {
    "duration": 8,
    "start_time": "2024-05-02T17:26:20.789Z"
   },
   {
    "duration": 15,
    "start_time": "2024-05-02T17:26:20.799Z"
   },
   {
    "duration": 44,
    "start_time": "2024-05-02T17:26:20.815Z"
   },
   {
    "duration": 23,
    "start_time": "2024-05-02T17:26:20.863Z"
   },
   {
    "duration": 6,
    "start_time": "2024-05-02T17:26:20.887Z"
   },
   {
    "duration": 28,
    "start_time": "2024-05-02T17:26:20.894Z"
   },
   {
    "duration": 18,
    "start_time": "2024-05-02T17:26:20.924Z"
   },
   {
    "duration": 41,
    "start_time": "2024-05-02T17:26:20.944Z"
   },
   {
    "duration": 27,
    "start_time": "2024-05-02T17:26:20.987Z"
   },
   {
    "duration": 30,
    "start_time": "2024-05-02T17:26:21.015Z"
   },
   {
    "duration": 7,
    "start_time": "2024-05-02T17:26:21.047Z"
   },
   {
    "duration": 24,
    "start_time": "2024-05-02T17:26:21.055Z"
   },
   {
    "duration": 17,
    "start_time": "2024-05-02T17:26:21.080Z"
   },
   {
    "duration": 24,
    "start_time": "2024-05-02T17:26:21.099Z"
   },
   {
    "duration": 59,
    "start_time": "2024-05-02T17:26:21.125Z"
   },
   {
    "duration": 17,
    "start_time": "2024-05-02T17:26:21.186Z"
   },
   {
    "duration": 12,
    "start_time": "2024-05-02T17:26:21.204Z"
   },
   {
    "duration": 41,
    "start_time": "2024-05-02T17:26:21.218Z"
   },
   {
    "duration": 16,
    "start_time": "2024-05-02T17:26:21.260Z"
   },
   {
    "duration": 12,
    "start_time": "2024-05-02T17:26:21.277Z"
   },
   {
    "duration": 22,
    "start_time": "2024-05-02T17:26:21.291Z"
   },
   {
    "duration": 32,
    "start_time": "2024-05-02T17:26:21.314Z"
   },
   {
    "duration": 10,
    "start_time": "2024-05-02T17:26:21.347Z"
   },
   {
    "duration": 5,
    "start_time": "2024-05-02T17:26:21.358Z"
   },
   {
    "duration": 10,
    "start_time": "2024-05-02T17:26:21.364Z"
   },
   {
    "duration": 13,
    "start_time": "2024-05-02T17:26:21.376Z"
   },
   {
    "duration": 15,
    "start_time": "2024-05-02T17:26:21.390Z"
   },
   {
    "duration": 329,
    "start_time": "2024-05-02T17:26:21.406Z"
   },
   {
    "duration": 9,
    "start_time": "2024-05-02T17:26:21.736Z"
   },
   {
    "duration": 29,
    "start_time": "2024-05-02T17:26:21.747Z"
   },
   {
    "duration": 370,
    "start_time": "2024-05-02T17:26:21.780Z"
   },
   {
    "duration": 331,
    "start_time": "2024-05-02T17:26:22.151Z"
   },
   {
    "duration": 152,
    "start_time": "2024-05-02T17:26:22.484Z"
   },
   {
    "duration": 47,
    "start_time": "2024-05-02T17:26:22.637Z"
   },
   {
    "duration": 144,
    "start_time": "2024-05-02T17:26:22.685Z"
   },
   {
    "duration": 120,
    "start_time": "2024-05-02T17:26:22.831Z"
   },
   {
    "duration": 137,
    "start_time": "2024-05-02T17:26:22.952Z"
   },
   {
    "duration": 182,
    "start_time": "2024-05-02T17:26:23.091Z"
   },
   {
    "duration": 74,
    "start_time": "2024-05-02T17:26:23.275Z"
   },
   {
    "duration": 153,
    "start_time": "2024-05-02T17:26:23.350Z"
   },
   {
    "duration": 1172,
    "start_time": "2024-05-05T17:59:59.747Z"
   },
   {
    "duration": 39,
    "start_time": "2024-05-05T18:00:00.921Z"
   },
   {
    "duration": 3224,
    "start_time": "2024-05-05T18:00:00.962Z"
   },
   {
    "duration": 18,
    "start_time": "2024-05-05T18:00:04.188Z"
   },
   {
    "duration": 44,
    "start_time": "2024-05-05T18:00:04.208Z"
   },
   {
    "duration": 66,
    "start_time": "2024-05-05T18:00:04.254Z"
   },
   {
    "duration": 308,
    "start_time": "2024-05-05T18:00:04.322Z"
   },
   {
    "duration": 30,
    "start_time": "2024-05-05T18:00:04.632Z"
   },
   {
    "duration": 45,
    "start_time": "2024-05-05T18:00:04.664Z"
   },
   {
    "duration": 22,
    "start_time": "2024-05-05T18:00:04.712Z"
   },
   {
    "duration": 46,
    "start_time": "2024-05-05T18:00:04.736Z"
   },
   {
    "duration": 37,
    "start_time": "2024-05-05T18:00:04.783Z"
   },
   {
    "duration": 68,
    "start_time": "2024-05-05T18:00:04.822Z"
   },
   {
    "duration": 38,
    "start_time": "2024-05-05T18:00:04.892Z"
   },
   {
    "duration": 8,
    "start_time": "2024-05-05T18:00:04.932Z"
   },
   {
    "duration": 27,
    "start_time": "2024-05-05T18:00:04.941Z"
   },
   {
    "duration": 52,
    "start_time": "2024-05-05T18:00:04.970Z"
   },
   {
    "duration": 36,
    "start_time": "2024-05-05T18:00:05.025Z"
   },
   {
    "duration": 86,
    "start_time": "2024-05-05T18:00:05.063Z"
   },
   {
    "duration": 66,
    "start_time": "2024-05-05T18:00:05.150Z"
   },
   {
    "duration": 14,
    "start_time": "2024-05-05T18:00:05.218Z"
   },
   {
    "duration": 29,
    "start_time": "2024-05-05T18:00:05.234Z"
   },
   {
    "duration": 45,
    "start_time": "2024-05-05T18:00:05.265Z"
   },
   {
    "duration": 25,
    "start_time": "2024-05-05T18:00:05.312Z"
   },
   {
    "duration": 94,
    "start_time": "2024-05-05T18:00:05.339Z"
   },
   {
    "duration": 136,
    "start_time": "2024-05-05T18:00:05.435Z"
   },
   {
    "duration": 19,
    "start_time": "2024-05-05T18:00:05.573Z"
   },
   {
    "duration": 38,
    "start_time": "2024-05-05T18:00:05.601Z"
   },
   {
    "duration": 69,
    "start_time": "2024-05-05T18:00:05.640Z"
   },
   {
    "duration": 51,
    "start_time": "2024-05-05T18:00:05.710Z"
   },
   {
    "duration": 209,
    "start_time": "2024-05-05T18:00:05.762Z"
   },
   {
    "duration": 87,
    "start_time": "2024-05-05T18:00:05.973Z"
   },
   {
    "duration": 50,
    "start_time": "2024-05-05T18:00:06.061Z"
   },
   {
    "duration": 26,
    "start_time": "2024-05-05T18:00:06.114Z"
   },
   {
    "duration": 35,
    "start_time": "2024-05-05T18:00:06.142Z"
   },
   {
    "duration": 78,
    "start_time": "2024-05-05T18:00:06.180Z"
   },
   {
    "duration": 60,
    "start_time": "2024-05-05T18:00:06.261Z"
   },
   {
    "duration": 446,
    "start_time": "2024-05-05T18:00:06.323Z"
   },
   {
    "duration": 7,
    "start_time": "2024-05-05T18:00:06.770Z"
   },
   {
    "duration": 56,
    "start_time": "2024-05-05T18:00:06.778Z"
   },
   {
    "duration": 411,
    "start_time": "2024-05-05T18:00:06.836Z"
   },
   {
    "duration": 375,
    "start_time": "2024-05-05T18:00:07.249Z"
   },
   {
    "duration": 156,
    "start_time": "2024-05-05T18:00:07.626Z"
   },
   {
    "duration": 56,
    "start_time": "2024-05-05T18:00:07.783Z"
   },
   {
    "duration": 181,
    "start_time": "2024-05-05T18:00:07.842Z"
   },
   {
    "duration": 158,
    "start_time": "2024-05-05T18:00:08.025Z"
   },
   {
    "duration": 165,
    "start_time": "2024-05-05T18:00:08.184Z"
   },
   {
    "duration": 202,
    "start_time": "2024-05-05T18:00:08.350Z"
   },
   {
    "duration": 82,
    "start_time": "2024-05-05T18:00:08.554Z"
   },
   {
    "duration": 221,
    "start_time": "2024-05-05T18:00:08.638Z"
   },
   {
    "duration": 93475,
    "start_time": "2024-05-05T18:00:08.861Z"
   },
   {
    "duration": 9,
    "start_time": "2024-05-05T18:01:42.338Z"
   },
   {
    "duration": 30681,
    "start_time": "2024-05-05T18:01:42.349Z"
   },
   {
    "duration": 7137,
    "start_time": "2024-05-05T18:02:13.031Z"
   },
   {
    "duration": 60,
    "start_time": "2024-05-05T18:02:20.170Z"
   },
   {
    "duration": 6,
    "start_time": "2024-05-05T18:02:20.232Z"
   },
   {
    "duration": 1991,
    "start_time": "2024-05-05T18:02:20.239Z"
   },
   {
    "duration": 2058,
    "start_time": "2024-05-05T18:02:22.232Z"
   },
   {
    "duration": 222,
    "start_time": "2024-05-05T18:02:24.293Z"
   },
   {
    "duration": 220,
    "start_time": "2024-05-05T18:02:24.517Z"
   },
   {
    "duration": 223,
    "start_time": "2024-05-05T18:02:24.738Z"
   },
   {
    "duration": 154,
    "start_time": "2024-05-05T18:02:24.963Z"
   },
   {
    "duration": 116,
    "start_time": "2024-05-05T18:02:25.119Z"
   },
   {
    "duration": 97,
    "start_time": "2024-05-05T18:02:25.236Z"
   },
   {
    "duration": 167,
    "start_time": "2024-05-05T18:02:25.335Z"
   },
   {
    "duration": 143,
    "start_time": "2024-05-05T18:02:25.506Z"
   },
   {
    "duration": 17,
    "start_time": "2024-05-05T18:02:25.650Z"
   },
   {
    "duration": 44,
    "start_time": "2024-05-05T18:02:25.669Z"
   },
   {
    "duration": 26,
    "start_time": "2024-05-05T18:02:25.714Z"
   },
   {
    "duration": 215,
    "start_time": "2024-05-05T18:02:25.742Z"
   },
   {
    "duration": 49,
    "start_time": "2024-05-05T18:02:25.959Z"
   },
   {
    "duration": 154,
    "start_time": "2024-05-05T18:02:26.010Z"
   },
   {
    "duration": 738,
    "start_time": "2025-03-06T12:04:42.692Z"
   },
   {
    "duration": 37,
    "start_time": "2025-03-06T12:04:43.432Z"
   },
   {
    "duration": 1904,
    "start_time": "2025-03-06T12:04:43.471Z"
   },
   {
    "duration": 11,
    "start_time": "2025-03-06T12:04:45.378Z"
   },
   {
    "duration": 15,
    "start_time": "2025-03-06T12:04:45.391Z"
   },
   {
    "duration": 5,
    "start_time": "2025-03-06T12:04:45.408Z"
   },
   {
    "duration": 202,
    "start_time": "2025-03-06T12:04:45.414Z"
   },
   {
    "duration": 22,
    "start_time": "2025-03-06T12:04:45.618Z"
   },
   {
    "duration": 61,
    "start_time": "2025-03-06T12:04:45.641Z"
   },
   {
    "duration": 7,
    "start_time": "2025-03-06T12:04:45.704Z"
   },
   {
    "duration": 23,
    "start_time": "2025-03-06T12:04:45.713Z"
   },
   {
    "duration": 22,
    "start_time": "2025-03-06T12:04:45.737Z"
   },
   {
    "duration": 24,
    "start_time": "2025-03-06T12:04:45.761Z"
   },
   {
    "duration": 18,
    "start_time": "2025-03-06T12:04:45.786Z"
   },
   {
    "duration": 9,
    "start_time": "2025-03-06T12:04:45.805Z"
   },
   {
    "duration": 23,
    "start_time": "2025-03-06T12:04:45.815Z"
   },
   {
    "duration": 24,
    "start_time": "2025-03-06T12:04:45.839Z"
   },
   {
    "duration": 11,
    "start_time": "2025-03-06T12:04:45.864Z"
   },
   {
    "duration": 16,
    "start_time": "2025-03-06T12:04:45.877Z"
   },
   {
    "duration": 20,
    "start_time": "2025-03-06T12:04:45.895Z"
   },
   {
    "duration": 26,
    "start_time": "2025-03-06T12:04:45.916Z"
   },
   {
    "duration": 26,
    "start_time": "2025-03-06T12:04:45.944Z"
   },
   {
    "duration": 18,
    "start_time": "2025-03-06T12:04:45.972Z"
   },
   {
    "duration": 19,
    "start_time": "2025-03-06T12:04:45.992Z"
   },
   {
    "duration": 57,
    "start_time": "2025-03-06T12:04:46.012Z"
   },
   {
    "duration": 18,
    "start_time": "2025-03-06T12:04:46.072Z"
   },
   {
    "duration": 17,
    "start_time": "2025-03-06T12:04:46.092Z"
   },
   {
    "duration": 20,
    "start_time": "2025-03-06T12:04:46.112Z"
   },
   {
    "duration": 26,
    "start_time": "2025-03-06T12:04:46.134Z"
   },
   {
    "duration": 14,
    "start_time": "2025-03-06T12:04:46.161Z"
   },
   {
    "duration": 28,
    "start_time": "2025-03-06T12:04:46.176Z"
   },
   {
    "duration": 51,
    "start_time": "2025-03-06T12:04:46.206Z"
   },
   {
    "duration": 12,
    "start_time": "2025-03-06T12:04:46.258Z"
   },
   {
    "duration": 17,
    "start_time": "2025-03-06T12:04:46.271Z"
   },
   {
    "duration": 19,
    "start_time": "2025-03-06T12:04:46.289Z"
   },
   {
    "duration": 26,
    "start_time": "2025-03-06T12:04:46.309Z"
   },
   {
    "duration": 28,
    "start_time": "2025-03-06T12:04:46.337Z"
   },
   {
    "duration": 388,
    "start_time": "2025-03-06T12:04:46.366Z"
   },
   {
    "duration": 6,
    "start_time": "2025-03-06T12:04:46.756Z"
   },
   {
    "duration": 47,
    "start_time": "2025-03-06T12:04:46.763Z"
   },
   {
    "duration": 395,
    "start_time": "2025-03-06T12:04:46.812Z"
   },
   {
    "duration": 314,
    "start_time": "2025-03-06T12:04:47.208Z"
   },
   {
    "duration": 145,
    "start_time": "2025-03-06T12:04:47.523Z"
   },
   {
    "duration": 51,
    "start_time": "2025-03-06T12:04:47.670Z"
   },
   {
    "duration": 156,
    "start_time": "2025-03-06T12:04:47.723Z"
   },
   {
    "duration": 131,
    "start_time": "2025-03-06T12:04:47.880Z"
   },
   {
    "duration": 141,
    "start_time": "2025-03-06T12:04:48.013Z"
   },
   {
    "duration": 193,
    "start_time": "2025-03-06T12:04:48.156Z"
   },
   {
    "duration": 83,
    "start_time": "2025-03-06T12:04:48.351Z"
   },
   {
    "duration": 214,
    "start_time": "2025-03-06T12:04:48.435Z"
   },
   {
    "duration": 93041,
    "start_time": "2025-03-06T12:04:48.651Z"
   },
   {
    "duration": 17,
    "start_time": "2025-03-06T12:06:21.694Z"
   },
   {
    "duration": 30684,
    "start_time": "2025-03-06T12:06:21.713Z"
   },
   {
    "duration": 7601,
    "start_time": "2025-03-06T12:06:52.399Z"
   },
   {
    "duration": 44,
    "start_time": "2025-03-06T12:07:00.007Z"
   },
   {
    "duration": 35,
    "start_time": "2025-03-06T12:07:00.053Z"
   },
   {
    "duration": 1945,
    "start_time": "2025-03-06T12:07:00.090Z"
   },
   {
    "duration": 1955,
    "start_time": "2025-03-06T12:07:02.037Z"
   },
   {
    "duration": 222,
    "start_time": "2025-03-06T12:07:03.994Z"
   },
   {
    "duration": 217,
    "start_time": "2025-03-06T12:07:04.217Z"
   },
   {
    "duration": 213,
    "start_time": "2025-03-06T12:07:04.435Z"
   },
   {
    "duration": 141,
    "start_time": "2025-03-06T12:07:04.650Z"
   },
   {
    "duration": 120,
    "start_time": "2025-03-06T12:07:04.793Z"
   },
   {
    "duration": 101,
    "start_time": "2025-03-06T12:07:04.915Z"
   },
   {
    "duration": 161,
    "start_time": "2025-03-06T12:07:05.018Z"
   },
   {
    "duration": 146,
    "start_time": "2025-03-06T12:07:05.181Z"
   },
   {
    "duration": 19,
    "start_time": "2025-03-06T12:07:05.329Z"
   },
   {
    "duration": 34,
    "start_time": "2025-03-06T12:07:05.350Z"
   },
   {
    "duration": 31,
    "start_time": "2025-03-06T12:07:05.385Z"
   },
   {
    "duration": 183,
    "start_time": "2025-03-06T12:07:05.417Z"
   },
   {
    "duration": 34,
    "start_time": "2025-03-06T12:07:05.606Z"
   },
   {
    "duration": 159,
    "start_time": "2025-03-06T12:07:05.642Z"
   }
  ],
  "colab": {
   "provenance": []
  },
  "kernelspec": {
   "display_name": "Python 3 (ipykernel)",
   "language": "python",
   "name": "python3"
  },
  "language_info": {
   "codemirror_mode": {
    "name": "ipython",
    "version": 3
   },
   "file_extension": ".py",
   "mimetype": "text/x-python",
   "name": "python",
   "nbconvert_exporter": "python",
   "pygments_lexer": "ipython3",
   "version": "3.9.5"
  },
  "toc": {
   "base_numbering": 1,
   "nav_menu": {},
   "number_sections": true,
   "sideBar": true,
   "skip_h1_title": true,
   "title_cell": "Table of Contents",
   "title_sidebar": "Contents",
   "toc_cell": false,
   "toc_position": {
    "height": "calc(100% - 180px)",
    "left": "10px",
    "top": "150px",
    "width": "165px"
   },
   "toc_section_display": true,
   "toc_window_display": true
  }
 },
 "nbformat": 4,
 "nbformat_minor": 1
}
